{
  "nbformat": 4,
  "nbformat_minor": 0,
  "metadata": {
    "kernelspec": {
      "name": "python3",
      "display_name": "Python 3"
    },
    "language_info": {
      "codemirror_mode": {
        "name": "ipython",
        "version": 3
      },
      "file_extension": ".py",
      "mimetype": "text/x-python",
      "name": "python",
      "nbconvert_exporter": "python",
      "pygments_lexer": "ipython3",
      "version": "3.7.4"
    },
    "colab": {
      "name": "mfcc_cnn.ipynb",
      "provenance": [],
      "collapsed_sections": [],
      "toc_visible": true
    },
    "accelerator": "GPU"
  },
  "cells": [
    {
      "cell_type": "code",
      "metadata": {
        "id": "OBmS_So5C91L",
        "colab_type": "code",
        "outputId": "716c72cf-d65f-405b-eae5-47ce853e943f",
        "colab": {
          "base_uri": "https://localhost:8080/",
          "height": 527
        }
      },
      "source": [
        "!pip install keras librosa noisereduce sklearn scikit-plot"
      ],
      "execution_count": 9,
      "outputs": [
        {
          "output_type": "stream",
          "text": [
            "Requirement already satisfied: keras in /usr/local/lib/python3.6/dist-packages (2.2.5)\n",
            "Requirement already satisfied: librosa in /usr/local/lib/python3.6/dist-packages (0.6.3)\n",
            "Collecting noisereduce\n",
            "  Downloading https://files.pythonhosted.org/packages/0c/13/0ee17d420953f5db6aa417d6278b0e3eff799e809905f577625e694c8964/noisereduce-1.0.1-py3-none-any.whl\n",
            "Requirement already satisfied: sklearn in /usr/local/lib/python3.6/dist-packages (0.0)\n",
            "Collecting scikit-plot\n",
            "  Downloading https://files.pythonhosted.org/packages/7c/47/32520e259340c140a4ad27c1b97050dd3254fdc517b1d59974d47037510e/scikit_plot-0.3.7-py3-none-any.whl\n",
            "Requirement already satisfied: numpy>=1.9.1 in /usr/local/lib/python3.6/dist-packages (from keras) (1.17.4)\n",
            "Requirement already satisfied: keras-applications>=1.0.8 in /usr/local/lib/python3.6/dist-packages (from keras) (1.0.8)\n",
            "Requirement already satisfied: six>=1.9.0 in /usr/local/lib/python3.6/dist-packages (from keras) (1.12.0)\n",
            "Requirement already satisfied: h5py in /usr/local/lib/python3.6/dist-packages (from keras) (2.8.0)\n",
            "Requirement already satisfied: scipy>=0.14 in /usr/local/lib/python3.6/dist-packages (from keras) (1.3.3)\n",
            "Requirement already satisfied: pyyaml in /usr/local/lib/python3.6/dist-packages (from keras) (3.13)\n",
            "Requirement already satisfied: keras-preprocessing>=1.1.0 in /usr/local/lib/python3.6/dist-packages (from keras) (1.1.0)\n",
            "Requirement already satisfied: decorator>=3.0.0 in /usr/local/lib/python3.6/dist-packages (from librosa) (4.4.1)\n",
            "Requirement already satisfied: scikit-learn!=0.19.0,>=0.14.0 in /usr/local/lib/python3.6/dist-packages (from librosa) (0.21.3)\n",
            "Requirement already satisfied: resampy>=0.2.0 in /usr/local/lib/python3.6/dist-packages (from librosa) (0.2.2)\n",
            "Requirement already satisfied: numba>=0.38.0 in /usr/local/lib/python3.6/dist-packages (from librosa) (0.40.1)\n",
            "Requirement already satisfied: joblib>=0.12 in /usr/local/lib/python3.6/dist-packages (from librosa) (0.14.0)\n",
            "Requirement already satisfied: audioread>=2.0.0 in /usr/local/lib/python3.6/dist-packages (from librosa) (2.1.8)\n",
            "Requirement already satisfied: tqdm in /usr/local/lib/python3.6/dist-packages (from noisereduce) (4.28.1)\n",
            "Requirement already satisfied: matplotlib in /usr/local/lib/python3.6/dist-packages (from noisereduce) (3.1.2)\n",
            "Requirement already satisfied: llvmlite>=0.25.0dev0 in /usr/local/lib/python3.6/dist-packages (from numba>=0.38.0->librosa) (0.30.0)\n",
            "Requirement already satisfied: pyparsing!=2.0.4,!=2.1.2,!=2.1.6,>=2.0.1 in /usr/local/lib/python3.6/dist-packages (from matplotlib->noisereduce) (2.4.5)\n",
            "Requirement already satisfied: python-dateutil>=2.1 in /usr/local/lib/python3.6/dist-packages (from matplotlib->noisereduce) (2.6.1)\n",
            "Requirement already satisfied: kiwisolver>=1.0.1 in /usr/local/lib/python3.6/dist-packages (from matplotlib->noisereduce) (1.1.0)\n",
            "Requirement already satisfied: cycler>=0.10 in /usr/local/lib/python3.6/dist-packages (from matplotlib->noisereduce) (0.10.0)\n",
            "Requirement already satisfied: setuptools in /usr/local/lib/python3.6/dist-packages (from kiwisolver>=1.0.1->matplotlib->noisereduce) (42.0.1)\n",
            "Installing collected packages: noisereduce, scikit-plot\n",
            "Successfully installed noisereduce-1.0.1 scikit-plot-0.3.7\n"
          ],
          "name": "stdout"
        }
      ]
    },
    {
      "cell_type": "code",
      "metadata": {
        "id": "t68r5H4QDoBb",
        "colab_type": "code",
        "outputId": "06e18b3f-287d-4115-d524-894c2d160910",
        "colab": {
          "base_uri": "https://localhost:8080/",
          "height": 122
        }
      },
      "source": [
        "from google.colab import drive\n",
        "drive.mount('/content/drive')"
      ],
      "execution_count": 10,
      "outputs": [
        {
          "output_type": "stream",
          "text": [
            "Go to this URL in a browser: https://accounts.google.com/o/oauth2/auth?client_id=947318989803-6bn6qk8qdgf4n4g3pfee6491hc0brc4i.apps.googleusercontent.com&redirect_uri=urn%3aietf%3awg%3aoauth%3a2.0%3aoob&response_type=code&scope=email%20https%3a%2f%2fwww.googleapis.com%2fauth%2fdocs.test%20https%3a%2f%2fwww.googleapis.com%2fauth%2fdrive%20https%3a%2f%2fwww.googleapis.com%2fauth%2fdrive.photos.readonly%20https%3a%2f%2fwww.googleapis.com%2fauth%2fpeopleapi.readonly\n",
            "\n",
            "Enter your authorization code:\n",
            "··········\n",
            "Mounted at /content/drive\n"
          ],
          "name": "stdout"
        }
      ]
    },
    {
      "cell_type": "code",
      "metadata": {
        "id": "GGCrPIx2C65y",
        "colab_type": "code",
        "colab": {}
      },
      "source": [
        "import os\n",
        "from sklearn.model_selection import train_test_split\n",
        "import keras\n",
        "import numpy as np\n",
        "from keras.models import Sequential\n",
        "from keras.layers import Dense, Dropout, Flatten, Conv2D, MaxPooling2D, GlobalAveragePooling2D\n",
        "from keras.utils import to_categorical\n",
        "import librosa\n",
        "from tqdm.autonotebook import tqdm\n",
        "import noisereduce as nr\n",
        "import matplotlib.pyplot as plt\n",
        "from sklearn import metrics\n",
        "import scikitplot as skplt\n",
        "from keras.callbacks import EarlyStopping, ModelCheckpoint, ReduceLROnPlateau\n",
        "import sklearn"
      ],
      "execution_count": 0,
      "outputs": []
    },
    {
      "cell_type": "code",
      "metadata": {
        "id": "oc1SyTwoC653",
        "colab_type": "code",
        "colab": {}
      },
      "source": [
        "def wav2mfcc(file_path, max_len=15, function=None):\n",
        "    wave, sr = librosa.load(file_path, sr=16000, res_type='kaiser_fast')\n",
        "    #yrn = nr.reduce_noise(audio_clip=wave, noise_clip=wave, verbose=False)\n",
        "    yf, index = librosa.effects.trim(wave,top_db=30)\n",
        "    \n",
        "    if function != None:\n",
        "        mfcc = librosa.feature.mfcc(y=function(yf), sr=16000, hop_length=1024, htk=True, n_mfcc=13)\n",
        "    else:\n",
        "        mfcc = librosa.feature.mfcc(y=yf, sr=16000, hop_length=1024, htk=True, n_mfcc=13)\n",
        "   #mfcc_delta = librosa.feature.delta(mfcc,mode='nearest')\n",
        "    #mfcc_delta2 = librosa.feature.delta(mfcc, order=2,mode='nearest')\n",
        "    \n",
        "    #mfcc = np.concatenate((mfcc, mfcc_delta,mfcc_delta2))\n",
        "    #max_len = max_len *3\n",
        "    # If maximum length exceeds mfcc lengths then pad the remaining ones\n",
        "    if (max_len > mfcc.shape[1]):\n",
        "        pad_width = max_len - mfcc.shape[1]\n",
        "        a,b=0,0\n",
        "        if pad_width % 2 == 0:\n",
        "            a = pad_width//2\n",
        "            b = pad_width//2\n",
        "        else:\n",
        "            a = pad_width//2\n",
        "            b = pad_width//2 +1\n",
        "        mfcc = np.pad(mfcc, pad_width=((0, 0), (a, b)), mode='constant')\n",
        "        #mfcc_delta = np.pad(mfcc_delta, pad_width=((0, 0), (a, b)), mode='constant')\n",
        "        #mfcc_delta2 = np.pad(mfcc_delta2, pad_width=((0, 0), (a, b)), mode='constant')\n",
        "    else:\n",
        "        mfcc = mfcc[:, :max_len]\n",
        "        #mfcc_delta = mfcc_delta[:, :max_len]\n",
        "        #mfcc_delta2 = mfcc_delta2[:, :max_len]\n",
        "    #mfcc = np.concatenate((mfcc, mfcc_delta,mfcc_delta2))\n",
        "    return mfcc"
      ],
      "execution_count": 0,
      "outputs": []
    },
    {
      "cell_type": "code",
      "metadata": {
        "id": "TUjrDvIjC657",
        "colab_type": "code",
        "colab": {}
      },
      "source": [
        "def save_data_to_array(path,to,labels, max_len=60):\n",
        "    dataset = getDataset(path,labels)\n",
        "    print(np.sum([len(i) for i in dataset]))\n",
        "    folder = to\n",
        "    for i,data in enumerate(dataset):\n",
        "        # Init mfcc vectors\n",
        "        mfcc_vectors = []\n",
        "        for wavfile in data:\n",
        "            mfcc = wav2mfcc(path + wavfile, max_len=max_len)\n",
        "            mfcc_vectors.append(mfcc)\n",
        "        np.save(folder + labels[i] + '.npy', mfcc_vectors)"
      ],
      "execution_count": 0,
      "outputs": []
    },
    {
      "cell_type": "code",
      "metadata": {
        "id": "Pxu1Dq3qC658",
        "colab_type": "code",
        "colab": {}
      },
      "source": [
        "def getDataset(path,labels):\n",
        "    audioFiles = np.array(os.listdir(path))\n",
        "    dataset = [\n",
        "        audioFiles[np.char.find(audioFiles,name) == 4] for name in labels\n",
        "    ]\n",
        "    return dataset"
      ],
      "execution_count": 0,
      "outputs": []
    },
    {
      "cell_type": "code",
      "metadata": {
        "id": "CsPMEHwxC65-",
        "colab_type": "code",
        "colab": {}
      },
      "source": [
        "def get_train_test(paths,labels, split_ratio=0.6, random_state=42):\n",
        "\n",
        "    X_train, X_test, Y_train, Y_test = ([],[],[],[])\n",
        "    for path in paths:\n",
        "        ## PATH_DATA_WITHOUT_NOISE\n",
        "        # Getting first arrays\n",
        "        X = np.load(path+labels[0] + '.npy')\n",
        "        y = np.zeros(X.shape[0])\n",
        "\n",
        "        # Append all of the dataset into one single array, same goes for y\n",
        "        for i, label in enumerate(labels[1:]):\n",
        "            x = np.load(path + label + '.npy')\n",
        "            X = np.vstack((X, x))\n",
        "            y = np.append(y, np.full(x.shape[0], fill_value= (i + 1)))\n",
        "\n",
        "        assert X.shape[0] == len(y)\n",
        "        \n",
        "        x_train, x_test, y_train, y_test = train_test_split(X, y, test_size= (1 - split_ratio), random_state=random_state, shuffle=True)\n",
        "        X_train.extend(x_train)\n",
        "        X_test.extend(x_test)\n",
        "        Y_train.extend(y_train)\n",
        "        Y_test.extend(y_test)\n",
        "    return (np.array(X_train), np.array(X_test), Y_train, Y_test)\n"
      ],
      "execution_count": 0,
      "outputs": []
    },
    {
      "cell_type": "code",
      "metadata": {
        "id": "JwGhXfs2sv9J",
        "colab_type": "code",
        "colab": {}
      },
      "source": [
        "!mkdir /tmp/corpus"
      ],
      "execution_count": 0,
      "outputs": []
    },
    {
      "cell_type": "code",
      "metadata": {
        "id": "8LiRk1PNslqN",
        "colab_type": "code",
        "colab": {}
      },
      "source": [
        "!cp -r /content/drive/My\\ Drive/ups/sc/corpus/* /tmp/corpus"
      ],
      "execution_count": 0,
      "outputs": []
    },
    {
      "cell_type": "code",
      "metadata": {
        "id": "-Eg4-r3kIKBz",
        "colab_type": "code",
        "colab": {}
      },
      "source": [
        "labels = [\"tournegauche\",\"tournedroite\",\"recule\",\"plushaut\",\"plusbas\",\"gauche\",\"faisunflip\",\"etatdurgence\",\"droite\",\"decollage\",\"avance\",\"atterrissage\",\"arretetoi\"]\n"
      ],
      "execution_count": 0,
      "outputs": []
    },
    {
      "cell_type": "code",
      "metadata": {
        "id": "yn_GZpHKH0nm",
        "colab_type": "code",
        "colab": {}
      },
      "source": [
        "folders = os.listdir('/tmp/corpus/')"
      ],
      "execution_count": 0,
      "outputs": []
    },
    {
      "cell_type": "code",
      "metadata": {
        "id": "Xr9Ym3AnGyTx",
        "colab_type": "code",
        "colab": {}
      },
      "source": [
        "os.mkdir('/tmp/data2')\n",
        "for folder in folders:\n",
        "    os.mkdir(\"/tmp/data2/\"+folder)"
      ],
      "execution_count": 0,
      "outputs": []
    },
    {
      "cell_type": "code",
      "metadata": {
        "id": "xE8l7yXbC66G",
        "colab_type": "code",
        "outputId": "a66aa19b-6a64-4284-d4b3-96ea2a95b444",
        "colab": {
          "base_uri": "https://localhost:8080/",
          "height": 289
        }
      },
      "source": [
        "for path in folders:\n",
        "  print(path)\n",
        "  save_data_to_array(\"/tmp/corpus/\"+path+\"/\",\"/tmp/data/\"+path+\"/\",labels)"
      ],
      "execution_count": 25,
      "outputs": [
        {
          "output_type": "stream",
          "text": [
            "hauteur_plus_25%\n",
            "234\n",
            "drone_withoutnoise\n",
            "234\n",
            "hauteur_plus_50%\n",
            "234\n",
            "drone_noise\n",
            "52\n",
            "hauteur_moins_15%\n",
            "234\n",
            "hauteur_plus_15%\n",
            "234\n",
            "hauteur_moins_25%\n",
            "234\n",
            "hauteur_moins_50%\n",
            "234\n"
          ],
          "name": "stdout"
        }
      ]
    },
    {
      "cell_type": "code",
      "metadata": {
        "id": "GGExEKwCDkrI",
        "colab_type": "code",
        "colab": {}
      },
      "source": [
        "!mkdir /content/drive/My\\ Drive/ups/sc/corpus/data2\n",
        "!cp -r /tmp/data2/* /content/drive/My\\ Drive/ups/sc/corpus/data2/ "
      ],
      "execution_count": 0,
      "outputs": []
    },
    {
      "cell_type": "code",
      "metadata": {
        "id": "gMZ36ynpC66I",
        "colab_type": "code",
        "colab": {}
      },
      "source": [
        "X_train, X_test, y_train, y_test = get_train_test([\"/tmp/data/\"+folder+\"/\" for folder in folders],labels,0.8)"
      ],
      "execution_count": 0,
      "outputs": []
    },
    {
      "cell_type": "code",
      "metadata": {
        "id": "X_NXwr_rC66J",
        "colab_type": "code",
        "outputId": "ece966de-1ecb-4abd-9cf0-272fa7200822",
        "colab": {
          "base_uri": "https://localhost:8080/",
          "height": 34
        }
      },
      "source": [
        "X_train.shape"
      ],
      "execution_count": 29,
      "outputs": [
        {
          "output_type": "execute_result",
          "data": {
            "text/plain": [
              "(976, 13, 60)"
            ]
          },
          "metadata": {
            "tags": []
          },
          "execution_count": 29
        }
      ]
    },
    {
      "cell_type": "code",
      "metadata": {
        "id": "sQB3XEDVC66S",
        "colab_type": "code",
        "colab": {}
      },
      "source": [
        "feature_dim_2 = 60\n",
        "feature_dim_1 = 13\n",
        "channel = 1\n",
        "epochs = 50\n",
        "batch_size = 500\n",
        "verbose = 1\n",
        "num_classes = len(labels)\n",
        "\n",
        "# Reshaping to perform 2D convolution\n",
        "X_train = X_train.reshape(X_train.shape[0], feature_dim_1, feature_dim_2, channel)\n",
        "X_test = X_test.reshape(X_test.shape[0], feature_dim_1, feature_dim_2, channel)\n",
        "\n",
        "y_train_hot = to_categorical(y_train)\n",
        "y_test_hot = to_categorical(y_test)"
      ],
      "execution_count": 0,
      "outputs": []
    },
    {
      "cell_type": "code",
      "metadata": {
        "id": "XJTZaji6C66V",
        "colab_type": "code",
        "colab": {}
      },
      "source": [
        "def get_model():\n",
        "    model = Sequential()\n",
        "    model.add(Conv2D(32, kernel_size=(2, 2), activation='relu', input_shape=(feature_dim_1, feature_dim_2, channel)))\n",
        "    model.add(Conv2D(48, kernel_size=(2, 2), activation='relu'))\n",
        "    model.add(MaxPooling2D(pool_size=(2, 2)))\n",
        "    model.add(Dropout(0.25))\n",
        "    model.add(GlobalAveragePooling2D(name='avg_pool'))\n",
        "    model.add(Dense(128, activation='relu'))\n",
        "    model.add(Dropout(0.4))\n",
        "    model.add(Dense(num_classes, activation='softmax'))\n",
        "    model.compile(loss=keras.losses.categorical_crossentropy,\n",
        "                  optimizer=keras.optimizers.Adam(),\n",
        "                  metrics=['accuracy'])\n",
        "    return model\n",
        "\n",
        "# Predicts one sample\n",
        "def predict(filepath, model):\n",
        "    sample = wav2mfcc(filepath)\n",
        "    sample_reshaped = sample.reshape(1, feature_dim_1, feature_dim_2, channel)\n",
        "    return get_labels()[0][\n",
        "            np.argmax(model.predict(sample_reshaped))\n",
        "    ]"
      ],
      "execution_count": 0,
      "outputs": []
    },
    {
      "cell_type": "code",
      "metadata": {
        "id": "JnBegOR9JaMB",
        "colab_type": "code",
        "colab": {}
      },
      "source": [
        "os.mkdir('/content/drive/My Drive/ups/sc/corpus/logs')"
      ],
      "execution_count": 0,
      "outputs": []
    },
    {
      "cell_type": "code",
      "metadata": {
        "id": "dJNSei_0C66X",
        "colab_type": "code",
        "colab": {}
      },
      "source": [
        "model_checkpoint = ModelCheckpoint('/content/drive/My Drive/ups/sc/corpus/logs/checkpoint-inceptionresnetv2-v1-get-{epoch:02d}-{val_acc:.4f}.hdf5',monitor='val_acc', \n",
        "                                   mode = 'max', save_best_only=True, verbose=1)\n",
        "reduce_lr = ReduceLROnPlateau(monitor='val_loss', factor=0.1, patience=5, min_lr=1e-9, verbose=1)\n"
      ],
      "execution_count": 0,
      "outputs": []
    },
    {
      "cell_type": "code",
      "metadata": {
        "id": "5f1hVULMN-f1",
        "colab_type": "code",
        "colab": {
          "base_uri": "https://localhost:8080/",
          "height": 105
        },
        "outputId": "1aea1b9f-d89b-47da-9354-c86f3a36a1d0"
      },
      "source": [
        "model = get_model()"
      ],
      "execution_count": 37,
      "outputs": [
        {
          "output_type": "stream",
          "text": [
            "WARNING:tensorflow:From /usr/local/lib/python3.6/dist-packages/keras/optimizers.py:793: The name tf.train.Optimizer is deprecated. Please use tf.compat.v1.train.Optimizer instead.\n",
            "\n",
            "WARNING:tensorflow:From /usr/local/lib/python3.6/dist-packages/keras/backend/tensorflow_backend.py:3576: The name tf.log is deprecated. Please use tf.math.log instead.\n",
            "\n"
          ],
          "name": "stdout"
        }
      ]
    },
    {
      "cell_type": "code",
      "metadata": {
        "id": "oSX59UTzIQoU",
        "colab_type": "code",
        "colab": {
          "base_uri": "https://localhost:8080/",
          "height": 425
        },
        "outputId": "15394c6f-c013-4f7f-a4f7-91518a887d3e"
      },
      "source": [
        "model.summary()"
      ],
      "execution_count": 39,
      "outputs": [
        {
          "output_type": "stream",
          "text": [
            "Model: \"sequential_3\"\n",
            "_________________________________________________________________\n",
            "Layer (type)                 Output Shape              Param #   \n",
            "=================================================================\n",
            "conv2d_3 (Conv2D)            (None, 12, 59, 32)        160       \n",
            "_________________________________________________________________\n",
            "conv2d_4 (Conv2D)            (None, 11, 58, 48)        6192      \n",
            "_________________________________________________________________\n",
            "max_pooling2d_2 (MaxPooling2 (None, 5, 29, 48)         0         \n",
            "_________________________________________________________________\n",
            "dropout_3 (Dropout)          (None, 5, 29, 48)         0         \n",
            "_________________________________________________________________\n",
            "avg_pool (GlobalAveragePooli (None, 48)                0         \n",
            "_________________________________________________________________\n",
            "dense_2 (Dense)              (None, 128)               6272      \n",
            "_________________________________________________________________\n",
            "dropout_4 (Dropout)          (None, 128)               0         \n",
            "_________________________________________________________________\n",
            "dense_3 (Dense)              (None, 13)                1677      \n",
            "=================================================================\n",
            "Total params: 14,301\n",
            "Trainable params: 14,301\n",
            "Non-trainable params: 0\n",
            "_________________________________________________________________\n"
          ],
          "name": "stdout"
        }
      ]
    },
    {
      "cell_type": "code",
      "metadata": {
        "scrolled": true,
        "id": "KiByj5URC66a",
        "colab_type": "code",
        "colab": {}
      },
      "source": [
        "model.fit(X_train, y_train_hot, batch_size=210, epochs=1500, verbose=verbose, \n",
        "          validation_data=(X_test, y_test_hot),callbacks=[model_checkpoint])"
      ],
      "execution_count": 0,
      "outputs": []
    },
    {
      "cell_type": "code",
      "metadata": {
        "id": "uA1crCZ8LOp1",
        "colab_type": "code",
        "colab": {}
      },
      "source": [
        "acc = []\n",
        "loss = []\n",
        "val_loss = []\n",
        "val_acc = []\n",
        "for h in [hist,hist2,hist3,hist4]:\n",
        "  acc.extend(h['acc'])\n",
        "  loss.extend(h['loss'])\n",
        "  val_loss.extend(h['val_loss'])\n",
        "  val_acc.extend(h['val_acc'])"
      ],
      "execution_count": 0,
      "outputs": []
    },
    {
      "cell_type": "code",
      "metadata": {
        "id": "OH4SJPpxC66c",
        "colab_type": "code",
        "outputId": "57a0b244-c7f8-4a76-83f8-8ea01e158742",
        "colab": {
          "base_uri": "https://localhost:8080/",
          "height": 590
        }
      },
      "source": [
        "print(model.history.history.keys())\n",
        "# summarize history for accuracy\n",
        "plt.plot(acc)\n",
        "plt.plot(val_acc)\n",
        "plt.title('model accuracy')\n",
        "plt.ylabel('accuracy')\n",
        "plt.xlabel('epoch')\n",
        "plt.legend(['train', 'test'], loc='upper left')\n",
        "plt.show()\n",
        "# summarize history for loss\n",
        "plt.plot(loss)\n",
        "plt.plot(val_loss)\n",
        "plt.title('model loss')\n",
        "plt.ylabel('loss')\n",
        "plt.xlabel('epoch')\n",
        "plt.legend(['train', 'test'], loc='upper left')\n",
        "plt.show()"
      ],
      "execution_count": 57,
      "outputs": [
        {
          "output_type": "stream",
          "text": [
            "dict_keys(['val_loss', 'val_acc', 'loss', 'acc'])\n"
          ],
          "name": "stdout"
        },
        {
          "output_type": "display_data",
          "data": {
            "image/png": "[encoded data removed]",
            "text/plain": [
              "<Figure size 432x288 with 1 Axes>"
            ]
          },
          "metadata": {
            "tags": []
          }
        },
        {
          "output_type": "display_data",
          "data": {
            "image/png": "[encoded data removed]",
            "text/plain": [
              "<Figure size 432x288 with 1 Axes>"
            ]
          },
          "metadata": {
            "tags": []
          }
        }
      ]
    },
    {
      "cell_type": "code",
      "metadata": {
        "id": "Gj6cmgRsC66g",
        "colab_type": "code",
        "outputId": "119e6e85-900a-463d-a822-64c691239fb6",
        "colab": {}
      },
      "source": [
        "print(model.history.history.keys())\n",
        "# summarize history for accuracy\n",
        "plt.plot(model.history.history['accuracy'])\n",
        "plt.plot(model.history.history['val_accuracy'])\n",
        "plt.title('model accuracy')\n",
        "plt.ylabel('accuracy')\n",
        "plt.xlabel('epoch')\n",
        "plt.legend(['train', 'test'], loc='upper left')\n",
        "plt.show()\n",
        "# summarize history for loss\n",
        "plt.plot(model.history.history['loss'])\n",
        "plt.plot(model.history.history['val_loss'])\n",
        "plt.title('model loss')\n",
        "plt.ylabel('loss')\n",
        "plt.xlabel('epoch')\n",
        "plt.legend(['train', 'test'], loc='upper left')\n",
        "plt.show()"
      ],
      "execution_count": 0,
      "outputs": [
        {
          "output_type": "stream",
          "text": [
            "dict_keys(['val_loss', 'val_accuracy', 'loss', 'accuracy'])\n"
          ],
          "name": "stdout"
        },
        {
          "output_type": "display_data",
          "data": {
            "image/png": "[encoded data removed]",
            "text/plain": [
              "<Figure size 432x288 with 1 Axes>"
            ]
          },
          "metadata": {
            "tags": [],
            "needs_background": "light"
          }
        },
        {
          "output_type": "display_data",
          "data": {
            "image/png": "[encoded data removed]",
            "text/plain": [
              "<Figure size 432x288 with 1 Axes>"
            ]
          },
          "metadata": {
            "tags": [],
            "needs_background": "light"
          }
        }
      ]
    },
    {
      "cell_type": "code",
      "metadata": {
        "id": "YXzcGCAgC66h",
        "colab_type": "code",
        "outputId": "91e81863-0687-4f46-ca0b-8d3aa77463ad",
        "colab": {}
      },
      "source": [
        "np.max(model.history.history['val_accuracy'])"
      ],
      "execution_count": 0,
      "outputs": [
        {
          "output_type": "execute_result",
          "data": {
            "text/plain": [
              "0.8793103694915771"
            ]
          },
          "metadata": {
            "tags": []
          },
          "execution_count": 96
        }
      ]
    },
    {
      "cell_type": "code",
      "metadata": {
        "id": "tphCV1CXC67J",
        "colab_type": "code",
        "colab": {}
      },
      "source": [
        "def plot_eval(y_test, y_pred):\n",
        "    skplt.metrics.plot_confusion_matrix(y_test, y_pred, normalize=True,figsize=(10,10))\n",
        "    plt.show()\n",
        "    print(sklearn.metrics.classification_report(y_test, y_pred,digits=2))"
      ],
      "execution_count": 0,
      "outputs": []
    },
    {
      "cell_type": "code",
      "metadata": {
        "id": "MPWmLLnRC66j",
        "colab_type": "code",
        "colab": {}
      },
      "source": [
        "model.load_weights('/content/drive/My Drive/ups/sc/corpus/logs/checkpoint-inceptionresnetv2-v1-get-1384-0.9106.hdf5')"
      ],
      "execution_count": 0,
      "outputs": []
    },
    {
      "cell_type": "code",
      "metadata": {
        "colab_type": "code",
        "id": "q7kIzmZHSRBV",
        "colab": {}
      },
      "source": [
        "y_pred=model.predict_classes(X_test)"
      ],
      "execution_count": 0,
      "outputs": []
    },
    {
      "cell_type": "code",
      "metadata": {
        "id": "1qhclC33C66w",
        "colab_type": "code",
        "outputId": "3306fdd2-d375-4781-bbe6-127e0791c3ab",
        "colab": {
          "base_uri": "https://localhost:8080/",
          "height": 34
        }
      },
      "source": [
        "X_test.shape"
      ],
      "execution_count": 60,
      "outputs": [
        {
          "output_type": "execute_result",
          "data": {
            "text/plain": [
              "(246, 13, 60, 1)"
            ]
          },
          "metadata": {
            "tags": []
          },
          "execution_count": 60
        }
      ]
    },
    {
      "cell_type": "code",
      "metadata": {
        "id": "LxRjkAUqC66y",
        "colab_type": "code",
        "outputId": "acc42228-81e0-4f28-ccd8-667531971c21",
        "colab": {
          "base_uri": "https://localhost:8080/",
          "height": 924
        }
      },
      "source": [
        "plot_eval(y_test, y_pred)"
      ],
      "execution_count": 63,
      "outputs": [
        {
          "output_type": "display_data",
          "data": {
            "image/png": "[encoded data removed]",
            "text/plain": [
              "<Figure size 720x720 with 2 Axes>"
            ]
          },
          "metadata": {
            "tags": []
          }
        },
        {
          "output_type": "stream",
          "text": [
            "              precision    recall  f1-score   support\n",
            "\n",
            "         0.0       0.77      0.81      0.79        21\n",
            "         1.0       0.92      0.88      0.90        26\n",
            "         2.0       0.56      1.00      0.71         5\n",
            "         3.0       1.00      1.00      1.00        22\n",
            "         4.0       1.00      0.88      0.94        17\n",
            "         5.0       0.91      1.00      0.95        10\n",
            "         6.0       1.00      0.90      0.95        20\n",
            "         7.0       0.83      0.50      0.62        10\n",
            "         8.0       0.96      1.00      0.98        26\n",
            "         9.0       0.88      0.93      0.90        15\n",
            "        10.0       0.93      0.82      0.87        17\n",
            "        11.0       0.97      1.00      0.98        31\n",
            "        12.0       0.86      0.92      0.89        26\n",
            "\n",
            "    accuracy                           0.91       246\n",
            "   macro avg       0.89      0.90      0.88       246\n",
            "weighted avg       0.92      0.91      0.91       246\n",
            "\n"
          ],
          "name": "stdout"
        }
      ]
    },
    {
      "cell_type": "code",
      "metadata": {
        "id": "Kxx9qCuEC67B",
        "colab_type": "code",
        "outputId": "1f92a30f-03d4-4af4-8bae-ef1a8cc178bb",
        "colab": {
          "base_uri": "https://localhost:8080/",
          "height": 680
        }
      },
      "source": [
        "y_predk=[]\n",
        "y_true=[]\n",
        "for file in os.listdir(\"/content/drive/My Drive/ups/sc/own_drone_commands\"):\n",
        "    sample_class=file.split('_')[1]   \n",
        "    #print(file)\n",
        "    y_true.append(labels.index(sample_class[:(len(sample_class)-4)]))\n",
        "    mfcc_thang = wav2mfcc('/content/drive/My Drive/ups/sc/own_drone_commands/'+file,max_len=60)\n",
        "    y_pred=model.predict([mfcc_thang.reshape(1,feature_dim_1, feature_dim_2, 1)])\n",
        "    print(file, labels[np.argmax(y_pred)], np.max(y_pred))\n",
        "    y_predk.append(np.argmax(y_pred))"
      ],
      "execution_count": 64,
      "outputs": [
        {
          "output_type": "stream",
          "text": [
            "MC1_faisunflip.wav arretetoi 0.6609021\n",
            "C01_faisunflip.wav faisunflip 0.7447146\n",
            "C01_droite.wav plusbas 0.6734557\n",
            "C02_tournegauche.wav tournegauche 0.99999106\n",
            "MC1_gauche.wav tournegauche 0.882857\n",
            "MC1_etatdurgence.wav etatdurgence 0.999984\n",
            "C02_atterrissage.wav atterrissage 0.98026705\n",
            "C01_plushaut.wav plushaut 0.9340228\n",
            "C01_arretetoi.wav arretetoi 0.97797465\n",
            "MC1_tournedroite.wav tournedroite 0.99999774\n",
            "C02_recule.wav recule 0.76050276\n",
            "C01_gauche.wav gauche 0.99101907\n",
            "C02_faisunflip.wav tournedroite 0.99589694\n",
            "MC1_decollage.wav decollage 0.99988806\n",
            "C02_arretetoi.wav arretetoi 0.99911934\n",
            "MC1_plusbas.wav plusbas 0.9997814\n",
            "MC1_atterrissage.wav atterrissage 0.9273623\n",
            "C02_etatdurgence.wav etatdurgence 1.0\n",
            "C02_avance.wav avance 0.9999999\n",
            "C02_tournedroite.wav tournedroite 0.99999344\n",
            "MC1_tournegauche.wav tournegauche 0.79056567\n",
            "MC1_droite.wav tournedroite 0.6355561\n",
            "C02_decollage.wav decollage 1.0\n",
            "C01_avance.wav avance 1.0\n",
            "C01_etatdurgence.wav etatdurgence 0.9999833\n",
            "C01_plusbas.wav plusbas 0.96967375\n",
            "C02_gauche.wav tournegauche 0.7595253\n",
            "MC1_plushaut.wav plushaut 0.9978485\n",
            "C01_tournedroite.wav tournedroite 0.99999964\n",
            "C01_recule.wav recule 0.90349054\n",
            "C02_droite.wav tournedroite 0.9901928\n",
            "MC1_recule.wav recule 0.66637135\n",
            "C01_atterrissage.wav atterrissage 0.67268217\n",
            "MC1_arretetoi.wav arretetoi 0.95666206\n",
            "C02_plusbas.wav plusbas 0.99999\n",
            "C02_plushaut.wav plushaut 0.99750805\n",
            "C01_decollage.wav etatdurgence 0.38947618\n",
            "MC1_avance.wav avance 1.0\n",
            "C01_tournegauche.wav tournegauche 0.9944825\n"
          ],
          "name": "stdout"
        }
      ]
    },
    {
      "cell_type": "code",
      "metadata": {
        "id": "hKEXDSm9C67C",
        "colab_type": "code",
        "outputId": "3de62e77-9383-44fd-f25b-0a56ce6c43c7",
        "colab": {
          "base_uri": "https://localhost:8080/",
          "height": 978
        }
      },
      "source": [
        "plot_eval(y_true, y_predk)"
      ],
      "execution_count": 65,
      "outputs": [
        {
          "output_type": "display_data",
          "data": {
            "image/png": "[encoded data removed]",
            "text/plain": [
              "<Figure size 720x720 with 2 Axes>"
            ]
          },
          "metadata": {
            "tags": []
          }
        },
        {
          "output_type": "stream",
          "text": [
            "              precision    recall  f1-score   support\n",
            "\n",
            "           0       0.60      1.00      0.75         3\n",
            "           1       0.50      1.00      0.67         3\n",
            "           2       1.00      1.00      1.00         3\n",
            "           3       1.00      1.00      1.00         3\n",
            "           4       0.75      1.00      0.86         3\n",
            "           5       1.00      0.33      0.50         3\n",
            "           6       1.00      0.33      0.50         3\n",
            "           7       0.75      1.00      0.86         3\n",
            "           8       0.00      0.00      0.00         3\n",
            "           9       1.00      0.67      0.80         3\n",
            "          10       1.00      1.00      1.00         3\n",
            "          11       1.00      1.00      1.00         3\n",
            "          12       0.75      1.00      0.86         3\n",
            "\n",
            "    accuracy                           0.79        39\n",
            "   macro avg       0.80      0.79      0.75        39\n",
            "weighted avg       0.80      0.79      0.75        39\n",
            "\n"
          ],
          "name": "stdout"
        },
        {
          "output_type": "stream",
          "text": [
            "/usr/local/lib/python3.6/dist-packages/sklearn/metrics/classification.py:1437: UndefinedMetricWarning: Precision and F-score are ill-defined and being set to 0.0 in labels with no predicted samples.\n",
            "  'precision', 'predicted', average, warn_for)\n"
          ],
          "name": "stderr"
        }
      ]
    },
    {
      "cell_type": "code",
      "metadata": {
        "id": "CBPhRbRhC67L",
        "colab_type": "code",
        "colab": {}
      },
      "source": [
        ""
      ],
      "execution_count": 0,
      "outputs": []
    }
  ]
}