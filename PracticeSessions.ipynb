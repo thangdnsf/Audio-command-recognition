{
 "cells": [
  {
   "cell_type": "markdown",
   "metadata": {},
   "source": [
    "# Scientific Computing - Practice sessions  : Audio command recognition by DTW and classification\n",
    "\n",
    "**Group name:**\n",
    "\n",
    "**Names :**\n",
    "\n",
    "**Surnames :**\n",
    "\n",
    "The Practice sessions will permit testing the dynamic programming algorithm (DTW) seen in Exercise session (TD) and then implement an audio recognition system for isolated words (constituting orders for drones).\n",
    "\n",
    "\n",
    "These sessions are divided into 3 parts: \n",
    "- Part I: DTW and application of the TD\n",
    "- Part II: Audio control word recognition system\n",
    "- Part III: Comparison of dynamic programming with a classification method after data pre-processing by PCA\n",
    "\n",
    "For **parts II and III**, you will test the audio recognition system on two sets of voices that will serve as a learning base (references) and a test base (sounds to be recognized) respectively. The list of the 13 drone commands are: *Landing, Takeoff, Takeoff, Advance, Right turn, Backward, Left turn, Right, Flip, Left, Stop, Higher, Lower and State of Emergency.*\n",
    "\n",
    "To do this, you must per group of 2 students (number of students **MANDATORY**):\n",
    "1. **Propose a study** that you will detail on a report.\n",
    "For example, *influence male voices VS female voices, compare your own voices to the database, test the impact of different background noises on recognition...*];\n",
    "2. Create, according to the objective of your study, your own learning base and test base from the proposed corpus and the voices and sounds you have recorded   [*audio parameters: 16 KHz, mono, 16 bits, *.wav format**];\n",
    "3. Test the DTW and a classification method with pre-processing by PCA;\n",
    "4. Evaluate the results; \n",
    "5. Write a pdf report presenting the study, the results by the 2 methods and your comments and conclusions on your study (Max. length: 8 pages).\n",
    "\n"
   ]
  },
  {
   "cell_type": "markdown",
   "metadata": {},
   "source": []
  },
  {
   "cell_type": "code",
   "execution_count": 1,
   "metadata": {},
   "outputs": [
    {
     "name": "stderr",
     "output_type": "stream",
     "text": [
      "/Users/nguyenthang/anaconda3/envs/thang/lib/python3.7/site-packages/noisereduce/noisereduce.py:5: TqdmExperimentalWarning: Using `tqdm.autonotebook.tqdm` in notebook mode. Use `tqdm.tqdm` instead to force console mode (e.g. in jupyter console)\n",
      "  from tqdm.autonotebook import tqdm\n"
     ]
    }
   ],
   "source": [
    "%matplotlib inline\n",
    "import matplotlib.pyplot as plt\n",
    "from numpy import array, zeros, full, argmin, inf, ndim\n",
    "import scipy\n",
    "import sklearn\n",
    "import math\n",
    "import IPython.display as ipd\n",
    "from scipy.spatial import distance\n",
    "import numpy as np\n",
    "import os\n",
    "from sklearn.model_selection import train_test_split\n",
    "import noisereduce as nr\n",
    "import librosa\n",
    "import librosa.display"
   ]
  },
  {
   "cell_type": "markdown",
   "metadata": {},
   "source": [
    "# Part I: Implementation of the dynamic programming algorithm "
   ]
  },
  {
   "cell_type": "markdown",
   "metadata": {},
   "source": [
    "1. Write a function in DTW python that implements the calculation and display of the cost matrix defined in TD. \n",
    "\n",
    "2. In order to easily adapt the cost calculation according to the nature of the data (and therefore the distances used), write a function for each distance (Euclidean, letters, sounds) that will appear as a parameter of the DTW function."
   ]
  },
  {
   "cell_type": "code",
   "execution_count": 2,
   "metadata": {},
   "outputs": [],
   "source": [
    "def dtw(s1,s2,dist=distance.euclidean,l_const=np.array([1,1,1]),g_const = None,plot=False):\n",
    "    \"\"\"\n",
    "    :ts1: float - timeseries1\n",
    "    :ts2: float - timeseries2\n",
    "    :dist: lamda - distance\n",
    "    \"\"\"\n",
    "\n",
    "    s1 = np.insert(s1, 0, 0,axis=0)\n",
    "    s2 = np.insert(s2, 0, 0,axis=0)\n",
    "    m = len(s1)\n",
    "    n = len(s2)\n",
    "    \n",
    "    \n",
    "    DTW = np.full((n,m),float(\"inf\"),dtype=float)\n",
    "    \n",
    "    DTW[0,0] = 0\n",
    "    \n",
    "    for i in range(1,n):\n",
    "        if g_const != None: \n",
    "            newms = max(1,i-g_const)\n",
    "            newme = min(m,i+g_const)\n",
    "        else: \n",
    "            newms = 1;\n",
    "            newme = m;\n",
    "            \n",
    "        for j in range(newms,newme):\n",
    "            cost = dist(s1[j],s2[i])\n",
    "            DTW[i,j] = np.min(np.array([DTW[i-1,j],DTW[i-1,j-1], DTW[i,j-1]])\n",
    "                              + cost*l_const)\n",
    "\n",
    "    path = list()\n",
    "    path.append([n-1,m-1,DTW[n-1,m-1]])\n",
    "    i = n-1\n",
    "    j = m-1\n",
    "    while (True):\n",
    "        k = np.argmin([DTW[i-1,j],DTW[i-1,j-1],DTW[i,j-1]])\n",
    "        if k==0:\n",
    "            path.append([i-1,j,DTW[i-1,j]])\n",
    "            i = i-1\n",
    "        elif k==1:\n",
    "            path.append([i-1,j-1,DTW[i-1,j-1]])\n",
    "            j = j-1\n",
    "            i = i-1\n",
    "        else:\n",
    "            path.append([i,j-1,DTW[i,j-1]])\n",
    "            j = j-1\n",
    "        if i==0 and j==0:\n",
    "            break\n",
    "    path = np.array(path)\n",
    "    if plot:\n",
    "        print(DTW[n-1,m-1]/(n+m - 2))\n",
    "        plt.imshow(DTW, origin='lower', interpolation='nearest')\n",
    "        plt.plot(path[:,1], path[:,0], 'w')\n",
    "        plt.show()\n",
    "\n",
    "    return DTW[n-1,m-1]/(n+m - 2)#, path, DTW"
   ]
  },
  {
   "cell_type": "code",
   "execution_count": 3,
   "metadata": {},
   "outputs": [
    {
     "name": "stdout",
     "output_type": "stream",
     "text": [
      "3.6\n"
     ]
    },
    {
     "data": {
      "image/png": "[encoded data removed]",
      "text/plain": [
       "<Figure size 432x288 with 1 Axes>"
      ]
     },
     "metadata": {
      "needs_background": "light"
     },
     "output_type": "display_data"
    },
    {
     "data": {
      "text/plain": [
       "3.6"
      ]
     },
     "execution_count": 3,
     "metadata": {},
     "output_type": "execute_result"
    }
   ],
   "source": [
    "x = np.array([-2,10,-10,15,-13,20,-5,14,2])\n",
    "y = np.array([3,-13,14,-7,9,-2])\n",
    "euclidean_norm = lambda x, y: np.abs(x - y)\n",
    "dtw(x.T,y.T,dist=euclidean_norm,g_const=None,plot=True)"
   ]
  },
  {
   "cell_type": "code",
   "execution_count": 4,
   "metadata": {},
   "outputs": [
    {
     "name": "stdout",
     "output_type": "stream",
     "text": [
      "0.16666666666666666\n"
     ]
    },
    {
     "data": {
      "image/png": "[encoded data removed]",
      "text/plain": [
       "<Figure size 432x288 with 1 Axes>"
      ]
     },
     "metadata": {
      "needs_background": "light"
     },
     "output_type": "display_data"
    },
    {
     "data": {
      "text/plain": [
       "0.16666666666666666"
      ]
     },
     "execution_count": 4,
     "metadata": {},
     "output_type": "execute_result"
    }
   ],
   "source": [
    "x = np.array(['A','T','G','G','T','A','C','G','T','C'])\n",
    "y = np.array(['A','A','G','T','A','G','G','C'])\n",
    "symbols_norm = lambda x, y: 0 if x == y else 1\n",
    "dtw(x.T,y.T,dist=symbols_norm,g_const=4,plot=True)"
   ]
  },
  {
   "cell_type": "code",
   "execution_count": 5,
   "metadata": {},
   "outputs": [
    {
     "name": "stdout",
     "output_type": "stream",
     "text": [
      "0.16666666666666666\n"
     ]
    },
    {
     "data": {
      "image/png": "[encoded data removed]",
      "text/plain": [
       "<Figure size 432x288 with 1 Axes>"
      ]
     },
     "metadata": {
      "needs_background": "light"
     },
     "output_type": "display_data"
    },
    {
     "data": {
      "text/plain": [
       "0.16666666666666666"
      ]
     },
     "execution_count": 5,
     "metadata": {},
     "output_type": "execute_result"
    }
   ],
   "source": [
    "x = np.array(['A','T','G','G','T','A','C','G','T','C'])\n",
    "y = np.array(['A','A','G','T','A','G','G','C'])\n",
    "symbols_norm = lambda x, y: 0 if x == y else 1\n",
    "dtw(x,y,dist=symbols_norm,plot=True)"
   ]
  },
  {
   "cell_type": "code",
   "execution_count": 6,
   "metadata": {},
   "outputs": [
    {
     "name": "stdout",
     "output_type": "stream",
     "text": [
      "0.16666666666666666\n"
     ]
    },
    {
     "data": {
      "image/png": "[encoded data removed]",
      "text/plain": [
       "<Figure size 432x288 with 1 Axes>"
      ]
     },
     "metadata": {
      "needs_background": "light"
     },
     "output_type": "display_data"
    },
    {
     "data": {
      "text/plain": [
       "0.16666666666666666"
      ]
     },
     "execution_count": 6,
     "metadata": {},
     "output_type": "execute_result"
    }
   ],
   "source": [
    "x = np.array(['A','T','G','G','T','A','C','G','T','C'])\n",
    "y = np.array(['A','A','G','T','A','G','G','C'])\n",
    "symbols_norm = lambda x, y: 0 if x == y else 1\n",
    "dtw(x.T,y.T,dist=symbols_norm,plot=True)"
   ]
  },
  {
   "cell_type": "markdown",
   "metadata": {},
   "source": [
    "#### Application to exercises \n",
    "\n",
    "1. Test your programs on the exercises seen in TD. \n",
    "\n",
    "2. Modify the local constraints, i.e. the weights according to the directions. \n",
    "\n",
    "3. Add the consideration of global constraints, i. e. non-calculation when the boxes are too far from the diagonal (see exercise TD DNA sequence). From which position do global constraints not change the results?"
   ]
  },
  {
   "cell_type": "markdown",
   "metadata": {},
   "source": [
    "# Part II: Audio control word recognition system\n",
    "\n",
    "On the shared space, you will find audio recordings of command words for a quadricopter drone composed of several male french speakers (noted M01...M13) and female french speakers (F01...F05).\n",
    "\n",
    "You can thus divide all the data into learning bases that will serve as references and test bases to evaluate recognition by dynamic programming."
   ]
  },
  {
   "cell_type": "code",
   "execution_count": null,
   "metadata": {},
   "outputs": [],
   "source": []
  },
  {
   "cell_type": "markdown",
   "metadata": {},
   "source": [
    "The following lines of code allow you to transform the audio file into a matrix of parameters called MFCC (Mel Frequency Cepstral Coefficient) using the *librosa* python library. These settings are used to extract the best possible frequency voice content from the audio signal.\n",
    "\n",
    "The output matrix is composed of as many column vectors as analysis frames. The number of lines corresponds to the size of the representative vector: here 12.\n"
   ]
  },
  {
   "cell_type": "code",
   "execution_count": null,
   "metadata": {},
   "outputs": [],
   "source": []
  },
  {
   "cell_type": "markdown",
   "metadata": {},
   "source": [
    "**Audio file upload:**"
   ]
  },
  {
   "cell_type": "code",
   "execution_count": 7,
   "metadata": {},
   "outputs": [],
   "source": [
    "y, sr = librosa.load(\"M12_etatdurgence.wav\",sr=16000,dtype=np.float16, res_type='kaiser_fast')\n",
    "y1 = nr.reduce_noise(audio_clip=y, noise_clip=y, verbose=False)\n",
    "yt, index = librosa.effects.trim(y,top_db=20)"
   ]
  },
  {
   "cell_type": "code",
   "execution_count": 8,
   "metadata": {},
   "outputs": [
    {
     "data": {
      "text/html": [
       "\n",
       "                <audio  controls=\"controls\" >\n",
       "                    <source src=\"data:audio/wav;base64,UklGRiRoAABXQVZFZm10IBAAAAABAAEAgD4AAAB9AAACABAAZGF0YQBoAAAOAAUACQABAAEABgAJAAsADQAGAAUACAAJAA4ADgAOAA4ADgAJAAQACwARAAsABgANAAgABgASABYAEQAOAAgABgANAAsAEQATABIAHAAYACAAIAATABgAGwAgACMAJAAbAB8AEgASAAkABQAOAAEAAQABAP3/+f/y//T/9f/y//r/+//0//D/7v/p/97/3v/a/83/1f/e/9r/4//g/9P/1//b/9X/1v/T/9//5//n/+7/8f/0//D/8v/x//n/9//3/wEAAgAEAAAA+v/5/wEA+v/9/wQACQALAAsAAQD5//X/AgAFAAkADgANAAkACQANAAsABAD9//v//f8BAAAA+//+//3/9f/3//X/8v/o/+n/5P/k//H/9f/7/+7/5//n/+f/7f/x//f/+f8BAAQABAAEAP7/BgAFAAYAFwAPABYAHwAWABcAFwAaABsAGgAWACQAGwAYABMADwANAAgACQAFAAQABgAIAAIAAQD9//L/7f/o/+j/6f/w//n/+f/0/+7/8P/0/+n/4//n/+T/5f/r//H/6f/w/+j/6//1//f/8v/3//f/+f8EAAUAEQAIAAEA/v8EAPn/AgAAAAEACQD+//v/9P/0//7/AAAGAAYA+//u//f//f8FAP3/9//6//r/9//6//7//v8BAPX/8v/5//f/8v/7/wsACwAPABMAEQAJAAsACQAGABgAGAAXACAAHAAbABYAFwARAA0AEQAWACAAEwATAA4A/f8BAAIA/f/5//f/8v/1//n/+f/7//r/BgANAA4ABgAEAA4ACQAFAP7/+//3/wgAAQABAA8ABQAGAAIA+//7//n/8v/0//n/+//+//H/7v/5//D/8f/x/+n/5//p/+n/6//p/+X/4P/f/+X/6//x//T/8f/r/+D/3//n/+T/6P/u/+j/6P/l/+X/5P/r/+T/5P/k/+T/5f/n/+f/5f/w//D/8P/r/+n/7f/x//D/7v/t/+3/8P/u//H/9P/o//H/+//9//L/AQALAAgADwAJAA4AEQANAA8ADQASABYAFgAcABsAIAAaABIAGgAlACQAIAAgABwAGwAXAA4ABgATABoAHAAbACMAFwAWAAsACwANABMAFgALAAYACQATAA8AEQANAAQAAAABAAEACwARABcADgARABEACAAFAAUAAgD9//D/8f/6/+j/6P/t//D/8P/u//H/8P/u/+j/6//r/+f/6//j/+f/6f/j/+j/5P/u//T/9P/u//H/6//l//D/7f/p//T/7v/o/+X/5P/n//D//f8AAAgABgAGAP3/AQAEAAIAAgAAAPr/+f/9/wQABQAFAAkABAABAAIA+//5//n//f/6//n//v/u//f/+f/9/wYADgARAA8ACQAGABEAHAAYACEALgApAB8AGAAOAAgAAQAEAA8ACQATABIAAgARAA0AAgACAAQABAALAAYADwARAA0AEwAPAA0ADwAYAA4AEQANAA8ACwAOAAUACQABAAAACAD7/wEA+//w/+3/6f/r//H/BAAFAAAABgALAP3/9f/1/wAA9P/t//L/8P/l/9//+v/r/9v/1v/f/+j/8f/r/+j/5P/j/+v/9P/0//f/8v/r//n/BAABAO3/6f/y/+f/6P/7//3/BAAaABYABgD0//3/BQAsAB8ATQANAJsDrAbl/+z7U/zPARoHZAieDdQGmPv39LH6IQgVCioJ9AIH/In3fvbM+Tf+8wJ8ALL+BvxU+cL2PfJF+HcAewLz/hn40PPo8R31zPrz/fX82PiR9K3x8vNn9qH4hvro+6j+wQWMESQKcvjZ9WAIrhrfF1IYkxqqEAsCSgUAFr0YeRO7D4cN4AW+AOv+/vdE+f0CNAV7+XfxePCN6d7nxvXkAab7fPOw9PbzBPMx+6UEhgQqBcsKNwjFAA4D5AkiCs0MXxR/ESoFlgDHA/0DWwV/ChMItv5Q+zX7i/YC9ez6Sf17+cX4sfnI9dvx9faI/78ASwCd/yH9Jf5yAfsEBQfKCIcIVwVzBMoFFQbsA+AEdgb4A7UAKP27+kH5xflX+hL4nvVa8rLupO578PDwCfFO8ETvveyH7FfwWvIL8yn2z/pM+rT5xvoEAnYR4BjaE0MIrAdeE/wZyxzFIt4k2BjNDJEOAxVeE28N5w3PDIAFYv3l9WLwTvAT9nb4uPP87eToNePD44Xudffd9mX0KfbR94X3yvuIAzsIdQu/D24QUQxTCrIMxA8XE8MWWBX5DB4GKwVIBZUESQUUBZ8A2vuB+s74BvRi8pr2BfrT+rj4f/UT9GX0dfgx/T8AcgENAGv+2//lAuED8ARbBh4HJwZ0A4EBTP9y/fL9nf4I/Sv6iPTf7y7vhe4P7wLvVe697Bnp9uhA7I7uD+/18jf4yv0IBhsKdQitA44GyBPPHKMgDCPRIV8bGxZUGV4eDx6GGpkYBxSZC9MEmP9K/FX7jfzn+tby0Oph5n3kRubE65/v6u3V6kjrDu6B8PP0xfuTAFEDvgUhB9gG0gfSDL4SlhXHFQIUyA+RDF8NTg/8DjQO1w0VDDkGcvx9+DL6kv2NAL78bvc/8rXtDu7o8pf4dvkw9yj1cfWG9tT3MfsP/wsCzwJAAQr+W/wi/fP+LgIEA9r/jvkk9Ur0jvVR9sf0aPNM7lztou5D7pzwFfAl9OT+UQgSBvL7fvi9A0sSUBa5HF4hNxvLEPkPfhu0HyobxBqgHYIX6QuWBWUDlQLQA0MHHwPQ9tTt4elp6Ynt1/Os9GLu3Okp6y/sduwV8u35hf1Q/v3+gv6V/AP/xAdBD1cRvhDpDYcJdgiLDNYQohFLEmAVYBFXBEL9tv+OBnUJbQYbA/77LvOq76/zvPku+2j4x/SX8wjyXvDt8R33O/yM/QP8ufi/9TX1fvhi/gQCQgAj+wb2o/ST9Uv2hvZf9oT2mvSB8ODs7+qi7DT0IfvSAiYLQQYy+pnzeQANFlMcGx3zIJkffBKZC44W0SE6IcMdVSG8G+cKFQGsAmUHewjoCekGlPlb7H7ouup47if0gvcL87/qb+ce6YDqfu+t+UgArf6K+vL4GPl1+8cDOQ5yEWoO+woZCAgGfwgLD7cTchWCF5QUPQfa/Nv+Vwj8DikMbAfP/3D0K/AD9Pf5wfzu+gD3pvPo757sx+3i8+H6+/z8+Vn1RPFt8EX1g/3nAWf/Ivps9unzU/Ss9+T4E/ri9+b04PEC7B7teO5G8jj5BPuHAmIHsAEz+WL3NgZaFzMblBsVIMobbQ8VDsgaSCVeIdgcOSAXGjMLeAQvCAEMYArvCU8Ht/qW7dXqve7A8qT12fXl8AfpPeYZ6V7raO/S9g77Uvn59Vn1d/b9+NoAtAqMDSkKDwfLBQwGrQn5D7gUghdUGYwUswlVA+wFIw6AEpAQ9wx7A1/41fX7+Av9mv5R/Bn4q/Oy7qHrS+028mP3P/hF9RbxOe1P7Wny+Pnk/GH66Pe69Y7zCPRE9n340/gD96/1RPTJ8bHvcO9j8S72H/lXAmoOlQjm+aPyCQBbFNYXcRtFIx0faw+JCWwXbCKYHvEb3iTtIjUQEQUlB4ALLAtcDrsRegV689PsEPCx81b2m/ms91Hvlelg6abonuks8e34IvrQ9rTzNfHi7yX2TgK0CKUHDAUcA2ABHwIdCGUO7BMDGLQY7hHKBuUDZglZEeYV/xSFD+sDGPs2+pf9uQEWArL/0/u29cjuu+so7vDyJ/eB92H0v+7P6dXqsPCz9iP5DvjR9eXyyfFR8tL06Pjo+c/5qfe487PxNfHn8yj3tPhp+Jv1Xv5qC/YJ3P3T9SIB/Q8FEVwVIR9cHM8MpQgmGG8hFBjRE0sgeSLEE2YLCg6eDUYHUgsVFSAOSv3l9dn3Mvgi9xD6E/sN9S/w6fBo75Pr4Oyu8r720vY09nD0B/AS8I33S/4LACQAuwDA/4L+xQCVBToKJg15EPoQUAs1B08HHwvED2QRhxCFCwYFdQFzACIBSgHM/zD+Dfuq9uryR/G38jb0efZ897T4ivU68IH15Pe8+IX9Df1G/Kb7Dftm+mj7Ff3f/Fn9sP0W+yv6q/lK+Vv7SPuN+mr6+PnF+EX5Bvne+1AD1wRBAbL8PP1eAe8CbwfKDRgQwQtbBmIIiQtgCq8JTg0IENkN9wq4CVMI9ATlA/kGAAmqB7cEcQKXAMn+s/7x/yoAjv+F/4P/w/7X/Yr9mv0p/j7/BgAAAEz/0v7r/hD/Jv9+/7f/xv/f/8X/h/8t/x3/Rf9E/xf/7P6+/nj+Tf4u/vP9e/09/VL9uv30/Zn9bf1y/W/9g/3V/Sf+Mf4E/gT+Of4B/oT9bf3O/TL+D/6b/Sz9ovxT/If85fz2/MT8cvwt/Pb73/vr+xX8gvzc/M38afwz/Gf82vxG/X/9d/12/c79Mf5V/iP+Vv4y/1kAjwF6AvcCAwM7AwkEJgXYBUkGrwYOB3QHpQdmB9cGYgZvBtQG8wanBhsGpQVwBVoFYQU4BdIEigR9BKYErgROBKADCQOoAk0CzwGKAWsBDAFsAJX/tv4E/nr9ev3H/YT9yvw0/Ov7v/t6+2j7qPvQ++j78vv0+8z7gPuy+3H88/wS/Qj9//wH/e38Hf17/aD9uv0I/jr+Dv7L/cz9SP65/hL/dv+B/zf/AP8d/4L/2v8aAEsATQD6/3X/SP+C/8T/yP+3/4v/FP9+/lj+d/6G/kP++/0Y/hj+rf2E/Yf9r/0W/q3+a/8EAGoAvAAgAYoBFAK0AmYDGwS6BB0FOAU2BVwFlQXTBQQGDgYMBuEFzQXKBbwFdgULBZsESAQdBN4DowNCA5sCwgHjADcA3/+r/2f/EP97/rL9Av2D/Gf8kfyy/JX8W/w2/Cr8B/wH/Ej8jPzB/OT8CP37/Nb86fw0/Y794v0x/mH+Zv5c/nn+yP4P/4L/+f8pADoALAA1AF8AmwDwAEEBSQEtARwBDgH1APEAMgFNASQB6AClAGgAKQAGAA0ADwDM/2L/EP+x/nj+Tf4e/vv9xf2V/Xr9WP0r/RX9FP1c/cX9CP4Y/jv+XP6Y/g7/nP8YAHQAyQAGAT0BcQG9ARYCWAJqAnwCZAJHAlQCiwK+ArgCqAKIAlcCEALqAfoBDwIEAvAB0gGUAVcBPAE8AUABSAFDASYB7QDEAJ0AbABjAGMAVgAxABEA8v/K/6r/tv/a/9f/ov+R/6D/nv+M/53/zP/M/7//q/+X/33/Yv+C/7T/u/+I/1H/L/8m/zr/Z/+T/5f/cP9a/2f/Yv9g/2f/iv+q/6T/f/9M/w//8/79/hn/H//k/nn+HP78/fz9D/4a/gz+//39/QT+9P0O/kf+pP4A/1f/g/+M/5z/xP8uAKUA7AALARcBDAEQARcBGwEpAS0BNgErAfkAqgBrAF0AcQCXAJAAWgAgAPX/3v/f//f/EwAbAA4A/v/r//f/BQAsAEwAVQBfAF8ATwBWAHkAnAChAKwAvADNAKUAnQC6AMQAwwCqAK8AnQBrAEwAUABVAEgAPgBAADMAHwANAA4AHAAtAFQAdACAAHMAdQCdAMgA3wD5AAIB9QDfANQAvwCuAJMAbABjAD8ABQDK/4z/cf9M/yb/If8Q/+z+0P7S/ub++f4L/zv/dv+c/7P/wf/u/xoAQACGAMMA2QC8AJwAmwCTAI8AlwCQAGgALADt/7P/iv+B/3j/bf9f/zP/6/67/sT+3/4L/yj/Uf9f/0P/Pv99/7D/6/8bADsAUABGAFgAjQCzAM0A4gDzAOIAtgCWAIUAfQB3AGsASQAYANv/qv+P/4H/dP9r/zz/E/8D/+v+2/7Y/vz+If82/y3/Nv9E/17/jv/T/wYAAQD9/xMAOQBNAGMAdwBxAFIAMwAtACcAGgAEAAQA7v+3/5X/g/+F/4v/h/+U/5X/nP+y/6v/sP/a/wYAMABMAGoAgQCGAJcApgCzAL8AzgDMAL8ArgCbAHcATABAADsAFwDr/8H/pP95/2b/eP9+/1r/O/9I/1D/Tf9i/4v/nP+y/9X//v8bACQAQwBvAJAAtgDiAN8A3wDmAPYAFAEDAf8A4gDNALEAmQB9AEsAJQD9/+v/5f+//5H/bP9k/1//UP9Q/1L/V/9K/0r/ZP95/3r/fv+n/8z/0f/P/+f/AQABAA4ALABMAFAAQwBIAEIAQwBNAGIAdwCAAHEAXwBeAFkAdwB+AHMAaABjAFkAUgBMADsAKQASAAkA9P/X/8H/xv+8/7j/qv+H/2f/ZP9v/2b/b/92/2v/a/9x/4f/gv92/4//oP+h/7j/yP/F/7//xf/7/xIAHwAkADsARgBLAHkAmwCsALUAzQDeANUAxwDVAN8A5wDZAMcAuACcAIIAYQBIACwABQDw/9X/q/+B/1n/Ov8u/zL/Lv8x/zb/Mf8o/yb/Q/9Z/2f/ff+T/57/mf+n/8z/2//b/+3/AgAOAAQAAgAOACcANgBCAGEAagBZAF4AeACGAHwAjwCoALUAwADHALIAnACKAI0AhQBqAGcAYgBVAC4AHAAGAOv/2v/X/9L/yv+z/5f/kf+I/4X/i/+R/4H/dP9//4f/kf+L/4L/hf+H/4r/nf+u/73/wf/E/8T/zP/g//T/BQAOACAAJAAlADcARAA5ADoARABMAEkATABDADEALQAkACEACQDy/+3/2v/N/7v/vf/F/8j/u/+q/63/q/+p/8X/4//n/8//5f/o//L/3v8LADAA3v8XABsAJADf/5YAKQCUCEYC4fTR/eYAgwJRBAUBzwJVAKn9mfxp/xAEhAJvAMX/m/7D/XT+6wbBATT5mvoXCB4MzPdB/7b+pviUAiX+Q/9//x4CNwE2+y385PynA3P9HwBLC3n+wfzC/D39kP2kAw8LkgcHBZj/I/tm+p0ChgQ/BKcDzgBm/WL1+vER/Jv+1f+tBFP+dPzv+Yv5D/s5/q8BcgM0AWwAIf8J/dX4B/8D/08DrwmEAfcCyfjJASwAjvrxAOwBqQcW/tcIXvjT+ckFKPhRCOr+dgoQBZT59gDq+fb8tf4rAvEEUP1/AcP+EPeP/hb+QP9pAjMGggCCBG//ggC//kv+wQQcAQIHhwFWBSICPflfAab4LAIO/K8BkwZG/G8Ct/wU/9D7Gf0CAu0AXQY/A+0A5wFm/X3/Wv5mAnMEIgOnCIsFl/8U/0j/tP2h/j0FKwNCAn8DPf5S/2b/1/89BhgHlgPLAmwA8vyV/Jb+/f/2AqYB3/5FAnn80PtS/R37J/7x/rMABQBQ/Ub8Evu6+37/cQCb/cYB8AE2/4r/z/zz/ZD8R/sPAQIBAP5V/4f9Fvpu+Wr7fPqI+bn8JP1G/NT5qPeM+D/45vk6+2P8NfrY+af6v/W09Qn1Gvo7DjIXpBlHFjoG2gDOARIEchHtFJcWth0EGUkQ2whS/bf2g/uKA0gMwAy5BWwATPdf8Vz0cvTU9kX93ALrB/AEzf4A/Sz66fwDBYEImgrDC7oJEAh0BFX+RP5n/h//LgJ1AST+Vvkf9T7z3fFc8jfz9vMy9vr2N/bl8iXx9/A99Jj38fd0+uf4wPY99gj0+PGl8JXwAfKN9LLuFe1l6WLj69xR5D8X0zEVJ98TIAo6D3sCkwR0JVcxzCtqMpw+2yk7BRL1OvjP+o//hxSbFk8ANvIX7pDlOdiJ2CLlgu+K+twGqAfj+zT0c/XO/FsGFA8HGG0fPiSGJT4daxMJD4QKvQhEDO4MkwhFBWIA9fZ27D/keOMH5Y3pUfRD+M3y9fDh8gXy5PFc94f/dwPyBkoMFQq4ABT7qPuc+3D74/zZ+6v10e777u/qLONJ4R7i0eCB4M/iLONw4DnfkNbZ2EgXk0wFRX0edRTbKVkW5QP8LjNN/jcVLiZKYUB3AEXaeOf169Dj2vpLDmb5E91B3sjjcdOkygDcLPGDApQX9yOnHL0NxQmyDygWlBsFIfsmSS0/LN8euQpy+N7qkuZg8Hf64/hw8nfvfOoE5kjkR+PN5ITtwgHMD2UKHAU6BrsDhAIGCeQQzA9ADdkSpRM8BjH4g/Ny8ODsqu8X9GLu2+S44QLhltsI24PhPOV45xzrqO3Q7SDnUOrJ66HrNeMe6XxI/3+vVOwTSgzOLSQDMeeyM05cFiiEEKBI3zvd1FSmydLi47fLc/FeIfUFjdSA3wv8bt9pxbrjig0nHKgrbEJgONASagCeDRQUQQx3ECYfhyZkH0AQU/qa3jvLnsy83QztafLf9ykBDAKA9Djs0O0/8Mv8/BVgKgMnvBfaE50OJv/B+UQA6AFwA28NXBGSAFfpHuI04lng4ubT8G/xaOyT7lLxxukJ4xTlGOwD9Ir7OgCM+AbxnO5f7K/oT+IS4LbRPRWAdjdm5xY38x0fWBIp0soL/2PxQjECszsvbnUHVJ++wjX6KNG90AolpzHW5PjNugT7+US2Vr00/j0VWBKJNmhNQSPC9ygEaRVAAoX9+hcGKWslZiG8FPHv6M9XzPjUTt6j7Ur55/eg+IsBZ/sn7bXvWP4RDnscxCWcIT4WDhOpDc0B3v6iAuv+PP+UC/cKQfTq5s7sWeqd4QfpBvTq7SLpIfV6+SzqmeHQ7SD24vM8+3QBs/dk7B7vQ+425DLdhOIv12fwMlRQczQqHu1tEcYueug55oFMS2GVEX8Ys20gPkS2NqqH+3julL2r+fY4SgOmxEPuPg3KzO+p7uXxFwgO5xqBRVo7LgfD/pkYTw5a+PQISCULJnIcDBjvABPdss6M00nWJd1S7GP03/Sy+wT7NutG4onzcA6/GicnJy5wKbYowCLkECsBSQCsA38C2wgVETYAguSp4wDqO93O1g/ooPP37c3yH/849Rjhm+an+Yn7U/lQAyIKiv4s95n7IPIT3Q/abeUR4qjUadvTIyBb1DknBhwDth1t/zPhvyE3X708ThjzS3xd3fxts9rcBv6N1Ajb+CAtJR3eA9Bn/NfoZq1WvQ0A2RB4B4Anj0IdHzn5ywoLG/MDB/2uHnU0eChsHt8Xwfnq12DTu9xF3kriOe/b9tr3bPdM7lnc8Nzb9lsPvR+oK24usiW1HEoYZAt1Av8FcQmtDd8T3w7O9Q/hG+Or5YLdiuMr9HDyUOri8Qn4Fekd3oPsl/uN+oz7JQVFBAf3MPSQ+O3vj+Ck30fjKeC91w/2qECgT+8dHftsEA4afevM8xtBD1TaIZwohl6CN7fS98Wm/UPyAs+O+3UtfQRAz3vpPf5LyjisLN9sC9sBJQmDMeUxKAYh/boW3BEZ/MoLDC56MQMjSR+tEpvxa9w+3+riHuI06eP0pfjk9jHwIeHw1Y3fmvjVC4oa4CZMKAMj4h3YEWMFGwdDDxoVQhnuHI4P4/K/50zrCuQ13BbqpfhU8czqMvKf7Wjan9tg8Gz55/Xz/AAHGP+U81/2jvdS7JXlSOtc7b3l/uDW8KYpyka9JhcAoQWDGwX9FvEeLj9QAyeAGadOZ0Vy6VzJyv3NAR/Y0/N5KQgMiND34qcBatSbrfvXugSW+Zn7aiSCKWf/zveyFiIVBf5pDJEuYDGxJGQmrR3y/O3o8+207irozuz09bv0PPC766LegdFe2bDuk/viCRoZDxt8FqoX/xQUCU0IuBR+GwoeEyWIHyMFMPTx9qnw7uL46mj5uvEq6O7uEe3Q2FjUYuf673nrfvOeASL8vu/280j6Fu/N52PvlPM87CPqR/F+B9EvYjNnE+r6yArTFEH4eQfhPP4+zxhVKK9NIyBp2y3rnRQc+SfmMRYCJljtT9Qf+zD07LwdwRD1d/r75a4Aix6OAqHk/f08FFf/TPv6HqcxECM6ITUrbRiN+nf6UQX4/YH3ZwEuBbr5jPCh673e39Z34oXu+fdVARwI3gTIAW0Ebf/Z/ZUIRhVaFyscGiSPF8YDbQHOBHT6D/beAr8E5fWa8pL3reqV2irhBO3J6KXnBfXZ9yPqjudX8AnugeMH6SjxnO6e6f/saPVMAPEiWyY4Da3/sQ4/F04CFxPmOYk2Ch6BL5RGVB108nwE/xurAaf5cx2GGg7utOUX/7vrk8OS0e3xOerP3oL4BwR66FPe1fg3AiPxEPrpGOUfchUZHN4kfRPvAnAM9xWcDAsIiRIuFIEGXv6o+6bz1+zI8CP7swDH/or6vvma+vP38PJr95QAQgIoBKsNOA0k/vz2cv5F/4f3mvwRBnH/Y/ZN+wf8G+5o6M7zG/gN8Y/07fz+9wnu7PCc9KLsZ+eb7xfw3+sh9V4MAhC2+8z1v//I/2f0Xv7gGMscgRPUHHMrDxsMAwcK0Bl0E3ENbiDaKH0T4wUeDsUIQfAX7kUBcQLz9FT5zQPb9vvlaOyj9pPuSOtK/AAHzP4d+2oDgQHI9Sf3VwKZAvL8zgKuCooEYfsZ/Uj/f/mi+GUC1wn9BwcGQAkmCPgC0wEqBXkHAAfbCCMLdghTAif+Ov3b+1f6MvtT/WT74vfx9gH2bvTs9Az44vn2+I364v17/uL97v/qAYkAsv82AWIBcP6m/KP9/Pyt+Tf3s/di9xT1mvL68RTzM/PK80j2ZvnT+gv7Zf0HAToDcQT7BnUJfwoxC5oMtA3dDFMMhQ09DiENgAsAC/UKBwp6CQcKpgnwB0AH+gf1B5kGBQZDBiYFTwNvAs8Bu/+H/Rv9Gv1O/CP7jfrv+c74WvjI+KT5HvqX+tD7Of2a/QX9Bf2e/cL92P3x/jkAxf/D/rH+N/7C/NH7dvzS/Fj8xfz3/Qn+Zf1x/b/9h/3X/ef/wQFNAnYC9wKzAlkBdwAbAGT/2P5n/7T/CP7O+6n6aflH9wT2pvYH96z2jfeb+U762PlO+rr7T/ya/Jb+GwGEAl0D8QT1BXkFGQXpBRsHsweDCOIJsAq5CtoKHwsJC8IKAAu2CykMPwxMDA4MqQqCCNwGcQXMAzkCJgFsAAf/bf12/Dz7e/kG+Mz3Tfin+E/5Q/rl+qP6Q/pw+r766/pf+3/8pP0A/r79Sv31/Bz88Pqg+lT7Hvxl/PL8rf3F/VD9iP1M/sj+nv92AUwDtQN/A9oDrgORAsgBPQJUAmUBAwEbAeD/Uv2T+8L6dfkx+Ez4xPhE+M73h/gr+Qb5i/n5+uj7Uvyy/an/zQB+AZQCmwP5AzwE+gTTBVAGFQcBCKAIBgljCdIJBQoHCgUKYArPCv4K6gquChAK2Ah3ByYG3wSJA2YCmQG/AKn/e/5c/Sr8uvp++TP5tflQ+pL6n/p5+hD6uPnM+Sv6sfqX+5X8Ff3q/Gn81ftL+zX7h/sv/Lj8R/3T/Rr+KP4w/mX+pf5E/1IAYwEdAlsCaAJXAvsBowGrAecBAwLJAXUBqQBe/0v+pP3E/K/7N/s++8T62fkV+Vr4cPcX95T3bfjn+IX53/r9+1X8h/x//aj+tv8uARkDrgSVBW8GhAchCLMIlgmVClQL1QtpDHQMGQyOCygLvQpeCswJtwiJB3YGUQW3A5UCNQK4AdsACAB6/4v+ev33/Bv9K/3J/KH8wfxf/Fn7sPq9+pj6Ovph+uL6qPrd+Zb5sfly+QL5r/kO+9n7RPz+/NP9BP4K/rf+4P+xALwBIwP4A+gDhgO6A60DDQO+AgMDIwOtAhkCZQFIAP3+Kf7K/Uf9r/xa/C/8dftX+on5BPmI+Dz4UviR+IP4bfju+MH5WPoP+yX8Pv0B/gD/iQDxAQgDJARjBXwGOQfqB7MIOwmCCaYJ5AkMCtIJZgnVCBIIUAfGBmAGywUMBa0EaATiA0gDrAIiAqABgQG3AaAB/QCHADsAY/8p/mj9AP1p/OL78vvb+8T6d/n3+Nj4YvhT+P74lPnH+Wf6O/uY+8r7ffx2/Vn+Y/+qAKIB8QE5AqgC5gLxAiwDjQO1A6UDfAMRA2oC5AGrAYQBJgHbAKUASQDT/03/x/49/ur9uP1Q/ab8L/zJ+yT7d/pL+i/6wvlm+UX5Svk1+Xr5Gfra+pT7dPy9/cL+ev8xACEBMwLgAnwDWgRIBdcFEQZgBmIGGwYmBrIGGgfzBtwGHAdEB/0Gyga4BokGYgZVBkIGvgXjBBgEUQOHAtsBQwGSANv/K/8+/vz8+ftv+wv7zPrj+uL6cvo0+pX62fq7+gn7yfte/Mb8af3p/an9ZP0A/rb+3/4y/+f/IQD0/wgAQgAPAOD/iwB+Ab8B0gE5AlQC5AGjAR0CYAINAiECkgKAAu4BmAFOAa4ACADM/7z/Uf/w/sf+e/7p/Ur96fya/FX8J/w0/Dv8M/wC/JL7+fqG+oD6xvod+377AvyY/Av9W/3C/W/+Jf/a/7sAyAHDAogDRQTaBAMF/QQ9BbUFCAYWBkYGWAYQBpwFMAWhBPcDhQNTAxMDugJuAgMCmAEuAdQAhgBDACoAJQAkAAQA3P+n/0f/2/6F/mP+dP53/l7+Pf4O/qn9Gv2+/Hv8W/yD/OH8/vzh/MT8vvzA/Ib84Pxk/T/+Q/4D/wD/xwAtBLYCYv7F+2v+AQRdBj4ERQIiAz4E6gKCAKQA9APJBXQEmgKXAq8CGALnACMA6AC/AdcAK/86/ov+lP7U/dj8o/zX/Dn9z/xn+4L8sv0o/8X9IPro+fX7Cv4w/qr8F/yj/fT+GP+O/VL8kfyV/Qb/pP/e//7/BgBoABsB+gB1ATwB5QFBA+MDAgSPA1UDoAO6Ak0CowMtBJUCwQKoAqQESwS2AAYAbgAAA/sESwP1AG3/GgCZAewAzv0j/lUAQAASALX9+P0G/67/8/2u+1j9Lf6AAKz+gf3AAKL/1gH4/XEA9f6VAcMCdgIDAd4CswL0A+ACg//v/sQDvAKk/ZQASv+pAP8BXP43/K/8tPzDAhv+avuQ+7MCmgG9+Zr8g/yQAhMAy/z//J3+SAPM/R/7UvvG/GYAKf4N+9T5JP6h/CP+nPu6+0b9vv6T/nH/2f3b/18BHwNhAIz/8AEABM4EDAWLBMIF/wR4BGoDjwUFCFIGEQNXAu8FrAZNBWkBev8k/7ACIQRxAksAPv0T/5UBAgFX/676AfwXALQCY/+9/R37Qvur/4kA8P+o+gH8t/7j/1wC7v+Y/xz7Jf9pAqcGLgU3/JL7nQFnBTMFzf7M/w8BnwDf/zkFYgHT+336GwF0BFoAm/4y+0/5jf0EBMD+RPiq/Hj/lgBi/8z5rPzI+P37wQGsANn94vcO/pH/bfUX+M/52/h39G70pP39/sD7j/aN/YoAGPyX+hr7AwGPB5UIzgngCf8J/wZhBu8HmAqQDZYO5g4pDqUMxgrSB0cDkAGDBP0GegUYAtkAV//a+6X4Ifgs+WL6vPyl/I/7XPqG+rv6e/ib97f63/7J/i3+nv9SALL/Mf5E/hv/jQAiA8UHaQqVCM8G8wK4AkIDdASEBvQGOwceBkAFKQPk/7/9zPuO/Uz+EgEyAfz+B/rj9Mz14vfo+b/4HvmF+qn6sPgj9672r/dA9gP3HfeQ+aD6hvam8/Tu4u/v7wrrHfAu/hcP4hDPAc71PfRr+4YAnwc2E8YcbB5hGVkWXhN9D5QJNQdlDGIW2SAwIOgTewbS//j9f/of92L4Mf6lAAX/wfwf+UfzAetD5xbqIvJw/H8BugBK/Mb6x/vl+fj27fdD/nMEDQn5DGoOVAsABGL+xfzX/9IFaQyBERgUdxJCCx0CKvtC+bj71QC7BtIJzQjJA1372PTf8vDyePWa+JX9RAF+/lX6TfQH8MjwNPI/94/6V/3U/Nz5L/XM8QXyYvCq72nuie3o62rqWuSU6Hn++ROOFvX+3fGN98j+wgGbCXUepChhJO4cgx8qIgsbvREyB2gH9xHqIAAkPRUcCAwD4/yq78PqFvEb9crwZe0+9dX7yfgQ8NnmRuK05XDy6Pwk/z0BDQfhCN4Cwf+1A/gERgBqANcJVROpFm4VMQ/KBZn/3gGnAiUFIgrODaINNAXQAjP/I/r09QD17vnf/k0EJgRAAFT7Cfj19LjzX/dq+jX9MP3q/GX8QvuI+ZP1pfJJ82L1a/U29DzzJvDp7JHpnOdL5sPjQ+AX2T/kvgXSHo0c1gTS/JkCef+hAI4SuSqBL2Qm8SVdL58yTSlLGVsEbfuCBWgUlxZlDgANFAnW9vvlPeZj6/DjpNgr257pdfYr/7YAlveW7b3sqPH687D4nwYQEckOOg1HFnwdtRU3CLABjv95ABUIbBDGD3ULbAkxB5cCQv2d/CX2F/Ck8TL4XgAIA/gDxQDu+of4yvj7+XP7gf12/9gBuwPoBPkDxQDm+1T3avbe92j5uvnQ+gT5//O78ALvg+zb6ELm6+MI4iTgruAK3Vjbne8TEIIeGhUfB7sKcgykAxoLviBwMC4t8ycxL9c0fTNhK58ZhwIU+wgD4QULAdEBVgmTAKvs2eba6+PnRdr20zDYNuC97JH86wIU/x//XwId/736XAJ7DtwNjgg5EEIdviDuHO4Y4hB+BPr+DgA1/eD7DwLrBGEAcPyC/1H+3fQO7jjsNu7d8VT5igA3BE0HZQZLAo//BABuAHH/O/4R/vMAJwUiBgoDGABG/V73ZvE58T3y/fC27svtPe2P633rOOn/5bjhiN4+3HXWIdpi8qIUGSOsHLwUORlyGLcMpBKhIlYpdiN5Ii0sPTIENqcxQh2iArH5jvuD80zr9/Bs+Q7ytucV7T71zu8T5K3cm9hf2r7mQPfb/sECMw3OFG8RVQ9RF6AasQ6bBP0IRhCfEnwWHhmxEoIJrwaCAz369fSc9J7wdOvr7in3X/zF/O76aPlN9xj4Gfo8+zH+4gAxAi8E8QdBCooKOgiaAXz7jvon/JX6X/gZ+Tj5GPZh9Nr06vJN72bqDueQ5WTljucg5/7kCuTk4XbeDd+Q+H8YwCLlHFwV+h73HAcUCR30KEUqcR9BHy0lISkFL/grzRds/hT7g/zd7/vl4upN72zktN7q6frzFvFJ7HHoxeEs42Lwdvxt/UwBKA8+FhsTKRfTIxokTBZzDUkNYQuLCXIMbQpnAfr/jAR1AJT5Qfnw94TvyOea6cXvWPR++Db7//y6AAwF5wTqA9YEqAO0AZ4BDgNyBQQJ+QgkAwf/rf4M/YL3cfOj8tbwR+4X7grvm+/c8Pjv2O1061DqWepv52nlquSX4/HhSt4m88UXkSdjJdwctCZkJjUWuBtkJmsluhlBGIEd5R95KQItsBzLAQ/8I/427kjgzOO86LneO9mQ5THz4fQo9ZD1qO3m6rb1wwD+/rb+2wsnFbUScxaYJa8pqR1SFCARYgpOBMUEYgB69cf0HPsF+lb2PvnX+3P1/O377N/vmfMM9xb5HPuZAR0IfgmaCu0LqAnCBfgCfAA1AJMDlQTV/0X8xf3L/cT4s/TR8kPwnuz46qrre+3t78jwHfA7793vGfDJ74fsRuk36CTnluLk3Zr6MR2hJeMhXh4eLvMnTBrbIqwnKCGdFHoUhxQZGJckmSbAEwn+CQJbAtTtt+DT5Vflo9ez1qLlQPF08uv3mPrR8l31hgSECkAB0wFiD0IS6AzKFFAk0yNqGQkWeRMjC9MGzgVf+9LvHfDH9LLyPvF19yT6Kfdy9P70zvd2+ET4qPdu+WT/iwRzB7QKwwvgCb0IHQbOAUAA0QCi/b73x/aW+ZL5pvbD9UX1+PEP77Ht7eyW7YXum+8d8HvwYvIC8/vwFe3e6oTpu+cN31LoTA/qICghqRoCJtkvjh0HHxkqHyjKGCMSFBSQEFQZTiOiGwQDNf4FCD/6S+aS5l/sJt4q07Pdj+uO7jjymPsG+IT0BgIkD3UJ0gKMDeMTfAvDC5QbDyKrGDMUchW+DtEHLwp2BWf2r++X89Xzie8P85P4A/dQ8+3zmPZD+Bv6Bfq9+Nn6WAC4BAYIEwpzCd4Ibge6A3EAfgAx/zP5SPQS9ST3l/Ux9cr1+vPZ8ezwo/AD8HbwifE+8UrwXfHP8v/x6fDy7PbsgOqS5pLfBfdPHC0hWh7rGSYtaClRF2okhy0sJFgSLBKFEvYQuRy/IWARU/pUAucGE/LG5enuOu4f2I7VFeZd7y3uv/Wg/Sb1X/d7CukR6wbmBi4UGRHCBSMOSR/UHOEReRMRFTgNMgpcCs0AofT+8gz0O+9L7c7zPfaK8Azw2PQJ+Aj5Pfm4+WP77f1nAGoD8wayCKUH7QVnBEACoADT/9/7WfXK86b1wvQj8x/18fby89PwQPHd8ZXwjPAj8RXwGO/x7wHy0vFj7yPt6uk/5NXjJAivIuUjyhtdHYwx4B8eGcMrcDDtG+4K6RGqEJUR1BzSHiQGO/e7B28CwOs+6rr39ujS0sDdb+4E7yHvWf9Y/j7xE/51ECAMMAMvD2kVyAfsBMEU/RqQFJcWlxZQDbsIrQtPBmv3IfN79KDup+lr7nrz7fHS8a3zufRY9wb89/wP+9j8nAAaAigD5gaGCMIGKwXYAkH/kP3q/af6hPSy8v/ztPOK8jD0fPW480LxIfG58D3vX/EO8i7x7e+18YHz3PCa7cTrV+kj7ZIL2iHMJB0fLx+QLXofYhqKKFcqGRwfC6UOjg/bEDgY0BntCe37mQSPAAXyNu4n9MXsNNvT3vjq3u598Bn6N/xv9bD8XArJDEgHhgwfEvkKMwnaE5YcDRlmFtkWLQ8AB8EGXAV7+VHvk+5T7cHoNeog8lnz3PD78sz1efYS+Dr9Ov6J+jz8fwENA7cDHwfICGMF1gFjAcb/bfxD+wj5J/Qu8ffyk/WC9G/zCfOa8NDtR+7W8P/xcPKi8y7z+vF58tfzH/M777LrcvDUB/YfxydlIxchKyq7JYEaLh4JJKccfQysB7MLDg8NEuYVVhD/Af7/pgHW+tDxX+9i8Ffp7uKB57vwTvUV+df8HPy1/NgB/QhACxkK1gzpD8gP5Q9IEwkWShXGEd4LIQXu/+79mPoI9L/uZe0A7gXuXPDB80X1t/b49nX2Zvef+kj+6v6A/Xj+aAGEA5YF0AZPBZUC1f8o/Q77SPp5+qf4mPRP8qDzC/V59Fbzr/Hf72vuRO/I8p/0DPYR9j71Bva29dn1bPbY9Evz//tnE6ImDCdSGBYSMBz4HQQZtRleGnQTWgmXBwMPyhRkFOYV6BD0AgH8Uv0G/xP7g/PO7+jvdO7a8Cj4Mvxs/hT9RvpF+xL+CAM3CUYM9QrnCDwIWwtrD9gO7AzUCfgDAf47+5n7+fqU9xz0ivIL8QDxYfQZ+Hz5AviY9i33dfi4+67/UgELAET+3/6oAioFXwTkAjv/4/s4+av4f/pn+rT5Ifnt9RX0ofZs90X1EvUa9Nvzw/U69cz10/qS+3r5Qvqp+Hn46/kO92L3kvaI8tj6Ug01HTcmnSIUGIASTg9xD5kUuBQyEF8NawoODEcSGhXmFYoThQs5Aqj6LPYZ98n4DPjf9jD0R/Nh90X9VgFKAoYAa/4u/qz+LgERBRUHFQh/CIEIVwhrB58FEgPx/oT5mvRq82T1IPZs+Jb5PPjN+Lv4Ovom/Tv+jv2z9w7yZ/iT/Pn+OwULAvcDwgWZ+0L7wwLG/zz4KfIF96T9a/pWAEwArvrF+LvrtvUY/3rzLwEp/xjzUgCM/Gb73QaM/Hf6Ff5t83D2Lfzo9rv6nfk29Hr/PQp9EeIZPBQHDa8NpQr3DDcUihNIEdMPuA3nD6gSCRLHErkRQwrCA6r/GPvz+mX9Q/08/Y765fUj9wP8NwBpAm4AZvuj96z3fvsjAjkGdARnAVD/J/48/58Aev8F/TX6cfjN+Nr6xvpb+8D/5ACG+l/zgvL4+qUEAvuC+xwDgvHH9zELqf+c+kgHYP/v8/H4TQFRAQ35Efqo/az9O/vk+P7+mP/l+M/9fgJz+Rf7OAKc/KoEgQO18aL/4AFb+L8GCQCv8+X4EPc391H+WPfA8l368PhsAmgUSxI2D0IO0gWOBqwO5hBAFJoVlw9fDaANqw0wElwV0BJtDfsE+P13/bX++/+PAV3+ivio97T5uPwFAYYB5fxI+I30i/TS9rr7lgD6/qwAa/0H/I4Dtf7q/RQCXfsT+nD6E/u//xAEwwLV+JnztAF7A1jx+vuJBc/51/1X+eTz7gj/AkLtfQATCtPzA/qpAHPxbgMfCWXvKgALBZ71YAMfBsP7RABRBxL+2PS0AmwCYf7fClb+ne/IAWT8Q/gIAqj2APtXAuzyzvPL/qb4R/XA+oD21fdIAYsHXxA2ExUOLgmKB08J3wwWEiYUNxAzDQcNUw6yEVUTvw8rCgUGdgEE/l7+uP2j/Kn+a/3C+Z/54fnQ+vv9jP1r+3n2dPCm8/j9XAM1BLgESACi/dz98v/xA1EBPPvl/YsBTP5zA9j8nf7mAnr7uf4/99vvJQAeBY7uxv8YBzPsyQP0/2Xtmg6J+YHwTRCg+D/rZhJbBp/tOBEuAnTuFhY6+GLuMR3O9UPurxSA9uL1fxHW8tnxxxJX9b3sUAhh9xz0PgMZ/N/2L/369xz4/QQBAAn3K/3i+kf1bQHaB9AECg5vEacKEgsjC6cIKw7qEKgLxgrkCWsHmgo4DyAOmAoaBt7/7v2pAOwAXv76+176fPnG/I8BFAGi/T/3WfXV/cb/gP7XAJf4oP+0BMr7hwftAQn33QlEBI/3QAD//Tr9/ANV/0D7QP8n+jD0qwV//TX1WQvo8RXwDw4k+uP6mgpu71D76wlc8vEEgAsI8r0KqQRu4mUMxgj+72QUCvw96YwLlPkQ9U8VqfUm8BsTs+hA78MZc/Ed9QAWPvON7a8JLva+9xoV7/aH72wMRfla9icKF/+g/tIA4/BP93IFpP8DCHcSXAb3Az4JZwTgBScMeAv6CfYGIAOoBu8LaA3wDVwKHwTbAVcBEgIpBGkBnv0U/Uf7BP71BHEELfxw9NryEf51AVv96P7m/qf5yP5cB877Fvs9CicDSvhM/74G7/sL/ZsLIgP5+tb70fqg/rcHp/m39jYM3fFQ7gwV+vsn7eALJvVC8zUSAetF8+8krO0V5ncgyO5R69wj+PFJ7LcXGO/A9jodKuw57+MaDPem8dsIjPyr++YJzPdv9WoOY/wI9FIEswGw/C74QPtLAuT+Z/iS+/39FvlH++P7Cfdc97b6QP8yAwcGvgzsDu4GngXiCbUH3giGDtALrwhpCmIKiAyOD3wL4wjzBiQAMv9YAOz7C/xq/qj7wvwzAeD/Qv1B/Ib2vfVA+d0A0gHI+jH+TgKQCF4IQfx5/pkFIgEO/n0EKgbv+k4BzgH//GEJA/h79tv/PgTM/8vp1PwqBgj2df+Z/S726QVD9ZvzjhLY9Gf0lA5+7+31DRmB/W3wcwkjA4b6VwJy+XP98wo1/u/66f/I9YX/khBD+OHyvQSi8775jgZ59lj95gCb82b7HwAo94X9B/zZ9ZX9/vsf9fT5SfuN91v7EwRqC7QPeQ5RCloINwjVCI0Mwg5tDV0LsArxDOcPSxIoElMMKQRjAdEAU/7X/Zr9g/vl+m78u/w9/lr/6vxA+6P5tvcE9hT31ftwAdAEwwanBuwAIQBABwwFmf3DAPYAB/wA/gAEiQllB7MAmfsm/bf0ie/hCif8SOsrDCMCrepF+ewId/yp+4oDIe+E94AL3vg/ADsJN/sC+cECm/41/kAN1vYk7sIM0v489ZkEBf7b+Hz6/v5O/Oj4hANN9CHzWgig+OnzjgNA9Z/3TQgl8Xbu9glH96Pp1v4r9JbtfwKRBU4NMByjDocFOA/KCAsJFBjQEHgIURCxDlkPsxsNGWgQExA2B8P+2AFQ//b4L/p/+Mv0HfjW+jH6AfyE+s/09fLj8sf0MfqZ/1UAuP8oBLYIxwkKDCIMugebA0ACuQIXBBMFMwR+AZf/8v/5AEAAVPvR+lP8avfQ89Xz1vcv/wD7Hvr6AjX56u3WAeQHN+/t+ZH9SvRrBmIHvwfNAOfujQOBDXrxn/EAC+v6wfX0Auv/WQMD9Ejrtgi4ALbqqv7I9fvukgec92XtHwA08rbuKP4n73zqb/jF81sCbBuLF7IWwxZzCcAMYBVvElkWWhfzDoASIBrPGI8ajxqPERoJzgEL+1r6Tvn99c71FvOD8ID08fd4+LH3y/K97vbvG/K+9jn9pP8eAfIEFglaDlQSwhE8EVsPOAprCOcI0Af2BroEtAGmAJ/9ffq9+n745PM58Yzw2PJs9n34KfoL+wr7MP3K/B3ztPVKAxT9X/dr/bQC7wL8AJX/3QNFBMX4Xvj7+qD17ACtA/Xyzfgq+Z3x+f5j9Ortw/6V8J7su/wH9Zr0M/zM7hTsoPNI62jsWP1RDFUh8ydaF+ERFRUIFYYazR7fFx8P/w0mFM0eXyLPHD8X5Q2pAaL8A/q19FXwd+3x65jrOu4b9Z76sPkz9R/x9O6g8DL2B/zo/gEAxwJuCXYR4hZyGMIV9A+wDEkN0w1LDvUMXggWAwQAt/4o/hX9qffV8e7uue2d7zHz8/R19uj36Pdq+VH8mf17/UT8SfuC/HL9Jv/UAmADigBe/1D/XP0c/Af9kvoa9qf0z/QP9nT3Wvb+9J/xPOxc7SzxgO9Y71jvgO3/7snvTO7g7MnxFQbqIC4t4CYnHHYYphuYHo4hVyOzG8IR5hJNG8Yfwx3HGXMS0APV9T3yofKW7dXn9uUl5GrjseqG9mH7k/cJ89ryKPXn+Bj/SwQ6BAYEggmDERQYjRzvHesZYhFaCXcFYwQJA8gAi/5v/Wv+WQD6ADD+G/eM8ADu2O3277fya/Ue+Q/8bP43AosFUQVyA+0AYf0F+3P7HP4p/yH9X/x4/XL90vxn/Kj5rPRF8C7vOfGa8nzztPUM9r/ztfIm87LyQPFJ78vtSezE60Xs7+oT68X3cRQoLxEyCSTUHGUgWiJrITQjRiAIFZoO+hRNHvoeDxtIFx0LOvgy753xh+/b5EjdbN3H33XkDPB0+8f6f/UQ97v7Ov6QAAwFUwgKBz8H2g/zGdUdPx4rHKYU0wuTB5UFzwHt/HX5Efko+gH6BfoM+QL1w/Es8eHwpPHk85v1yfhK/Y8AtgQuCdsJzgcpBTECtP93/Vz8mfwW+8X4lPkg+/f5XviT96z0jPBN79jwcfFM8NjwC/OQ8wLzMPTR9bD09PFH8YLxie+Q7Jfqke38/fMZSi6QLfoiyCEfKJEnuCLRIeUcPxE+C8oPUBbMFqUT5A6xAofzWfBu9OrtDuDJ2UfcKuHs53Dyxvq3+537DAF3BzUJQwrDDRIN6wfPCEMRQRgRGQkWHxKODasIqwXFAi/8B/WR8ujxjvF683j1JfbR9QD1Z/Y1+hn8IPze+w78Kf+6A0gHTgqwCqAHYQV5BKMBWP5R/Gn5TPVM8kvzBPYc9jr1ePWc9DrzAfRM9Zr0u/L+8lT16PZH9+L3hPf89PDyefK68eTv6exh6h/uDv8eGZQpHyjVIeUjKSm1J9cirCAZHNYQpgnUDMYRgBKiD8gIQv0X9LD0s/YX7sjgoNxR4NLkAOop8q35Y/yW/jwFiwwhEHwS4hIaDhwJRwsNEkUU+w9LC6EJTAiMBbIDSAGZ+7D0pu8t7s7v1vLU9OH09/Q8+Az+fwLLA7wCkQHxAXQDJQXrBjgIeAcPBQoDjgKjAf3+M/s59u3xnvDH8aHyIPLv8abz8vVm9yv59fpA+9z5qfge+ff5K/qd+fH3LvYv9W3zI/Fo73vtR+oP6Ensd/pNEOUfDyJtH3Eipil7KgElCSGqHvcVTAx5DDYRsBFJC1MDjPyt95L3LvfG7s/i69/V44nmnegO7hH2Xvos/fwDUg0gExgUiRJ6DzcO1Q8EEqQPVglcBpMGSgVLAtL/d/6A+8n2C/OI8r/zFfRd85XyYPV8+w8BVwPJAycFgAaAB0wH0QbTBssFkgMGAegASQEsALj8U/jO9WH0mfNP8vDwjPD08TT06fWK+K37n/2X/Uf9sP3y/Rr9pPoQ+Of1ofT08xPyc+/O7OLq+ecn5kzrnfe2C4MbJh9BHxok1izWLFsmXyL8IB4ZSQ1PDF0PcQ/6B2n/afwR+oz50/V/7sbljuMw5kLmGOiv7Or0BPmK+9UDYQ6dFHAT8hGgETkSexH3DpkLpwZ6BF0DWQHH/nz92fvt9zD2qvZ09xX2H/Wp9Q/2bvlr/j0CugNABekG+gdmCTAJLghoBeoC1gGGALb/hf4r/JD54/iB95v1BfXK857yo/It9Bz2IPjP+Y/7jf2u/uf/EwB+/iD8yvnW96T1mfN18TfvgO0c68Xo2udJ5U7l3Oz1+wcRwRt2HyMkCizuMRErjyX6IvsfmBNzCcYM6ws/COv+CP0FAFb+WP2l9wz0RfCI8GnwF+6g8D/0A/kD+b39PQf0CygLsghWC8cLsQfJAT3+d/wU+eT3a/fk9pb3yflh++T7vf9SBoMIIQeaCKMMNA7QC80Kfgu7Cv0HSAVzA50BCACw/O35mvm4+Yv4pvYu9uz2pfcn9pb0tfSF9av18fQ39iv5AvtD+9r8xv+RAZ4BswCn/739+/rv9jzzafDL7c3rGek/57vnN+gu6MvmfOoH9wsIBBkmHzYlHS34Mj8zySngJociFhneC1IEoAayAe/6EPWh98X7S/o1+nT4qPnU+Wf6ufqe+oz9Gf+KAAcBKwUXCmMJigbtBQkHDANO/Hn3yfTH8fztr+xY7b/uKPFd9Rb63/5HBNwI1QvoEBYW9RcQGFoXhhe7E2oOlgm/BFQAGvsu+LL15vQw9NfzrfUp9xb5L/lj+U75vfiG+ID32fad9o33YPhA+Qr7Ff2j/vD+vv4t/sb87/l+9m3zU/Bu7f3qr+g256DnHOhc6WHqeev57kz3OgTBFGYh+yYCLRoySjX+MFUo3yIUGwQQqgSfAFT9Kfdc8prwUvVr9w74ofmo+xv+R/92AfYB0gICBJsEDAWJBboHCQg6BoEE3gPFAZH8t/eq9NLx7+106xzr4+vL7SjxXPY0/L8BPwdjDB4QrhNtGGwb7xl5F5gX2BVpDxUIPgJ7/lj5sfNf8bHx9fIO9Jf1HPjM+6v9H/1i/SX+qf0C+0P4Lvd093D3JPfk92n5a/pK+nL6oPq9+a725PO48Svwdu676yPqK+nL6YXqGOzh7Wjvb/HZ+Z8HhRbeIdYlJi0aMp8y8i0vJlkhOxfCDGQCO/4S+47zl/AZ8BD1Xvcf+WT8o/44AtkCuARJBRUGEAZkBEsE3gPjBIEDDwKcAe8A3f6X+hz4nvWy8g3v4Ow57YTtCu8/8h/3Z/zoAXMHjwxFEWgUsBWFFrUZ5RiDFBgQrgynCgQEif6B+hD4+/Xo8pLz2vTw9+74NfqW/QEAMgHb/gD+kf2R/In6DPhH9672mPbi9YD26vcG+HP3Cffb9jL2TfQO8unwkO/I7o3tQu257Ufuxe9o7wnxQ/Kn+jsIJxXKH4IieyrIL60v2ykqIpkfQRVrCrMAx/2t+gryCfBH8U/3Ivnz+hP/EALYBSIGBwi3B28HcgaFA/EBvwBZAQn/hP17/mb/CP5O+jP5DviH9bXxt+8V8MPvP/CY8jH36PsXAQQHDAy3EDMUTBanFTIXcRt+F98QewwiCiMFkPy190P1mPQg8mLy3PXa+A/8GPzc/QwB8wKBAar+e/2O+2754PX28xH0OfTO887zuvVW98n3bPfU9/33vPaa9PXyUfJE8cTuS+2R7eHtCu/T7pLv7/Fj+ysKcxZzHe8gYCq2L9Ysfib9IW0fBxSeCPYB1/9l+u/xGPGH8+T3Pflm+yv/7QFIBQ4G/AZiBlgG6wQXAYv/eP/M/y/9cvzb/v3/Ef4U+0X7SPrs9rbzWvLk8ePwhfFO88D2GPtMAL0FVQoJD4wUjBhIGk0buhnZFkURcQuWBYf/p/oy9jD0ffJb80D1P/fY+cH77/6oAHQBzgD6/47+u/ue+Xj3BvZn9O/zJfS+9Kn1efaO99H3SPig+GD41PZd9XXzBfJy8IXuQu1/7EbtOe1v7gnuTPUQBSQTmRvPHJEnwTHSMBYoNCNrJewaqgz4AgACHv678rHvZvFE9t/29vhZ/V4AzgR7BYEGuAXrBq8GwQFW/lb+0QBK/az6W/13AEf/hftn/OX8YPow9pr0QfQy8uDxxPIA9Q/4Of0lAlcG7Q1BFTUZPhnsGr0cxhjPESoLkgZsAMP5+vSC8mXyGfId86L1JfkY/PT9Sv/7/48Ah/+A/QX7gvlB+P/1MvQe9GL1evVM9Uj2zvd5+BD45vdF+Hf3ZPV+8+bxEPDv7W3squuy67vrfeu17eb7Rw/cGL4ZZSBPMik3ais+JHApXCf0EnsFFQV7A+b2h+z+7wj0ufTa9F35+/1sAYwFlAU9BdAGiwmUBf/93f3yAZIAhfk1+lAAYwCT+w77u/7X/A74Lvb/9Tn0gvJU82HzwPTd+VEB+wVTCiATYRn1GkMaphvZGZsS0Av7BdIANfow9jD0ofIm87n0Q/ei+NP6DP3q/T39mPwH/eT7hPlY90P3EPeO9ez04vW89u31PfaY9174Svg6+JH4Avh+9sf0D/NT8C3uOe2H7O/qZell6RTxqgXWE3sVLhdVKIQ5RDDCIzooZzBcILwJzwiaCtH/Su6a7Y30IfOf8dfzHvpU/ZsCqgXzA88FcArqCkEBAv1FAkoD1vp+9hz+EgFa+2j4sv1w/9v5wPew+Fb3ufSp9Xf2o/Zd++cB/AMvBssOGhUHFGESsBWjFY0O0QiIBsQDJ/57+mb53/gc+GL3lPe691v4nPjJ+En4xfde+JD4dfeA9v33FfkB+G/3FvkW+pD4o/e4+Jn5yvgF+Av4Lfgj9+L1yfR98tPwIPBZ8HruC+yS6j75kQ6bElUPJBbzLjUy0SF/H4UrACteEcwJ3A0uCWT7KPEH9Y30LfdM9471mPgtAd0HPgBSAFoKvw1uA7j8VQP2BL/9sffv+y7/9PtD+hz7g/zK/ML9CPws+nb9HAC7/AT6q/+YBbQCTv9mBIcJJAfsAxEGHAkiCLkFzQRbBWcFIgP5/yX+T/1x+/331PTF89Dz9fKA8bHxWPSY9pT2/Pbq+aH8T/zw+5D9Vv7S/A/7+foC+yD6Hvl1+E33rPaC9pP11/PU8kby2PB37ZLxYwTRDw4Mtwo+HaAsCSEDGDsiGitZGi4LMhBHD+cDx/nC+Sz5cvld/aP5fvbV/VkHNwHP+pUF/gxnA6T7xwL+BUb+IvqS/W3/C/01/f78pfss/Z/+Wfu2+AX9df96+0X5Zv0VAX//qP2w/+4C8QIrAWIBcQRTBr8EkwMUBWoGaASKAR8A1f6d/OX5vPYr9NDzcfOq8WfwdvIh9ff04fRl93/6Zfq6+T77PP0n/Zz7sft2/Mr7n/kr+Af3v/X982fyw/Hc+NMG1Qt9CBoLKhufIO4VZxNPHHMdvA7mCYQO5gumBNQAJwLxAXIFmQYuAfkAYwi4CWMAh/8IB84Ex/r2+Tb/LP15+BX5zPtx/M/9jv4h/Yz92QARANv7Vfx6//j9mvlI+gX9o/y0+qn60vxi/sL+of4uACgDGgX2BNYEhAaxB8oFwwKlAYcA8P2f+hP4zfb59fz0v/Ox89T0uvV29a/1r/cm+Z34Wfgf+lH72Ppv+i37rfsJ+5H6Z/oJ+s75yfmc+sn7p/wSAFIEpgj7CuwMKA+tD9MRpBKnEQ4PtQ5MD5sLaAnkCdsJsgaoBS0IJQg2Bj0FjwVqBHIDNgN4AYH/O/8u/1D9n/wB/ur92vtN+6r8lfw8+1D7q/wW/Zj8pfwe/e78j/xn/OP7jPut+3X7uvrL+vb70vxZ/a3+1QBJApkCPwMqBAcEMQNsAm0BXwBB/4D9ffs5+pX5TfjN9l/20vaN9hr2Nfel+CX5tflV+4v80/wb/Yj9Fv1s/GT8SPyu++v6wvpw+rP5AvlF/E0CbQWCBbsHJQ7VD68NRA65ETwReQxPDG0NkgugCIcHXAfiBnQItAgTB1kGewf2Bl4EHQSDBakE0wE8AU0Bi//J/Iz7ffu2+uj5wfk1+kL6c/oA+2f7zfud/B/9ZPwL/E/8+fsi+j35IPpQ+of5rflD+zv8iPye/UD/SAA2AWoC9wLgAv8CJAMEAmEAxP9A/5b91ftU++f6Lfo7+RH5vfk4+h/6e/r7+hP7S/te+5z7SvxR/ET8/vyw/az9Sf1i/bX9nv2k/fH/VwM0BeEFrQefCVUK8QmsCgEMlAtlCgcKxQlSCZMI/QfFB/oHHQjeB7sHYQeLB0sHPgbcBHMEeQMuAsUAQAAc/2j9Lfwu+5z6bvl/+JT4GPl8+ZH55vmJ+vX6Y/vX+0r8U/xF/H38efzy+477wfvo+y38zvyt/f39JP6z/gn/mP8zAIYAXQCy/0QAWwG4/7L+NgCu/w7+1/3q/Sn+fP0K/F39Ov3r+yb8Svxx/RL9yv1V/u39//3I/TH/Zv8l/iL/EgGqAOj+O/8uAbgBWwErA3EFOQaaBYAG+QccCOcHYQd7B/wGNgfvBvUF1wWaBtgG3AXLBXEGHgZwBHcDxwOgA/oBxQALAQYB6P9y/jL+Gv78/EX8Zfz2+2/7X/t9+//7evtM+yv8qfsW+8T7Efx//MT7xvq7+5P8d/yl++P71P3Q/o39Sv0+/33/2P4D/63/eP8o/3H/TP9D/hj+GwAi//P9Af+q/+v/1P5O/3//dAA6AVf/ef4p/zcBXgDX/Q7+2gD/AKT9W/0VAZ0Bff+t/uIAcQL6AEr/tQCfAsUBfQC4AREDXQOdAjQC9gImBEgETAO7A5sE6ARqBJsDXwQBBaMDIgIRA1wD5wFKASUBAgEPAG//wACJAOT/h/+e/y//Uv/b/vH+5P6//Qb+cP5J/Tz8Kvx7/u39XfrN+/D9/v+v+xX5LP3F/0H82vpN/pMAzP/x/MP+RwK1AHz+x/5EAbsAEQD+/hb+WgDkABD/k/62AGgBOQBI/+P/mQI0Alf/7QAMA58CeP+I/aUBiwJ0AJf9Mv/cAr8Amf3E/jkC9wFS/8D+TwAnAl4Abv5WAO0B5QGPALMAogFeASUBUwFXAZwByAFTAV8AWAB0AXgBlf8H/wcBbAGz//n+WQCMAaD/t/9xAbgBxwDA/5AATAF+ASkAEQA4AaYAgf9D/w0ACv++/o79ef9y/qz8xf1H/mv9Hv6z/sv95/2e/2b+Hv7i/VkAj/8x/kYADgHL/iD+IAGnAWb9Zv0gAdcB7/6E+q8AUgSx/j/6BwG0BfkBqvxR/ycHaQWr+zL/bQZFBPf9lfy4AssDwP5T/Lv/TQFLAHf9rvzGAS4CyP4w/p3/hAK8/zP9OQB9AaAB8P83/8gApwKy/yf+0f8UAtAAM/0G/2oCXQC0/Ob+wQG1AFH/oP8pA84ASAACAQgC3AI+AOQCUgH0/4IB/QA+ABz/TABB/zv+eP/3/g7+FP05AJQA1/xm/dz/LwLO/cr7TgJ9A2v+IfwPAYgC7P7y/W38AwECArn9h/1d/hkCSQFk/Kz9qwKHAuj8h/xXAqwCnP86/7UAqgMrASX+qgNQAzwBav5sAN4D+wHY/CT+9wG7Ad/8Avy8AmUDiv2Z+8QAwgMx/hT9KwG/AYYAfvznAJ4BQ/7r/63/BAB0/kT+1wDy/xP/1P6dACgD1v6F/UgAZQP6/4r+b/+gAysC0v8XAUAAMQREAaL9WgBNAgMB7vwc/uYCrwJB/Nj9HwIkAeP7sPw5At4CrvtP/VEBcAFS/Qj8FgILAZz8XP0VAjIB5vvs/noCBQC+/Rj/bAKI/239Wf9gAUsAVQDbALX+QQKiAlH++v+UAocCSv9b/0sDmwK6/W39JwPFAlr/uf14AjECD/+T/vH+xQLJAA//L//Q/ggCNwGA/Tr9zgHUAqz8Jf5IAVQC7/77/a3/BQM3AeP88ACHAPoBQ/6y/f8BvQEWAMX8yADNAwkATP5i/6sEiAIc+0wAdgTwAE/8jwBYAur+9f5k/5MAyf6k/s//IAD6AA39rf//AG4ABADE+ykAXwIpALL7Lv6dAZf/JP7L/Kn/FAS0/ar8AADXAWgAcPye/0QDKQFu/Cv/4QO0AR39jP+cAX8Cdf+0/bUARwRxAPH8hv7/AuoD3v3S/AAEKwM+//D6Q/98BnT/rfqu/pMDtwFc/I38OwMaApP8Mf4CANgB+QG+/Gz+sAMDAiP+9/zQAzgFpvzJ+0QEQAVo+3D+6wKrAi7+bP8LAt4BAADv/qT+GP+3ARQBsv0F/kQB8QIc/+r5NAGjAzr/rvsl/5cDjQI8/E/8cAEeA7n+4/zL/fYABQEg/o/7uwErAqL9sfpVAPECMAAA/Xz9YQXjAZz8tf6gAaUFq/3k/EgDtAEQ/zL+AwLgAWL+igE9AVD/DQDbAm8CR/33/QYEYQJo/HH/AQA4AvUAjvu6/QUDzATs+/769gLlBR/9xviVAsoFqv97+a7/4AQOADT9rv/3AnUCZ/5y/IsEHAOB/nb98AEsBJr+9fzf/z4Evv5L+8b/PwXU/uH4KgRnAdj+MPxX/QYJsgBv97P/fAZ+AuX4dPwgBUMGG/p++a0GWwLD+Yj8ZAKyAdH/bvxc/qoEyQE++zT+HwNQBAf8lfpTBqwFKvuP+q4FnAX6+2b6lgPwBvL8ePd/BpsE6Pw1/tMBPAFx/5oCkf6Y/mABqf8sBAn+wfxNAuMEMP1C+WwFMgNN+8b82AKqAfT9GP6AAL0DPv4z+6MFAAII+fcBJwLr/gsAdP/PA7T/K/yeAwkDE/tcAQgDswA0/j7+QQESA6z6Fv6KAz8A8vsq/SUAkQPt+7/+oP5uBc0BJPj+AZECNAKD/Bj8twNEBYH9m/cuATEI8fyw+f3/cAXD/u38Rf89AuoBK/6F/pkBqQHP/yb/jP/0AjMBgPsqAF0GCwEG+an/ZwSaA1j87/r6BCIDBf7w+73/cgZ6AQT6Jf66BxwByvicACMGvwCN+rwB9gTi/Rj7WwFwBOj+uvo2AfUFRPwr/D8DjgR/+jr/mgVVAWr7uf4JBlsC+fcuAcsDygQT+Jj+QAgh//T5HP/zBwX9L/y9/eAEdwDq+csBz/+T/8j/7v+D+wsCUgRW++T8qv4tByT/CfsD/fcFlQYw9CP+WgcIAlb4Of3aB20Bv/gl/38FCwE5+REA7gZQ/Tv8SwP7Av78h/zfBAkC5/pl/ksH9QCu+FgAUQSQAQD7R/2+Bc0A7PvW/4AAOALf/Jz8VQboAKn7qf9VA3gBtv7r+/IEKAQM9yYBdQXMAFv9s/vwBqQAbfmg/sEIWv4X+pgBhQPQAPz9vv4qAUUCUgDQ+1YBpQRy/sT+cv6xA3sCpftYABICXQAHASL9E/6IAyIDW/nU/tIERQJZ++v7RQRBA/D7+PuhBVAA1ADU/lL/vf8vBDkAzvlmAGEHfQCS9x//UwhCAAP3A/8yBysB3fadAZAEL/+m/Oz+NAMzAW394P24AiUCMvzu/8j/CgPY/RL+9f+RArMAZPmvAYcEU/23+ngDDAVl+oP8egQ9AXL+xf2wAf0Cw/4t/rABp//sAO4BPv/M++QBaQaY+6X6cAN5BWn9PfoqAdAGGQG/9X4AHAkKAeP3dv2jChP/sPpAAc8BZgBf/4L/BgCgATL/dQC2ANr+8P7LAe4CvflH/38F1P22/9L81wL+BMX7pfr6ByoC5vlk/7wFfQEM+hQCkATp/Ej+K/9eAyAA7Pq7AR8Duv3A/h4CCP4CALT/gADX/9IAsP8e/lsC9/4k/iQEkv2D/egBnAC5/s3+AQFn/y8BDgAD/MYB1wQg/Ev67QUBAzX6aP1aCPMAGPhA/ysIbADD9SADbAjH+1b5RQRDBJ37+vs4BrD/zPqV/0wIh/2x958CDgdk//j3AALrB2L/Y/fiAuAFdP/F/Mz+FwQWAJr+aAAFAe39pQDGAkz+6P/B/F4D0v9v/6gAh/37BXX+Cf5R/7kCewP1+yv8MQPgBoX7n/q8AmgEi/6++tz/VwWOApj2af1jCTYBlvbc/wAHuwFW+dT9cQTxAfT+k/gOBDwFn/y+/ur+PgLlAfz81P4aADoD2QBa+7gBugSI/fT7ngHOBZf9zfq8ASIGoP+5+NQDSAAIAp7/2ft+AYUCngEF+vT/QAS7/IkA0v4FAbYAsP9E/vf+SwK8/gX+JQK+AP78JQAsA1r/AfyvAR4DRv1t/1cC0/8x/Wb/3wXc+eT8gAcsAi/49v2zCSb/Afun/BcHjwPZ9vkAhwWd/4T8Vf6tApwBj//c+oIAcgbH/YX7G/9mBjcA3fmj/pcGPP/H+qwANAGdALUAhwAt/AT+jAajAR75Cf3mCc8B6/UmAX0IZP8Y+Zj/CgcWAtb2uQEaBscABPtl/CMJvQJn9j/+0gfsA2/4aPt5CIEDLvhe/OAJp/+J9/QDmQQv/HD+owMRAHf+dP4cAD8Epf6s/cD+QQONAib7Uv8kAwsB+f9l/O0ALATp/4b+afxyAWsGfv7f98wCkQiX/Sf3bgJzByj/APqR/pIGuQGJ+tv+RQKH/0wB7P42/MIB/gNG/JT7VANEBST73PleBVYCJ/zq/o8B9P1ZACoCsPwG/3wEoP7Y+j8BkQM4AXv89/13A8sCq/uV/0EDxv9W/t3+9QEzAgv9c/1NBU/+yv+N/hgB7gKO+4EBFAE7/lUAPwOK/Vz5WgdcBgr2RvqsCtgIVPGW99YQ4gbx73X5fBBnBMLwt/6ICr0D8fSl/vkI1v/Z+vX8xwUUBK/42/+aBRj/wv3T/68CnAEo/dH96wI0AZoBxft//e0FkAKq/nr5Jf9VDMkAjPCI/zsOeAT77rn6yhFSBOXwxvklDFYIzPN19hcMCAZp+fj31AKwCHL+C/hS/eMIcAPp+KH4MQheCE/3f/jEBY4LzvcC9QIJigjh+CL5gAIaCcT+rvQ7BKIGffzM/Wf/sQAnA9v/gvum/7oERQFM+u/+KgThAy36vv2cAy4CuP1V/rT/BQMwAGT87QGkAP3/o/1sAEICFfzA/xYDn/7u/S0B2wHF/63+rf5mAp4C8/xD/osBMgUM/bL7UQNaBfT7dPttBD0DHf0G/iECQAFg/2z+KgGRAQX+4//rAG4AVABS/Q8BQQN2/Zj7egTgAav9cPtEBIUC3fopAPoCz/9k/OgAAgTH/kv5NwRQBH78PfrNBaQElfpn+mAF+wX2+Zj6AwYLBWL64/pqB5ACaPux/rMCawO1/Cj+rwJVAWb+vwAX/3QBb//sAKH/Q/2vAoIAJAAm/en9dQVnAVL4DgGbA38BxvyK+h0GxwVM+PH8mAGCCET8Y/ZcBYsJ5vlH93IFMAc9/uL1vQGOC0H84vXvAn4HtP94+K0CiQM4/8AAgPvZAJcDPQLu+a/87QVIBJz6t/olBJ4F1/z6+IEDTQdt+735ggPEBYH9lPkNAqIEBf8Q/Tv+2gMHAbL7bQFDAVkADwCX/sj/wgJj/0z86AHGAkD/VP0XAHwDMwAP/j79bwObA4z9d/2bAGcEzP6b/aL/HgI0A5L7a/1tBZAA/fu7AF8AaAJ4/0j7UgG8AngBY/w1/fQD8QJl/b/7lwI+AwAA1/z0/coF8v9A+0P/QAQVAcz6Jf90BAcBJfyK/q8ElQHZ+in+nwbRAFD74fwOBigCW/x//CABcAeg/ef3HARaA2YAjvvG/DAFIwLn/VL7LQEaBYH/dPoS/+wFkwAg+1T9rQShBWD5oPpuBTcHHPtj9toEQwof+9j0YAUDCnn7ZvVnBJAIyv1o+Kn+jwcTBSX5b/rOBLMHHf1i94oBYAo//rz4Cf7OCKgCu/cs/XoGowLK+fD+7AEkA2z+9vnkAtwF9fvK/dkAxwOF/+H6sgAPBdIAkfrR/lUGkAAR/P/8QASmBKv77f2LAWUD8f7f/Hj/8wLjABP/4fz6AV4DVP1d/V8AjwOR/8D7av4kBpcAafpx/UgFGQN2+fz8/wSqAzL7C/vpBLkD+fxq+W8DzAd8+l/5GwSrBhX8Uvl2Ac4HF/+Y96AAFQrA/DD3kgQEBgz9hPo8AS4IR/1A9zQFxAUI/fr7A/8yCGn/GPlrAdcE7f85/dT8MQSoAvn7XP56/ywEIQHl+JkAegZaAN74qf03Cc0AzvVkAi8GxP/h+v7+QAX9AG/6OP8EBq3/1vzm/pUCSgI9/Un9tQDxBEz+ifv4ALoDqgB5/JH9YANdAw39SPx7A9cCIv9w+2kBugSy/Z79bP9GBfv/xvrw/wQEhgOU+IP9rgfKAkL65PnrBx8GnPh/+OUGrgi2+tL3KwPnB1YAa/WdAEYKnAAS9+78VgueAi74F/vABagGQfq6+v0EngYW+0f6mAMBBY//4/jAAKYFuP8M/E796AR6AkD7Sfw+BtIBf/pZ/t8DkwGx+pAA9QSA/on6tAH/BAsAMvpY/Q8J4gD699z9zwZOBSr4hPk3B78HgvkF924GyAef/Ob2NQKXC9T80vRkBO4IlP6+94X/gQiV/4z5CP7eBrUDfvgI/l8ElALH/fH5VwM9BqH80vnfBLIDO/wS/TAAewVA/537+/98BN4BdPrp/D8FoQOp+jL8TwWKBIj8vfpyAwcEa/7o+5QAJQSu/778o/7uA40C6vla//UDAwI0/dD7lwP5A/39vvmNAkoFMf4m+1X+qAbjAyn2Uvv/CawCEPlj+WAFPQpL+Wv1YgZYCa76Y/a5AkQJRP7t9e0AUQrx/o/28P2ZCWADYvVe/HkIIAW896f63AZ5BPX8kvp9AI8HYv9a+Ef/Cgf4Ai/6yvlMBnMHU/pq99YE7wew/G36DwBeB+QACPlw/yIGxQDk/Jz/oAGfAkr///z+/04EXAGV+uj+kgdoAPv5zP4hBZsC2vzV+ysDEAWA+6j7UAYUAfL8UgAkAKcCgf9o/Sn/TANnACr7JQB/A/kAFP3C/dYBaQO6/SL88f/0A4P/KvwT/o4E9gHj+o39WgMNBF78AfuVAbAFAQDH+Vr+dQUzAZf7Rv29A/kD+PrJ/MEC6QTP/PD67wKFA739B/3wAH8CEgCO/fr+VALc/7z+MgEEAEf+SAEIAkT/gvs9AQEFcv2c++EBxAPl/5n7iv7LBjAA4vkGATkFB/93/FQA/QOmANX6jAEHBhr+8/o4AQsGbgA0+hj/PgaIAkv6kP2PBXcDN/xF/CQEXQTo/LX8uwHDA0j/EP1CAFcCQQH4/ff+nAGRAgn/Q/vuAfQDWf8G/KL/nANyAVD7Dv7/BZf/LfxJADMBVwEp//f9qgC1AMIBg//k/CwADAOpAF/73f2wBbIA7vom/9cCewKJ+4z8HAUPAcH8Fv6aAUsCpP4m/QAAEgO9/6v9MQA5AH8CIv9W/vD/3gD/AOr+h/02ADIFNP04/UcDv/+z/l0AOgHA/yr9zwGSBNf9sPotA+MEKP8n/Tj//AONAMD8rP5cA5QCJ/0p/g0DNwBn/qkADgHfALz79P9YBar+4fpGAxMDwvzg/CsCRwP+/G39lQJmAmv9XP2FA00AK/2A/p0BXAII/nv9FAEtA6T9GP6MAc0AzP8J/tAAywEb/tr/1ACk/4T+MwDCAeH+n/08ApABWP5O/WgCSANh/bb7jQBoB5793vc0Ar4FWwEC+IT+TwdbAvL4TP28BUkBrftl/QUDPQND+0n9sAMXA0T8TPytAg4DIv8W/SD+kQMOAzL8XvydArQElv5X+ZgBlAUf/zb8Xv/MA6oBafzP/IoDGwNk/L79+gD4A1n/FPvhAWkDB/8k/q7/CwGOAjT9+//VAoH9YgFt/xYAgQDa/6EAJAAiAQ/+uwBPAAEA4QH1/EIALAKiAVD+Ef6wAaoBYwEL/dL+VQPEAd39YP8sAtX/K/91ANIAugCQ/S8C3gKT/Lb+3AKGAVj+yP5uAK8AzQDP/0YAiP/x/h0CDAFP/Wz/DQMZ/+n9igA5Ain/df/oAIT+qQCbAJ/+tgBJAOv+YgAIAvT+mv5x/0IC6QLW+8j97QLg/xgACf3DAL4CZ/5t/3T//QC7/oP/GAKi/Vj91wJgA3P9K/xsAdQDX/8p+74A3gTw/uL7NgGPA1j+nPxaAMsDh/+C+00AsQOB/wf9rP4UAigDYf4z/cD/FwM6AJ/9tf1EBJ8CDfsr/6kBhAIU/6n9IABzAxgA3vtfAaUBTAA6/ij/NAJ7AuD9fPuNApIE/P36+/EB9gRi/vT7cQGJAtz/Pv3B/wsE3v9k/doB5gCk/8L+3gAmAXX/Pf7zAIMC6v4C/XMABANEAMf9cv3GAqAD/fqX/ToD5AGf/gP90/8YAncA8/yz/2ABWf7V/54BfgBp/Pr+NANdAPf9Ev2aA7MCKvyo/UYCIgEz/2D/3/8GAXUAHf/a/pH+iAH5AUP+Gv7bAdcBwP6H/WYAIwOe/yf8IAETBXn/Mfum/7MF+/8s+XgAnAYWALD64fxGBf8EM/v2+SsDPQep/aj3LgGtBwP/kPhDAXsFHAHo+1v9pANnATH9Y/7PARYCyP81/f3/oAMy/1v8W/8/BMcA4/p4/1gF8wAs+2X+HAXoAIX6Iv8uBYgB7Ptl/iIDhgM6/cD6nANOBOH8Tv3ZAGMDAQCh/mP+FAKoAo7+kfwZAUgFiv9p+dIBJAf+/qH48wCmB5UBSvmP/McG+gTH+Vb7OAYnA5X8Gf3EASQDEv58/qoBDgGL/tz/FwFMAdf9kP24Ar0Bi/6W/QMB5QKf/oH9C//iA/IBk/we/eUBuAQj/p76h/+cBaABxvl0/ggFfwGd/Lv8DQMKA2b98vydATQC//2L/uQAUQHG/779vAAkAYv/tf1w/pYDdAG0/Qv9UgIGBLj9X/vFAGwFwP/b+TUAeATYATv74fwvBQgC7fuj/a0CigPU/P78RwI2AxX+rvzzAEkEjv/W+zz/rANxAlP8Gv3zAncDFP+2+/0ApAOLAMr8wvwyBIgCcP7R/YX/zAPt/5/9wv6OAiMCc/0y/sMCBALI/WT9xQJhAqP8GP72Ak4CKP3a/EUB7AOb/kj8RQE1A5j+IP5t/6IBqwK5/Pj9tQOYAWv9gP4SAZoCmf/3/IoA6QKd/lz+xAEpAA//LAABABEAIv+PAIwBZv4r/lEBAAJa/iT+AwKCACb/DP5tARsDh/1Y/W8AHwOB/zn9PgAsArgAMP1H/vsCvQFC/n/8agLQA+j8ov16AeoCzP4e/f8AVAPk/3r8awB6AsT/ef6L/4gB0gBu/hX+pwG9Afv/0f3D/kUCoACE/hf/hAHnAW7+7v19AKsBWgAW/VH/mgKHADf+UP/6AOf/lP8A/x8AjAHn/zb/3f5iAK8C7f9F/UgBCQLG/7H+jP9XATYBbP+Y/lQAuAGWAI3+SP5ZAfkBJP7b/vkBXwDb/lX/2QDwAO/+6P6NAFcBVQAj/tr/xgHNAO/+gP6cABoCBQC4/TwB7QG8/qr+3wD+AYL+U/1HAjgCeP4q/IIBSAOY/nb8tv8KBA8AuPug/+4CSQBa/t7/sP8hAQEB3P1m/oYAZgJNAGf8Lv/4A+MA//v8/bkCAgK1/fX84AIZA1L99vwtAeQC8P+f/Gn/gwSXAML8C//YAp0Atf50/jMA3AL3/3T+Dv/eACsCL/+i/SwAdgIWABz+Uf+ZAewAjv/m/pj//gHnAKX+If/nAAYBQgAaAA7+UACeAgUAgf4O/7IBPgLC/lf9kgAnAncAi/4Q//AArgApAFf/1f4BAUUCvf+V/NsA7gIpAPn+vv7RABkCFP8n/mIA6AHB/4/+2v/2ANsA9f73/zr/rv+1AG4Ahf8+/kgAYAH+/13+K//9AIAAhf+p/w==\" type=\"audio/wav\" />\n",
       "                    Your browser does not support the audio element.\n",
       "                </audio>\n",
       "              "
      ],
      "text/plain": [
       "<IPython.lib.display.Audio object>"
      ]
     },
     "execution_count": 8,
     "metadata": {},
     "output_type": "execute_result"
    }
   ],
   "source": [
    "ipd.Audio(yt,rate=sr)"
   ]
  },
  {
   "cell_type": "code",
   "execution_count": 9,
   "metadata": {},
   "outputs": [
    {
     "data": {
      "image/png": "[encoded data removed]",
      "text/plain": [
       "<Figure size 1152x288 with 1 Axes>"
      ]
     },
     "metadata": {
      "needs_background": "light"
     },
     "output_type": "display_data"
    }
   ],
   "source": [
    "plt.figure(figsize=(16, 4))\n",
    "librosa.display.waveplot(y, sr=sr)\n",
    "plt.title('Slower Version $X_1$')\n",
    "plt.tight_layout()"
   ]
  },
  {
   "cell_type": "code",
   "execution_count": 10,
   "metadata": {},
   "outputs": [
    {
     "data": {
      "image/png": "[encoded data removed]",
      "text/plain": [
       "<Figure size 1152x288 with 1 Axes>"
      ]
     },
     "metadata": {
      "needs_background": "light"
     },
     "output_type": "display_data"
    }
   ],
   "source": [
    "import librosa.display\n",
    "plt.figure(figsize=(16, 4))\n",
    "librosa.display.waveplot(y1, sr=sr)\n",
    "plt.title('Slower Version $X_1$')\n",
    "plt.tight_layout()"
   ]
  },
  {
   "cell_type": "code",
   "execution_count": 11,
   "metadata": {},
   "outputs": [
    {
     "data": {
      "image/png": "[encoded data removed]",
      "text/plain": [
       "<Figure size 1152x288 with 1 Axes>"
      ]
     },
     "metadata": {
      "needs_background": "light"
     },
     "output_type": "display_data"
    }
   ],
   "source": [
    "import librosa.display\n",
    "plt.figure(figsize=(16, 4))\n",
    "librosa.display.waveplot(yt, sr=sr)\n",
    "plt.title('Slower Version $X_1$')\n",
    "plt.tight_layout()"
   ]
  },
  {
   "cell_type": "code",
   "execution_count": null,
   "metadata": {},
   "outputs": [],
   "source": []
  },
  {
   "cell_type": "markdown",
   "metadata": {},
   "source": [
    "**MFCC extraction**"
   ]
  },
  {
   "cell_type": "code",
   "execution_count": 12,
   "metadata": {},
   "outputs": [],
   "source": [
    "mfcc = librosa.feature.mfcc(y=yt, sr=sr, hop_length=1024, htk=True, n_mfcc=12)"
   ]
  },
  {
   "cell_type": "code",
   "execution_count": 13,
   "metadata": {},
   "outputs": [],
   "source": [
    "scaler = sklearn.preprocessing.StandardScaler()\n",
    "mfcc_procss = scaler.fit_transform(mfcc)"
   ]
  },
  {
   "cell_type": "code",
   "execution_count": 14,
   "metadata": {},
   "outputs": [
    {
     "data": {
      "text/plain": [
       "<matplotlib.axes._subplots.AxesSubplot at 0x125d77690>"
      ]
     },
     "execution_count": 14,
     "metadata": {},
     "output_type": "execute_result"
    },
    {
     "data": {
      "image/png": "[encoded data removed]",
      "text/plain": [
       "<Figure size 432x288 with 1 Axes>"
      ]
     },
     "metadata": {
      "needs_background": "light"
     },
     "output_type": "display_data"
    }
   ],
   "source": [
    "%matplotlib inline\n",
    "librosa.display.specshow(mfcc_procss, sr=sr, x_axis='time')"
   ]
  },
  {
   "cell_type": "code",
   "execution_count": 15,
   "metadata": {},
   "outputs": [
    {
     "data": {
      "text/plain": [
       "(12, 14)"
      ]
     },
     "execution_count": 15,
     "metadata": {},
     "output_type": "execute_result"
    }
   ],
   "source": [
    "mfcc_procss.shape"
   ]
  },
  {
   "cell_type": "code",
   "execution_count": 128,
   "metadata": {},
   "outputs": [],
   "source": [
    "def wav2mfcc(file_path, max_len=15, n_mfcc = 13, pad = False, delta = False, delta_delta = False):\n",
    "    wave, sr = librosa.load(file_path, sr=16000,dtype=np.float16, res_type='kaiser_fast')\n",
    "    yrn = nr.reduce_noise(audio_clip=wave, noise_clip=wave, verbose=False)\n",
    "    yf, index = librosa.effects.trim(yrn,top_db=20)\n",
    "\n",
    "    mfcc = librosa.feature.mfcc(y=yf, sr=16000, hop_length=1024, htk=True, n_mfcc=n_mfcc)\n",
    "    if delta:\n",
    "        mfcc_delta = librosa.feature.delta(mfcc,mode='nearest')\n",
    "    if delta_delta:\n",
    "        mfcc_delta2 = librosa.feature.delta(mfcc, order=2,mode='nearest')\n",
    "    \n",
    "    if not pad:\n",
    "        return yf,mfcc\n",
    "    \n",
    "    if (max_len > mfcc.shape[1]):\n",
    "        pad_width = max_len - mfcc.shape[1]\n",
    "        mfcc = np.pad(mfcc, pad_width=((0, 0), (0, pad_width)), mode='constant')\n",
    "        if delta:\n",
    "            mfcc_delta = np.pad(mfcc_delta, pad_width=((0, 0), (0, pad_width)), mode='constant')\n",
    "        if delta_delta:\n",
    "            mfcc_delta2 = np.pad(mfcc_delta2, pad_width=((0, 0), (0, pad_width)), mode='constant')\n",
    "    else:\n",
    "        mfcc = mfcc[:, :max_len]\n",
    "        if delta:\n",
    "            mfcc_delta = mfcc_delta[:, :max_len]\n",
    "        if delta_delta:\n",
    "            mfcc_delta2 = mfcc_delta2[:, :max_len]\n",
    "    if delta and delta_delta:\n",
    "        return yf,np.concatenate((mfcc, mfcc_delta,mfcc_delta2))\n",
    "    elif delta and not delta_delta:\n",
    "        return yf,np.concatenate((mfcc, mfcc_delta))\n",
    "    else:\n",
    "        return yf,mfcc"
   ]
  },
  {
   "cell_type": "code",
   "execution_count": 17,
   "metadata": {},
   "outputs": [],
   "source": [
    "mfcc = wav2mfcc(\"M11_etatdurgence.wav\",delta=True)"
   ]
  },
  {
   "cell_type": "code",
   "execution_count": 18,
   "metadata": {},
   "outputs": [
    {
     "data": {
      "text/plain": [
       "(13, 14)"
      ]
     },
     "execution_count": 18,
     "metadata": {},
     "output_type": "execute_result"
    }
   ],
   "source": [
    "mfcc.shape"
   ]
  },
  {
   "cell_type": "code",
   "execution_count": 19,
   "metadata": {},
   "outputs": [],
   "source": [
    "mfcc1 = wav2mfcc(\"M12_droite.wav\",delta=True)"
   ]
  },
  {
   "cell_type": "code",
   "execution_count": 20,
   "metadata": {},
   "outputs": [
    {
     "data": {
      "text/plain": [
       "(13, 5)"
      ]
     },
     "execution_count": 20,
     "metadata": {},
     "output_type": "execute_result"
    }
   ],
   "source": [
    "mfcc1.shape"
   ]
  },
  {
   "cell_type": "code",
   "execution_count": 21,
   "metadata": {},
   "outputs": [],
   "source": [
    "mfcc2 = wav2mfcc(\"M12_etatdurgence.wav\",delta=True)"
   ]
  },
  {
   "cell_type": "code",
   "execution_count": 22,
   "metadata": {},
   "outputs": [
    {
     "data": {
      "text/plain": [
       "(13, 11)"
      ]
     },
     "execution_count": 22,
     "metadata": {},
     "output_type": "execute_result"
    }
   ],
   "source": [
    "mfcc2.shape"
   ]
  },
  {
   "cell_type": "code",
   "execution_count": 23,
   "metadata": {},
   "outputs": [
    {
     "name": "stdout",
     "output_type": "stream",
     "text": [
      "104.94922959150125\n"
     ]
    },
    {
     "data": {
      "image/png": "[encoded data removed]",
      "text/plain": [
       "<Figure size 432x288 with 1 Axes>"
      ]
     },
     "metadata": {
      "needs_background": "light"
     },
     "output_type": "display_data"
    }
   ],
   "source": [
    "dtw(mfcc.T, mfcc2.T,dist=distance.euclidean,plot=True);"
   ]
  },
  {
   "cell_type": "code",
   "execution_count": 24,
   "metadata": {},
   "outputs": [
    {
     "name": "stdout",
     "output_type": "stream",
     "text": [
      "156.750954808194\n"
     ]
    },
    {
     "data": {
      "image/png": "[encoded data removed]",
      "text/plain": [
       "<Figure size 432x288 with 1 Axes>"
      ]
     },
     "metadata": {
      "needs_background": "light"
     },
     "output_type": "display_data"
    }
   ],
   "source": [
    "dtw(mfcc.T, mfcc1.T, dist=distance.euclidean,plot=True);"
   ]
  },
  {
   "cell_type": "code",
   "execution_count": null,
   "metadata": {},
   "outputs": [],
   "source": []
  },
  {
   "cell_type": "markdown",
   "metadata": {},
   "source": [
    "**Application of DTW**\n",
    "\n",
    "1. Carry out a study that you will detail on a report (for example, *influence male voices VS female voices, compare your own voice with the database, test the impact of different background noises on recognition...*) and create your own learning database and test database from the corpus and the voices and noises you have recorded. \n",
    "\n",
    "2. Apply DTW to your corpora.\n",
    "\n",
    "**Settings for audio recordings of your personal voices:**\n",
    "\n",
    "16 KHz, mono, 16 bits, *.wav* format\n"
   ]
  },
  {
   "cell_type": "code",
   "execution_count": 39,
   "metadata": {},
   "outputs": [],
   "source": [
    "model = sklearn.decomposition.PCA(n_components=3, whiten=True)"
   ]
  },
  {
   "cell_type": "code",
   "execution_count": 44,
   "metadata": {},
   "outputs": [],
   "source": [
    "model = sklearn.decomposition.PCA(n_components=3, whiten=True)\n",
    "model.fit(mfcc.T)\n",
    "Y = model.transform(mfcc.T)"
   ]
  },
  {
   "cell_type": "code",
   "execution_count": 43,
   "metadata": {},
   "outputs": [
    {
     "data": {
      "text/plain": [
       "(14, 3)"
      ]
     },
     "execution_count": 43,
     "metadata": {},
     "output_type": "execute_result"
    }
   ],
   "source": [
    "Y.shape"
   ]
  },
  {
   "cell_type": "code",
   "execution_count": 269,
   "metadata": {},
   "outputs": [
    {
     "ename": "NameError",
     "evalue": "name 'Y' is not defined",
     "output_type": "error",
     "traceback": [
      "\u001b[0;31m---------------------------------------------------------------------------\u001b[0m",
      "\u001b[0;31mNameError\u001b[0m                                 Traceback (most recent call last)",
      "\u001b[0;32m<ipython-input-269-a91d29a9c355>\u001b[0m in \u001b[0;36m<module>\u001b[0;34m\u001b[0m\n\u001b[1;32m      8\u001b[0m \u001b[0max\u001b[0m\u001b[0;34m.\u001b[0m\u001b[0mset_zlabel\u001b[0m\u001b[0;34m(\u001b[0m\u001b[0;34m\"Z-axis\"\u001b[0m\u001b[0;34m)\u001b[0m\u001b[0;34m\u001b[0m\u001b[0;34m\u001b[0m\u001b[0m\n\u001b[1;32m      9\u001b[0m \u001b[0;34m\u001b[0m\u001b[0m\n\u001b[0;32m---> 10\u001b[0;31m \u001b[0max\u001b[0m\u001b[0;34m.\u001b[0m\u001b[0mscatter\u001b[0m\u001b[0;34m(\u001b[0m\u001b[0mY\u001b[0m\u001b[0;34m[\u001b[0m\u001b[0;34m:\u001b[0m\u001b[0;34m,\u001b[0m\u001b[0;36m0\u001b[0m\u001b[0;34m]\u001b[0m\u001b[0;34m,\u001b[0m\u001b[0mY\u001b[0m\u001b[0;34m[\u001b[0m\u001b[0;34m:\u001b[0m\u001b[0;34m,\u001b[0m\u001b[0;36m1\u001b[0m\u001b[0;34m]\u001b[0m\u001b[0;34m,\u001b[0m \u001b[0mY\u001b[0m\u001b[0;34m[\u001b[0m\u001b[0;34m:\u001b[0m\u001b[0;34m,\u001b[0m\u001b[0;36m2\u001b[0m\u001b[0;34m]\u001b[0m\u001b[0;34m,\u001b[0m \u001b[0mc\u001b[0m\u001b[0;34m=\u001b[0m\u001b[0;34m'r'\u001b[0m\u001b[0;34m,\u001b[0m \u001b[0mmarker\u001b[0m\u001b[0;34m=\u001b[0m\u001b[0;34m'o'\u001b[0m\u001b[0;34m)\u001b[0m\u001b[0;34m\u001b[0m\u001b[0;34m\u001b[0m\u001b[0m\n\u001b[0m",
      "\u001b[0;31mNameError\u001b[0m: name 'Y' is not defined"
     ]
    },
    {
     "data": {
      "image/png": "[encoded data removed]",
      "text/plain": [
       "<Figure size 432x288 with 1 Axes>"
      ]
     },
     "metadata": {
      "needs_background": "light"
     },
     "output_type": "display_data"
    }
   ],
   "source": [
    "%matplotlib inline\n",
    "from mpl_toolkits.mplot3d import Axes3D\n",
    "fig = plt.figure()\n",
    "ax = Axes3D(fig)\n",
    "\n",
    "ax.set_xlabel(\"X-axis\")\n",
    "ax.set_ylabel(\"Y-axis\")\n",
    "ax.set_zlabel(\"Z-axis\")\n",
    "\n",
    "ax.scatter(Y[:,0],Y[:,1], Y[:,2], c='r', marker='o')"
   ]
  },
  {
   "cell_type": "code",
   "execution_count": 243,
   "metadata": {},
   "outputs": [
    {
     "data": {
      "text/plain": [
       "<matplotlib.collections.PathCollection at 0x14daf73d0>"
      ]
     },
     "execution_count": 243,
     "metadata": {},
     "output_type": "execute_result"
    },
    {
     "data": {
      "image/png": "[encoded data removed]",
      "text/plain": [
       "<Figure size 432x288 with 1 Axes>"
      ]
     },
     "metadata": {
      "needs_background": "light"
     },
     "output_type": "display_data"
    }
   ],
   "source": [
    "model.fit(mfcc1_procss.T)\n",
    "Y = model.transform(mfcc1_procss.T)\n",
    "plt.scatter(Y[:,0], Y[:,1])"
   ]
  },
  {
   "cell_type": "code",
   "execution_count": 222,
   "metadata": {},
   "outputs": [
    {
     "ename": "NameError",
     "evalue": "name 'mfcc2_procss' is not defined",
     "output_type": "error",
     "traceback": [
      "\u001b[0;31m---------------------------------------------------------------------------\u001b[0m",
      "\u001b[0;31mNameError\u001b[0m                                 Traceback (most recent call last)",
      "\u001b[0;32m<ipython-input-222-02f01f0bd15b>\u001b[0m in \u001b[0;36m<module>\u001b[0;34m\u001b[0m\n\u001b[0;32m----> 1\u001b[0;31m \u001b[0mmodel\u001b[0m\u001b[0;34m.\u001b[0m\u001b[0mfit\u001b[0m\u001b[0;34m(\u001b[0m\u001b[0mmfcc2_procss\u001b[0m\u001b[0;34m.\u001b[0m\u001b[0mT\u001b[0m\u001b[0;34m)\u001b[0m\u001b[0;34m\u001b[0m\u001b[0;34m\u001b[0m\u001b[0m\n\u001b[0m\u001b[1;32m      2\u001b[0m \u001b[0mY\u001b[0m \u001b[0;34m=\u001b[0m \u001b[0mmodel\u001b[0m\u001b[0;34m.\u001b[0m\u001b[0mtransform\u001b[0m\u001b[0;34m(\u001b[0m\u001b[0mmfcc2_procss\u001b[0m\u001b[0;34m.\u001b[0m\u001b[0mT\u001b[0m\u001b[0;34m)\u001b[0m\u001b[0;34m\u001b[0m\u001b[0;34m\u001b[0m\u001b[0m\n\u001b[1;32m      3\u001b[0m \u001b[0mplt\u001b[0m\u001b[0;34m.\u001b[0m\u001b[0mscatter\u001b[0m\u001b[0;34m(\u001b[0m\u001b[0mY\u001b[0m\u001b[0;34m[\u001b[0m\u001b[0;34m:\u001b[0m\u001b[0;34m,\u001b[0m\u001b[0;36m0\u001b[0m\u001b[0;34m]\u001b[0m\u001b[0;34m,\u001b[0m \u001b[0mY\u001b[0m\u001b[0;34m[\u001b[0m\u001b[0;34m:\u001b[0m\u001b[0;34m,\u001b[0m\u001b[0;36m1\u001b[0m\u001b[0;34m]\u001b[0m\u001b[0;34m)\u001b[0m\u001b[0;34m\u001b[0m\u001b[0;34m\u001b[0m\u001b[0m\n",
      "\u001b[0;31mNameError\u001b[0m: name 'mfcc2_procss' is not defined"
     ]
    }
   ],
   "source": [
    "model.fit(mfcc2_procss.T)\n",
    "Y = model.transform(mfcc2_procss.T)\n",
    "plt.scatter(Y[:,0], Y[:,1])"
   ]
  },
  {
   "cell_type": "markdown",
   "metadata": {},
   "source": [
    "**Assessment of recognition**\n",
    "\n",
    "1. Calculate the system confusion matrix (in line with the references and in column the system outputs). \n",
    "You can use the *confusion_matrix* function of the *sklearn* library.\n",
    "\n",
    "\n",
    "2. Calculate the recognition score: number of well recognized files on number of tested files. \n",
    "\n",
    "*Verification:*\n",
    "- if you use the M01 reference and test file, you must get no errors.\n",
    "- if you use as M01 reference file and M02 test file, you must get two errors."
   ]
  },
  {
   "cell_type": "code",
   "execution_count": null,
   "metadata": {},
   "outputs": [],
   "source": []
  },
  {
   "cell_type": "markdown",
   "metadata": {},
   "source": [
    "## Part III: Comparison of dynamic programming with a classification method after data pre-processing\n",
    "\n",
    "In this section, we will compare the results of DTW with those of a data classification method: the k-nearest neighbors (k-nn).\n",
    "\n",
    "We will use the functions to calculate the PCA and k-nn via the python library *scikit-learn*.\n"
   ]
  },
  {
   "cell_type": "code",
   "execution_count": 28,
   "metadata": {},
   "outputs": [],
   "source": [
    "from sklearn.preprocessing import StandardScaler\n",
    "from sklearn.neighbors import KNeighborsClassifier\n",
    "from mpl_toolkits.mplot3d import Axes3D\n",
    "from sklearn.model_selection import GridSearchCV\n",
    "import os\n",
    "import glob2\n",
    "import progressbar\n",
    "from shutil import copyfile\n",
    "from sklearn import metrics\n",
    "from sklearn.model_selection import train_test_split\n",
    "import scikitplot as skplt\n",
    "\n",
    "labels = [\"tournegauche\",\"tournedroite\",\"recule\",\"plushaut\",\n",
    "          \"plusbas\",\"gauche\",\"faisunflip\",\"etatdurgence\",\"droite\",\n",
    "          \"decollage\",\"avance\",\"atterrissage\",\"arretetoi\"]"
   ]
  },
  {
   "cell_type": "code",
   "execution_count": 109,
   "metadata": {
    "scrolled": true
   },
   "outputs": [
    {
     "ename": "FileExistsError",
     "evalue": "[Errno 17] File exists: 'data/tournegauche'",
     "output_type": "error",
     "traceback": [
      "\u001b[0;31m---------------------------------------------------------------------------\u001b[0m",
      "\u001b[0;31mFileExistsError\u001b[0m                           Traceback (most recent call last)",
      "\u001b[0;32m<ipython-input-109-95efcabe7f84>\u001b[0m in \u001b[0;36m<module>\u001b[0;34m\u001b[0m\n\u001b[1;32m      1\u001b[0m \u001b[0;32mfor\u001b[0m \u001b[0mlabel\u001b[0m \u001b[0;32min\u001b[0m \u001b[0mlabels\u001b[0m\u001b[0;34m:\u001b[0m\u001b[0;34m\u001b[0m\u001b[0;34m\u001b[0m\u001b[0m\n\u001b[0;32m----> 2\u001b[0;31m     \u001b[0mos\u001b[0m\u001b[0;34m.\u001b[0m\u001b[0mmkdir\u001b[0m\u001b[0;34m(\u001b[0m\u001b[0;34m\"data/\"\u001b[0m\u001b[0;34m+\u001b[0m\u001b[0mlabel\u001b[0m\u001b[0;34m)\u001b[0m\u001b[0;34m\u001b[0m\u001b[0;34m\u001b[0m\u001b[0m\n\u001b[0m\u001b[1;32m      3\u001b[0m \u001b[0;34m\u001b[0m\u001b[0m\n\u001b[1;32m      4\u001b[0m \u001b[0;32mdef\u001b[0m \u001b[0mmoveData\u001b[0m\u001b[0;34m(\u001b[0m\u001b[0mpath\u001b[0m\u001b[0;34m,\u001b[0m\u001b[0mdst_path\u001b[0m\u001b[0;34m,\u001b[0m\u001b[0mlabels\u001b[0m\u001b[0;34m,\u001b[0m\u001b[0mchar\u001b[0m\u001b[0;34m=\u001b[0m\u001b[0;34m''\u001b[0m\u001b[0;34m)\u001b[0m\u001b[0;34m:\u001b[0m\u001b[0;34m\u001b[0m\u001b[0;34m\u001b[0m\u001b[0m\n\u001b[1;32m      5\u001b[0m     \u001b[0mfiles\u001b[0m \u001b[0;34m=\u001b[0m \u001b[0mos\u001b[0m\u001b[0;34m.\u001b[0m\u001b[0mlistdir\u001b[0m\u001b[0;34m(\u001b[0m\u001b[0mpath\u001b[0m\u001b[0;34m)\u001b[0m\u001b[0;34m\u001b[0m\u001b[0;34m\u001b[0m\u001b[0m\n",
      "\u001b[0;31mFileExistsError\u001b[0m: [Errno 17] File exists: 'data/tournegauche'"
     ]
    }
   ],
   "source": [
    "for label in labels:\n",
    "    os.mkdir(\"data/\"+label)\n",
    "    \n",
    "def moveData(path,dst_path,labels,char=''):\n",
    "    files = os.listdir(path)\n",
    "    for label in labels:\n",
    "        for file in files:\n",
    "            if np.char.find(file,label) == 4:\n",
    "                copyfile(path+file, dst_path+label+'/'+char+file)\n",
    "\n",
    "moveData(\"corpus/drone_withoutnoise/\",\"data/\",labels)\n",
    "moveData(\"corpus/drone_noise/\",\"data/\",labels,'N')"
   ]
  },
  {
   "cell_type": "code",
   "execution_count": null,
   "metadata": {},
   "outputs": [],
   "source": []
  },
  {
   "cell_type": "code",
   "execution_count": 60,
   "metadata": {},
   "outputs": [],
   "source": [
    "\n",
    "def collect_data_v3(dataset_name):\n",
    "    X = []\n",
    "    y = []\n",
    "    files = glob2.glob(f'{dataset_name}/**/*.WAV')\n",
    "    np.random.shuffle(files)\n",
    "    for path in files:\n",
    "        sample_class = path.split('/')[1]\n",
    "        \n",
    "        mfcc = wav2mfcc(path,max_len=15,n_mfcc = 13,pad=True,delta=True,delta_delta=True)\n",
    "        X.append(mfcc)\n",
    "        y.append(labels.index(sample_class))\n",
    "    return np.array(X),y"
   ]
  },
  {
   "cell_type": "code",
   "execution_count": 61,
   "metadata": {},
   "outputs": [],
   "source": [
    "X,y = collect_data_v3('data')"
   ]
  },
  {
   "cell_type": "code",
   "execution_count": 82,
   "metadata": {},
   "outputs": [],
   "source": []
  },
  {
   "cell_type": "code",
   "execution_count": 97,
   "metadata": {},
   "outputs": [],
   "source": [
    "nsamples, nx, ny = X.shape\n",
    "X_f = X.reshape((nsamples,nx*ny))\n",
    "\n",
    "X_train,X_test,y_train,y_test = train_test_split(X_f, y, test_size=0.3)\n",
    "\n",
    "scaler = sklearn.preprocessing.StandardScaler()\n",
    "scaler.fit(X_train)\n",
    "X_train = scaler.transform(X_train)\n",
    "X_test = scaler.transform(X_test)\n",
    "\n",
    "pca = sklearn.decomposition.PCA(n_components=3).fit(X_train)\n",
    "X_train_reduce = pca.transform(X_train)\n"
   ]
  },
  {
   "cell_type": "code",
   "execution_count": 98,
   "metadata": {},
   "outputs": [
    {
     "data": {
      "text/plain": [
       "(200, 3)"
      ]
     },
     "execution_count": 98,
     "metadata": {},
     "output_type": "execute_result"
    }
   ],
   "source": [
    "X_train_reduce.shape"
   ]
  },
  {
   "cell_type": "markdown",
   "metadata": {},
   "source": [
    "#### PCA preprocessing\n",
    "\n",
    "To test a classification method, the size of the MFCCs must first be reduced:\n",
    "\n",
    "1. From all the records in the learning database, perform a Principal Component Analysis (PCA) using the *PCA* function of the *scikit-learn* library and then project the test data into this new database. \n",
    "\n",
    "*Note:* You can also implement the PCA by\n",
    "extracting the 3 eigenvectors, noted $X_1$, $X_2$, $X_3$, associated with the 3 largest eigenvalues of the\n",
    "variance-covariance $\\Sigma_{App}$ (by the functions *np.cov* and *np.linalg.eig*). These eigenvectors will constitute the new benchmark P. Then project the data from the learning and test database into this new database by multiplying each vector by the database $P =[X_1X_2X_3]$.\n"
   ]
  },
  {
   "cell_type": "code",
   "execution_count": 99,
   "metadata": {},
   "outputs": [
    {
     "data": {
      "text/plain": [
       "<matplotlib.legend.Legend at 0x129897650>"
      ]
     },
     "execution_count": 99,
     "metadata": {},
     "output_type": "execute_result"
    },
    {
     "data": {
      "image/png": "[encoded data removed]",
      "text/plain": [
       "<Figure size 432x288 with 1 Axes>"
      ]
     },
     "metadata": {
      "needs_background": "light"
     },
     "output_type": "display_data"
    }
   ],
   "source": [
    "fig = plt.figure()\n",
    "ax = Axes3D(fig)\n",
    "\n",
    "ax.set_xlabel(\"X-axis\")\n",
    "ax.set_ylabel(\"Y-axis\")\n",
    "ax.set_zlabel(\"Z-axis\")\n",
    "colors = plt.cm.get_cmap('hsv', 13)\n",
    "for i in range(0,13):\n",
    "    X_label = X_train_reduce[np.array(y_train)==i]\n",
    "    ax.scatter(X_label[:,0],X_label[:,1], X_label[:,2]#, c=(random.uniform(0, 1), random.uniform(0, 1), random.uniform(0, 1))\n",
    "               ,label=labels[i], marker='o')\n",
    "ax.legend(loc='best')\n"
   ]
  },
  {
   "cell_type": "markdown",
   "metadata": {},
   "source": [
    "#### Classification by k nearest neighbors\n",
    "\n",
    "In artificial intelligence, the k nearest neighbor method (*k-nn*) is a supervised method. In this context, there is a learning database of \"label-data\" pairs. To estimate the output associated with a new input $x$, the $k$ nearest neighbor  method consists of taking into account (in the same way) the $k$ learning samples whose input is closest to the new input $x$, according to a distance to be defined. The associated algorithm and an example are given below.\n",
    "\n",
    "<img src=\"files/knn.jpg\" width=\"700\" height=\"500\" >\n",
    "\n",
    "<img src=\"files/kppv.png\" width=\"300\" height=\"300\" >\n",
    "\n",
    "**Example of classification by k-nn.** The test sample (green circle) must be classified either in the first\n",
    "class of blue squares, or in the second class of red triangles. \n",
    "If k = 3 (full circle), it is assigned to the second class because there are 2 triangles and only 1 square inside the inner circle. \n",
    "If k = 5 (dotted circle), it is assigned to the first class (3 squares against 2 triangles inside the outer circle)\n",
    "\n",
    "\n",
    "1. Using the *KNeighborsClassifier* function of the *sklearn.neighbors library*, perform a classification by k-nn on the learning and test basis you have predefined (take $k=1$).\n",
    "\n",
    "2. Evaluate the k-nn method by calculating the confusion matrix and the recognition rate.\n",
    "\n",
    "3. Change the value of $k$ for k-nn. Do you improve recognition scores?\n",
    "\n",
    "4. Compare your results with those of DTW."
   ]
  },
  {
   "cell_type": "code",
   "execution_count": 100,
   "metadata": {},
   "outputs": [
    {
     "name": "stderr",
     "output_type": "stream",
     "text": [
      "/Users/nguyenthang/anaconda3/envs/thang/lib/python3.7/site-packages/sklearn/model_selection/_search.py:814: DeprecationWarning: The default of the `iid` parameter will change from True to False in version 0.22 and will be removed in 0.24. This will change numeric results when test-set sizes are unequal.\n",
      "  DeprecationWarning)\n"
     ]
    },
    {
     "name": "stdout",
     "output_type": "stream",
     "text": [
      "n= 2 {'metric': 'euclidean', 'n_neighbors': 19, 'weights': 'distance'} 0.47 0.36046511627906974\n"
     ]
    },
    {
     "name": "stderr",
     "output_type": "stream",
     "text": [
      "/Users/nguyenthang/anaconda3/envs/thang/lib/python3.7/site-packages/sklearn/model_selection/_search.py:814: DeprecationWarning: The default of the `iid` parameter will change from True to False in version 0.22 and will be removed in 0.24. This will change numeric results when test-set sizes are unequal.\n",
      "  DeprecationWarning)\n"
     ]
    },
    {
     "name": "stdout",
     "output_type": "stream",
     "text": [
      "n= 7 {'metric': 'euclidean', 'n_neighbors': 2, 'weights': 'distance'} 0.795 0.7790697674418605\n"
     ]
    },
    {
     "name": "stderr",
     "output_type": "stream",
     "text": [
      "/Users/nguyenthang/anaconda3/envs/thang/lib/python3.7/site-packages/sklearn/model_selection/_search.py:814: DeprecationWarning: The default of the `iid` parameter will change from True to False in version 0.22 and will be removed in 0.24. This will change numeric results when test-set sizes are unequal.\n",
      "  DeprecationWarning)\n"
     ]
    },
    {
     "name": "stdout",
     "output_type": "stream",
     "text": [
      "n= 12 {'metric': 'euclidean', 'n_neighbors': 2, 'weights': 'distance'} 0.825 0.8953488372093024\n"
     ]
    },
    {
     "name": "stderr",
     "output_type": "stream",
     "text": [
      "/Users/nguyenthang/anaconda3/envs/thang/lib/python3.7/site-packages/sklearn/model_selection/_search.py:814: DeprecationWarning: The default of the `iid` parameter will change from True to False in version 0.22 and will be removed in 0.24. This will change numeric results when test-set sizes are unequal.\n",
      "  DeprecationWarning)\n"
     ]
    },
    {
     "name": "stdout",
     "output_type": "stream",
     "text": [
      "n= 17 {'metric': 'euclidean', 'n_neighbors': 2, 'weights': 'distance'} 0.84 0.872093023255814\n"
     ]
    },
    {
     "name": "stderr",
     "output_type": "stream",
     "text": [
      "/Users/nguyenthang/anaconda3/envs/thang/lib/python3.7/site-packages/sklearn/model_selection/_search.py:814: DeprecationWarning: The default of the `iid` parameter will change from True to False in version 0.22 and will be removed in 0.24. This will change numeric results when test-set sizes are unequal.\n",
      "  DeprecationWarning)\n"
     ]
    },
    {
     "name": "stdout",
     "output_type": "stream",
     "text": [
      "n= 22 {'metric': 'euclidean', 'n_neighbors': 3, 'weights': 'distance'} 0.87 0.8255813953488372\n"
     ]
    },
    {
     "name": "stderr",
     "output_type": "stream",
     "text": [
      "/Users/nguyenthang/anaconda3/envs/thang/lib/python3.7/site-packages/sklearn/model_selection/_search.py:814: DeprecationWarning: The default of the `iid` parameter will change from True to False in version 0.22 and will be removed in 0.24. This will change numeric results when test-set sizes are unequal.\n",
      "  DeprecationWarning)\n"
     ]
    },
    {
     "name": "stdout",
     "output_type": "stream",
     "text": [
      "n= 27 {'metric': 'euclidean', 'n_neighbors': 2, 'weights': 'distance'} 0.865 0.872093023255814\n"
     ]
    },
    {
     "name": "stderr",
     "output_type": "stream",
     "text": [
      "/Users/nguyenthang/anaconda3/envs/thang/lib/python3.7/site-packages/sklearn/model_selection/_search.py:814: DeprecationWarning: The default of the `iid` parameter will change from True to False in version 0.22 and will be removed in 0.24. This will change numeric results when test-set sizes are unequal.\n",
      "  DeprecationWarning)\n"
     ]
    },
    {
     "name": "stdout",
     "output_type": "stream",
     "text": [
      "n= 32 {'metric': 'euclidean', 'n_neighbors': 2, 'weights': 'distance'} 0.875 0.9069767441860465\n"
     ]
    },
    {
     "name": "stderr",
     "output_type": "stream",
     "text": [
      "/Users/nguyenthang/anaconda3/envs/thang/lib/python3.7/site-packages/sklearn/model_selection/_search.py:814: DeprecationWarning: The default of the `iid` parameter will change from True to False in version 0.22 and will be removed in 0.24. This will change numeric results when test-set sizes are unequal.\n",
      "  DeprecationWarning)\n"
     ]
    },
    {
     "name": "stdout",
     "output_type": "stream",
     "text": [
      "n= 37 {'metric': 'euclidean', 'n_neighbors': 2, 'weights': 'distance'} 0.88 0.9069767441860465\n"
     ]
    },
    {
     "name": "stderr",
     "output_type": "stream",
     "text": [
      "/Users/nguyenthang/anaconda3/envs/thang/lib/python3.7/site-packages/sklearn/model_selection/_search.py:814: DeprecationWarning: The default of the `iid` parameter will change from True to False in version 0.22 and will be removed in 0.24. This will change numeric results when test-set sizes are unequal.\n",
      "  DeprecationWarning)\n"
     ]
    },
    {
     "name": "stdout",
     "output_type": "stream",
     "text": [
      "n= 42 {'metric': 'euclidean', 'n_neighbors': 2, 'weights': 'distance'} 0.875 0.8837209302325582\n"
     ]
    },
    {
     "name": "stderr",
     "output_type": "stream",
     "text": [
      "/Users/nguyenthang/anaconda3/envs/thang/lib/python3.7/site-packages/sklearn/model_selection/_search.py:814: DeprecationWarning: The default of the `iid` parameter will change from True to False in version 0.22 and will be removed in 0.24. This will change numeric results when test-set sizes are unequal.\n",
      "  DeprecationWarning)\n"
     ]
    },
    {
     "name": "stdout",
     "output_type": "stream",
     "text": [
      "n= 47 {'metric': 'euclidean', 'n_neighbors': 2, 'weights': 'distance'} 0.87 0.8953488372093024\n"
     ]
    },
    {
     "name": "stderr",
     "output_type": "stream",
     "text": [
      "/Users/nguyenthang/anaconda3/envs/thang/lib/python3.7/site-packages/sklearn/model_selection/_search.py:814: DeprecationWarning: The default of the `iid` parameter will change from True to False in version 0.22 and will be removed in 0.24. This will change numeric results when test-set sizes are unequal.\n",
      "  DeprecationWarning)\n"
     ]
    },
    {
     "name": "stdout",
     "output_type": "stream",
     "text": [
      "n= 52 {'metric': 'euclidean', 'n_neighbors': 2, 'weights': 'distance'} 0.86 0.8953488372093024\n"
     ]
    },
    {
     "name": "stderr",
     "output_type": "stream",
     "text": [
      "/Users/nguyenthang/anaconda3/envs/thang/lib/python3.7/site-packages/sklearn/model_selection/_search.py:814: DeprecationWarning: The default of the `iid` parameter will change from True to False in version 0.22 and will be removed in 0.24. This will change numeric results when test-set sizes are unequal.\n",
      "  DeprecationWarning)\n"
     ]
    },
    {
     "name": "stdout",
     "output_type": "stream",
     "text": [
      "n= 57 {'metric': 'euclidean', 'n_neighbors': 2, 'weights': 'distance'} 0.865 0.872093023255814\n"
     ]
    },
    {
     "name": "stderr",
     "output_type": "stream",
     "text": [
      "/Users/nguyenthang/anaconda3/envs/thang/lib/python3.7/site-packages/sklearn/model_selection/_search.py:814: DeprecationWarning: The default of the `iid` parameter will change from True to False in version 0.22 and will be removed in 0.24. This will change numeric results when test-set sizes are unequal.\n",
      "  DeprecationWarning)\n"
     ]
    },
    {
     "name": "stdout",
     "output_type": "stream",
     "text": [
      "n= 62 {'metric': 'euclidean', 'n_neighbors': 2, 'weights': 'distance'} 0.865 0.8604651162790697\n"
     ]
    },
    {
     "name": "stderr",
     "output_type": "stream",
     "text": [
      "/Users/nguyenthang/anaconda3/envs/thang/lib/python3.7/site-packages/sklearn/model_selection/_search.py:814: DeprecationWarning: The default of the `iid` parameter will change from True to False in version 0.22 and will be removed in 0.24. This will change numeric results when test-set sizes are unequal.\n",
      "  DeprecationWarning)\n"
     ]
    },
    {
     "name": "stdout",
     "output_type": "stream",
     "text": [
      "n= 67 {'metric': 'euclidean', 'n_neighbors': 2, 'weights': 'distance'} 0.875 0.8604651162790697\n"
     ]
    },
    {
     "name": "stderr",
     "output_type": "stream",
     "text": [
      "/Users/nguyenthang/anaconda3/envs/thang/lib/python3.7/site-packages/sklearn/model_selection/_search.py:814: DeprecationWarning: The default of the `iid` parameter will change from True to False in version 0.22 and will be removed in 0.24. This will change numeric results when test-set sizes are unequal.\n",
      "  DeprecationWarning)\n"
     ]
    },
    {
     "name": "stdout",
     "output_type": "stream",
     "text": [
      "n= 72 {'metric': 'euclidean', 'n_neighbors': 2, 'weights': 'distance'} 0.875 0.872093023255814\n"
     ]
    },
    {
     "name": "stderr",
     "output_type": "stream",
     "text": [
      "/Users/nguyenthang/anaconda3/envs/thang/lib/python3.7/site-packages/sklearn/model_selection/_search.py:814: DeprecationWarning: The default of the `iid` parameter will change from True to False in version 0.22 and will be removed in 0.24. This will change numeric results when test-set sizes are unequal.\n",
      "  DeprecationWarning)\n"
     ]
    },
    {
     "name": "stdout",
     "output_type": "stream",
     "text": [
      "n= 77 {'metric': 'euclidean', 'n_neighbors': 2, 'weights': 'distance'} 0.87 0.8837209302325582\n"
     ]
    },
    {
     "name": "stderr",
     "output_type": "stream",
     "text": [
      "/Users/nguyenthang/anaconda3/envs/thang/lib/python3.7/site-packages/sklearn/model_selection/_search.py:814: DeprecationWarning: The default of the `iid` parameter will change from True to False in version 0.22 and will be removed in 0.24. This will change numeric results when test-set sizes are unequal.\n",
      "  DeprecationWarning)\n"
     ]
    },
    {
     "name": "stdout",
     "output_type": "stream",
     "text": [
      "n= 82 {'metric': 'euclidean', 'n_neighbors': 2, 'weights': 'distance'} 0.87 0.872093023255814\n"
     ]
    },
    {
     "name": "stderr",
     "output_type": "stream",
     "text": [
      "/Users/nguyenthang/anaconda3/envs/thang/lib/python3.7/site-packages/sklearn/model_selection/_search.py:814: DeprecationWarning: The default of the `iid` parameter will change from True to False in version 0.22 and will be removed in 0.24. This will change numeric results when test-set sizes are unequal.\n",
      "  DeprecationWarning)\n"
     ]
    },
    {
     "name": "stdout",
     "output_type": "stream",
     "text": [
      "n= 87 {'metric': 'euclidean', 'n_neighbors': 2, 'weights': 'distance'} 0.87 0.872093023255814\n"
     ]
    },
    {
     "name": "stderr",
     "output_type": "stream",
     "text": [
      "/Users/nguyenthang/anaconda3/envs/thang/lib/python3.7/site-packages/sklearn/model_selection/_search.py:814: DeprecationWarning: The default of the `iid` parameter will change from True to False in version 0.22 and will be removed in 0.24. This will change numeric results when test-set sizes are unequal.\n",
      "  DeprecationWarning)\n"
     ]
    },
    {
     "name": "stdout",
     "output_type": "stream",
     "text": [
      "n= 92 {'metric': 'euclidean', 'n_neighbors': 2, 'weights': 'distance'} 0.87 0.872093023255814\n"
     ]
    },
    {
     "name": "stderr",
     "output_type": "stream",
     "text": [
      "/Users/nguyenthang/anaconda3/envs/thang/lib/python3.7/site-packages/sklearn/model_selection/_search.py:814: DeprecationWarning: The default of the `iid` parameter will change from True to False in version 0.22 and will be removed in 0.24. This will change numeric results when test-set sizes are unequal.\n",
      "  DeprecationWarning)\n"
     ]
    },
    {
     "name": "stdout",
     "output_type": "stream",
     "text": [
      "n= 97 {'metric': 'euclidean', 'n_neighbors': 2, 'weights': 'distance'} 0.865 0.8837209302325582\n"
     ]
    },
    {
     "name": "stderr",
     "output_type": "stream",
     "text": [
      "/Users/nguyenthang/anaconda3/envs/thang/lib/python3.7/site-packages/sklearn/model_selection/_search.py:814: DeprecationWarning: The default of the `iid` parameter will change from True to False in version 0.22 and will be removed in 0.24. This will change numeric results when test-set sizes are unequal.\n",
      "  DeprecationWarning)\n"
     ]
    },
    {
     "name": "stdout",
     "output_type": "stream",
     "text": [
      "n= 102 {'metric': 'euclidean', 'n_neighbors': 2, 'weights': 'distance'} 0.865 0.8953488372093024\n"
     ]
    },
    {
     "name": "stderr",
     "output_type": "stream",
     "text": [
      "/Users/nguyenthang/anaconda3/envs/thang/lib/python3.7/site-packages/sklearn/model_selection/_search.py:814: DeprecationWarning: The default of the `iid` parameter will change from True to False in version 0.22 and will be removed in 0.24. This will change numeric results when test-set sizes are unequal.\n",
      "  DeprecationWarning)\n"
     ]
    },
    {
     "name": "stdout",
     "output_type": "stream",
     "text": [
      "n= 107 {'metric': 'euclidean', 'n_neighbors': 2, 'weights': 'distance'} 0.865 0.8837209302325582\n"
     ]
    },
    {
     "name": "stderr",
     "output_type": "stream",
     "text": [
      "/Users/nguyenthang/anaconda3/envs/thang/lib/python3.7/site-packages/sklearn/model_selection/_search.py:814: DeprecationWarning: The default of the `iid` parameter will change from True to False in version 0.22 and will be removed in 0.24. This will change numeric results when test-set sizes are unequal.\n",
      "  DeprecationWarning)\n"
     ]
    },
    {
     "name": "stdout",
     "output_type": "stream",
     "text": [
      "n= 112 {'metric': 'euclidean', 'n_neighbors': 2, 'weights': 'distance'} 0.865 0.872093023255814\n"
     ]
    },
    {
     "name": "stderr",
     "output_type": "stream",
     "text": [
      "/Users/nguyenthang/anaconda3/envs/thang/lib/python3.7/site-packages/sklearn/model_selection/_search.py:814: DeprecationWarning: The default of the `iid` parameter will change from True to False in version 0.22 and will be removed in 0.24. This will change numeric results when test-set sizes are unequal.\n",
      "  DeprecationWarning)\n"
     ]
    },
    {
     "name": "stdout",
     "output_type": "stream",
     "text": [
      "n= 117 {'metric': 'euclidean', 'n_neighbors': 2, 'weights': 'distance'} 0.87 0.872093023255814\n"
     ]
    },
    {
     "name": "stderr",
     "output_type": "stream",
     "text": [
      "/Users/nguyenthang/anaconda3/envs/thang/lib/python3.7/site-packages/sklearn/model_selection/_search.py:814: DeprecationWarning: The default of the `iid` parameter will change from True to False in version 0.22 and will be removed in 0.24. This will change numeric results when test-set sizes are unequal.\n",
      "  DeprecationWarning)\n"
     ]
    },
    {
     "name": "stdout",
     "output_type": "stream",
     "text": [
      "n= 122 {'metric': 'euclidean', 'n_neighbors': 2, 'weights': 'distance'} 0.87 0.872093023255814\n"
     ]
    },
    {
     "name": "stderr",
     "output_type": "stream",
     "text": [
      "/Users/nguyenthang/anaconda3/envs/thang/lib/python3.7/site-packages/sklearn/model_selection/_search.py:814: DeprecationWarning: The default of the `iid` parameter will change from True to False in version 0.22 and will be removed in 0.24. This will change numeric results when test-set sizes are unequal.\n",
      "  DeprecationWarning)\n"
     ]
    },
    {
     "name": "stdout",
     "output_type": "stream",
     "text": [
      "n= 127 {'metric': 'euclidean', 'n_neighbors': 2, 'weights': 'distance'} 0.87 0.8837209302325582\n"
     ]
    },
    {
     "name": "stderr",
     "output_type": "stream",
     "text": [
      "/Users/nguyenthang/anaconda3/envs/thang/lib/python3.7/site-packages/sklearn/model_selection/_search.py:814: DeprecationWarning: The default of the `iid` parameter will change from True to False in version 0.22 and will be removed in 0.24. This will change numeric results when test-set sizes are unequal.\n",
      "  DeprecationWarning)\n"
     ]
    },
    {
     "name": "stdout",
     "output_type": "stream",
     "text": [
      "n= 132 {'metric': 'euclidean', 'n_neighbors': 2, 'weights': 'distance'} 0.87 0.872093023255814\n"
     ]
    },
    {
     "name": "stderr",
     "output_type": "stream",
     "text": [
      "/Users/nguyenthang/anaconda3/envs/thang/lib/python3.7/site-packages/sklearn/model_selection/_search.py:814: DeprecationWarning: The default of the `iid` parameter will change from True to False in version 0.22 and will be removed in 0.24. This will change numeric results when test-set sizes are unequal.\n",
      "  DeprecationWarning)\n"
     ]
    },
    {
     "name": "stdout",
     "output_type": "stream",
     "text": [
      "n= 137 {'metric': 'euclidean', 'n_neighbors': 2, 'weights': 'distance'} 0.87 0.8837209302325582\n"
     ]
    },
    {
     "name": "stderr",
     "output_type": "stream",
     "text": [
      "/Users/nguyenthang/anaconda3/envs/thang/lib/python3.7/site-packages/sklearn/model_selection/_search.py:814: DeprecationWarning: The default of the `iid` parameter will change from True to False in version 0.22 and will be removed in 0.24. This will change numeric results when test-set sizes are unequal.\n",
      "  DeprecationWarning)\n"
     ]
    },
    {
     "name": "stdout",
     "output_type": "stream",
     "text": [
      "n= 142 {'metric': 'euclidean', 'n_neighbors': 2, 'weights': 'distance'} 0.87 0.8837209302325582\n"
     ]
    },
    {
     "name": "stderr",
     "output_type": "stream",
     "text": [
      "/Users/nguyenthang/anaconda3/envs/thang/lib/python3.7/site-packages/sklearn/model_selection/_search.py:814: DeprecationWarning: The default of the `iid` parameter will change from True to False in version 0.22 and will be removed in 0.24. This will change numeric results when test-set sizes are unequal.\n",
      "  DeprecationWarning)\n"
     ]
    },
    {
     "name": "stdout",
     "output_type": "stream",
     "text": [
      "n= 147 {'metric': 'euclidean', 'n_neighbors': 2, 'weights': 'distance'} 0.87 0.8953488372093024\n"
     ]
    },
    {
     "name": "stderr",
     "output_type": "stream",
     "text": [
      "/Users/nguyenthang/anaconda3/envs/thang/lib/python3.7/site-packages/sklearn/model_selection/_search.py:814: DeprecationWarning: The default of the `iid` parameter will change from True to False in version 0.22 and will be removed in 0.24. This will change numeric results when test-set sizes are unequal.\n",
      "  DeprecationWarning)\n"
     ]
    },
    {
     "name": "stdout",
     "output_type": "stream",
     "text": [
      "n= 152 {'metric': 'euclidean', 'n_neighbors': 2, 'weights': 'distance'} 0.87 0.8837209302325582\n"
     ]
    },
    {
     "name": "stderr",
     "output_type": "stream",
     "text": [
      "/Users/nguyenthang/anaconda3/envs/thang/lib/python3.7/site-packages/sklearn/model_selection/_search.py:814: DeprecationWarning: The default of the `iid` parameter will change from True to False in version 0.22 and will be removed in 0.24. This will change numeric results when test-set sizes are unequal.\n",
      "  DeprecationWarning)\n"
     ]
    },
    {
     "name": "stdout",
     "output_type": "stream",
     "text": [
      "n= 157 {'metric': 'euclidean', 'n_neighbors': 2, 'weights': 'distance'} 0.87 0.8953488372093024\n"
     ]
    },
    {
     "name": "stderr",
     "output_type": "stream",
     "text": [
      "/Users/nguyenthang/anaconda3/envs/thang/lib/python3.7/site-packages/sklearn/model_selection/_search.py:814: DeprecationWarning: The default of the `iid` parameter will change from True to False in version 0.22 and will be removed in 0.24. This will change numeric results when test-set sizes are unequal.\n",
      "  DeprecationWarning)\n"
     ]
    },
    {
     "name": "stdout",
     "output_type": "stream",
     "text": [
      "n= 162 {'metric': 'euclidean', 'n_neighbors': 2, 'weights': 'distance'} 0.87 0.8837209302325582\n"
     ]
    },
    {
     "name": "stderr",
     "output_type": "stream",
     "text": [
      "/Users/nguyenthang/anaconda3/envs/thang/lib/python3.7/site-packages/sklearn/model_selection/_search.py:814: DeprecationWarning: The default of the `iid` parameter will change from True to False in version 0.22 and will be removed in 0.24. This will change numeric results when test-set sizes are unequal.\n",
      "  DeprecationWarning)\n"
     ]
    },
    {
     "name": "stdout",
     "output_type": "stream",
     "text": [
      "n= 167 {'metric': 'euclidean', 'n_neighbors': 2, 'weights': 'distance'} 0.87 0.8837209302325582\n"
     ]
    },
    {
     "name": "stderr",
     "output_type": "stream",
     "text": [
      "/Users/nguyenthang/anaconda3/envs/thang/lib/python3.7/site-packages/sklearn/model_selection/_search.py:814: DeprecationWarning: The default of the `iid` parameter will change from True to False in version 0.22 and will be removed in 0.24. This will change numeric results when test-set sizes are unequal.\n",
      "  DeprecationWarning)\n"
     ]
    },
    {
     "name": "stdout",
     "output_type": "stream",
     "text": [
      "n= 172 {'metric': 'euclidean', 'n_neighbors': 2, 'weights': 'distance'} 0.87 0.8837209302325582\n"
     ]
    },
    {
     "name": "stderr",
     "output_type": "stream",
     "text": [
      "/Users/nguyenthang/anaconda3/envs/thang/lib/python3.7/site-packages/sklearn/model_selection/_search.py:814: DeprecationWarning: The default of the `iid` parameter will change from True to False in version 0.22 and will be removed in 0.24. This will change numeric results when test-set sizes are unequal.\n",
      "  DeprecationWarning)\n"
     ]
    },
    {
     "name": "stdout",
     "output_type": "stream",
     "text": [
      "n= 177 {'metric': 'euclidean', 'n_neighbors': 2, 'weights': 'distance'} 0.87 0.8837209302325582\n"
     ]
    },
    {
     "name": "stderr",
     "output_type": "stream",
     "text": [
      "/Users/nguyenthang/anaconda3/envs/thang/lib/python3.7/site-packages/sklearn/model_selection/_search.py:814: DeprecationWarning: The default of the `iid` parameter will change from True to False in version 0.22 and will be removed in 0.24. This will change numeric results when test-set sizes are unequal.\n",
      "  DeprecationWarning)\n"
     ]
    },
    {
     "name": "stdout",
     "output_type": "stream",
     "text": [
      "n= 182 {'metric': 'euclidean', 'n_neighbors': 2, 'weights': 'distance'} 0.87 0.8837209302325582\n"
     ]
    },
    {
     "name": "stderr",
     "output_type": "stream",
     "text": [
      "/Users/nguyenthang/anaconda3/envs/thang/lib/python3.7/site-packages/sklearn/model_selection/_search.py:814: DeprecationWarning: The default of the `iid` parameter will change from True to False in version 0.22 and will be removed in 0.24. This will change numeric results when test-set sizes are unequal.\n",
      "  DeprecationWarning)\n"
     ]
    },
    {
     "name": "stdout",
     "output_type": "stream",
     "text": [
      "n= 187 {'metric': 'euclidean', 'n_neighbors': 2, 'weights': 'distance'} 0.87 0.8837209302325582\n"
     ]
    },
    {
     "name": "stderr",
     "output_type": "stream",
     "text": [
      "/Users/nguyenthang/anaconda3/envs/thang/lib/python3.7/site-packages/sklearn/model_selection/_search.py:814: DeprecationWarning: The default of the `iid` parameter will change from True to False in version 0.22 and will be removed in 0.24. This will change numeric results when test-set sizes are unequal.\n",
      "  DeprecationWarning)\n"
     ]
    },
    {
     "name": "stdout",
     "output_type": "stream",
     "text": [
      "n= 192 {'metric': 'euclidean', 'n_neighbors': 2, 'weights': 'distance'} 0.87 0.8837209302325582\n",
      "n= 197 {'metric': 'euclidean', 'n_neighbors': 2, 'weights': 'distance'} 0.87 0.8837209302325582\n"
     ]
    },
    {
     "name": "stderr",
     "output_type": "stream",
     "text": [
      "/Users/nguyenthang/anaconda3/envs/thang/lib/python3.7/site-packages/sklearn/model_selection/_search.py:814: DeprecationWarning: The default of the `iid` parameter will change from True to False in version 0.22 and will be removed in 0.24. This will change numeric results when test-set sizes are unequal.\n",
      "  DeprecationWarning)\n"
     ]
    }
   ],
   "source": [
    "grid_params = {\n",
    "    'n_neighbors': np.arange(2, 25),\n",
    "    'weights': ['uniform', 'distance'],\n",
    "    'metric': ['euclidean', 'manhattan']\n",
    "}\n",
    "for n in range(2,200,5):\n",
    "    pca = sklearn.decomposition.PCA(n_components=n).fit(X_train)\n",
    "    X_train_reduce = pca.transform(X_train)\n",
    "    X_test_reduce = pca.transform(X_test)\n",
    "    \n",
    "    clf = KNeighborsClassifier()\n",
    "    knn_gscv = GridSearchCV(clf, grid_params, cv=6)\n",
    "    knn_gscv.fit(X_train_reduce, y_train)\n",
    "    print(\"n=\",n,knn_gscv.best_params_, knn_gscv.best_score_, knn_gscv.score(X_test_reduce,y_test))"
   ]
  },
  {
   "cell_type": "code",
   "execution_count": 101,
   "metadata": {},
   "outputs": [
    {
     "name": "stderr",
     "output_type": "stream",
     "text": [
      "/Users/nguyenthang/anaconda3/envs/thang/lib/python3.7/site-packages/sklearn/model_selection/_search.py:814: DeprecationWarning: The default of the `iid` parameter will change from True to False in version 0.22 and will be removed in 0.24. This will change numeric results when test-set sizes are unequal.\n",
      "  DeprecationWarning)\n"
     ]
    },
    {
     "data": {
      "text/plain": [
       "GridSearchCV(cv=6, error_score='raise-deprecating',\n",
       "             estimator=KNeighborsClassifier(algorithm='auto', leaf_size=30,\n",
       "                                            metric='minkowski',\n",
       "                                            metric_params=None, n_jobs=None,\n",
       "                                            n_neighbors=5, p=2,\n",
       "                                            weights='uniform'),\n",
       "             iid='warn', n_jobs=None,\n",
       "             param_grid={'metric': ['euclidean', 'manhattan'],\n",
       "                         'n_neighbors': array([ 2,  3,  4,  5,  6,  7,  8,  9, 10, 11, 12, 13, 14, 15, 16, 17, 18,\n",
       "       19, 20, 21, 22, 23, 24]),\n",
       "                         'weights': ['uniform', 'distance']},\n",
       "             pre_dispatch='2*n_jobs', refit=True, return_train_score=False,\n",
       "             scoring=None, verbose=0)"
      ]
     },
     "execution_count": 101,
     "metadata": {},
     "output_type": "execute_result"
    }
   ],
   "source": [
    "pca = sklearn.decomposition.PCA(n_components=37).fit(X_train)\n",
    "X_train_reduce = pca.transform(X_train)\n",
    "X_test_reduce = pca.transform(X_test)\n",
    "\n",
    "clf = KNeighborsClassifier()\n",
    "knn_gscv = GridSearchCV(clf, grid_params, cv=6)\n",
    "\n",
    "\n",
    "\n",
    "knn_gscv.fit(X_train_reduce, y_train)"
   ]
  },
  {
   "cell_type": "code",
   "execution_count": 102,
   "metadata": {},
   "outputs": [
    {
     "name": "stdout",
     "output_type": "stream",
     "text": [
      "n= 197 {'metric': 'euclidean', 'n_neighbors': 2, 'weights': 'distance'} 0.88\n"
     ]
    }
   ],
   "source": [
    "print(\"n=\",n,knn_gscv.best_params_, knn_gscv.best_score_)"
   ]
  },
  {
   "cell_type": "code",
   "execution_count": 103,
   "metadata": {},
   "outputs": [
    {
     "data": {
      "text/plain": [
       "0.9069767441860465"
      ]
     },
     "execution_count": 103,
     "metadata": {},
     "output_type": "execute_result"
    }
   ],
   "source": [
    "knn_gscv.score(X_test_reduce,y_test)"
   ]
  },
  {
   "cell_type": "code",
   "execution_count": 104,
   "metadata": {},
   "outputs": [],
   "source": [
    "y_pred = knn_gscv.predict(X_test_reduce)"
   ]
  },
  {
   "cell_type": "code",
   "execution_count": 106,
   "metadata": {},
   "outputs": [
    {
     "data": {
      "image/png": "[encoded data removed]",
      "text/plain": [
       "<Figure size 432x288 with 2 Axes>"
      ]
     },
     "metadata": {
      "needs_background": "light"
     },
     "output_type": "display_data"
    }
   ],
   "source": [
    "skplt.metrics.plot_confusion_matrix(y_test, y_pred, normalize=True)\n",
    "plt.show()"
   ]
  },
  {
   "cell_type": "code",
   "execution_count": 107,
   "metadata": {},
   "outputs": [
    {
     "name": "stdout",
     "output_type": "stream",
     "text": [
      "              precision    recall  f1-score   support\n",
      "\n",
      "           0       0.80      0.80      0.80         5\n",
      "           1       0.80      0.67      0.73         6\n",
      "           2       0.80      0.80      0.80         5\n",
      "           3       0.91      1.00      0.95        10\n",
      "           4       1.00      1.00      1.00         3\n",
      "           5       0.83      1.00      0.91         5\n",
      "           6       1.00      1.00      1.00         9\n",
      "           7       1.00      0.86      0.92         7\n",
      "           8       1.00      0.75      0.86        12\n",
      "           9       1.00      1.00      1.00         4\n",
      "          10       0.82      1.00      0.90         9\n",
      "          11       1.00      1.00      1.00         9\n",
      "          12       0.67      1.00      0.80         2\n",
      "\n",
      "    accuracy                           0.91        86\n",
      "   macro avg       0.89      0.91      0.90        86\n",
      "weighted avg       0.92      0.91      0.91        86\n",
      "\n"
     ]
    }
   ],
   "source": [
    "print(sklearn.metrics.classification_report(y_test, y_pred,digits=2))"
   ]
  },
  {
   "cell_type": "code",
   "execution_count": 132,
   "metadata": {},
   "outputs": [],
   "source": [
    "yr, mfcc_thang = wav2mfcc('thang/plusbas.wav',max_len=15,n_mfcc = 13,pad=True,delta=True,delta_delta=True)"
   ]
  },
  {
   "cell_type": "code",
   "execution_count": 134,
   "metadata": {},
   "outputs": [
    {
     "data": {
      "text/html": [
       "\n",
       "                <audio  controls=\"controls\" >\n",
       "                    <source src=\"data:audio/wav;base64,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\" type=\"audio/wav\" />\n",
       "                    Your browser does not support the audio element.\n",
       "                </audio>\n",
       "              "
      ],
      "text/plain": [
       "<IPython.lib.display.Audio object>"
      ]
     },
     "execution_count": 134,
     "metadata": {},
     "output_type": "execute_result"
    }
   ],
   "source": [
    "ipd.Audio(yr,rate=sr)"
   ]
  },
  {
   "cell_type": "code",
   "execution_count": 135,
   "metadata": {},
   "outputs": [
    {
     "data": {
      "text/plain": [
       "(39, 15)"
      ]
     },
     "execution_count": 135,
     "metadata": {},
     "output_type": "execute_result"
    }
   ],
   "source": [
    "mfcc_thang.shape"
   ]
  },
  {
   "cell_type": "code",
   "execution_count": 136,
   "metadata": {},
   "outputs": [],
   "source": [
    "nx, ny = mfcc_thang.shape\n",
    "mfcc_thang = mfcc_thang.reshape((1,nx*ny))"
   ]
  },
  {
   "cell_type": "code",
   "execution_count": 137,
   "metadata": {},
   "outputs": [],
   "source": [
    "mfcc_thang = scaler.transform(mfcc_thang)\n",
    "mfcc_thang = pca.transform(mfcc_thang)"
   ]
  },
  {
   "cell_type": "code",
   "execution_count": 138,
   "metadata": {},
   "outputs": [],
   "source": [
    "y_pred = knn_gscv.predict(mfcc_thang)"
   ]
  },
  {
   "cell_type": "code",
   "execution_count": 139,
   "metadata": {},
   "outputs": [
    {
     "data": {
      "text/plain": [
       "'plusbas'"
      ]
     },
     "execution_count": 139,
     "metadata": {},
     "output_type": "execute_result"
    }
   ],
   "source": [
    "labels[y_pred[0]]"
   ]
  },
  {
   "cell_type": "code",
   "execution_count": 11,
   "metadata": {},
   "outputs": [],
   "source": [
    "import os\n",
    "import glob2\n",
    "import progressbar\n",
    "from shutil import copyfile\n",
    "from sklearn import metrics\n",
    "from sklearn.model_selection import train_test_split\n",
    "%matplotlib notebook\n",
    "import scikitplot as skplt"
   ]
  },
  {
   "cell_type": "code",
   "execution_count": 90,
   "metadata": {},
   "outputs": [],
   "source": [
    "labels = [\"tournegauche\",\"tournedroite\",\"recule\",\"plushaut\",\n",
    "          \"plusbas\",\"gauche\",\"faisunflip\",\"etatdurgence\",\"droite\",\n",
    "          \"decollage\",\"avance\",\"atterrissage\",\"arretetoi\"]\n",
    "for label in labels:\n",
    "    os.mkdir(\"data/\"+label)"
   ]
  },
  {
   "cell_type": "code",
   "execution_count": 95,
   "metadata": {},
   "outputs": [],
   "source": [
    "def moveData(path,dst_path,labels):\n",
    "    files = os.listdir(path)\n",
    "    for label in labels:\n",
    "        for file in files:\n",
    "            if np.char.find(file,label) == 4:\n",
    "                copyfile(path+file, dst_path+label+'/N'+file)\n"
   ]
  },
  {
   "cell_type": "code",
   "execution_count": 96,
   "metadata": {},
   "outputs": [],
   "source": [
    "moveData(\"corpus/drone_noise/\",\"data/\",labels)"
   ]
  },
  {
   "cell_type": "code",
   "execution_count": 119,
   "metadata": {},
   "outputs": [],
   "source": [
    "number_of_classes = 0\n",
    "class_to_number = {}\n",
    "\n",
    "def collect_data(dataset_name):\n",
    "    global class_to_number\n",
    "    global number_of_classes\n",
    "    X = []\n",
    "    y = []\n",
    "    for path in glob2.glob(f'{dataset_name}/**/*.WAV'):\n",
    "        sample_class = path.split('/')[1]\n",
    "        mfcc = None\n",
    "        if sample_class[0]=='N':\n",
    "            pass\n",
    "        else:\n",
    "            _,_,mfcc = readAudio2mfcc(path,top_db=15)\n",
    "            X.append(np.array(mfcc).T)\n",
    "            if sample_class not in class_to_number:\n",
    "                class_to_number[sample_class] = number_of_classes\n",
    "                number_of_classes += 1\n",
    "            class_number = class_to_number[sample_class]\n",
    "            y.append(class_number)\n",
    "    return train_test_split(X, y, test_size=0.25)"
   ]
  },
  {
   "cell_type": "code",
   "execution_count": 120,
   "metadata": {},
   "outputs": [],
   "source": [
    "X_train, X_test, y_train, y_test = collect_data('data')"
   ]
  },
  {
   "cell_type": "code",
   "execution_count": 121,
   "metadata": {},
   "outputs": [
    {
     "data": {
      "text/plain": [
       "(8, 13)"
      ]
     },
     "execution_count": 121,
     "metadata": {},
     "output_type": "execute_result"
    }
   ],
   "source": [
    "X_train[2].shape"
   ]
  },
  {
   "cell_type": "code",
   "execution_count": 122,
   "metadata": {},
   "outputs": [
    {
     "name": "stderr",
     "output_type": "stream",
     "text": [
      "100% |########################################################################|\n"
     ]
    }
   ],
   "source": [
    "y_true = []\n",
    "y_pred = []\n",
    "bar = progressbar.ProgressBar(maxval=len(y_test))\n",
    "for sample, sample_class in bar(zip(X_test, y_test)):\n",
    "    min_dist = np.inf\n",
    "    predicted_class = None\n",
    "    for other, other_class in zip(X_train, y_train):\n",
    "        distance= dtw(sample, other)\n",
    "        if distance < min_dist:\n",
    "            min_dist = distance\n",
    "            predicted_class = other_class\n",
    "    y_true.append(sample_class)\n",
    "    y_pred.append(predicted_class)"
   ]
  },
  {
   "cell_type": "code",
   "execution_count": 123,
   "metadata": {},
   "outputs": [
    {
     "data": {
      "application/javascript": [
       "/* Put everything inside the global mpl namespace */\n",
       "window.mpl = {};\n",
       "\n",
       "\n",
       "mpl.get_websocket_type = function() {\n",
       "    if (typeof(WebSocket) !== 'undefined') {\n",
       "        return WebSocket;\n",
       "    } else if (typeof(MozWebSocket) !== 'undefined') {\n",
       "        return MozWebSocket;\n",
       "    } else {\n",
       "        alert('Your browser does not have WebSocket support. ' +\n",
       "              'Please try Chrome, Safari or Firefox ≥ 6. ' +\n",
       "              'Firefox 4 and 5 are also supported but you ' +\n",
       "              'have to enable WebSockets in about:config.');\n",
       "    };\n",
       "}\n",
       "\n",
       "mpl.figure = function(figure_id, websocket, ondownload, parent_element) {\n",
       "    this.id = figure_id;\n",
       "\n",
       "    this.ws = websocket;\n",
       "\n",
       "    this.supports_binary = (this.ws.binaryType != undefined);\n",
       "\n",
       "    if (!this.supports_binary) {\n",
       "        var warnings = document.getElementById(\"mpl-warnings\");\n",
       "        if (warnings) {\n",
       "            warnings.style.display = 'block';\n",
       "            warnings.textContent = (\n",
       "                \"This browser does not support binary websocket messages. \" +\n",
       "                    \"Performance may be slow.\");\n",
       "        }\n",
       "    }\n",
       "\n",
       "    this.imageObj = new Image();\n",
       "\n",
       "    this.context = undefined;\n",
       "    this.message = undefined;\n",
       "    this.canvas = undefined;\n",
       "    this.rubberband_canvas = undefined;\n",
       "    this.rubberband_context = undefined;\n",
       "    this.format_dropdown = undefined;\n",
       "\n",
       "    this.image_mode = 'full';\n",
       "\n",
       "    this.root = $('<div/>');\n",
       "    this._root_extra_style(this.root)\n",
       "    this.root.attr('style', 'display: inline-block');\n",
       "\n",
       "    $(parent_element).append(this.root);\n",
       "\n",
       "    this._init_header(this);\n",
       "    this._init_canvas(this);\n",
       "    this._init_toolbar(this);\n",
       "\n",
       "    var fig = this;\n",
       "\n",
       "    this.waiting = false;\n",
       "\n",
       "    this.ws.onopen =  function () {\n",
       "            fig.send_message(\"supports_binary\", {value: fig.supports_binary});\n",
       "            fig.send_message(\"send_image_mode\", {});\n",
       "            if (mpl.ratio != 1) {\n",
       "                fig.send_message(\"set_dpi_ratio\", {'dpi_ratio': mpl.ratio});\n",
       "            }\n",
       "            fig.send_message(\"refresh\", {});\n",
       "        }\n",
       "\n",
       "    this.imageObj.onload = function() {\n",
       "            if (fig.image_mode == 'full') {\n",
       "                // Full images could contain transparency (where diff images\n",
       "                // almost always do), so we need to clear the canvas so that\n",
       "                // there is no ghosting.\n",
       "                fig.context.clearRect(0, 0, fig.canvas.width, fig.canvas.height);\n",
       "            }\n",
       "            fig.context.drawImage(fig.imageObj, 0, 0);\n",
       "        };\n",
       "\n",
       "    this.imageObj.onunload = function() {\n",
       "        fig.ws.close();\n",
       "    }\n",
       "\n",
       "    this.ws.onmessage = this._make_on_message_function(this);\n",
       "\n",
       "    this.ondownload = ondownload;\n",
       "}\n",
       "\n",
       "mpl.figure.prototype._init_header = function() {\n",
       "    var titlebar = $(\n",
       "        '<div class=\"ui-dialog-titlebar ui-widget-header ui-corner-all ' +\n",
       "        'ui-helper-clearfix\"/>');\n",
       "    var titletext = $(\n",
       "        '<div class=\"ui-dialog-title\" style=\"width: 100%; ' +\n",
       "        'text-align: center; padding: 3px;\"/>');\n",
       "    titlebar.append(titletext)\n",
       "    this.root.append(titlebar);\n",
       "    this.header = titletext[0];\n",
       "}\n",
       "\n",
       "\n",
       "\n",
       "mpl.figure.prototype._canvas_extra_style = function(canvas_div) {\n",
       "\n",
       "}\n",
       "\n",
       "\n",
       "mpl.figure.prototype._root_extra_style = function(canvas_div) {\n",
       "\n",
       "}\n",
       "\n",
       "mpl.figure.prototype._init_canvas = function() {\n",
       "    var fig = this;\n",
       "\n",
       "    var canvas_div = $('<div/>');\n",
       "\n",
       "    canvas_div.attr('style', 'position: relative; clear: both; outline: 0');\n",
       "\n",
       "    function canvas_keyboard_event(event) {\n",
       "        return fig.key_event(event, event['data']);\n",
       "    }\n",
       "\n",
       "    canvas_div.keydown('key_press', canvas_keyboard_event);\n",
       "    canvas_div.keyup('key_release', canvas_keyboard_event);\n",
       "    this.canvas_div = canvas_div\n",
       "    this._canvas_extra_style(canvas_div)\n",
       "    this.root.append(canvas_div);\n",
       "\n",
       "    var canvas = $('<canvas/>');\n",
       "    canvas.addClass('mpl-canvas');\n",
       "    canvas.attr('style', \"left: 0; top: 0; z-index: 0; outline: 0\")\n",
       "\n",
       "    this.canvas = canvas[0];\n",
       "    this.context = canvas[0].getContext(\"2d\");\n",
       "\n",
       "    var backingStore = this.context.backingStorePixelRatio ||\n",
       "\tthis.context.webkitBackingStorePixelRatio ||\n",
       "\tthis.context.mozBackingStorePixelRatio ||\n",
       "\tthis.context.msBackingStorePixelRatio ||\n",
       "\tthis.context.oBackingStorePixelRatio ||\n",
       "\tthis.context.backingStorePixelRatio || 1;\n",
       "\n",
       "    mpl.ratio = (window.devicePixelRatio || 1) / backingStore;\n",
       "\n",
       "    var rubberband = $('<canvas/>');\n",
       "    rubberband.attr('style', \"position: absolute; left: 0; top: 0; z-index: 1;\")\n",
       "\n",
       "    var pass_mouse_events = true;\n",
       "\n",
       "    canvas_div.resizable({\n",
       "        start: function(event, ui) {\n",
       "            pass_mouse_events = false;\n",
       "        },\n",
       "        resize: function(event, ui) {\n",
       "            fig.request_resize(ui.size.width, ui.size.height);\n",
       "        },\n",
       "        stop: function(event, ui) {\n",
       "            pass_mouse_events = true;\n",
       "            fig.request_resize(ui.size.width, ui.size.height);\n",
       "        },\n",
       "    });\n",
       "\n",
       "    function mouse_event_fn(event) {\n",
       "        if (pass_mouse_events)\n",
       "            return fig.mouse_event(event, event['data']);\n",
       "    }\n",
       "\n",
       "    rubberband.mousedown('button_press', mouse_event_fn);\n",
       "    rubberband.mouseup('button_release', mouse_event_fn);\n",
       "    // Throttle sequential mouse events to 1 every 20ms.\n",
       "    rubberband.mousemove('motion_notify', mouse_event_fn);\n",
       "\n",
       "    rubberband.mouseenter('figure_enter', mouse_event_fn);\n",
       "    rubberband.mouseleave('figure_leave', mouse_event_fn);\n",
       "\n",
       "    canvas_div.on(\"wheel\", function (event) {\n",
       "        event = event.originalEvent;\n",
       "        event['data'] = 'scroll'\n",
       "        if (event.deltaY < 0) {\n",
       "            event.step = 1;\n",
       "        } else {\n",
       "            event.step = -1;\n",
       "        }\n",
       "        mouse_event_fn(event);\n",
       "    });\n",
       "\n",
       "    canvas_div.append(canvas);\n",
       "    canvas_div.append(rubberband);\n",
       "\n",
       "    this.rubberband = rubberband;\n",
       "    this.rubberband_canvas = rubberband[0];\n",
       "    this.rubberband_context = rubberband[0].getContext(\"2d\");\n",
       "    this.rubberband_context.strokeStyle = \"#000000\";\n",
       "\n",
       "    this._resize_canvas = function(width, height) {\n",
       "        // Keep the size of the canvas, canvas container, and rubber band\n",
       "        // canvas in synch.\n",
       "        canvas_div.css('width', width)\n",
       "        canvas_div.css('height', height)\n",
       "\n",
       "        canvas.attr('width', width * mpl.ratio);\n",
       "        canvas.attr('height', height * mpl.ratio);\n",
       "        canvas.attr('style', 'width: ' + width + 'px; height: ' + height + 'px;');\n",
       "\n",
       "        rubberband.attr('width', width);\n",
       "        rubberband.attr('height', height);\n",
       "    }\n",
       "\n",
       "    // Set the figure to an initial 600x600px, this will subsequently be updated\n",
       "    // upon first draw.\n",
       "    this._resize_canvas(600, 600);\n",
       "\n",
       "    // Disable right mouse context menu.\n",
       "    $(this.rubberband_canvas).bind(\"contextmenu\",function(e){\n",
       "        return false;\n",
       "    });\n",
       "\n",
       "    function set_focus () {\n",
       "        canvas.focus();\n",
       "        canvas_div.focus();\n",
       "    }\n",
       "\n",
       "    window.setTimeout(set_focus, 100);\n",
       "}\n",
       "\n",
       "mpl.figure.prototype._init_toolbar = function() {\n",
       "    var fig = this;\n",
       "\n",
       "    var nav_element = $('<div/>');\n",
       "    nav_element.attr('style', 'width: 100%');\n",
       "    this.root.append(nav_element);\n",
       "\n",
       "    // Define a callback function for later on.\n",
       "    function toolbar_event(event) {\n",
       "        return fig.toolbar_button_onclick(event['data']);\n",
       "    }\n",
       "    function toolbar_mouse_event(event) {\n",
       "        return fig.toolbar_button_onmouseover(event['data']);\n",
       "    }\n",
       "\n",
       "    for(var toolbar_ind in mpl.toolbar_items) {\n",
       "        var name = mpl.toolbar_items[toolbar_ind][0];\n",
       "        var tooltip = mpl.toolbar_items[toolbar_ind][1];\n",
       "        var image = mpl.toolbar_items[toolbar_ind][2];\n",
       "        var method_name = mpl.toolbar_items[toolbar_ind][3];\n",
       "\n",
       "        if (!name) {\n",
       "            // put a spacer in here.\n",
       "            continue;\n",
       "        }\n",
       "        var button = $('<button/>');\n",
       "        button.addClass('ui-button ui-widget ui-state-default ui-corner-all ' +\n",
       "                        'ui-button-icon-only');\n",
       "        button.attr('role', 'button');\n",
       "        button.attr('aria-disabled', 'false');\n",
       "        button.click(method_name, toolbar_event);\n",
       "        button.mouseover(tooltip, toolbar_mouse_event);\n",
       "\n",
       "        var icon_img = $('<span/>');\n",
       "        icon_img.addClass('ui-button-icon-primary ui-icon');\n",
       "        icon_img.addClass(image);\n",
       "        icon_img.addClass('ui-corner-all');\n",
       "\n",
       "        var tooltip_span = $('<span/>');\n",
       "        tooltip_span.addClass('ui-button-text');\n",
       "        tooltip_span.html(tooltip);\n",
       "\n",
       "        button.append(icon_img);\n",
       "        button.append(tooltip_span);\n",
       "\n",
       "        nav_element.append(button);\n",
       "    }\n",
       "\n",
       "    var fmt_picker_span = $('<span/>');\n",
       "\n",
       "    var fmt_picker = $('<select/>');\n",
       "    fmt_picker.addClass('mpl-toolbar-option ui-widget ui-widget-content');\n",
       "    fmt_picker_span.append(fmt_picker);\n",
       "    nav_element.append(fmt_picker_span);\n",
       "    this.format_dropdown = fmt_picker[0];\n",
       "\n",
       "    for (var ind in mpl.extensions) {\n",
       "        var fmt = mpl.extensions[ind];\n",
       "        var option = $(\n",
       "            '<option/>', {selected: fmt === mpl.default_extension}).html(fmt);\n",
       "        fmt_picker.append(option);\n",
       "    }\n",
       "\n",
       "    // Add hover states to the ui-buttons\n",
       "    $( \".ui-button\" ).hover(\n",
       "        function() { $(this).addClass(\"ui-state-hover\");},\n",
       "        function() { $(this).removeClass(\"ui-state-hover\");}\n",
       "    );\n",
       "\n",
       "    var status_bar = $('<span class=\"mpl-message\"/>');\n",
       "    nav_element.append(status_bar);\n",
       "    this.message = status_bar[0];\n",
       "}\n",
       "\n",
       "mpl.figure.prototype.request_resize = function(x_pixels, y_pixels) {\n",
       "    // Request matplotlib to resize the figure. Matplotlib will then trigger a resize in the client,\n",
       "    // which will in turn request a refresh of the image.\n",
       "    this.send_message('resize', {'width': x_pixels, 'height': y_pixels});\n",
       "}\n",
       "\n",
       "mpl.figure.prototype.send_message = function(type, properties) {\n",
       "    properties['type'] = type;\n",
       "    properties['figure_id'] = this.id;\n",
       "    this.ws.send(JSON.stringify(properties));\n",
       "}\n",
       "\n",
       "mpl.figure.prototype.send_draw_message = function() {\n",
       "    if (!this.waiting) {\n",
       "        this.waiting = true;\n",
       "        this.ws.send(JSON.stringify({type: \"draw\", figure_id: this.id}));\n",
       "    }\n",
       "}\n",
       "\n",
       "\n",
       "mpl.figure.prototype.handle_save = function(fig, msg) {\n",
       "    var format_dropdown = fig.format_dropdown;\n",
       "    var format = format_dropdown.options[format_dropdown.selectedIndex].value;\n",
       "    fig.ondownload(fig, format);\n",
       "}\n",
       "\n",
       "\n",
       "mpl.figure.prototype.handle_resize = function(fig, msg) {\n",
       "    var size = msg['size'];\n",
       "    if (size[0] != fig.canvas.width || size[1] != fig.canvas.height) {\n",
       "        fig._resize_canvas(size[0], size[1]);\n",
       "        fig.send_message(\"refresh\", {});\n",
       "    };\n",
       "}\n",
       "\n",
       "mpl.figure.prototype.handle_rubberband = function(fig, msg) {\n",
       "    var x0 = msg['x0'] / mpl.ratio;\n",
       "    var y0 = (fig.canvas.height - msg['y0']) / mpl.ratio;\n",
       "    var x1 = msg['x1'] / mpl.ratio;\n",
       "    var y1 = (fig.canvas.height - msg['y1']) / mpl.ratio;\n",
       "    x0 = Math.floor(x0) + 0.5;\n",
       "    y0 = Math.floor(y0) + 0.5;\n",
       "    x1 = Math.floor(x1) + 0.5;\n",
       "    y1 = Math.floor(y1) + 0.5;\n",
       "    var min_x = Math.min(x0, x1);\n",
       "    var min_y = Math.min(y0, y1);\n",
       "    var width = Math.abs(x1 - x0);\n",
       "    var height = Math.abs(y1 - y0);\n",
       "\n",
       "    fig.rubberband_context.clearRect(\n",
       "        0, 0, fig.canvas.width / mpl.ratio, fig.canvas.height / mpl.ratio);\n",
       "\n",
       "    fig.rubberband_context.strokeRect(min_x, min_y, width, height);\n",
       "}\n",
       "\n",
       "mpl.figure.prototype.handle_figure_label = function(fig, msg) {\n",
       "    // Updates the figure title.\n",
       "    fig.header.textContent = msg['label'];\n",
       "}\n",
       "\n",
       "mpl.figure.prototype.handle_cursor = function(fig, msg) {\n",
       "    var cursor = msg['cursor'];\n",
       "    switch(cursor)\n",
       "    {\n",
       "    case 0:\n",
       "        cursor = 'pointer';\n",
       "        break;\n",
       "    case 1:\n",
       "        cursor = 'default';\n",
       "        break;\n",
       "    case 2:\n",
       "        cursor = 'crosshair';\n",
       "        break;\n",
       "    case 3:\n",
       "        cursor = 'move';\n",
       "        break;\n",
       "    }\n",
       "    fig.rubberband_canvas.style.cursor = cursor;\n",
       "}\n",
       "\n",
       "mpl.figure.prototype.handle_message = function(fig, msg) {\n",
       "    fig.message.textContent = msg['message'];\n",
       "}\n",
       "\n",
       "mpl.figure.prototype.handle_draw = function(fig, msg) {\n",
       "    // Request the server to send over a new figure.\n",
       "    fig.send_draw_message();\n",
       "}\n",
       "\n",
       "mpl.figure.prototype.handle_image_mode = function(fig, msg) {\n",
       "    fig.image_mode = msg['mode'];\n",
       "}\n",
       "\n",
       "mpl.figure.prototype.updated_canvas_event = function() {\n",
       "    // Called whenever the canvas gets updated.\n",
       "    this.send_message(\"ack\", {});\n",
       "}\n",
       "\n",
       "// A function to construct a web socket function for onmessage handling.\n",
       "// Called in the figure constructor.\n",
       "mpl.figure.prototype._make_on_message_function = function(fig) {\n",
       "    return function socket_on_message(evt) {\n",
       "        if (evt.data instanceof Blob) {\n",
       "            /* FIXME: We get \"Resource interpreted as Image but\n",
       "             * transferred with MIME type text/plain:\" errors on\n",
       "             * Chrome.  But how to set the MIME type?  It doesn't seem\n",
       "             * to be part of the websocket stream */\n",
       "            evt.data.type = \"image/png\";\n",
       "\n",
       "            /* Free the memory for the previous frames */\n",
       "            if (fig.imageObj.src) {\n",
       "                (window.URL || window.webkitURL).revokeObjectURL(\n",
       "                    fig.imageObj.src);\n",
       "            }\n",
       "\n",
       "            fig.imageObj.src = (window.URL || window.webkitURL).createObjectURL(\n",
       "                evt.data);\n",
       "            fig.updated_canvas_event();\n",
       "            fig.waiting = false;\n",
       "            return;\n",
       "        }\n",
       "        else if (typeof evt.data === 'string' && evt.data.slice(0, 21) == \"data:image/png;base64\") {\n",
       "            fig.imageObj.src = evt.data;\n",
       "            fig.updated_canvas_event();\n",
       "            fig.waiting = false;\n",
       "            return;\n",
       "        }\n",
       "\n",
       "        var msg = JSON.parse(evt.data);\n",
       "        var msg_type = msg['type'];\n",
       "\n",
       "        // Call the  \"handle_{type}\" callback, which takes\n",
       "        // the figure and JSON message as its only arguments.\n",
       "        try {\n",
       "            var callback = fig[\"handle_\" + msg_type];\n",
       "        } catch (e) {\n",
       "            console.log(\"No handler for the '\" + msg_type + \"' message type: \", msg);\n",
       "            return;\n",
       "        }\n",
       "\n",
       "        if (callback) {\n",
       "            try {\n",
       "                // console.log(\"Handling '\" + msg_type + \"' message: \", msg);\n",
       "                callback(fig, msg);\n",
       "            } catch (e) {\n",
       "                console.log(\"Exception inside the 'handler_\" + msg_type + \"' callback:\", e, e.stack, msg);\n",
       "            }\n",
       "        }\n",
       "    };\n",
       "}\n",
       "\n",
       "// from http://stackoverflow.com/questions/1114465/getting-mouse-location-in-canvas\n",
       "mpl.findpos = function(e) {\n",
       "    //this section is from http://www.quirksmode.org/js/events_properties.html\n",
       "    var targ;\n",
       "    if (!e)\n",
       "        e = window.event;\n",
       "    if (e.target)\n",
       "        targ = e.target;\n",
       "    else if (e.srcElement)\n",
       "        targ = e.srcElement;\n",
       "    if (targ.nodeType == 3) // defeat Safari bug\n",
       "        targ = targ.parentNode;\n",
       "\n",
       "    // jQuery normalizes the pageX and pageY\n",
       "    // pageX,Y are the mouse positions relative to the document\n",
       "    // offset() returns the position of the element relative to the document\n",
       "    var x = e.pageX - $(targ).offset().left;\n",
       "    var y = e.pageY - $(targ).offset().top;\n",
       "\n",
       "    return {\"x\": x, \"y\": y};\n",
       "};\n",
       "\n",
       "/*\n",
       " * return a copy of an object with only non-object keys\n",
       " * we need this to avoid circular references\n",
       " * http://stackoverflow.com/a/24161582/3208463\n",
       " */\n",
       "function simpleKeys (original) {\n",
       "  return Object.keys(original).reduce(function (obj, key) {\n",
       "    if (typeof original[key] !== 'object')\n",
       "        obj[key] = original[key]\n",
       "    return obj;\n",
       "  }, {});\n",
       "}\n",
       "\n",
       "mpl.figure.prototype.mouse_event = function(event, name) {\n",
       "    var canvas_pos = mpl.findpos(event)\n",
       "\n",
       "    if (name === 'button_press')\n",
       "    {\n",
       "        this.canvas.focus();\n",
       "        this.canvas_div.focus();\n",
       "    }\n",
       "\n",
       "    var x = canvas_pos.x * mpl.ratio;\n",
       "    var y = canvas_pos.y * mpl.ratio;\n",
       "\n",
       "    this.send_message(name, {x: x, y: y, button: event.button,\n",
       "                             step: event.step,\n",
       "                             guiEvent: simpleKeys(event)});\n",
       "\n",
       "    /* This prevents the web browser from automatically changing to\n",
       "     * the text insertion cursor when the button is pressed.  We want\n",
       "     * to control all of the cursor setting manually through the\n",
       "     * 'cursor' event from matplotlib */\n",
       "    event.preventDefault();\n",
       "    return false;\n",
       "}\n",
       "\n",
       "mpl.figure.prototype._key_event_extra = function(event, name) {\n",
       "    // Handle any extra behaviour associated with a key event\n",
       "}\n",
       "\n",
       "mpl.figure.prototype.key_event = function(event, name) {\n",
       "\n",
       "    // Prevent repeat events\n",
       "    if (name == 'key_press')\n",
       "    {\n",
       "        if (event.which === this._key)\n",
       "            return;\n",
       "        else\n",
       "            this._key = event.which;\n",
       "    }\n",
       "    if (name == 'key_release')\n",
       "        this._key = null;\n",
       "\n",
       "    var value = '';\n",
       "    if (event.ctrlKey && event.which != 17)\n",
       "        value += \"ctrl+\";\n",
       "    if (event.altKey && event.which != 18)\n",
       "        value += \"alt+\";\n",
       "    if (event.shiftKey && event.which != 16)\n",
       "        value += \"shift+\";\n",
       "\n",
       "    value += 'k';\n",
       "    value += event.which.toString();\n",
       "\n",
       "    this._key_event_extra(event, name);\n",
       "\n",
       "    this.send_message(name, {key: value,\n",
       "                             guiEvent: simpleKeys(event)});\n",
       "    return false;\n",
       "}\n",
       "\n",
       "mpl.figure.prototype.toolbar_button_onclick = function(name) {\n",
       "    if (name == 'download') {\n",
       "        this.handle_save(this, null);\n",
       "    } else {\n",
       "        this.send_message(\"toolbar_button\", {name: name});\n",
       "    }\n",
       "};\n",
       "\n",
       "mpl.figure.prototype.toolbar_button_onmouseover = function(tooltip) {\n",
       "    this.message.textContent = tooltip;\n",
       "};\n",
       "mpl.toolbar_items = [[\"Home\", \"Reset original view\", \"fa fa-home icon-home\", \"home\"], [\"Back\", \"Back to previous view\", \"fa fa-arrow-left icon-arrow-left\", \"back\"], [\"Forward\", \"Forward to next view\", \"fa fa-arrow-right icon-arrow-right\", \"forward\"], [\"\", \"\", \"\", \"\"], [\"Pan\", \"Pan axes with left mouse, zoom with right\", \"fa fa-arrows icon-move\", \"pan\"], [\"Zoom\", \"Zoom to rectangle\", \"fa fa-square-o icon-check-empty\", \"zoom\"], [\"\", \"\", \"\", \"\"], [\"Download\", \"Download plot\", \"fa fa-floppy-o icon-save\", \"download\"]];\n",
       "\n",
       "mpl.extensions = [\"eps\", \"pdf\", \"png\", \"ps\", \"raw\", \"svg\"];\n",
       "\n",
       "mpl.default_extension = \"png\";var comm_websocket_adapter = function(comm) {\n",
       "    // Create a \"websocket\"-like object which calls the given IPython comm\n",
       "    // object with the appropriate methods. Currently this is a non binary\n",
       "    // socket, so there is still some room for performance tuning.\n",
       "    var ws = {};\n",
       "\n",
       "    ws.close = function() {\n",
       "        comm.close()\n",
       "    };\n",
       "    ws.send = function(m) {\n",
       "        //console.log('sending', m);\n",
       "        comm.send(m);\n",
       "    };\n",
       "    // Register the callback with on_msg.\n",
       "    comm.on_msg(function(msg) {\n",
       "        //console.log('receiving', msg['content']['data'], msg);\n",
       "        // Pass the mpl event to the overridden (by mpl) onmessage function.\n",
       "        ws.onmessage(msg['content']['data'])\n",
       "    });\n",
       "    return ws;\n",
       "}\n",
       "\n",
       "mpl.mpl_figure_comm = function(comm, msg) {\n",
       "    // This is the function which gets called when the mpl process\n",
       "    // starts-up an IPython Comm through the \"matplotlib\" channel.\n",
       "\n",
       "    var id = msg.content.data.id;\n",
       "    // Get hold of the div created by the display call when the Comm\n",
       "    // socket was opened in Python.\n",
       "    var element = $(\"#\" + id);\n",
       "    var ws_proxy = comm_websocket_adapter(comm)\n",
       "\n",
       "    function ondownload(figure, format) {\n",
       "        window.open(figure.imageObj.src);\n",
       "    }\n",
       "\n",
       "    var fig = new mpl.figure(id, ws_proxy,\n",
       "                           ondownload,\n",
       "                           element.get(0));\n",
       "\n",
       "    // Call onopen now - mpl needs it, as it is assuming we've passed it a real\n",
       "    // web socket which is closed, not our websocket->open comm proxy.\n",
       "    ws_proxy.onopen();\n",
       "\n",
       "    fig.parent_element = element.get(0);\n",
       "    fig.cell_info = mpl.find_output_cell(\"<div id='\" + id + \"'></div>\");\n",
       "    if (!fig.cell_info) {\n",
       "        console.error(\"Failed to find cell for figure\", id, fig);\n",
       "        return;\n",
       "    }\n",
       "\n",
       "    var output_index = fig.cell_info[2]\n",
       "    var cell = fig.cell_info[0];\n",
       "\n",
       "};\n",
       "\n",
       "mpl.figure.prototype.handle_close = function(fig, msg) {\n",
       "    var width = fig.canvas.width/mpl.ratio\n",
       "    fig.root.unbind('remove')\n",
       "\n",
       "    // Update the output cell to use the data from the current canvas.\n",
       "    fig.push_to_output();\n",
       "    var dataURL = fig.canvas.toDataURL();\n",
       "    // Re-enable the keyboard manager in IPython - without this line, in FF,\n",
       "    // the notebook keyboard shortcuts fail.\n",
       "    IPython.keyboard_manager.enable()\n",
       "    $(fig.parent_element).html('<img src=\"' + dataURL + '\" width=\"' + width + '\">');\n",
       "    fig.close_ws(fig, msg);\n",
       "}\n",
       "\n",
       "mpl.figure.prototype.close_ws = function(fig, msg){\n",
       "    fig.send_message('closing', msg);\n",
       "    // fig.ws.close()\n",
       "}\n",
       "\n",
       "mpl.figure.prototype.push_to_output = function(remove_interactive) {\n",
       "    // Turn the data on the canvas into data in the output cell.\n",
       "    var width = this.canvas.width/mpl.ratio\n",
       "    var dataURL = this.canvas.toDataURL();\n",
       "    this.cell_info[1]['text/html'] = '<img src=\"' + dataURL + '\" width=\"' + width + '\">';\n",
       "}\n",
       "\n",
       "mpl.figure.prototype.updated_canvas_event = function() {\n",
       "    // Tell IPython that the notebook contents must change.\n",
       "    IPython.notebook.set_dirty(true);\n",
       "    this.send_message(\"ack\", {});\n",
       "    var fig = this;\n",
       "    // Wait a second, then push the new image to the DOM so\n",
       "    // that it is saved nicely (might be nice to debounce this).\n",
       "    setTimeout(function () { fig.push_to_output() }, 1000);\n",
       "}\n",
       "\n",
       "mpl.figure.prototype._init_toolbar = function() {\n",
       "    var fig = this;\n",
       "\n",
       "    var nav_element = $('<div/>');\n",
       "    nav_element.attr('style', 'width: 100%');\n",
       "    this.root.append(nav_element);\n",
       "\n",
       "    // Define a callback function for later on.\n",
       "    function toolbar_event(event) {\n",
       "        return fig.toolbar_button_onclick(event['data']);\n",
       "    }\n",
       "    function toolbar_mouse_event(event) {\n",
       "        return fig.toolbar_button_onmouseover(event['data']);\n",
       "    }\n",
       "\n",
       "    for(var toolbar_ind in mpl.toolbar_items){\n",
       "        var name = mpl.toolbar_items[toolbar_ind][0];\n",
       "        var tooltip = mpl.toolbar_items[toolbar_ind][1];\n",
       "        var image = mpl.toolbar_items[toolbar_ind][2];\n",
       "        var method_name = mpl.toolbar_items[toolbar_ind][3];\n",
       "\n",
       "        if (!name) { continue; };\n",
       "\n",
       "        var button = $('<button class=\"btn btn-default\" href=\"#\" title=\"' + name + '\"><i class=\"fa ' + image + ' fa-lg\"></i></button>');\n",
       "        button.click(method_name, toolbar_event);\n",
       "        button.mouseover(tooltip, toolbar_mouse_event);\n",
       "        nav_element.append(button);\n",
       "    }\n",
       "\n",
       "    // Add the status bar.\n",
       "    var status_bar = $('<span class=\"mpl-message\" style=\"text-align:right; float: right;\"/>');\n",
       "    nav_element.append(status_bar);\n",
       "    this.message = status_bar[0];\n",
       "\n",
       "    // Add the close button to the window.\n",
       "    var buttongrp = $('<div class=\"btn-group inline pull-right\"></div>');\n",
       "    var button = $('<button class=\"btn btn-mini btn-primary\" href=\"#\" title=\"Stop Interaction\"><i class=\"fa fa-power-off icon-remove icon-large\"></i></button>');\n",
       "    button.click(function (evt) { fig.handle_close(fig, {}); } );\n",
       "    button.mouseover('Stop Interaction', toolbar_mouse_event);\n",
       "    buttongrp.append(button);\n",
       "    var titlebar = this.root.find($('.ui-dialog-titlebar'));\n",
       "    titlebar.prepend(buttongrp);\n",
       "}\n",
       "\n",
       "mpl.figure.prototype._root_extra_style = function(el){\n",
       "    var fig = this\n",
       "    el.on(\"remove\", function(){\n",
       "\tfig.close_ws(fig, {});\n",
       "    });\n",
       "}\n",
       "\n",
       "mpl.figure.prototype._canvas_extra_style = function(el){\n",
       "    // this is important to make the div 'focusable\n",
       "    el.attr('tabindex', 0)\n",
       "    // reach out to IPython and tell the keyboard manager to turn it's self\n",
       "    // off when our div gets focus\n",
       "\n",
       "    // location in version 3\n",
       "    if (IPython.notebook.keyboard_manager) {\n",
       "        IPython.notebook.keyboard_manager.register_events(el);\n",
       "    }\n",
       "    else {\n",
       "        // location in version 2\n",
       "        IPython.keyboard_manager.register_events(el);\n",
       "    }\n",
       "\n",
       "}\n",
       "\n",
       "mpl.figure.prototype._key_event_extra = function(event, name) {\n",
       "    var manager = IPython.notebook.keyboard_manager;\n",
       "    if (!manager)\n",
       "        manager = IPython.keyboard_manager;\n",
       "\n",
       "    // Check for shift+enter\n",
       "    if (event.shiftKey && event.which == 13) {\n",
       "        this.canvas_div.blur();\n",
       "        // select the cell after this one\n",
       "        var index = IPython.notebook.find_cell_index(this.cell_info[0]);\n",
       "        IPython.notebook.select(index + 1);\n",
       "    }\n",
       "}\n",
       "\n",
       "mpl.figure.prototype.handle_save = function(fig, msg) {\n",
       "    fig.ondownload(fig, null);\n",
       "}\n",
       "\n",
       "\n",
       "mpl.find_output_cell = function(html_output) {\n",
       "    // Return the cell and output element which can be found *uniquely* in the notebook.\n",
       "    // Note - this is a bit hacky, but it is done because the \"notebook_saving.Notebook\"\n",
       "    // IPython event is triggered only after the cells have been serialised, which for\n",
       "    // our purposes (turning an active figure into a static one), is too late.\n",
       "    var cells = IPython.notebook.get_cells();\n",
       "    var ncells = cells.length;\n",
       "    for (var i=0; i<ncells; i++) {\n",
       "        var cell = cells[i];\n",
       "        if (cell.cell_type === 'code'){\n",
       "            for (var j=0; j<cell.output_area.outputs.length; j++) {\n",
       "                var data = cell.output_area.outputs[j];\n",
       "                if (data.data) {\n",
       "                    // IPython >= 3 moved mimebundle to data attribute of output\n",
       "                    data = data.data;\n",
       "                }\n",
       "                if (data['text/html'] == html_output) {\n",
       "                    return [cell, data, j];\n",
       "                }\n",
       "            }\n",
       "        }\n",
       "    }\n",
       "}\n",
       "\n",
       "// Register the function which deals with the matplotlib target/channel.\n",
       "// The kernel may be null if the page has been refreshed.\n",
       "if (IPython.notebook.kernel != null) {\n",
       "    IPython.notebook.kernel.comm_manager.register_target('matplotlib', mpl.mpl_figure_comm);\n",
       "}\n"
      ],
      "text/plain": [
       "<IPython.core.display.Javascript object>"
      ]
     },
     "metadata": {},
     "output_type": "display_data"
    },
    {
     "data": {
      "text/html": [
       "<img src=\"data:image/png;base64,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\" width=\"432\">"
      ],
      "text/plain": [
       "<IPython.core.display.HTML object>"
      ]
     },
     "metadata": {},
     "output_type": "display_data"
    }
   ],
   "source": [
    "%matplotlib notebook\n",
    "import matplotlib.pyplot as plt\n",
    "import scikitplot as skplt\n",
    "skplt.metrics.plot_confusion_matrix(y_true, y_pred, normalize=False)\n",
    "plt.show()"
   ]
  },
  {
   "cell_type": "code",
   "execution_count": 124,
   "metadata": {},
   "outputs": [
    {
     "name": "stdout",
     "output_type": "stream",
     "text": [
      "              precision    recall  f1-score   support\n",
      "\n",
      "           0       0.50      0.40      0.44         5\n",
      "           1       1.00      0.86      0.92         7\n",
      "           2       1.00      1.00      1.00         6\n",
      "           3       0.50      1.00      0.67         1\n",
      "           4       1.00      1.00      1.00         7\n",
      "           5       1.00      1.00      1.00         4\n",
      "           6       0.83      0.83      0.83         6\n",
      "           7       0.67      1.00      0.80         4\n",
      "           8       0.83      0.62      0.71         8\n",
      "           9       0.33      0.50      0.40         4\n",
      "          10       1.00      0.50      0.67         6\n",
      "          11       1.00      1.00      1.00         8\n",
      "          12       0.62      0.83      0.71         6\n",
      "\n",
      "    accuracy                           0.81        72\n",
      "   macro avg       0.79      0.81      0.78        72\n",
      "weighted avg       0.84      0.81      0.81        72\n",
      "\n"
     ]
    }
   ],
   "source": [
    "print(sklearn.metrics.classification_report(y_true, y_pred,digits=2))"
   ]
  },
  {
   "cell_type": "markdown",
   "metadata": {},
   "source": [
    "# version 2"
   ]
  },
  {
   "cell_type": "code",
   "execution_count": 99,
   "metadata": {},
   "outputs": [],
   "source": [
    "number_of_classes = 0\n",
    "class_to_number = {}\n",
    "\n",
    "def collect_data_v2(dataset_name):\n",
    "    global class_to_number\n",
    "    global number_of_classes\n",
    "    X = []\n",
    "    y = []\n",
    "    \n",
    "    files = glob2.glob(f'{dataset_name}/**/*.WAV')\n",
    "    np.random.shuffle(files)\n",
    "    print(len(files))\n",
    "    for path in files:\n",
    "        sample_class = path.split('/')[1]\n",
    "        \n",
    "        mfcc = wav2mfcc(path,max_len=15,n_mfcc = 13)\n",
    "        X.append(mfcc)\n",
    "        if sample_class not in class_to_number:\n",
    "            class_to_number[sample_class] = number_of_classes\n",
    "            number_of_classes += 1\n",
    "        class_number = class_to_number[sample_class]\n",
    "        y.append(class_number)\n",
    "    return train_test_split(np.array(X), y, test_size=0.2)"
   ]
  },
  {
   "cell_type": "code",
   "execution_count": 100,
   "metadata": {
    "scrolled": true
   },
   "outputs": [
    {
     "name": "stdout",
     "output_type": "stream",
     "text": [
      "286\n"
     ]
    }
   ],
   "source": [
    "X_train, X_test, y_train, y_test = collect_data_v2('data')"
   ]
  },
  {
   "cell_type": "code",
   "execution_count": 101,
   "metadata": {},
   "outputs": [
    {
     "data": {
      "text/plain": [
       "(228, 39, 15)"
      ]
     },
     "execution_count": 101,
     "metadata": {},
     "output_type": "execute_result"
    }
   ],
   "source": [
    "X_train.shape"
   ]
  },
  {
   "cell_type": "code",
   "execution_count": 102,
   "metadata": {},
   "outputs": [
    {
     "data": {
      "text/plain": [
       "(58, 39, 15)"
      ]
     },
     "execution_count": 102,
     "metadata": {},
     "output_type": "execute_result"
    }
   ],
   "source": [
    "X_test.shape"
   ]
  },
  {
   "cell_type": "code",
   "execution_count": 103,
   "metadata": {},
   "outputs": [],
   "source": [
    "nsamples, nx, ny = X_train.shape\n",
    "X_train = X_train.reshape((nsamples,nx*ny))\n",
    "\n",
    "nsamples, nx, ny = X_test.shape\n",
    "X_test = X_test.reshape((nsamples,nx*ny))"
   ]
  },
  {
   "cell_type": "code",
   "execution_count": 104,
   "metadata": {},
   "outputs": [],
   "source": [
    "scaler = sklearn.preprocessing.StandardScaler()\n",
    "scaler.fit(X_train)\n",
    "X_train_std = scaler.transform(X_train)\n",
    "X_test_std  = scaler.transform(X_test)"
   ]
  },
  {
   "cell_type": "code",
   "execution_count": 105,
   "metadata": {},
   "outputs": [
    {
     "data": {
      "text/plain": [
       "2.130882398440846e-18"
      ]
     },
     "execution_count": 105,
     "metadata": {},
     "output_type": "execute_result"
    }
   ],
   "source": [
    "X_train_std.mean()"
   ]
  },
  {
   "cell_type": "code",
   "execution_count": 106,
   "metadata": {
    "scrolled": true
   },
   "outputs": [
    {
     "name": "stdout",
     "output_type": "stream",
     "text": [
      "n= 20\n",
      "--k= 2 0.8448275862068966\n",
      "--k= 3 0.8620689655172413\n",
      "n= 25\n",
      "--k= 2 0.8620689655172413\n",
      "--k= 3 0.8448275862068966\n",
      "n= 30\n",
      "--k= 2 0.896551724137931\n",
      "--k= 3 0.8620689655172413\n",
      "n= 35\n",
      "--k= 2 0.8620689655172413\n",
      "--k= 3 0.8620689655172413\n",
      "n= 40\n",
      "--k= 2 0.8620689655172413\n",
      "--k= 3 0.8793103448275862\n",
      "n= 45\n",
      "--k= 2 0.8448275862068966\n",
      "--k= 3 0.8620689655172413\n",
      "n= 50\n",
      "--k= 2 0.8620689655172413\n",
      "--k= 3 0.8793103448275862\n",
      "n= 55\n",
      "--k= 2 0.8275862068965517\n",
      "--k= 3 0.8793103448275862\n",
      "n= 60\n",
      "--k= 2 0.8275862068965517\n",
      "--k= 3 0.8793103448275862\n",
      "n= 65\n",
      "--k= 2 0.7758620689655172\n",
      "--k= 3 0.8620689655172413\n",
      "n= 70\n",
      "--k= 2 0.7931034482758621\n",
      "--k= 3 0.8620689655172413\n",
      "n= 75\n",
      "--k= 2 0.8275862068965517\n",
      "--k= 3 0.8793103448275862\n",
      "n= 80\n",
      "--k= 2 0.8275862068965517\n",
      "--k= 3 0.8793103448275862\n",
      "n= 85\n",
      "--k= 2 0.8275862068965517\n",
      "--k= 3 0.8793103448275862\n",
      "n= 90\n",
      "--k= 2 0.8103448275862069\n",
      "--k= 3 0.8793103448275862\n",
      "n= 95\n",
      "--k= 2 0.8448275862068966\n",
      "--k= 3 0.8793103448275862\n",
      "n= 100\n",
      "--k= 2 0.8448275862068966\n",
      "--k= 3 0.8620689655172413\n",
      "n= 105\n",
      "--k= 2 0.8448275862068966\n",
      "--k= 3 0.8620689655172413\n",
      "n= 110\n",
      "--k= 2 0.8620689655172413\n",
      "--k= 3 0.8793103448275862\n",
      "n= 115\n",
      "--k= 2 0.8620689655172413\n",
      "--k= 3 0.896551724137931\n",
      "n= 120\n",
      "--k= 2 0.8620689655172413\n",
      "--k= 3 0.896551724137931\n",
      "n= 125\n",
      "--k= 2 0.8620689655172413\n",
      "--k= 3 0.896551724137931\n",
      "n= 130\n",
      "--k= 2 0.8620689655172413\n",
      "--k= 3 0.896551724137931\n",
      "n= 135\n",
      "--k= 2 0.8620689655172413\n",
      "--k= 3 0.8793103448275862\n",
      "n= 140\n",
      "--k= 2 0.8620689655172413\n",
      "--k= 3 0.896551724137931\n",
      "n= 145\n",
      "--k= 2 0.8620689655172413\n",
      "--k= 3 0.8793103448275862\n",
      "n= 150\n",
      "--k= 2 0.8793103448275862\n",
      "--k= 3 0.8620689655172413\n",
      "n= 155\n",
      "--k= 2 0.8620689655172413\n",
      "--k= 3 0.8620689655172413\n",
      "n= 160\n",
      "--k= 2 0.8793103448275862\n",
      "--k= 3 0.8620689655172413\n",
      "n= 165\n",
      "--k= 2 0.8793103448275862\n",
      "--k= 3 0.8620689655172413\n",
      "n= 170\n",
      "--k= 2 0.8793103448275862\n",
      "--k= 3 0.8620689655172413\n",
      "n= 175\n",
      "--k= 2 0.8620689655172413\n",
      "--k= 3 0.8620689655172413\n",
      "n= 180\n",
      "--k= 2 0.8793103448275862\n",
      "--k= 3 0.8620689655172413\n",
      "n= 185\n",
      "--k= 2 0.896551724137931\n",
      "--k= 3 0.8620689655172413\n",
      "n= 190\n",
      "--k= 2 0.896551724137931\n",
      "--k= 3 0.8620689655172413\n",
      "n= 195\n",
      "--k= 2 0.896551724137931\n",
      "--k= 3 0.8620689655172413\n",
      "30 0.896551724137931\n"
     ]
    }
   ],
   "source": [
    "max_score = 0\n",
    "max_n = 0\n",
    "for n in range(20,200,5):\n",
    "    pca = sklearn.decomposition.PCA(n_components=n).fit(X_train)\n",
    "    X_reduce = pca.transform(X_train_std)\n",
    "    X_test_reduce = pca.transform(X_test_std)\n",
    "    print(\"n=\",n)\n",
    "    \n",
    "    for i in range(2,4):\n",
    "        clf = KNeighborsClassifier(n_jobs=-1,n_neighbors=i,weights='uniform')\n",
    "        clf.fit(X_reduce, y_train)\n",
    "        k = clf.score(X_test_reduce, y_test)\n",
    "        if (k > max_score):\n",
    "            max_score = k\n",
    "            max_n = n;\n",
    "        print(\"--k=\",i,k)\n",
    "print(max_n, max_score)"
   ]
  },
  {
   "cell_type": "code",
   "execution_count": null,
   "metadata": {},
   "outputs": [],
   "source": []
  },
  {
   "cell_type": "markdown",
   "metadata": {},
   "source": [
    "max_len = 15, n_mfcc = 13 => acc = 75%"
   ]
  },
  {
   "cell_type": "code",
   "execution_count": 517,
   "metadata": {},
   "outputs": [],
   "source": [
    "y_train = np.array(y_train)"
   ]
  },
  {
   "cell_type": "code",
   "execution_count": 518,
   "metadata": {},
   "outputs": [
    {
     "data": {
      "text/plain": [
       "[19, 17, 17, 19, 35, 36, 19, 19, 15, 19, 17, 18, 14]"
      ]
     },
     "execution_count": 518,
     "metadata": {},
     "output_type": "execute_result"
    }
   ],
   "source": [
    "[ np.sum(y_train == i) for i in range(13)]"
   ]
  },
  {
   "cell_type": "code",
   "execution_count": null,
   "metadata": {},
   "outputs": [],
   "source": [
    "plt.bar(X_test, performance, align='center', alpha=0.5)\n",
    "plt.xticks(y_pos, objects)\n",
    "plt.ylabel('Usage')\n",
    "plt.title('Programming language usage')"
   ]
  },
  {
   "cell_type": "markdown",
   "metadata": {},
   "source": [
    "## version 3"
   ]
  },
  {
   "cell_type": "code",
   "execution_count": 107,
   "metadata": {},
   "outputs": [],
   "source": [
    "number_of_classes = 0\n",
    "class_to_number = {}\n",
    "\n",
    "def collect_data_v3(dataset_name):\n",
    "    global class_to_number\n",
    "    global number_of_classes\n",
    "    X = []\n",
    "    y = []\n",
    "    \n",
    "    files = glob2.glob(f'{dataset_name}/**/*.WAV')\n",
    "    np.random.shuffle(files)\n",
    "    #print(len(files))\n",
    "    for path in files:\n",
    "        sample_class = path.split('/')[1]\n",
    "        \n",
    "        mfcc = wav2mfcc(path,max_len=15,n_mfcc = 13)\n",
    "        X.append(mfcc)\n",
    "        if sample_class not in class_to_number:\n",
    "            class_to_number[sample_class] = number_of_classes\n",
    "            number_of_classes += 1\n",
    "        class_number = class_to_number[sample_class]\n",
    "        y.append(class_number)\n",
    "    return X,y"
   ]
  },
  {
   "cell_type": "code",
   "execution_count": 108,
   "metadata": {},
   "outputs": [],
   "source": [
    "X,y = collect_data_v3('data')"
   ]
  },
  {
   "cell_type": "code",
   "execution_count": 109,
   "metadata": {},
   "outputs": [],
   "source": [
    "X = np.array(X)\n",
    "nsamples, nx, ny = X.shape\n",
    "X_f = X.reshape((nsamples,nx*ny))\n",
    "\n",
    "scaler = sklearn.preprocessing.StandardScaler()\n",
    "scaler.fit(X_f)\n",
    "X_n = scaler.transform(X_f)\n",
    "X_n  = scaler.transform(X_f)"
   ]
  },
  {
   "cell_type": "code",
   "execution_count": 111,
   "metadata": {
    "scrolled": true
   },
   "outputs": [
    {
     "name": "stderr",
     "output_type": "stream",
     "text": [
      "/Users/nguyenthang/anaconda3/envs/thang/lib/python3.7/site-packages/sklearn/model_selection/_search.py:814: DeprecationWarning: The default of the `iid` parameter will change from True to False in version 0.22 and will be removed in 0.24. This will change numeric results when test-set sizes are unequal.\n",
      "  DeprecationWarning)\n"
     ]
    },
    {
     "name": "stdout",
     "output_type": "stream",
     "text": [
      "n= 2 {'metric': 'euclidean', 'n_neighbors': 12, 'weights': 'uniform'} 0.47202797202797203\n"
     ]
    },
    {
     "name": "stderr",
     "output_type": "stream",
     "text": [
      "/Users/nguyenthang/anaconda3/envs/thang/lib/python3.7/site-packages/sklearn/model_selection/_search.py:814: DeprecationWarning: The default of the `iid` parameter will change from True to False in version 0.22 and will be removed in 0.24. This will change numeric results when test-set sizes are unequal.\n",
      "  DeprecationWarning)\n"
     ]
    },
    {
     "name": "stdout",
     "output_type": "stream",
     "text": [
      "n= 7 {'metric': 'euclidean', 'n_neighbors': 7, 'weights': 'distance'} 0.8181818181818182\n"
     ]
    },
    {
     "name": "stderr",
     "output_type": "stream",
     "text": [
      "/Users/nguyenthang/anaconda3/envs/thang/lib/python3.7/site-packages/sklearn/model_selection/_search.py:814: DeprecationWarning: The default of the `iid` parameter will change from True to False in version 0.22 and will be removed in 0.24. This will change numeric results when test-set sizes are unequal.\n",
      "  DeprecationWarning)\n"
     ]
    },
    {
     "name": "stdout",
     "output_type": "stream",
     "text": [
      "n= 12 {'metric': 'euclidean', 'n_neighbors': 2, 'weights': 'distance'} 0.8636363636363636\n"
     ]
    },
    {
     "name": "stderr",
     "output_type": "stream",
     "text": [
      "/Users/nguyenthang/anaconda3/envs/thang/lib/python3.7/site-packages/sklearn/model_selection/_search.py:814: DeprecationWarning: The default of the `iid` parameter will change from True to False in version 0.22 and will be removed in 0.24. This will change numeric results when test-set sizes are unequal.\n",
      "  DeprecationWarning)\n"
     ]
    },
    {
     "name": "stdout",
     "output_type": "stream",
     "text": [
      "n= 17 {'metric': 'euclidean', 'n_neighbors': 2, 'weights': 'distance'} 0.8741258741258742\n"
     ]
    },
    {
     "name": "stderr",
     "output_type": "stream",
     "text": [
      "/Users/nguyenthang/anaconda3/envs/thang/lib/python3.7/site-packages/sklearn/model_selection/_search.py:814: DeprecationWarning: The default of the `iid` parameter will change from True to False in version 0.22 and will be removed in 0.24. This will change numeric results when test-set sizes are unequal.\n",
      "  DeprecationWarning)\n"
     ]
    },
    {
     "name": "stdout",
     "output_type": "stream",
     "text": [
      "n= 22 {'metric': 'euclidean', 'n_neighbors': 2, 'weights': 'distance'} 0.8811188811188811\n"
     ]
    },
    {
     "name": "stderr",
     "output_type": "stream",
     "text": [
      "/Users/nguyenthang/anaconda3/envs/thang/lib/python3.7/site-packages/sklearn/model_selection/_search.py:814: DeprecationWarning: The default of the `iid` parameter will change from True to False in version 0.22 and will be removed in 0.24. This will change numeric results when test-set sizes are unequal.\n",
      "  DeprecationWarning)\n"
     ]
    },
    {
     "name": "stdout",
     "output_type": "stream",
     "text": [
      "n= 27 {'metric': 'euclidean', 'n_neighbors': 2, 'weights': 'distance'} 0.8986013986013986\n"
     ]
    },
    {
     "name": "stderr",
     "output_type": "stream",
     "text": [
      "/Users/nguyenthang/anaconda3/envs/thang/lib/python3.7/site-packages/sklearn/model_selection/_search.py:814: DeprecationWarning: The default of the `iid` parameter will change from True to False in version 0.22 and will be removed in 0.24. This will change numeric results when test-set sizes are unequal.\n",
      "  DeprecationWarning)\n"
     ]
    },
    {
     "name": "stdout",
     "output_type": "stream",
     "text": [
      "n= 32 {'metric': 'manhattan', 'n_neighbors': 2, 'weights': 'distance'} 0.9055944055944056\n"
     ]
    },
    {
     "name": "stderr",
     "output_type": "stream",
     "text": [
      "/Users/nguyenthang/anaconda3/envs/thang/lib/python3.7/site-packages/sklearn/model_selection/_search.py:814: DeprecationWarning: The default of the `iid` parameter will change from True to False in version 0.22 and will be removed in 0.24. This will change numeric results when test-set sizes are unequal.\n",
      "  DeprecationWarning)\n"
     ]
    },
    {
     "name": "stdout",
     "output_type": "stream",
     "text": [
      "n= 37 {'metric': 'euclidean', 'n_neighbors': 2, 'weights': 'distance'} 0.9020979020979021\n"
     ]
    },
    {
     "name": "stderr",
     "output_type": "stream",
     "text": [
      "/Users/nguyenthang/anaconda3/envs/thang/lib/python3.7/site-packages/sklearn/model_selection/_search.py:814: DeprecationWarning: The default of the `iid` parameter will change from True to False in version 0.22 and will be removed in 0.24. This will change numeric results when test-set sizes are unequal.\n",
      "  DeprecationWarning)\n"
     ]
    },
    {
     "name": "stdout",
     "output_type": "stream",
     "text": [
      "n= 42 {'metric': 'euclidean', 'n_neighbors': 2, 'weights': 'distance'} 0.8951048951048951\n"
     ]
    },
    {
     "name": "stderr",
     "output_type": "stream",
     "text": [
      "/Users/nguyenthang/anaconda3/envs/thang/lib/python3.7/site-packages/sklearn/model_selection/_search.py:814: DeprecationWarning: The default of the `iid` parameter will change from True to False in version 0.22 and will be removed in 0.24. This will change numeric results when test-set sizes are unequal.\n",
      "  DeprecationWarning)\n"
     ]
    },
    {
     "name": "stdout",
     "output_type": "stream",
     "text": [
      "n= 47 {'metric': 'euclidean', 'n_neighbors': 2, 'weights': 'distance'} 0.9055944055944056\n"
     ]
    },
    {
     "name": "stderr",
     "output_type": "stream",
     "text": [
      "/Users/nguyenthang/anaconda3/envs/thang/lib/python3.7/site-packages/sklearn/model_selection/_search.py:814: DeprecationWarning: The default of the `iid` parameter will change from True to False in version 0.22 and will be removed in 0.24. This will change numeric results when test-set sizes are unequal.\n",
      "  DeprecationWarning)\n"
     ]
    },
    {
     "name": "stdout",
     "output_type": "stream",
     "text": [
      "n= 52 {'metric': 'euclidean', 'n_neighbors': 2, 'weights': 'distance'} 0.8986013986013986\n"
     ]
    },
    {
     "name": "stderr",
     "output_type": "stream",
     "text": [
      "/Users/nguyenthang/anaconda3/envs/thang/lib/python3.7/site-packages/sklearn/model_selection/_search.py:814: DeprecationWarning: The default of the `iid` parameter will change from True to False in version 0.22 and will be removed in 0.24. This will change numeric results when test-set sizes are unequal.\n",
      "  DeprecationWarning)\n"
     ]
    },
    {
     "name": "stdout",
     "output_type": "stream",
     "text": [
      "n= 57 {'metric': 'euclidean', 'n_neighbors': 2, 'weights': 'distance'} 0.8951048951048951\n"
     ]
    },
    {
     "name": "stderr",
     "output_type": "stream",
     "text": [
      "/Users/nguyenthang/anaconda3/envs/thang/lib/python3.7/site-packages/sklearn/model_selection/_search.py:814: DeprecationWarning: The default of the `iid` parameter will change from True to False in version 0.22 and will be removed in 0.24. This will change numeric results when test-set sizes are unequal.\n",
      "  DeprecationWarning)\n"
     ]
    },
    {
     "name": "stdout",
     "output_type": "stream",
     "text": [
      "n= 62 {'metric': 'euclidean', 'n_neighbors': 2, 'weights': 'distance'} 0.8986013986013986\n"
     ]
    },
    {
     "name": "stderr",
     "output_type": "stream",
     "text": [
      "/Users/nguyenthang/anaconda3/envs/thang/lib/python3.7/site-packages/sklearn/model_selection/_search.py:814: DeprecationWarning: The default of the `iid` parameter will change from True to False in version 0.22 and will be removed in 0.24. This will change numeric results when test-set sizes are unequal.\n",
      "  DeprecationWarning)\n"
     ]
    },
    {
     "name": "stdout",
     "output_type": "stream",
     "text": [
      "n= 67 {'metric': 'euclidean', 'n_neighbors': 2, 'weights': 'distance'} 0.8986013986013986\n"
     ]
    },
    {
     "name": "stderr",
     "output_type": "stream",
     "text": [
      "/Users/nguyenthang/anaconda3/envs/thang/lib/python3.7/site-packages/sklearn/model_selection/_search.py:814: DeprecationWarning: The default of the `iid` parameter will change from True to False in version 0.22 and will be removed in 0.24. This will change numeric results when test-set sizes are unequal.\n",
      "  DeprecationWarning)\n"
     ]
    },
    {
     "name": "stdout",
     "output_type": "stream",
     "text": [
      "n= 72 {'metric': 'euclidean', 'n_neighbors': 2, 'weights': 'distance'} 0.9055944055944056\n"
     ]
    },
    {
     "name": "stderr",
     "output_type": "stream",
     "text": [
      "/Users/nguyenthang/anaconda3/envs/thang/lib/python3.7/site-packages/sklearn/model_selection/_search.py:814: DeprecationWarning: The default of the `iid` parameter will change from True to False in version 0.22 and will be removed in 0.24. This will change numeric results when test-set sizes are unequal.\n",
      "  DeprecationWarning)\n"
     ]
    },
    {
     "name": "stdout",
     "output_type": "stream",
     "text": [
      "n= 77 {'metric': 'euclidean', 'n_neighbors': 2, 'weights': 'distance'} 0.9055944055944056\n"
     ]
    },
    {
     "name": "stderr",
     "output_type": "stream",
     "text": [
      "/Users/nguyenthang/anaconda3/envs/thang/lib/python3.7/site-packages/sklearn/model_selection/_search.py:814: DeprecationWarning: The default of the `iid` parameter will change from True to False in version 0.22 and will be removed in 0.24. This will change numeric results when test-set sizes are unequal.\n",
      "  DeprecationWarning)\n"
     ]
    },
    {
     "name": "stdout",
     "output_type": "stream",
     "text": [
      "n= 82 {'metric': 'euclidean', 'n_neighbors': 2, 'weights': 'distance'} 0.9090909090909091\n"
     ]
    },
    {
     "name": "stderr",
     "output_type": "stream",
     "text": [
      "/Users/nguyenthang/anaconda3/envs/thang/lib/python3.7/site-packages/sklearn/model_selection/_search.py:814: DeprecationWarning: The default of the `iid` parameter will change from True to False in version 0.22 and will be removed in 0.24. This will change numeric results when test-set sizes are unequal.\n",
      "  DeprecationWarning)\n"
     ]
    },
    {
     "name": "stdout",
     "output_type": "stream",
     "text": [
      "n= 87 {'metric': 'euclidean', 'n_neighbors': 2, 'weights': 'distance'} 0.9055944055944056\n"
     ]
    },
    {
     "name": "stderr",
     "output_type": "stream",
     "text": [
      "/Users/nguyenthang/anaconda3/envs/thang/lib/python3.7/site-packages/sklearn/model_selection/_search.py:814: DeprecationWarning: The default of the `iid` parameter will change from True to False in version 0.22 and will be removed in 0.24. This will change numeric results when test-set sizes are unequal.\n",
      "  DeprecationWarning)\n"
     ]
    },
    {
     "name": "stdout",
     "output_type": "stream",
     "text": [
      "n= 92 {'metric': 'euclidean', 'n_neighbors': 2, 'weights': 'distance'} 0.9055944055944056\n"
     ]
    },
    {
     "name": "stderr",
     "output_type": "stream",
     "text": [
      "/Users/nguyenthang/anaconda3/envs/thang/lib/python3.7/site-packages/sklearn/model_selection/_search.py:814: DeprecationWarning: The default of the `iid` parameter will change from True to False in version 0.22 and will be removed in 0.24. This will change numeric results when test-set sizes are unequal.\n",
      "  DeprecationWarning)\n"
     ]
    },
    {
     "name": "stdout",
     "output_type": "stream",
     "text": [
      "n= 97 {'metric': 'euclidean', 'n_neighbors': 2, 'weights': 'distance'} 0.9055944055944056\n"
     ]
    },
    {
     "name": "stderr",
     "output_type": "stream",
     "text": [
      "/Users/nguyenthang/anaconda3/envs/thang/lib/python3.7/site-packages/sklearn/model_selection/_search.py:814: DeprecationWarning: The default of the `iid` parameter will change from True to False in version 0.22 and will be removed in 0.24. This will change numeric results when test-set sizes are unequal.\n",
      "  DeprecationWarning)\n"
     ]
    },
    {
     "name": "stdout",
     "output_type": "stream",
     "text": [
      "n= 102 {'metric': 'euclidean', 'n_neighbors': 2, 'weights': 'distance'} 0.9020979020979021\n"
     ]
    },
    {
     "name": "stderr",
     "output_type": "stream",
     "text": [
      "/Users/nguyenthang/anaconda3/envs/thang/lib/python3.7/site-packages/sklearn/model_selection/_search.py:814: DeprecationWarning: The default of the `iid` parameter will change from True to False in version 0.22 and will be removed in 0.24. This will change numeric results when test-set sizes are unequal.\n",
      "  DeprecationWarning)\n"
     ]
    },
    {
     "name": "stdout",
     "output_type": "stream",
     "text": [
      "n= 107 {'metric': 'euclidean', 'n_neighbors': 2, 'weights': 'distance'} 0.9020979020979021\n"
     ]
    },
    {
     "name": "stderr",
     "output_type": "stream",
     "text": [
      "/Users/nguyenthang/anaconda3/envs/thang/lib/python3.7/site-packages/sklearn/model_selection/_search.py:814: DeprecationWarning: The default of the `iid` parameter will change from True to False in version 0.22 and will be removed in 0.24. This will change numeric results when test-set sizes are unequal.\n",
      "  DeprecationWarning)\n"
     ]
    },
    {
     "name": "stdout",
     "output_type": "stream",
     "text": [
      "n= 112 {'metric': 'euclidean', 'n_neighbors': 2, 'weights': 'distance'} 0.9055944055944056\n"
     ]
    },
    {
     "name": "stderr",
     "output_type": "stream",
     "text": [
      "/Users/nguyenthang/anaconda3/envs/thang/lib/python3.7/site-packages/sklearn/model_selection/_search.py:814: DeprecationWarning: The default of the `iid` parameter will change from True to False in version 0.22 and will be removed in 0.24. This will change numeric results when test-set sizes are unequal.\n",
      "  DeprecationWarning)\n"
     ]
    },
    {
     "name": "stdout",
     "output_type": "stream",
     "text": [
      "n= 117 {'metric': 'euclidean', 'n_neighbors': 2, 'weights': 'distance'} 0.9055944055944056\n"
     ]
    },
    {
     "name": "stderr",
     "output_type": "stream",
     "text": [
      "/Users/nguyenthang/anaconda3/envs/thang/lib/python3.7/site-packages/sklearn/model_selection/_search.py:814: DeprecationWarning: The default of the `iid` parameter will change from True to False in version 0.22 and will be removed in 0.24. This will change numeric results when test-set sizes are unequal.\n",
      "  DeprecationWarning)\n"
     ]
    },
    {
     "name": "stdout",
     "output_type": "stream",
     "text": [
      "n= 122 {'metric': 'euclidean', 'n_neighbors': 2, 'weights': 'distance'} 0.9020979020979021\n"
     ]
    },
    {
     "name": "stderr",
     "output_type": "stream",
     "text": [
      "/Users/nguyenthang/anaconda3/envs/thang/lib/python3.7/site-packages/sklearn/model_selection/_search.py:814: DeprecationWarning: The default of the `iid` parameter will change from True to False in version 0.22 and will be removed in 0.24. This will change numeric results when test-set sizes are unequal.\n",
      "  DeprecationWarning)\n"
     ]
    },
    {
     "name": "stdout",
     "output_type": "stream",
     "text": [
      "n= 127 {'metric': 'euclidean', 'n_neighbors': 2, 'weights': 'distance'} 0.9020979020979021\n"
     ]
    },
    {
     "name": "stderr",
     "output_type": "stream",
     "text": [
      "/Users/nguyenthang/anaconda3/envs/thang/lib/python3.7/site-packages/sklearn/model_selection/_search.py:814: DeprecationWarning: The default of the `iid` parameter will change from True to False in version 0.22 and will be removed in 0.24. This will change numeric results when test-set sizes are unequal.\n",
      "  DeprecationWarning)\n"
     ]
    },
    {
     "name": "stdout",
     "output_type": "stream",
     "text": [
      "n= 132 {'metric': 'euclidean', 'n_neighbors': 2, 'weights': 'distance'} 0.9055944055944056\n"
     ]
    },
    {
     "name": "stderr",
     "output_type": "stream",
     "text": [
      "/Users/nguyenthang/anaconda3/envs/thang/lib/python3.7/site-packages/sklearn/model_selection/_search.py:814: DeprecationWarning: The default of the `iid` parameter will change from True to False in version 0.22 and will be removed in 0.24. This will change numeric results when test-set sizes are unequal.\n",
      "  DeprecationWarning)\n"
     ]
    },
    {
     "name": "stdout",
     "output_type": "stream",
     "text": [
      "n= 137 {'metric': 'euclidean', 'n_neighbors': 2, 'weights': 'distance'} 0.9020979020979021\n"
     ]
    },
    {
     "name": "stderr",
     "output_type": "stream",
     "text": [
      "/Users/nguyenthang/anaconda3/envs/thang/lib/python3.7/site-packages/sklearn/model_selection/_search.py:814: DeprecationWarning: The default of the `iid` parameter will change from True to False in version 0.22 and will be removed in 0.24. This will change numeric results when test-set sizes are unequal.\n",
      "  DeprecationWarning)\n"
     ]
    },
    {
     "name": "stdout",
     "output_type": "stream",
     "text": [
      "n= 142 {'metric': 'euclidean', 'n_neighbors': 2, 'weights': 'distance'} 0.9020979020979021\n"
     ]
    },
    {
     "name": "stderr",
     "output_type": "stream",
     "text": [
      "/Users/nguyenthang/anaconda3/envs/thang/lib/python3.7/site-packages/sklearn/model_selection/_search.py:814: DeprecationWarning: The default of the `iid` parameter will change from True to False in version 0.22 and will be removed in 0.24. This will change numeric results when test-set sizes are unequal.\n",
      "  DeprecationWarning)\n"
     ]
    },
    {
     "name": "stdout",
     "output_type": "stream",
     "text": [
      "n= 147 {'metric': 'euclidean', 'n_neighbors': 2, 'weights': 'distance'} 0.9020979020979021\n"
     ]
    },
    {
     "name": "stderr",
     "output_type": "stream",
     "text": [
      "/Users/nguyenthang/anaconda3/envs/thang/lib/python3.7/site-packages/sklearn/model_selection/_search.py:814: DeprecationWarning: The default of the `iid` parameter will change from True to False in version 0.22 and will be removed in 0.24. This will change numeric results when test-set sizes are unequal.\n",
      "  DeprecationWarning)\n"
     ]
    },
    {
     "name": "stdout",
     "output_type": "stream",
     "text": [
      "n= 152 {'metric': 'euclidean', 'n_neighbors': 2, 'weights': 'distance'} 0.9020979020979021\n"
     ]
    },
    {
     "name": "stderr",
     "output_type": "stream",
     "text": [
      "/Users/nguyenthang/anaconda3/envs/thang/lib/python3.7/site-packages/sklearn/model_selection/_search.py:814: DeprecationWarning: The default of the `iid` parameter will change from True to False in version 0.22 and will be removed in 0.24. This will change numeric results when test-set sizes are unequal.\n",
      "  DeprecationWarning)\n"
     ]
    },
    {
     "name": "stdout",
     "output_type": "stream",
     "text": [
      "n= 157 {'metric': 'euclidean', 'n_neighbors': 2, 'weights': 'distance'} 0.9020979020979021\n"
     ]
    },
    {
     "name": "stderr",
     "output_type": "stream",
     "text": [
      "/Users/nguyenthang/anaconda3/envs/thang/lib/python3.7/site-packages/sklearn/model_selection/_search.py:814: DeprecationWarning: The default of the `iid` parameter will change from True to False in version 0.22 and will be removed in 0.24. This will change numeric results when test-set sizes are unequal.\n",
      "  DeprecationWarning)\n"
     ]
    },
    {
     "name": "stdout",
     "output_type": "stream",
     "text": [
      "n= 162 {'metric': 'euclidean', 'n_neighbors': 2, 'weights': 'distance'} 0.9020979020979021\n"
     ]
    },
    {
     "name": "stderr",
     "output_type": "stream",
     "text": [
      "/Users/nguyenthang/anaconda3/envs/thang/lib/python3.7/site-packages/sklearn/model_selection/_search.py:814: DeprecationWarning: The default of the `iid` parameter will change from True to False in version 0.22 and will be removed in 0.24. This will change numeric results when test-set sizes are unequal.\n",
      "  DeprecationWarning)\n"
     ]
    },
    {
     "name": "stdout",
     "output_type": "stream",
     "text": [
      "n= 167 {'metric': 'euclidean', 'n_neighbors': 2, 'weights': 'distance'} 0.9020979020979021\n"
     ]
    },
    {
     "name": "stderr",
     "output_type": "stream",
     "text": [
      "/Users/nguyenthang/anaconda3/envs/thang/lib/python3.7/site-packages/sklearn/model_selection/_search.py:814: DeprecationWarning: The default of the `iid` parameter will change from True to False in version 0.22 and will be removed in 0.24. This will change numeric results when test-set sizes are unequal.\n",
      "  DeprecationWarning)\n"
     ]
    },
    {
     "name": "stdout",
     "output_type": "stream",
     "text": [
      "n= 172 {'metric': 'euclidean', 'n_neighbors': 2, 'weights': 'distance'} 0.9055944055944056\n"
     ]
    },
    {
     "name": "stderr",
     "output_type": "stream",
     "text": [
      "/Users/nguyenthang/anaconda3/envs/thang/lib/python3.7/site-packages/sklearn/model_selection/_search.py:814: DeprecationWarning: The default of the `iid` parameter will change from True to False in version 0.22 and will be removed in 0.24. This will change numeric results when test-set sizes are unequal.\n",
      "  DeprecationWarning)\n"
     ]
    },
    {
     "name": "stdout",
     "output_type": "stream",
     "text": [
      "n= 177 {'metric': 'euclidean', 'n_neighbors': 2, 'weights': 'distance'} 0.9020979020979021\n"
     ]
    },
    {
     "name": "stderr",
     "output_type": "stream",
     "text": [
      "/Users/nguyenthang/anaconda3/envs/thang/lib/python3.7/site-packages/sklearn/model_selection/_search.py:814: DeprecationWarning: The default of the `iid` parameter will change from True to False in version 0.22 and will be removed in 0.24. This will change numeric results when test-set sizes are unequal.\n",
      "  DeprecationWarning)\n"
     ]
    },
    {
     "name": "stdout",
     "output_type": "stream",
     "text": [
      "n= 182 {'metric': 'euclidean', 'n_neighbors': 2, 'weights': 'distance'} 0.9055944055944056\n"
     ]
    },
    {
     "name": "stderr",
     "output_type": "stream",
     "text": [
      "/Users/nguyenthang/anaconda3/envs/thang/lib/python3.7/site-packages/sklearn/model_selection/_search.py:814: DeprecationWarning: The default of the `iid` parameter will change from True to False in version 0.22 and will be removed in 0.24. This will change numeric results when test-set sizes are unequal.\n",
      "  DeprecationWarning)\n"
     ]
    },
    {
     "name": "stdout",
     "output_type": "stream",
     "text": [
      "n= 187 {'metric': 'euclidean', 'n_neighbors': 2, 'weights': 'distance'} 0.9055944055944056\n"
     ]
    },
    {
     "name": "stderr",
     "output_type": "stream",
     "text": [
      "/Users/nguyenthang/anaconda3/envs/thang/lib/python3.7/site-packages/sklearn/model_selection/_search.py:814: DeprecationWarning: The default of the `iid` parameter will change from True to False in version 0.22 and will be removed in 0.24. This will change numeric results when test-set sizes are unequal.\n",
      "  DeprecationWarning)\n"
     ]
    },
    {
     "name": "stdout",
     "output_type": "stream",
     "text": [
      "n= 192 {'metric': 'euclidean', 'n_neighbors': 2, 'weights': 'distance'} 0.9055944055944056\n",
      "n= 197 {'metric': 'euclidean', 'n_neighbors': 2, 'weights': 'distance'} 0.9020979020979021\n"
     ]
    },
    {
     "name": "stderr",
     "output_type": "stream",
     "text": [
      "/Users/nguyenthang/anaconda3/envs/thang/lib/python3.7/site-packages/sklearn/model_selection/_search.py:814: DeprecationWarning: The default of the `iid` parameter will change from True to False in version 0.22 and will be removed in 0.24. This will change numeric results when test-set sizes are unequal.\n",
      "  DeprecationWarning)\n"
     ]
    }
   ],
   "source": [
    "grid_params = {\n",
    "    'n_neighbors': np.arange(2, 25),\n",
    "    'weights': ['uniform', 'distance'],\n",
    "    'metric': ['euclidean', 'manhattan']\n",
    "}\n",
    "for n in range(2,200,5):\n",
    "    pca = sklearn.decomposition.PCA(n_components=n).fit(X_n)\n",
    "    X_reduce = pca.transform(X_n)\n",
    "    \n",
    "    clf = KNeighborsClassifier()\n",
    "    knn_gscv = GridSearchCV(clf, grid_params, cv=6)\n",
    "    knn_gscv.fit(X_reduce, y)\n",
    "    print(\"n=\",n,knn_gscv.best_params_, knn_gscv.best_score_)"
   ]
  },
  {
   "cell_type": "markdown",
   "metadata": {},
   "source": [
    "## version 3"
   ]
  },
  {
   "cell_type": "code",
   "execution_count": 285,
   "metadata": {},
   "outputs": [],
   "source": [
    "number_of_classes = 0\n",
    "class_to_number = {}\n",
    "\n",
    "def collect_data_v2(dataset_name):\n",
    "    global class_to_number\n",
    "    global number_of_classes\n",
    "    X = []\n",
    "    y = []\n",
    "    \n",
    "    files = glob2.glob(f'{dataset_name}/**/*.WAV')\n",
    "    np.random.shuffle(files)\n",
    "    for path in files:\n",
    "        sample_class = path.split('/')[1]\n",
    "        mfcc = None\n",
    "        if sample_class[0]=='N':\n",
    "            pass\n",
    "        else:\n",
    "            mfcc = wav2mfcc(path,max_len=15)\n",
    "            X.append(mfcc)\n",
    "            if sample_class not in class_to_number:\n",
    "                class_to_number[sample_class] = number_of_classes\n",
    "                number_of_classes += 1\n",
    "            class_number = class_to_number[sample_class]\n",
    "            y.append(class_number)\n",
    "    return train_test_split(np.array(X), y, test_size=0.2)"
   ]
  },
  {
   "cell_type": "code",
   "execution_count": 286,
   "metadata": {},
   "outputs": [],
   "source": [
    "X_train, X_test, y_train, y_test = collect_data_v2('data')"
   ]
  },
  {
   "cell_type": "code",
   "execution_count": 289,
   "metadata": {},
   "outputs": [
    {
     "data": {
      "text/plain": [
       "(264, 20, 15)"
      ]
     },
     "execution_count": 289,
     "metadata": {},
     "output_type": "execute_result"
    }
   ],
   "source": [
    "X_train.shape"
   ]
  },
  {
   "cell_type": "code",
   "execution_count": 291,
   "metadata": {
    "scrolled": true
   },
   "outputs": [
    {
     "name": "stdout",
     "output_type": "stream",
     "text": [
      "n= 2\n",
      "--k= 2 0.10606060606060606\n",
      "--k= 3 0.12121212121212122\n",
      "--k= 4 0.13636363636363635\n",
      "--k= 5 0.12121212121212122\n",
      "--k= 6 0.09090909090909091\n",
      "--k= 7 0.12121212121212122\n",
      "--k= 8 0.16666666666666666\n",
      "--k= 9 0.15151515151515152\n",
      "--k= 10 0.13636363636363635\n",
      "--k= 11 0.12121212121212122\n",
      "n= 3\n",
      "--k= 2 0.10606060606060606\n",
      "--k= 3 0.12121212121212122\n",
      "--k= 4 0.13636363636363635\n",
      "--k= 5 0.12121212121212122\n",
      "--k= 6 0.09090909090909091\n",
      "--k= 7 0.12121212121212122\n",
      "--k= 8 0.16666666666666666\n",
      "--k= 9 0.15151515151515152\n",
      "--k= 10 0.13636363636363635\n",
      "--k= 11 0.12121212121212122\n",
      "n= 4\n",
      "--k= 2 0.10606060606060606\n",
      "--k= 3 0.12121212121212122\n",
      "--k= 4 0.13636363636363635\n",
      "--k= 5 0.12121212121212122\n",
      "--k= 6 0.09090909090909091\n",
      "--k= 7 0.12121212121212122\n",
      "--k= 8 0.16666666666666666\n",
      "--k= 9 0.15151515151515152\n",
      "--k= 10 0.13636363636363635\n",
      "--k= 11 0.12121212121212122\n",
      "n= 5\n",
      "--k= 2 0.10606060606060606\n",
      "--k= 3 0.12121212121212122\n",
      "--k= 4 0.13636363636363635\n",
      "--k= 5 0.12121212121212122\n",
      "--k= 6 0.09090909090909091\n",
      "--k= 7 0.12121212121212122\n",
      "--k= 8 0.16666666666666666\n",
      "--k= 9 0.15151515151515152\n",
      "--k= 10 0.13636363636363635\n",
      "--k= 11 0.12121212121212122\n",
      "n= 6\n",
      "--k= 2 0.10606060606060606\n",
      "--k= 3 0.12121212121212122\n",
      "--k= 4 0.13636363636363635\n",
      "--k= 5 0.12121212121212122\n",
      "--k= 6 0.09090909090909091\n",
      "--k= 7 0.12121212121212122\n",
      "--k= 8 0.16666666666666666\n",
      "--k= 9 0.15151515151515152\n",
      "--k= 10 0.13636363636363635\n",
      "--k= 11 0.12121212121212122\n",
      "n= 7\n",
      "--k= 2 0.10606060606060606\n",
      "--k= 3 0.12121212121212122\n",
      "--k= 4 0.13636363636363635\n",
      "--k= 5 0.12121212121212122\n",
      "--k= 6 0.09090909090909091\n",
      "--k= 7 0.12121212121212122\n",
      "--k= 8 0.16666666666666666\n",
      "--k= 9 0.15151515151515152\n",
      "--k= 10 0.13636363636363635\n",
      "--k= 11 0.12121212121212122\n",
      "n= 8\n",
      "--k= 2 0.10606060606060606\n",
      "--k= 3 0.12121212121212122\n",
      "--k= 4 0.13636363636363635\n",
      "--k= 5 0.12121212121212122\n",
      "--k= 6 0.09090909090909091\n",
      "--k= 7 0.12121212121212122\n",
      "--k= 8 0.16666666666666666\n",
      "--k= 9 0.15151515151515152\n",
      "--k= 10 0.13636363636363635\n",
      "--k= 11 0.12121212121212122\n",
      "n= 9\n",
      "--k= 2 0.10606060606060606\n",
      "--k= 3 0.12121212121212122\n",
      "--k= 4 0.13636363636363635\n",
      "--k= 5 0.12121212121212122\n",
      "--k= 6 0.09090909090909091\n",
      "--k= 7 0.12121212121212122\n",
      "--k= 8 0.16666666666666666\n",
      "--k= 9 0.15151515151515152\n",
      "--k= 10 0.13636363636363635\n",
      "--k= 11 0.12121212121212122\n",
      "n= 10\n",
      "--k= 2 0.10606060606060606\n",
      "--k= 3 0.12121212121212122\n",
      "--k= 4 0.13636363636363635\n",
      "--k= 5 0.12121212121212122\n",
      "--k= 6 0.09090909090909091\n",
      "--k= 7 0.12121212121212122\n",
      "--k= 8 0.16666666666666666\n",
      "--k= 9 0.15151515151515152\n",
      "--k= 10 0.13636363636363635\n",
      "--k= 11 0.12121212121212122\n",
      "n= 11\n",
      "--k= 2 0.10606060606060606\n",
      "--k= 3 0.12121212121212122\n",
      "--k= 4 0.13636363636363635\n",
      "--k= 5 0.12121212121212122\n",
      "--k= 6 0.09090909090909091\n",
      "--k= 7 0.12121212121212122\n",
      "--k= 8 0.16666666666666666\n",
      "--k= 9 0.15151515151515152\n",
      "--k= 10 0.13636363636363635\n",
      "--k= 11 0.12121212121212122\n",
      "n= 12\n",
      "--k= 2 0.10606060606060606\n",
      "--k= 3 0.12121212121212122\n",
      "--k= 4 0.13636363636363635\n",
      "--k= 5 0.12121212121212122\n",
      "--k= 6 0.09090909090909091\n",
      "--k= 7 0.12121212121212122\n",
      "--k= 8 0.16666666666666666\n",
      "--k= 9 0.15151515151515152\n",
      "--k= 10 0.13636363636363635\n",
      "--k= 11 0.12121212121212122\n",
      "n= 13\n",
      "--k= 2 0.10606060606060606\n",
      "--k= 3 0.12121212121212122\n",
      "--k= 4 0.13636363636363635\n",
      "--k= 5 0.12121212121212122\n",
      "--k= 6 0.09090909090909091\n",
      "--k= 7 0.12121212121212122\n",
      "--k= 8 0.16666666666666666\n",
      "--k= 9 0.15151515151515152\n",
      "--k= 10 0.13636363636363635\n",
      "--k= 11 0.12121212121212122\n",
      "n= 14\n",
      "--k= 2 0.10606060606060606\n",
      "--k= 3 0.12121212121212122\n",
      "--k= 4 0.13636363636363635\n",
      "--k= 5 0.12121212121212122\n",
      "--k= 6 0.09090909090909091\n",
      "--k= 7 0.12121212121212122\n",
      "--k= 8 0.16666666666666666\n",
      "--k= 9 0.15151515151515152\n",
      "--k= 10 0.13636363636363635\n",
      "--k= 11 0.12121212121212122\n"
     ]
    },
    {
     "name": "stderr",
     "output_type": "stream",
     "text": [
      "/Users/nguyenthang/anaconda3/envs/thang/lib/python3.7/site-packages/sklearn/decomposition/base.py:132: RuntimeWarning: divide by zero encountered in true_divide\n",
      "  X_transformed /= np.sqrt(self.explained_variance_)\n",
      "/Users/nguyenthang/anaconda3/envs/thang/lib/python3.7/site-packages/numpy/core/fromnumeric.py:90: RuntimeWarning: invalid value encountered in reduce\n",
      "  return ufunc.reduce(obj, axis, dtype, out, **passkwargs)\n"
     ]
    },
    {
     "ename": "ValueError",
     "evalue": "Input contains infinity or a value too large for dtype('float64').",
     "output_type": "error",
     "traceback": [
      "\u001b[0;31m---------------------------------------------------------------------------\u001b[0m",
      "\u001b[0;31mValueError\u001b[0m                                Traceback (most recent call last)",
      "\u001b[0;32m<ipython-input-291-315688c6f024>\u001b[0m in \u001b[0;36m<module>\u001b[0;34m\u001b[0m\n\u001b[1;32m     20\u001b[0m \u001b[0;34m\u001b[0m\u001b[0m\n\u001b[1;32m     21\u001b[0m     \u001b[0mscaler\u001b[0m \u001b[0;34m=\u001b[0m \u001b[0msklearn\u001b[0m\u001b[0;34m.\u001b[0m\u001b[0mpreprocessing\u001b[0m\u001b[0;34m.\u001b[0m\u001b[0mStandardScaler\u001b[0m\u001b[0;34m(\u001b[0m\u001b[0;34m)\u001b[0m\u001b[0;34m\u001b[0m\u001b[0;34m\u001b[0m\u001b[0m\n\u001b[0;32m---> 22\u001b[0;31m     \u001b[0mscaler\u001b[0m\u001b[0;34m.\u001b[0m\u001b[0mfit\u001b[0m\u001b[0;34m(\u001b[0m\u001b[0mX_train_PCA\u001b[0m\u001b[0;34m)\u001b[0m\u001b[0;34m\u001b[0m\u001b[0;34m\u001b[0m\u001b[0m\n\u001b[0m\u001b[1;32m     23\u001b[0m     \u001b[0mX_train_std\u001b[0m \u001b[0;34m=\u001b[0m \u001b[0mscaler\u001b[0m\u001b[0;34m.\u001b[0m\u001b[0mtransform\u001b[0m\u001b[0;34m(\u001b[0m\u001b[0mX_train_PCA\u001b[0m\u001b[0;34m)\u001b[0m\u001b[0;34m\u001b[0m\u001b[0;34m\u001b[0m\u001b[0m\n\u001b[1;32m     24\u001b[0m     \u001b[0mX_test_std\u001b[0m  \u001b[0;34m=\u001b[0m \u001b[0mscaler\u001b[0m\u001b[0;34m.\u001b[0m\u001b[0mtransform\u001b[0m\u001b[0;34m(\u001b[0m\u001b[0mX_test_PCA\u001b[0m\u001b[0;34m)\u001b[0m\u001b[0;34m\u001b[0m\u001b[0;34m\u001b[0m\u001b[0m\n",
      "\u001b[0;32m~/anaconda3/envs/thang/lib/python3.7/site-packages/sklearn/preprocessing/data.py\u001b[0m in \u001b[0;36mfit\u001b[0;34m(self, X, y)\u001b[0m\n\u001b[1;32m    637\u001b[0m         \u001b[0;31m# Reset internal state before fitting\u001b[0m\u001b[0;34m\u001b[0m\u001b[0;34m\u001b[0m\u001b[0;34m\u001b[0m\u001b[0m\n\u001b[1;32m    638\u001b[0m         \u001b[0mself\u001b[0m\u001b[0;34m.\u001b[0m\u001b[0m_reset\u001b[0m\u001b[0;34m(\u001b[0m\u001b[0;34m)\u001b[0m\u001b[0;34m\u001b[0m\u001b[0;34m\u001b[0m\u001b[0m\n\u001b[0;32m--> 639\u001b[0;31m         \u001b[0;32mreturn\u001b[0m \u001b[0mself\u001b[0m\u001b[0;34m.\u001b[0m\u001b[0mpartial_fit\u001b[0m\u001b[0;34m(\u001b[0m\u001b[0mX\u001b[0m\u001b[0;34m,\u001b[0m \u001b[0my\u001b[0m\u001b[0;34m)\u001b[0m\u001b[0;34m\u001b[0m\u001b[0;34m\u001b[0m\u001b[0m\n\u001b[0m\u001b[1;32m    640\u001b[0m \u001b[0;34m\u001b[0m\u001b[0m\n\u001b[1;32m    641\u001b[0m     \u001b[0;32mdef\u001b[0m \u001b[0mpartial_fit\u001b[0m\u001b[0;34m(\u001b[0m\u001b[0mself\u001b[0m\u001b[0;34m,\u001b[0m \u001b[0mX\u001b[0m\u001b[0;34m,\u001b[0m \u001b[0my\u001b[0m\u001b[0;34m=\u001b[0m\u001b[0;32mNone\u001b[0m\u001b[0;34m)\u001b[0m\u001b[0;34m:\u001b[0m\u001b[0;34m\u001b[0m\u001b[0;34m\u001b[0m\u001b[0m\n",
      "\u001b[0;32m~/anaconda3/envs/thang/lib/python3.7/site-packages/sklearn/preprocessing/data.py\u001b[0m in \u001b[0;36mpartial_fit\u001b[0;34m(self, X, y)\u001b[0m\n\u001b[1;32m    661\u001b[0m         X = check_array(X, accept_sparse=('csr', 'csc'), copy=self.copy,\n\u001b[1;32m    662\u001b[0m                         \u001b[0mestimator\u001b[0m\u001b[0;34m=\u001b[0m\u001b[0mself\u001b[0m\u001b[0;34m,\u001b[0m \u001b[0mdtype\u001b[0m\u001b[0;34m=\u001b[0m\u001b[0mFLOAT_DTYPES\u001b[0m\u001b[0;34m,\u001b[0m\u001b[0;34m\u001b[0m\u001b[0;34m\u001b[0m\u001b[0m\n\u001b[0;32m--> 663\u001b[0;31m                         force_all_finite='allow-nan')\n\u001b[0m\u001b[1;32m    664\u001b[0m \u001b[0;34m\u001b[0m\u001b[0m\n\u001b[1;32m    665\u001b[0m         \u001b[0;31m# Even in the case of `with_mean=False`, we update the mean anyway\u001b[0m\u001b[0;34m\u001b[0m\u001b[0;34m\u001b[0m\u001b[0;34m\u001b[0m\u001b[0m\n",
      "\u001b[0;32m~/anaconda3/envs/thang/lib/python3.7/site-packages/sklearn/utils/validation.py\u001b[0m in \u001b[0;36mcheck_array\u001b[0;34m(array, accept_sparse, accept_large_sparse, dtype, order, copy, force_all_finite, ensure_2d, allow_nd, ensure_min_samples, ensure_min_features, warn_on_dtype, estimator)\u001b[0m\n\u001b[1;32m    540\u001b[0m         \u001b[0;32mif\u001b[0m \u001b[0mforce_all_finite\u001b[0m\u001b[0;34m:\u001b[0m\u001b[0;34m\u001b[0m\u001b[0;34m\u001b[0m\u001b[0m\n\u001b[1;32m    541\u001b[0m             _assert_all_finite(array,\n\u001b[0;32m--> 542\u001b[0;31m                                allow_nan=force_all_finite == 'allow-nan')\n\u001b[0m\u001b[1;32m    543\u001b[0m \u001b[0;34m\u001b[0m\u001b[0m\n\u001b[1;32m    544\u001b[0m     \u001b[0;32mif\u001b[0m \u001b[0mensure_min_samples\u001b[0m \u001b[0;34m>\u001b[0m \u001b[0;36m0\u001b[0m\u001b[0;34m:\u001b[0m\u001b[0;34m\u001b[0m\u001b[0;34m\u001b[0m\u001b[0m\n",
      "\u001b[0;32m~/anaconda3/envs/thang/lib/python3.7/site-packages/sklearn/utils/validation.py\u001b[0m in \u001b[0;36m_assert_all_finite\u001b[0;34m(X, allow_nan)\u001b[0m\n\u001b[1;32m     54\u001b[0m                 not allow_nan and not np.isfinite(X).all()):\n\u001b[1;32m     55\u001b[0m             \u001b[0mtype_err\u001b[0m \u001b[0;34m=\u001b[0m \u001b[0;34m'infinity'\u001b[0m \u001b[0;32mif\u001b[0m \u001b[0mallow_nan\u001b[0m \u001b[0;32melse\u001b[0m \u001b[0;34m'NaN, infinity'\u001b[0m\u001b[0;34m\u001b[0m\u001b[0;34m\u001b[0m\u001b[0m\n\u001b[0;32m---> 56\u001b[0;31m             \u001b[0;32mraise\u001b[0m \u001b[0mValueError\u001b[0m\u001b[0;34m(\u001b[0m\u001b[0mmsg_err\u001b[0m\u001b[0;34m.\u001b[0m\u001b[0mformat\u001b[0m\u001b[0;34m(\u001b[0m\u001b[0mtype_err\u001b[0m\u001b[0;34m,\u001b[0m \u001b[0mX\u001b[0m\u001b[0;34m.\u001b[0m\u001b[0mdtype\u001b[0m\u001b[0;34m)\u001b[0m\u001b[0;34m)\u001b[0m\u001b[0;34m\u001b[0m\u001b[0;34m\u001b[0m\u001b[0m\n\u001b[0m\u001b[1;32m     57\u001b[0m     \u001b[0;31m# for object dtype data, we only check for NaNs (GH-13254)\u001b[0m\u001b[0;34m\u001b[0m\u001b[0;34m\u001b[0m\u001b[0;34m\u001b[0m\u001b[0m\n\u001b[1;32m     58\u001b[0m     \u001b[0;32melif\u001b[0m \u001b[0mX\u001b[0m\u001b[0;34m.\u001b[0m\u001b[0mdtype\u001b[0m \u001b[0;34m==\u001b[0m \u001b[0mnp\u001b[0m\u001b[0;34m.\u001b[0m\u001b[0mdtype\u001b[0m\u001b[0;34m(\u001b[0m\u001b[0;34m'object'\u001b[0m\u001b[0;34m)\u001b[0m \u001b[0;32mand\u001b[0m \u001b[0;32mnot\u001b[0m \u001b[0mallow_nan\u001b[0m\u001b[0;34m:\u001b[0m\u001b[0;34m\u001b[0m\u001b[0;34m\u001b[0m\u001b[0m\n",
      "\u001b[0;31mValueError\u001b[0m: Input contains infinity or a value too large for dtype('float64')."
     ]
    }
   ],
   "source": [
    "for n in range(2,15):\n",
    "    X_train_PCA = []\n",
    "    X_test_PCA = []\n",
    "    for x in X_train:\n",
    "        model = sklearn.decomposition.PCA(n_components=n, whiten=True)\n",
    "        model.fit(x.T)\n",
    "        X_train_PCA.append(model.transform(x.T))\n",
    "    for x in X_test:\n",
    "        model = sklearn.decomposition.PCA(n_components=n, whiten=True)\n",
    "        model.fit(x.T)\n",
    "        X_test_PCA.append(model.transform(x.T))\n",
    "    X_train_PCA=np.array(X_train_PCA)\n",
    "    X_test_PCA=np.array(X_test_PCA)\n",
    "    \n",
    "    nsamples, nx, ny = X_train_PCA.shape\n",
    "    X_train_PCA = X_train_PCA.reshape((nsamples,nx*ny))\n",
    "\n",
    "    nsamples, nx, ny = X_test_PCA.shape\n",
    "    X_test_PCA = X_test_PCA.reshape((nsamples,nx*ny))\n",
    "    \n",
    "    scaler = sklearn.preprocessing.StandardScaler()\n",
    "    scaler.fit(X_train_PCA)\n",
    "    X_train_std = scaler.transform(X_train_PCA)\n",
    "    X_test_std  = scaler.transform(X_test_PCA)\n",
    "    \n",
    "    print(\"n=\",n)\n",
    "    for i in range(2,12):\n",
    "        clf = KNeighborsClassifier(n_jobs=-1,n_neighbors=i,weights='uniform')\n",
    "        clf.fit(X_reduce, y_train)\n",
    "        print(\"--k=\",i,clf.score(X_test_reduce, y_test))"
   ]
  },
  {
   "cell_type": "code",
   "execution_count": 179,
   "metadata": {},
   "outputs": [],
   "source": [
    "scaler = sklearn.preprocessing.StandardScaler()\n",
    "scaler.fit(X_train)\n",
    "X_train_std = scaler.transform(X_train)\n",
    "X_test_std  = scaler.transform(X_test)"
   ]
  },
  {
   "cell_type": "code",
   "execution_count": 180,
   "metadata": {},
   "outputs": [
    {
     "data": {
      "text/plain": [
       "(247, 220)"
      ]
     },
     "execution_count": 180,
     "metadata": {},
     "output_type": "execute_result"
    }
   ],
   "source": [
    "X_train.shape"
   ]
  },
  {
   "cell_type": "code",
   "execution_count": 181,
   "metadata": {},
   "outputs": [
    {
     "name": "stderr",
     "output_type": "stream",
     "text": [
      "/Users/nguyenthang/anaconda3/envs/thang/lib/python3.7/site-packages/sklearn/model_selection/_search.py:814: DeprecationWarning: The default of the `iid` parameter will change from True to False in version 0.22 and will be removed in 0.24. This will change numeric results when test-set sizes are unequal.\n",
      "  DeprecationWarning)\n"
     ]
    },
    {
     "data": {
      "text/plain": [
       "GridSearchCV(cv=5, error_score='raise-deprecating',\n",
       "             estimator=KNeighborsClassifier(algorithm='auto', leaf_size=30,\n",
       "                                            metric='minkowski',\n",
       "                                            metric_params=None, n_jobs=None,\n",
       "                                            n_neighbors=5, p=2,\n",
       "                                            weights='uniform'),\n",
       "             iid='warn', n_jobs=None,\n",
       "             param_grid={'metric': ['euclidean', 'manhattan'],\n",
       "                         'n_neighbors': [3, 5, 7, 9, 11, 15],\n",
       "                         'weights': ['uniform', 'distance']},\n",
       "             pre_dispatch='2*n_jobs', refit=True, return_train_score=False,\n",
       "             scoring=None, verbose=0)"
      ]
     },
     "execution_count": 181,
     "metadata": {},
     "output_type": "execute_result"
    }
   ],
   "source": [
    "from sklearn.neighbors import KNeighborsClassifier\n",
    "from sklearn.model_selection import GridSearchCV\n",
    "grid_params = {\n",
    "    'n_neighbors': [3, 5, 7, 9, 11, 15],\n",
    "    'weights': ['uniform', 'distance'],\n",
    "    'metric': ['euclidean', 'manhattan']\n",
    "}\n",
    "\n",
    "model = GridSearchCV(KNeighborsClassifier(), grid_params, cv=5)\n",
    "model.fit(X_train, y_train)"
   ]
  },
  {
   "cell_type": "code",
   "execution_count": 184,
   "metadata": {},
   "outputs": [],
   "source": [
    "y_pred = model.predict(X_test_std)"
   ]
  },
  {
   "cell_type": "code",
   "execution_count": 185,
   "metadata": {
    "scrolled": false
   },
   "outputs": [
    {
     "data": {
      "application/javascript": [
       "/* Put everything inside the global mpl namespace */\n",
       "window.mpl = {};\n",
       "\n",
       "\n",
       "mpl.get_websocket_type = function() {\n",
       "    if (typeof(WebSocket) !== 'undefined') {\n",
       "        return WebSocket;\n",
       "    } else if (typeof(MozWebSocket) !== 'undefined') {\n",
       "        return MozWebSocket;\n",
       "    } else {\n",
       "        alert('Your browser does not have WebSocket support. ' +\n",
       "              'Please try Chrome, Safari or Firefox ≥ 6. ' +\n",
       "              'Firefox 4 and 5 are also supported but you ' +\n",
       "              'have to enable WebSockets in about:config.');\n",
       "    };\n",
       "}\n",
       "\n",
       "mpl.figure = function(figure_id, websocket, ondownload, parent_element) {\n",
       "    this.id = figure_id;\n",
       "\n",
       "    this.ws = websocket;\n",
       "\n",
       "    this.supports_binary = (this.ws.binaryType != undefined);\n",
       "\n",
       "    if (!this.supports_binary) {\n",
       "        var warnings = document.getElementById(\"mpl-warnings\");\n",
       "        if (warnings) {\n",
       "            warnings.style.display = 'block';\n",
       "            warnings.textContent = (\n",
       "                \"This browser does not support binary websocket messages. \" +\n",
       "                    \"Performance may be slow.\");\n",
       "        }\n",
       "    }\n",
       "\n",
       "    this.imageObj = new Image();\n",
       "\n",
       "    this.context = undefined;\n",
       "    this.message = undefined;\n",
       "    this.canvas = undefined;\n",
       "    this.rubberband_canvas = undefined;\n",
       "    this.rubberband_context = undefined;\n",
       "    this.format_dropdown = undefined;\n",
       "\n",
       "    this.image_mode = 'full';\n",
       "\n",
       "    this.root = $('<div/>');\n",
       "    this._root_extra_style(this.root)\n",
       "    this.root.attr('style', 'display: inline-block');\n",
       "\n",
       "    $(parent_element).append(this.root);\n",
       "\n",
       "    this._init_header(this);\n",
       "    this._init_canvas(this);\n",
       "    this._init_toolbar(this);\n",
       "\n",
       "    var fig = this;\n",
       "\n",
       "    this.waiting = false;\n",
       "\n",
       "    this.ws.onopen =  function () {\n",
       "            fig.send_message(\"supports_binary\", {value: fig.supports_binary});\n",
       "            fig.send_message(\"send_image_mode\", {});\n",
       "            if (mpl.ratio != 1) {\n",
       "                fig.send_message(\"set_dpi_ratio\", {'dpi_ratio': mpl.ratio});\n",
       "            }\n",
       "            fig.send_message(\"refresh\", {});\n",
       "        }\n",
       "\n",
       "    this.imageObj.onload = function() {\n",
       "            if (fig.image_mode == 'full') {\n",
       "                // Full images could contain transparency (where diff images\n",
       "                // almost always do), so we need to clear the canvas so that\n",
       "                // there is no ghosting.\n",
       "                fig.context.clearRect(0, 0, fig.canvas.width, fig.canvas.height);\n",
       "            }\n",
       "            fig.context.drawImage(fig.imageObj, 0, 0);\n",
       "        };\n",
       "\n",
       "    this.imageObj.onunload = function() {\n",
       "        fig.ws.close();\n",
       "    }\n",
       "\n",
       "    this.ws.onmessage = this._make_on_message_function(this);\n",
       "\n",
       "    this.ondownload = ondownload;\n",
       "}\n",
       "\n",
       "mpl.figure.prototype._init_header = function() {\n",
       "    var titlebar = $(\n",
       "        '<div class=\"ui-dialog-titlebar ui-widget-header ui-corner-all ' +\n",
       "        'ui-helper-clearfix\"/>');\n",
       "    var titletext = $(\n",
       "        '<div class=\"ui-dialog-title\" style=\"width: 100%; ' +\n",
       "        'text-align: center; padding: 3px;\"/>');\n",
       "    titlebar.append(titletext)\n",
       "    this.root.append(titlebar);\n",
       "    this.header = titletext[0];\n",
       "}\n",
       "\n",
       "\n",
       "\n",
       "mpl.figure.prototype._canvas_extra_style = function(canvas_div) {\n",
       "\n",
       "}\n",
       "\n",
       "\n",
       "mpl.figure.prototype._root_extra_style = function(canvas_div) {\n",
       "\n",
       "}\n",
       "\n",
       "mpl.figure.prototype._init_canvas = function() {\n",
       "    var fig = this;\n",
       "\n",
       "    var canvas_div = $('<div/>');\n",
       "\n",
       "    canvas_div.attr('style', 'position: relative; clear: both; outline: 0');\n",
       "\n",
       "    function canvas_keyboard_event(event) {\n",
       "        return fig.key_event(event, event['data']);\n",
       "    }\n",
       "\n",
       "    canvas_div.keydown('key_press', canvas_keyboard_event);\n",
       "    canvas_div.keyup('key_release', canvas_keyboard_event);\n",
       "    this.canvas_div = canvas_div\n",
       "    this._canvas_extra_style(canvas_div)\n",
       "    this.root.append(canvas_div);\n",
       "\n",
       "    var canvas = $('<canvas/>');\n",
       "    canvas.addClass('mpl-canvas');\n",
       "    canvas.attr('style', \"left: 0; top: 0; z-index: 0; outline: 0\")\n",
       "\n",
       "    this.canvas = canvas[0];\n",
       "    this.context = canvas[0].getContext(\"2d\");\n",
       "\n",
       "    var backingStore = this.context.backingStorePixelRatio ||\n",
       "\tthis.context.webkitBackingStorePixelRatio ||\n",
       "\tthis.context.mozBackingStorePixelRatio ||\n",
       "\tthis.context.msBackingStorePixelRatio ||\n",
       "\tthis.context.oBackingStorePixelRatio ||\n",
       "\tthis.context.backingStorePixelRatio || 1;\n",
       "\n",
       "    mpl.ratio = (window.devicePixelRatio || 1) / backingStore;\n",
       "\n",
       "    var rubberband = $('<canvas/>');\n",
       "    rubberband.attr('style', \"position: absolute; left: 0; top: 0; z-index: 1;\")\n",
       "\n",
       "    var pass_mouse_events = true;\n",
       "\n",
       "    canvas_div.resizable({\n",
       "        start: function(event, ui) {\n",
       "            pass_mouse_events = false;\n",
       "        },\n",
       "        resize: function(event, ui) {\n",
       "            fig.request_resize(ui.size.width, ui.size.height);\n",
       "        },\n",
       "        stop: function(event, ui) {\n",
       "            pass_mouse_events = true;\n",
       "            fig.request_resize(ui.size.width, ui.size.height);\n",
       "        },\n",
       "    });\n",
       "\n",
       "    function mouse_event_fn(event) {\n",
       "        if (pass_mouse_events)\n",
       "            return fig.mouse_event(event, event['data']);\n",
       "    }\n",
       "\n",
       "    rubberband.mousedown('button_press', mouse_event_fn);\n",
       "    rubberband.mouseup('button_release', mouse_event_fn);\n",
       "    // Throttle sequential mouse events to 1 every 20ms.\n",
       "    rubberband.mousemove('motion_notify', mouse_event_fn);\n",
       "\n",
       "    rubberband.mouseenter('figure_enter', mouse_event_fn);\n",
       "    rubberband.mouseleave('figure_leave', mouse_event_fn);\n",
       "\n",
       "    canvas_div.on(\"wheel\", function (event) {\n",
       "        event = event.originalEvent;\n",
       "        event['data'] = 'scroll'\n",
       "        if (event.deltaY < 0) {\n",
       "            event.step = 1;\n",
       "        } else {\n",
       "            event.step = -1;\n",
       "        }\n",
       "        mouse_event_fn(event);\n",
       "    });\n",
       "\n",
       "    canvas_div.append(canvas);\n",
       "    canvas_div.append(rubberband);\n",
       "\n",
       "    this.rubberband = rubberband;\n",
       "    this.rubberband_canvas = rubberband[0];\n",
       "    this.rubberband_context = rubberband[0].getContext(\"2d\");\n",
       "    this.rubberband_context.strokeStyle = \"#000000\";\n",
       "\n",
       "    this._resize_canvas = function(width, height) {\n",
       "        // Keep the size of the canvas, canvas container, and rubber band\n",
       "        // canvas in synch.\n",
       "        canvas_div.css('width', width)\n",
       "        canvas_div.css('height', height)\n",
       "\n",
       "        canvas.attr('width', width * mpl.ratio);\n",
       "        canvas.attr('height', height * mpl.ratio);\n",
       "        canvas.attr('style', 'width: ' + width + 'px; height: ' + height + 'px;');\n",
       "\n",
       "        rubberband.attr('width', width);\n",
       "        rubberband.attr('height', height);\n",
       "    }\n",
       "\n",
       "    // Set the figure to an initial 600x600px, this will subsequently be updated\n",
       "    // upon first draw.\n",
       "    this._resize_canvas(600, 600);\n",
       "\n",
       "    // Disable right mouse context menu.\n",
       "    $(this.rubberband_canvas).bind(\"contextmenu\",function(e){\n",
       "        return false;\n",
       "    });\n",
       "\n",
       "    function set_focus () {\n",
       "        canvas.focus();\n",
       "        canvas_div.focus();\n",
       "    }\n",
       "\n",
       "    window.setTimeout(set_focus, 100);\n",
       "}\n",
       "\n",
       "mpl.figure.prototype._init_toolbar = function() {\n",
       "    var fig = this;\n",
       "\n",
       "    var nav_element = $('<div/>');\n",
       "    nav_element.attr('style', 'width: 100%');\n",
       "    this.root.append(nav_element);\n",
       "\n",
       "    // Define a callback function for later on.\n",
       "    function toolbar_event(event) {\n",
       "        return fig.toolbar_button_onclick(event['data']);\n",
       "    }\n",
       "    function toolbar_mouse_event(event) {\n",
       "        return fig.toolbar_button_onmouseover(event['data']);\n",
       "    }\n",
       "\n",
       "    for(var toolbar_ind in mpl.toolbar_items) {\n",
       "        var name = mpl.toolbar_items[toolbar_ind][0];\n",
       "        var tooltip = mpl.toolbar_items[toolbar_ind][1];\n",
       "        var image = mpl.toolbar_items[toolbar_ind][2];\n",
       "        var method_name = mpl.toolbar_items[toolbar_ind][3];\n",
       "\n",
       "        if (!name) {\n",
       "            // put a spacer in here.\n",
       "            continue;\n",
       "        }\n",
       "        var button = $('<button/>');\n",
       "        button.addClass('ui-button ui-widget ui-state-default ui-corner-all ' +\n",
       "                        'ui-button-icon-only');\n",
       "        button.attr('role', 'button');\n",
       "        button.attr('aria-disabled', 'false');\n",
       "        button.click(method_name, toolbar_event);\n",
       "        button.mouseover(tooltip, toolbar_mouse_event);\n",
       "\n",
       "        var icon_img = $('<span/>');\n",
       "        icon_img.addClass('ui-button-icon-primary ui-icon');\n",
       "        icon_img.addClass(image);\n",
       "        icon_img.addClass('ui-corner-all');\n",
       "\n",
       "        var tooltip_span = $('<span/>');\n",
       "        tooltip_span.addClass('ui-button-text');\n",
       "        tooltip_span.html(tooltip);\n",
       "\n",
       "        button.append(icon_img);\n",
       "        button.append(tooltip_span);\n",
       "\n",
       "        nav_element.append(button);\n",
       "    }\n",
       "\n",
       "    var fmt_picker_span = $('<span/>');\n",
       "\n",
       "    var fmt_picker = $('<select/>');\n",
       "    fmt_picker.addClass('mpl-toolbar-option ui-widget ui-widget-content');\n",
       "    fmt_picker_span.append(fmt_picker);\n",
       "    nav_element.append(fmt_picker_span);\n",
       "    this.format_dropdown = fmt_picker[0];\n",
       "\n",
       "    for (var ind in mpl.extensions) {\n",
       "        var fmt = mpl.extensions[ind];\n",
       "        var option = $(\n",
       "            '<option/>', {selected: fmt === mpl.default_extension}).html(fmt);\n",
       "        fmt_picker.append(option);\n",
       "    }\n",
       "\n",
       "    // Add hover states to the ui-buttons\n",
       "    $( \".ui-button\" ).hover(\n",
       "        function() { $(this).addClass(\"ui-state-hover\");},\n",
       "        function() { $(this).removeClass(\"ui-state-hover\");}\n",
       "    );\n",
       "\n",
       "    var status_bar = $('<span class=\"mpl-message\"/>');\n",
       "    nav_element.append(status_bar);\n",
       "    this.message = status_bar[0];\n",
       "}\n",
       "\n",
       "mpl.figure.prototype.request_resize = function(x_pixels, y_pixels) {\n",
       "    // Request matplotlib to resize the figure. Matplotlib will then trigger a resize in the client,\n",
       "    // which will in turn request a refresh of the image.\n",
       "    this.send_message('resize', {'width': x_pixels, 'height': y_pixels});\n",
       "}\n",
       "\n",
       "mpl.figure.prototype.send_message = function(type, properties) {\n",
       "    properties['type'] = type;\n",
       "    properties['figure_id'] = this.id;\n",
       "    this.ws.send(JSON.stringify(properties));\n",
       "}\n",
       "\n",
       "mpl.figure.prototype.send_draw_message = function() {\n",
       "    if (!this.waiting) {\n",
       "        this.waiting = true;\n",
       "        this.ws.send(JSON.stringify({type: \"draw\", figure_id: this.id}));\n",
       "    }\n",
       "}\n",
       "\n",
       "\n",
       "mpl.figure.prototype.handle_save = function(fig, msg) {\n",
       "    var format_dropdown = fig.format_dropdown;\n",
       "    var format = format_dropdown.options[format_dropdown.selectedIndex].value;\n",
       "    fig.ondownload(fig, format);\n",
       "}\n",
       "\n",
       "\n",
       "mpl.figure.prototype.handle_resize = function(fig, msg) {\n",
       "    var size = msg['size'];\n",
       "    if (size[0] != fig.canvas.width || size[1] != fig.canvas.height) {\n",
       "        fig._resize_canvas(size[0], size[1]);\n",
       "        fig.send_message(\"refresh\", {});\n",
       "    };\n",
       "}\n",
       "\n",
       "mpl.figure.prototype.handle_rubberband = function(fig, msg) {\n",
       "    var x0 = msg['x0'] / mpl.ratio;\n",
       "    var y0 = (fig.canvas.height - msg['y0']) / mpl.ratio;\n",
       "    var x1 = msg['x1'] / mpl.ratio;\n",
       "    var y1 = (fig.canvas.height - msg['y1']) / mpl.ratio;\n",
       "    x0 = Math.floor(x0) + 0.5;\n",
       "    y0 = Math.floor(y0) + 0.5;\n",
       "    x1 = Math.floor(x1) + 0.5;\n",
       "    y1 = Math.floor(y1) + 0.5;\n",
       "    var min_x = Math.min(x0, x1);\n",
       "    var min_y = Math.min(y0, y1);\n",
       "    var width = Math.abs(x1 - x0);\n",
       "    var height = Math.abs(y1 - y0);\n",
       "\n",
       "    fig.rubberband_context.clearRect(\n",
       "        0, 0, fig.canvas.width / mpl.ratio, fig.canvas.height / mpl.ratio);\n",
       "\n",
       "    fig.rubberband_context.strokeRect(min_x, min_y, width, height);\n",
       "}\n",
       "\n",
       "mpl.figure.prototype.handle_figure_label = function(fig, msg) {\n",
       "    // Updates the figure title.\n",
       "    fig.header.textContent = msg['label'];\n",
       "}\n",
       "\n",
       "mpl.figure.prototype.handle_cursor = function(fig, msg) {\n",
       "    var cursor = msg['cursor'];\n",
       "    switch(cursor)\n",
       "    {\n",
       "    case 0:\n",
       "        cursor = 'pointer';\n",
       "        break;\n",
       "    case 1:\n",
       "        cursor = 'default';\n",
       "        break;\n",
       "    case 2:\n",
       "        cursor = 'crosshair';\n",
       "        break;\n",
       "    case 3:\n",
       "        cursor = 'move';\n",
       "        break;\n",
       "    }\n",
       "    fig.rubberband_canvas.style.cursor = cursor;\n",
       "}\n",
       "\n",
       "mpl.figure.prototype.handle_message = function(fig, msg) {\n",
       "    fig.message.textContent = msg['message'];\n",
       "}\n",
       "\n",
       "mpl.figure.prototype.handle_draw = function(fig, msg) {\n",
       "    // Request the server to send over a new figure.\n",
       "    fig.send_draw_message();\n",
       "}\n",
       "\n",
       "mpl.figure.prototype.handle_image_mode = function(fig, msg) {\n",
       "    fig.image_mode = msg['mode'];\n",
       "}\n",
       "\n",
       "mpl.figure.prototype.updated_canvas_event = function() {\n",
       "    // Called whenever the canvas gets updated.\n",
       "    this.send_message(\"ack\", {});\n",
       "}\n",
       "\n",
       "// A function to construct a web socket function for onmessage handling.\n",
       "// Called in the figure constructor.\n",
       "mpl.figure.prototype._make_on_message_function = function(fig) {\n",
       "    return function socket_on_message(evt) {\n",
       "        if (evt.data instanceof Blob) {\n",
       "            /* FIXME: We get \"Resource interpreted as Image but\n",
       "             * transferred with MIME type text/plain:\" errors on\n",
       "             * Chrome.  But how to set the MIME type?  It doesn't seem\n",
       "             * to be part of the websocket stream */\n",
       "            evt.data.type = \"image/png\";\n",
       "\n",
       "            /* Free the memory for the previous frames */\n",
       "            if (fig.imageObj.src) {\n",
       "                (window.URL || window.webkitURL).revokeObjectURL(\n",
       "                    fig.imageObj.src);\n",
       "            }\n",
       "\n",
       "            fig.imageObj.src = (window.URL || window.webkitURL).createObjectURL(\n",
       "                evt.data);\n",
       "            fig.updated_canvas_event();\n",
       "            fig.waiting = false;\n",
       "            return;\n",
       "        }\n",
       "        else if (typeof evt.data === 'string' && evt.data.slice(0, 21) == \"data:image/png;base64\") {\n",
       "            fig.imageObj.src = evt.data;\n",
       "            fig.updated_canvas_event();\n",
       "            fig.waiting = false;\n",
       "            return;\n",
       "        }\n",
       "\n",
       "        var msg = JSON.parse(evt.data);\n",
       "        var msg_type = msg['type'];\n",
       "\n",
       "        // Call the  \"handle_{type}\" callback, which takes\n",
       "        // the figure and JSON message as its only arguments.\n",
       "        try {\n",
       "            var callback = fig[\"handle_\" + msg_type];\n",
       "        } catch (e) {\n",
       "            console.log(\"No handler for the '\" + msg_type + \"' message type: \", msg);\n",
       "            return;\n",
       "        }\n",
       "\n",
       "        if (callback) {\n",
       "            try {\n",
       "                // console.log(\"Handling '\" + msg_type + \"' message: \", msg);\n",
       "                callback(fig, msg);\n",
       "            } catch (e) {\n",
       "                console.log(\"Exception inside the 'handler_\" + msg_type + \"' callback:\", e, e.stack, msg);\n",
       "            }\n",
       "        }\n",
       "    };\n",
       "}\n",
       "\n",
       "// from http://stackoverflow.com/questions/1114465/getting-mouse-location-in-canvas\n",
       "mpl.findpos = function(e) {\n",
       "    //this section is from http://www.quirksmode.org/js/events_properties.html\n",
       "    var targ;\n",
       "    if (!e)\n",
       "        e = window.event;\n",
       "    if (e.target)\n",
       "        targ = e.target;\n",
       "    else if (e.srcElement)\n",
       "        targ = e.srcElement;\n",
       "    if (targ.nodeType == 3) // defeat Safari bug\n",
       "        targ = targ.parentNode;\n",
       "\n",
       "    // jQuery normalizes the pageX and pageY\n",
       "    // pageX,Y are the mouse positions relative to the document\n",
       "    // offset() returns the position of the element relative to the document\n",
       "    var x = e.pageX - $(targ).offset().left;\n",
       "    var y = e.pageY - $(targ).offset().top;\n",
       "\n",
       "    return {\"x\": x, \"y\": y};\n",
       "};\n",
       "\n",
       "/*\n",
       " * return a copy of an object with only non-object keys\n",
       " * we need this to avoid circular references\n",
       " * http://stackoverflow.com/a/24161582/3208463\n",
       " */\n",
       "function simpleKeys (original) {\n",
       "  return Object.keys(original).reduce(function (obj, key) {\n",
       "    if (typeof original[key] !== 'object')\n",
       "        obj[key] = original[key]\n",
       "    return obj;\n",
       "  }, {});\n",
       "}\n",
       "\n",
       "mpl.figure.prototype.mouse_event = function(event, name) {\n",
       "    var canvas_pos = mpl.findpos(event)\n",
       "\n",
       "    if (name === 'button_press')\n",
       "    {\n",
       "        this.canvas.focus();\n",
       "        this.canvas_div.focus();\n",
       "    }\n",
       "\n",
       "    var x = canvas_pos.x * mpl.ratio;\n",
       "    var y = canvas_pos.y * mpl.ratio;\n",
       "\n",
       "    this.send_message(name, {x: x, y: y, button: event.button,\n",
       "                             step: event.step,\n",
       "                             guiEvent: simpleKeys(event)});\n",
       "\n",
       "    /* This prevents the web browser from automatically changing to\n",
       "     * the text insertion cursor when the button is pressed.  We want\n",
       "     * to control all of the cursor setting manually through the\n",
       "     * 'cursor' event from matplotlib */\n",
       "    event.preventDefault();\n",
       "    return false;\n",
       "}\n",
       "\n",
       "mpl.figure.prototype._key_event_extra = function(event, name) {\n",
       "    // Handle any extra behaviour associated with a key event\n",
       "}\n",
       "\n",
       "mpl.figure.prototype.key_event = function(event, name) {\n",
       "\n",
       "    // Prevent repeat events\n",
       "    if (name == 'key_press')\n",
       "    {\n",
       "        if (event.which === this._key)\n",
       "            return;\n",
       "        else\n",
       "            this._key = event.which;\n",
       "    }\n",
       "    if (name == 'key_release')\n",
       "        this._key = null;\n",
       "\n",
       "    var value = '';\n",
       "    if (event.ctrlKey && event.which != 17)\n",
       "        value += \"ctrl+\";\n",
       "    if (event.altKey && event.which != 18)\n",
       "        value += \"alt+\";\n",
       "    if (event.shiftKey && event.which != 16)\n",
       "        value += \"shift+\";\n",
       "\n",
       "    value += 'k';\n",
       "    value += event.which.toString();\n",
       "\n",
       "    this._key_event_extra(event, name);\n",
       "\n",
       "    this.send_message(name, {key: value,\n",
       "                             guiEvent: simpleKeys(event)});\n",
       "    return false;\n",
       "}\n",
       "\n",
       "mpl.figure.prototype.toolbar_button_onclick = function(name) {\n",
       "    if (name == 'download') {\n",
       "        this.handle_save(this, null);\n",
       "    } else {\n",
       "        this.send_message(\"toolbar_button\", {name: name});\n",
       "    }\n",
       "};\n",
       "\n",
       "mpl.figure.prototype.toolbar_button_onmouseover = function(tooltip) {\n",
       "    this.message.textContent = tooltip;\n",
       "};\n",
       "mpl.toolbar_items = [[\"Home\", \"Reset original view\", \"fa fa-home icon-home\", \"home\"], [\"Back\", \"Back to previous view\", \"fa fa-arrow-left icon-arrow-left\", \"back\"], [\"Forward\", \"Forward to next view\", \"fa fa-arrow-right icon-arrow-right\", \"forward\"], [\"\", \"\", \"\", \"\"], [\"Pan\", \"Pan axes with left mouse, zoom with right\", \"fa fa-arrows icon-move\", \"pan\"], [\"Zoom\", \"Zoom to rectangle\", \"fa fa-square-o icon-check-empty\", \"zoom\"], [\"\", \"\", \"\", \"\"], [\"Download\", \"Download plot\", \"fa fa-floppy-o icon-save\", \"download\"]];\n",
       "\n",
       "mpl.extensions = [\"eps\", \"pdf\", \"png\", \"ps\", \"raw\", \"svg\"];\n",
       "\n",
       "mpl.default_extension = \"png\";var comm_websocket_adapter = function(comm) {\n",
       "    // Create a \"websocket\"-like object which calls the given IPython comm\n",
       "    // object with the appropriate methods. Currently this is a non binary\n",
       "    // socket, so there is still some room for performance tuning.\n",
       "    var ws = {};\n",
       "\n",
       "    ws.close = function() {\n",
       "        comm.close()\n",
       "    };\n",
       "    ws.send = function(m) {\n",
       "        //console.log('sending', m);\n",
       "        comm.send(m);\n",
       "    };\n",
       "    // Register the callback with on_msg.\n",
       "    comm.on_msg(function(msg) {\n",
       "        //console.log('receiving', msg['content']['data'], msg);\n",
       "        // Pass the mpl event to the overridden (by mpl) onmessage function.\n",
       "        ws.onmessage(msg['content']['data'])\n",
       "    });\n",
       "    return ws;\n",
       "}\n",
       "\n",
       "mpl.mpl_figure_comm = function(comm, msg) {\n",
       "    // This is the function which gets called when the mpl process\n",
       "    // starts-up an IPython Comm through the \"matplotlib\" channel.\n",
       "\n",
       "    var id = msg.content.data.id;\n",
       "    // Get hold of the div created by the display call when the Comm\n",
       "    // socket was opened in Python.\n",
       "    var element = $(\"#\" + id);\n",
       "    var ws_proxy = comm_websocket_adapter(comm)\n",
       "\n",
       "    function ondownload(figure, format) {\n",
       "        window.open(figure.imageObj.src);\n",
       "    }\n",
       "\n",
       "    var fig = new mpl.figure(id, ws_proxy,\n",
       "                           ondownload,\n",
       "                           element.get(0));\n",
       "\n",
       "    // Call onopen now - mpl needs it, as it is assuming we've passed it a real\n",
       "    // web socket which is closed, not our websocket->open comm proxy.\n",
       "    ws_proxy.onopen();\n",
       "\n",
       "    fig.parent_element = element.get(0);\n",
       "    fig.cell_info = mpl.find_output_cell(\"<div id='\" + id + \"'></div>\");\n",
       "    if (!fig.cell_info) {\n",
       "        console.error(\"Failed to find cell for figure\", id, fig);\n",
       "        return;\n",
       "    }\n",
       "\n",
       "    var output_index = fig.cell_info[2]\n",
       "    var cell = fig.cell_info[0];\n",
       "\n",
       "};\n",
       "\n",
       "mpl.figure.prototype.handle_close = function(fig, msg) {\n",
       "    var width = fig.canvas.width/mpl.ratio\n",
       "    fig.root.unbind('remove')\n",
       "\n",
       "    // Update the output cell to use the data from the current canvas.\n",
       "    fig.push_to_output();\n",
       "    var dataURL = fig.canvas.toDataURL();\n",
       "    // Re-enable the keyboard manager in IPython - without this line, in FF,\n",
       "    // the notebook keyboard shortcuts fail.\n",
       "    IPython.keyboard_manager.enable()\n",
       "    $(fig.parent_element).html('<img src=\"' + dataURL + '\" width=\"' + width + '\">');\n",
       "    fig.close_ws(fig, msg);\n",
       "}\n",
       "\n",
       "mpl.figure.prototype.close_ws = function(fig, msg){\n",
       "    fig.send_message('closing', msg);\n",
       "    // fig.ws.close()\n",
       "}\n",
       "\n",
       "mpl.figure.prototype.push_to_output = function(remove_interactive) {\n",
       "    // Turn the data on the canvas into data in the output cell.\n",
       "    var width = this.canvas.width/mpl.ratio\n",
       "    var dataURL = this.canvas.toDataURL();\n",
       "    this.cell_info[1]['text/html'] = '<img src=\"' + dataURL + '\" width=\"' + width + '\">';\n",
       "}\n",
       "\n",
       "mpl.figure.prototype.updated_canvas_event = function() {\n",
       "    // Tell IPython that the notebook contents must change.\n",
       "    IPython.notebook.set_dirty(true);\n",
       "    this.send_message(\"ack\", {});\n",
       "    var fig = this;\n",
       "    // Wait a second, then push the new image to the DOM so\n",
       "    // that it is saved nicely (might be nice to debounce this).\n",
       "    setTimeout(function () { fig.push_to_output() }, 1000);\n",
       "}\n",
       "\n",
       "mpl.figure.prototype._init_toolbar = function() {\n",
       "    var fig = this;\n",
       "\n",
       "    var nav_element = $('<div/>');\n",
       "    nav_element.attr('style', 'width: 100%');\n",
       "    this.root.append(nav_element);\n",
       "\n",
       "    // Define a callback function for later on.\n",
       "    function toolbar_event(event) {\n",
       "        return fig.toolbar_button_onclick(event['data']);\n",
       "    }\n",
       "    function toolbar_mouse_event(event) {\n",
       "        return fig.toolbar_button_onmouseover(event['data']);\n",
       "    }\n",
       "\n",
       "    for(var toolbar_ind in mpl.toolbar_items){\n",
       "        var name = mpl.toolbar_items[toolbar_ind][0];\n",
       "        var tooltip = mpl.toolbar_items[toolbar_ind][1];\n",
       "        var image = mpl.toolbar_items[toolbar_ind][2];\n",
       "        var method_name = mpl.toolbar_items[toolbar_ind][3];\n",
       "\n",
       "        if (!name) { continue; };\n",
       "\n",
       "        var button = $('<button class=\"btn btn-default\" href=\"#\" title=\"' + name + '\"><i class=\"fa ' + image + ' fa-lg\"></i></button>');\n",
       "        button.click(method_name, toolbar_event);\n",
       "        button.mouseover(tooltip, toolbar_mouse_event);\n",
       "        nav_element.append(button);\n",
       "    }\n",
       "\n",
       "    // Add the status bar.\n",
       "    var status_bar = $('<span class=\"mpl-message\" style=\"text-align:right; float: right;\"/>');\n",
       "    nav_element.append(status_bar);\n",
       "    this.message = status_bar[0];\n",
       "\n",
       "    // Add the close button to the window.\n",
       "    var buttongrp = $('<div class=\"btn-group inline pull-right\"></div>');\n",
       "    var button = $('<button class=\"btn btn-mini btn-primary\" href=\"#\" title=\"Stop Interaction\"><i class=\"fa fa-power-off icon-remove icon-large\"></i></button>');\n",
       "    button.click(function (evt) { fig.handle_close(fig, {}); } );\n",
       "    button.mouseover('Stop Interaction', toolbar_mouse_event);\n",
       "    buttongrp.append(button);\n",
       "    var titlebar = this.root.find($('.ui-dialog-titlebar'));\n",
       "    titlebar.prepend(buttongrp);\n",
       "}\n",
       "\n",
       "mpl.figure.prototype._root_extra_style = function(el){\n",
       "    var fig = this\n",
       "    el.on(\"remove\", function(){\n",
       "\tfig.close_ws(fig, {});\n",
       "    });\n",
       "}\n",
       "\n",
       "mpl.figure.prototype._canvas_extra_style = function(el){\n",
       "    // this is important to make the div 'focusable\n",
       "    el.attr('tabindex', 0)\n",
       "    // reach out to IPython and tell the keyboard manager to turn it's self\n",
       "    // off when our div gets focus\n",
       "\n",
       "    // location in version 3\n",
       "    if (IPython.notebook.keyboard_manager) {\n",
       "        IPython.notebook.keyboard_manager.register_events(el);\n",
       "    }\n",
       "    else {\n",
       "        // location in version 2\n",
       "        IPython.keyboard_manager.register_events(el);\n",
       "    }\n",
       "\n",
       "}\n",
       "\n",
       "mpl.figure.prototype._key_event_extra = function(event, name) {\n",
       "    var manager = IPython.notebook.keyboard_manager;\n",
       "    if (!manager)\n",
       "        manager = IPython.keyboard_manager;\n",
       "\n",
       "    // Check for shift+enter\n",
       "    if (event.shiftKey && event.which == 13) {\n",
       "        this.canvas_div.blur();\n",
       "        // select the cell after this one\n",
       "        var index = IPython.notebook.find_cell_index(this.cell_info[0]);\n",
       "        IPython.notebook.select(index + 1);\n",
       "    }\n",
       "}\n",
       "\n",
       "mpl.figure.prototype.handle_save = function(fig, msg) {\n",
       "    fig.ondownload(fig, null);\n",
       "}\n",
       "\n",
       "\n",
       "mpl.find_output_cell = function(html_output) {\n",
       "    // Return the cell and output element which can be found *uniquely* in the notebook.\n",
       "    // Note - this is a bit hacky, but it is done because the \"notebook_saving.Notebook\"\n",
       "    // IPython event is triggered only after the cells have been serialised, which for\n",
       "    // our purposes (turning an active figure into a static one), is too late.\n",
       "    var cells = IPython.notebook.get_cells();\n",
       "    var ncells = cells.length;\n",
       "    for (var i=0; i<ncells; i++) {\n",
       "        var cell = cells[i];\n",
       "        if (cell.cell_type === 'code'){\n",
       "            for (var j=0; j<cell.output_area.outputs.length; j++) {\n",
       "                var data = cell.output_area.outputs[j];\n",
       "                if (data.data) {\n",
       "                    // IPython >= 3 moved mimebundle to data attribute of output\n",
       "                    data = data.data;\n",
       "                }\n",
       "                if (data['text/html'] == html_output) {\n",
       "                    return [cell, data, j];\n",
       "                }\n",
       "            }\n",
       "        }\n",
       "    }\n",
       "}\n",
       "\n",
       "// Register the function which deals with the matplotlib target/channel.\n",
       "// The kernel may be null if the page has been refreshed.\n",
       "if (IPython.notebook.kernel != null) {\n",
       "    IPython.notebook.kernel.comm_manager.register_target('matplotlib', mpl.mpl_figure_comm);\n",
       "}\n"
      ],
      "text/plain": [
       "<IPython.core.display.Javascript object>"
      ]
     },
     "metadata": {},
     "output_type": "display_data"
    },
    {
     "data": {
      "text/html": [
       "<img src=\"data:image/png;base64,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\" width=\"432\">"
      ],
      "text/plain": [
       "<IPython.core.display.HTML object>"
      ]
     },
     "metadata": {},
     "output_type": "display_data"
    },
    {
     "data": {
      "application/javascript": [
       "/* Put everything inside the global mpl namespace */\n",
       "window.mpl = {};\n",
       "\n",
       "\n",
       "mpl.get_websocket_type = function() {\n",
       "    if (typeof(WebSocket) !== 'undefined') {\n",
       "        return WebSocket;\n",
       "    } else if (typeof(MozWebSocket) !== 'undefined') {\n",
       "        return MozWebSocket;\n",
       "    } else {\n",
       "        alert('Your browser does not have WebSocket support. ' +\n",
       "              'Please try Chrome, Safari or Firefox ≥ 6. ' +\n",
       "              'Firefox 4 and 5 are also supported but you ' +\n",
       "              'have to enable WebSockets in about:config.');\n",
       "    };\n",
       "}\n",
       "\n",
       "mpl.figure = function(figure_id, websocket, ondownload, parent_element) {\n",
       "    this.id = figure_id;\n",
       "\n",
       "    this.ws = websocket;\n",
       "\n",
       "    this.supports_binary = (this.ws.binaryType != undefined);\n",
       "\n",
       "    if (!this.supports_binary) {\n",
       "        var warnings = document.getElementById(\"mpl-warnings\");\n",
       "        if (warnings) {\n",
       "            warnings.style.display = 'block';\n",
       "            warnings.textContent = (\n",
       "                \"This browser does not support binary websocket messages. \" +\n",
       "                    \"Performance may be slow.\");\n",
       "        }\n",
       "    }\n",
       "\n",
       "    this.imageObj = new Image();\n",
       "\n",
       "    this.context = undefined;\n",
       "    this.message = undefined;\n",
       "    this.canvas = undefined;\n",
       "    this.rubberband_canvas = undefined;\n",
       "    this.rubberband_context = undefined;\n",
       "    this.format_dropdown = undefined;\n",
       "\n",
       "    this.image_mode = 'full';\n",
       "\n",
       "    this.root = $('<div/>');\n",
       "    this._root_extra_style(this.root)\n",
       "    this.root.attr('style', 'display: inline-block');\n",
       "\n",
       "    $(parent_element).append(this.root);\n",
       "\n",
       "    this._init_header(this);\n",
       "    this._init_canvas(this);\n",
       "    this._init_toolbar(this);\n",
       "\n",
       "    var fig = this;\n",
       "\n",
       "    this.waiting = false;\n",
       "\n",
       "    this.ws.onopen =  function () {\n",
       "            fig.send_message(\"supports_binary\", {value: fig.supports_binary});\n",
       "            fig.send_message(\"send_image_mode\", {});\n",
       "            if (mpl.ratio != 1) {\n",
       "                fig.send_message(\"set_dpi_ratio\", {'dpi_ratio': mpl.ratio});\n",
       "            }\n",
       "            fig.send_message(\"refresh\", {});\n",
       "        }\n",
       "\n",
       "    this.imageObj.onload = function() {\n",
       "            if (fig.image_mode == 'full') {\n",
       "                // Full images could contain transparency (where diff images\n",
       "                // almost always do), so we need to clear the canvas so that\n",
       "                // there is no ghosting.\n",
       "                fig.context.clearRect(0, 0, fig.canvas.width, fig.canvas.height);\n",
       "            }\n",
       "            fig.context.drawImage(fig.imageObj, 0, 0);\n",
       "        };\n",
       "\n",
       "    this.imageObj.onunload = function() {\n",
       "        fig.ws.close();\n",
       "    }\n",
       "\n",
       "    this.ws.onmessage = this._make_on_message_function(this);\n",
       "\n",
       "    this.ondownload = ondownload;\n",
       "}\n",
       "\n",
       "mpl.figure.prototype._init_header = function() {\n",
       "    var titlebar = $(\n",
       "        '<div class=\"ui-dialog-titlebar ui-widget-header ui-corner-all ' +\n",
       "        'ui-helper-clearfix\"/>');\n",
       "    var titletext = $(\n",
       "        '<div class=\"ui-dialog-title\" style=\"width: 100%; ' +\n",
       "        'text-align: center; padding: 3px;\"/>');\n",
       "    titlebar.append(titletext)\n",
       "    this.root.append(titlebar);\n",
       "    this.header = titletext[0];\n",
       "}\n",
       "\n",
       "\n",
       "\n",
       "mpl.figure.prototype._canvas_extra_style = function(canvas_div) {\n",
       "\n",
       "}\n",
       "\n",
       "\n",
       "mpl.figure.prototype._root_extra_style = function(canvas_div) {\n",
       "\n",
       "}\n",
       "\n",
       "mpl.figure.prototype._init_canvas = function() {\n",
       "    var fig = this;\n",
       "\n",
       "    var canvas_div = $('<div/>');\n",
       "\n",
       "    canvas_div.attr('style', 'position: relative; clear: both; outline: 0');\n",
       "\n",
       "    function canvas_keyboard_event(event) {\n",
       "        return fig.key_event(event, event['data']);\n",
       "    }\n",
       "\n",
       "    canvas_div.keydown('key_press', canvas_keyboard_event);\n",
       "    canvas_div.keyup('key_release', canvas_keyboard_event);\n",
       "    this.canvas_div = canvas_div\n",
       "    this._canvas_extra_style(canvas_div)\n",
       "    this.root.append(canvas_div);\n",
       "\n",
       "    var canvas = $('<canvas/>');\n",
       "    canvas.addClass('mpl-canvas');\n",
       "    canvas.attr('style', \"left: 0; top: 0; z-index: 0; outline: 0\")\n",
       "\n",
       "    this.canvas = canvas[0];\n",
       "    this.context = canvas[0].getContext(\"2d\");\n",
       "\n",
       "    var backingStore = this.context.backingStorePixelRatio ||\n",
       "\tthis.context.webkitBackingStorePixelRatio ||\n",
       "\tthis.context.mozBackingStorePixelRatio ||\n",
       "\tthis.context.msBackingStorePixelRatio ||\n",
       "\tthis.context.oBackingStorePixelRatio ||\n",
       "\tthis.context.backingStorePixelRatio || 1;\n",
       "\n",
       "    mpl.ratio = (window.devicePixelRatio || 1) / backingStore;\n",
       "\n",
       "    var rubberband = $('<canvas/>');\n",
       "    rubberband.attr('style', \"position: absolute; left: 0; top: 0; z-index: 1;\")\n",
       "\n",
       "    var pass_mouse_events = true;\n",
       "\n",
       "    canvas_div.resizable({\n",
       "        start: function(event, ui) {\n",
       "            pass_mouse_events = false;\n",
       "        },\n",
       "        resize: function(event, ui) {\n",
       "            fig.request_resize(ui.size.width, ui.size.height);\n",
       "        },\n",
       "        stop: function(event, ui) {\n",
       "            pass_mouse_events = true;\n",
       "            fig.request_resize(ui.size.width, ui.size.height);\n",
       "        },\n",
       "    });\n",
       "\n",
       "    function mouse_event_fn(event) {\n",
       "        if (pass_mouse_events)\n",
       "            return fig.mouse_event(event, event['data']);\n",
       "    }\n",
       "\n",
       "    rubberband.mousedown('button_press', mouse_event_fn);\n",
       "    rubberband.mouseup('button_release', mouse_event_fn);\n",
       "    // Throttle sequential mouse events to 1 every 20ms.\n",
       "    rubberband.mousemove('motion_notify', mouse_event_fn);\n",
       "\n",
       "    rubberband.mouseenter('figure_enter', mouse_event_fn);\n",
       "    rubberband.mouseleave('figure_leave', mouse_event_fn);\n",
       "\n",
       "    canvas_div.on(\"wheel\", function (event) {\n",
       "        event = event.originalEvent;\n",
       "        event['data'] = 'scroll'\n",
       "        if (event.deltaY < 0) {\n",
       "            event.step = 1;\n",
       "        } else {\n",
       "            event.step = -1;\n",
       "        }\n",
       "        mouse_event_fn(event);\n",
       "    });\n",
       "\n",
       "    canvas_div.append(canvas);\n",
       "    canvas_div.append(rubberband);\n",
       "\n",
       "    this.rubberband = rubberband;\n",
       "    this.rubberband_canvas = rubberband[0];\n",
       "    this.rubberband_context = rubberband[0].getContext(\"2d\");\n",
       "    this.rubberband_context.strokeStyle = \"#000000\";\n",
       "\n",
       "    this._resize_canvas = function(width, height) {\n",
       "        // Keep the size of the canvas, canvas container, and rubber band\n",
       "        // canvas in synch.\n",
       "        canvas_div.css('width', width)\n",
       "        canvas_div.css('height', height)\n",
       "\n",
       "        canvas.attr('width', width * mpl.ratio);\n",
       "        canvas.attr('height', height * mpl.ratio);\n",
       "        canvas.attr('style', 'width: ' + width + 'px; height: ' + height + 'px;');\n",
       "\n",
       "        rubberband.attr('width', width);\n",
       "        rubberband.attr('height', height);\n",
       "    }\n",
       "\n",
       "    // Set the figure to an initial 600x600px, this will subsequently be updated\n",
       "    // upon first draw.\n",
       "    this._resize_canvas(600, 600);\n",
       "\n",
       "    // Disable right mouse context menu.\n",
       "    $(this.rubberband_canvas).bind(\"contextmenu\",function(e){\n",
       "        return false;\n",
       "    });\n",
       "\n",
       "    function set_focus () {\n",
       "        canvas.focus();\n",
       "        canvas_div.focus();\n",
       "    }\n",
       "\n",
       "    window.setTimeout(set_focus, 100);\n",
       "}\n",
       "\n",
       "mpl.figure.prototype._init_toolbar = function() {\n",
       "    var fig = this;\n",
       "\n",
       "    var nav_element = $('<div/>');\n",
       "    nav_element.attr('style', 'width: 100%');\n",
       "    this.root.append(nav_element);\n",
       "\n",
       "    // Define a callback function for later on.\n",
       "    function toolbar_event(event) {\n",
       "        return fig.toolbar_button_onclick(event['data']);\n",
       "    }\n",
       "    function toolbar_mouse_event(event) {\n",
       "        return fig.toolbar_button_onmouseover(event['data']);\n",
       "    }\n",
       "\n",
       "    for(var toolbar_ind in mpl.toolbar_items) {\n",
       "        var name = mpl.toolbar_items[toolbar_ind][0];\n",
       "        var tooltip = mpl.toolbar_items[toolbar_ind][1];\n",
       "        var image = mpl.toolbar_items[toolbar_ind][2];\n",
       "        var method_name = mpl.toolbar_items[toolbar_ind][3];\n",
       "\n",
       "        if (!name) {\n",
       "            // put a spacer in here.\n",
       "            continue;\n",
       "        }\n",
       "        var button = $('<button/>');\n",
       "        button.addClass('ui-button ui-widget ui-state-default ui-corner-all ' +\n",
       "                        'ui-button-icon-only');\n",
       "        button.attr('role', 'button');\n",
       "        button.attr('aria-disabled', 'false');\n",
       "        button.click(method_name, toolbar_event);\n",
       "        button.mouseover(tooltip, toolbar_mouse_event);\n",
       "\n",
       "        var icon_img = $('<span/>');\n",
       "        icon_img.addClass('ui-button-icon-primary ui-icon');\n",
       "        icon_img.addClass(image);\n",
       "        icon_img.addClass('ui-corner-all');\n",
       "\n",
       "        var tooltip_span = $('<span/>');\n",
       "        tooltip_span.addClass('ui-button-text');\n",
       "        tooltip_span.html(tooltip);\n",
       "\n",
       "        button.append(icon_img);\n",
       "        button.append(tooltip_span);\n",
       "\n",
       "        nav_element.append(button);\n",
       "    }\n",
       "\n",
       "    var fmt_picker_span = $('<span/>');\n",
       "\n",
       "    var fmt_picker = $('<select/>');\n",
       "    fmt_picker.addClass('mpl-toolbar-option ui-widget ui-widget-content');\n",
       "    fmt_picker_span.append(fmt_picker);\n",
       "    nav_element.append(fmt_picker_span);\n",
       "    this.format_dropdown = fmt_picker[0];\n",
       "\n",
       "    for (var ind in mpl.extensions) {\n",
       "        var fmt = mpl.extensions[ind];\n",
       "        var option = $(\n",
       "            '<option/>', {selected: fmt === mpl.default_extension}).html(fmt);\n",
       "        fmt_picker.append(option);\n",
       "    }\n",
       "\n",
       "    // Add hover states to the ui-buttons\n",
       "    $( \".ui-button\" ).hover(\n",
       "        function() { $(this).addClass(\"ui-state-hover\");},\n",
       "        function() { $(this).removeClass(\"ui-state-hover\");}\n",
       "    );\n",
       "\n",
       "    var status_bar = $('<span class=\"mpl-message\"/>');\n",
       "    nav_element.append(status_bar);\n",
       "    this.message = status_bar[0];\n",
       "}\n",
       "\n",
       "mpl.figure.prototype.request_resize = function(x_pixels, y_pixels) {\n",
       "    // Request matplotlib to resize the figure. Matplotlib will then trigger a resize in the client,\n",
       "    // which will in turn request a refresh of the image.\n",
       "    this.send_message('resize', {'width': x_pixels, 'height': y_pixels});\n",
       "}\n",
       "\n",
       "mpl.figure.prototype.send_message = function(type, properties) {\n",
       "    properties['type'] = type;\n",
       "    properties['figure_id'] = this.id;\n",
       "    this.ws.send(JSON.stringify(properties));\n",
       "}\n",
       "\n",
       "mpl.figure.prototype.send_draw_message = function() {\n",
       "    if (!this.waiting) {\n",
       "        this.waiting = true;\n",
       "        this.ws.send(JSON.stringify({type: \"draw\", figure_id: this.id}));\n",
       "    }\n",
       "}\n",
       "\n",
       "\n",
       "mpl.figure.prototype.handle_save = function(fig, msg) {\n",
       "    var format_dropdown = fig.format_dropdown;\n",
       "    var format = format_dropdown.options[format_dropdown.selectedIndex].value;\n",
       "    fig.ondownload(fig, format);\n",
       "}\n",
       "\n",
       "\n",
       "mpl.figure.prototype.handle_resize = function(fig, msg) {\n",
       "    var size = msg['size'];\n",
       "    if (size[0] != fig.canvas.width || size[1] != fig.canvas.height) {\n",
       "        fig._resize_canvas(size[0], size[1]);\n",
       "        fig.send_message(\"refresh\", {});\n",
       "    };\n",
       "}\n",
       "\n",
       "mpl.figure.prototype.handle_rubberband = function(fig, msg) {\n",
       "    var x0 = msg['x0'] / mpl.ratio;\n",
       "    var y0 = (fig.canvas.height - msg['y0']) / mpl.ratio;\n",
       "    var x1 = msg['x1'] / mpl.ratio;\n",
       "    var y1 = (fig.canvas.height - msg['y1']) / mpl.ratio;\n",
       "    x0 = Math.floor(x0) + 0.5;\n",
       "    y0 = Math.floor(y0) + 0.5;\n",
       "    x1 = Math.floor(x1) + 0.5;\n",
       "    y1 = Math.floor(y1) + 0.5;\n",
       "    var min_x = Math.min(x0, x1);\n",
       "    var min_y = Math.min(y0, y1);\n",
       "    var width = Math.abs(x1 - x0);\n",
       "    var height = Math.abs(y1 - y0);\n",
       "\n",
       "    fig.rubberband_context.clearRect(\n",
       "        0, 0, fig.canvas.width / mpl.ratio, fig.canvas.height / mpl.ratio);\n",
       "\n",
       "    fig.rubberband_context.strokeRect(min_x, min_y, width, height);\n",
       "}\n",
       "\n",
       "mpl.figure.prototype.handle_figure_label = function(fig, msg) {\n",
       "    // Updates the figure title.\n",
       "    fig.header.textContent = msg['label'];\n",
       "}\n",
       "\n",
       "mpl.figure.prototype.handle_cursor = function(fig, msg) {\n",
       "    var cursor = msg['cursor'];\n",
       "    switch(cursor)\n",
       "    {\n",
       "    case 0:\n",
       "        cursor = 'pointer';\n",
       "        break;\n",
       "    case 1:\n",
       "        cursor = 'default';\n",
       "        break;\n",
       "    case 2:\n",
       "        cursor = 'crosshair';\n",
       "        break;\n",
       "    case 3:\n",
       "        cursor = 'move';\n",
       "        break;\n",
       "    }\n",
       "    fig.rubberband_canvas.style.cursor = cursor;\n",
       "}\n",
       "\n",
       "mpl.figure.prototype.handle_message = function(fig, msg) {\n",
       "    fig.message.textContent = msg['message'];\n",
       "}\n",
       "\n",
       "mpl.figure.prototype.handle_draw = function(fig, msg) {\n",
       "    // Request the server to send over a new figure.\n",
       "    fig.send_draw_message();\n",
       "}\n",
       "\n",
       "mpl.figure.prototype.handle_image_mode = function(fig, msg) {\n",
       "    fig.image_mode = msg['mode'];\n",
       "}\n",
       "\n",
       "mpl.figure.prototype.updated_canvas_event = function() {\n",
       "    // Called whenever the canvas gets updated.\n",
       "    this.send_message(\"ack\", {});\n",
       "}\n",
       "\n",
       "// A function to construct a web socket function for onmessage handling.\n",
       "// Called in the figure constructor.\n",
       "mpl.figure.prototype._make_on_message_function = function(fig) {\n",
       "    return function socket_on_message(evt) {\n",
       "        if (evt.data instanceof Blob) {\n",
       "            /* FIXME: We get \"Resource interpreted as Image but\n",
       "             * transferred with MIME type text/plain:\" errors on\n",
       "             * Chrome.  But how to set the MIME type?  It doesn't seem\n",
       "             * to be part of the websocket stream */\n",
       "            evt.data.type = \"image/png\";\n",
       "\n",
       "            /* Free the memory for the previous frames */\n",
       "            if (fig.imageObj.src) {\n",
       "                (window.URL || window.webkitURL).revokeObjectURL(\n",
       "                    fig.imageObj.src);\n",
       "            }\n",
       "\n",
       "            fig.imageObj.src = (window.URL || window.webkitURL).createObjectURL(\n",
       "                evt.data);\n",
       "            fig.updated_canvas_event();\n",
       "            fig.waiting = false;\n",
       "            return;\n",
       "        }\n",
       "        else if (typeof evt.data === 'string' && evt.data.slice(0, 21) == \"data:image/png;base64\") {\n",
       "            fig.imageObj.src = evt.data;\n",
       "            fig.updated_canvas_event();\n",
       "            fig.waiting = false;\n",
       "            return;\n",
       "        }\n",
       "\n",
       "        var msg = JSON.parse(evt.data);\n",
       "        var msg_type = msg['type'];\n",
       "\n",
       "        // Call the  \"handle_{type}\" callback, which takes\n",
       "        // the figure and JSON message as its only arguments.\n",
       "        try {\n",
       "            var callback = fig[\"handle_\" + msg_type];\n",
       "        } catch (e) {\n",
       "            console.log(\"No handler for the '\" + msg_type + \"' message type: \", msg);\n",
       "            return;\n",
       "        }\n",
       "\n",
       "        if (callback) {\n",
       "            try {\n",
       "                // console.log(\"Handling '\" + msg_type + \"' message: \", msg);\n",
       "                callback(fig, msg);\n",
       "            } catch (e) {\n",
       "                console.log(\"Exception inside the 'handler_\" + msg_type + \"' callback:\", e, e.stack, msg);\n",
       "            }\n",
       "        }\n",
       "    };\n",
       "}\n",
       "\n",
       "// from http://stackoverflow.com/questions/1114465/getting-mouse-location-in-canvas\n",
       "mpl.findpos = function(e) {\n",
       "    //this section is from http://www.quirksmode.org/js/events_properties.html\n",
       "    var targ;\n",
       "    if (!e)\n",
       "        e = window.event;\n",
       "    if (e.target)\n",
       "        targ = e.target;\n",
       "    else if (e.srcElement)\n",
       "        targ = e.srcElement;\n",
       "    if (targ.nodeType == 3) // defeat Safari bug\n",
       "        targ = targ.parentNode;\n",
       "\n",
       "    // jQuery normalizes the pageX and pageY\n",
       "    // pageX,Y are the mouse positions relative to the document\n",
       "    // offset() returns the position of the element relative to the document\n",
       "    var x = e.pageX - $(targ).offset().left;\n",
       "    var y = e.pageY - $(targ).offset().top;\n",
       "\n",
       "    return {\"x\": x, \"y\": y};\n",
       "};\n",
       "\n",
       "/*\n",
       " * return a copy of an object with only non-object keys\n",
       " * we need this to avoid circular references\n",
       " * http://stackoverflow.com/a/24161582/3208463\n",
       " */\n",
       "function simpleKeys (original) {\n",
       "  return Object.keys(original).reduce(function (obj, key) {\n",
       "    if (typeof original[key] !== 'object')\n",
       "        obj[key] = original[key]\n",
       "    return obj;\n",
       "  }, {});\n",
       "}\n",
       "\n",
       "mpl.figure.prototype.mouse_event = function(event, name) {\n",
       "    var canvas_pos = mpl.findpos(event)\n",
       "\n",
       "    if (name === 'button_press')\n",
       "    {\n",
       "        this.canvas.focus();\n",
       "        this.canvas_div.focus();\n",
       "    }\n",
       "\n",
       "    var x = canvas_pos.x * mpl.ratio;\n",
       "    var y = canvas_pos.y * mpl.ratio;\n",
       "\n",
       "    this.send_message(name, {x: x, y: y, button: event.button,\n",
       "                             step: event.step,\n",
       "                             guiEvent: simpleKeys(event)});\n",
       "\n",
       "    /* This prevents the web browser from automatically changing to\n",
       "     * the text insertion cursor when the button is pressed.  We want\n",
       "     * to control all of the cursor setting manually through the\n",
       "     * 'cursor' event from matplotlib */\n",
       "    event.preventDefault();\n",
       "    return false;\n",
       "}\n",
       "\n",
       "mpl.figure.prototype._key_event_extra = function(event, name) {\n",
       "    // Handle any extra behaviour associated with a key event\n",
       "}\n",
       "\n",
       "mpl.figure.prototype.key_event = function(event, name) {\n",
       "\n",
       "    // Prevent repeat events\n",
       "    if (name == 'key_press')\n",
       "    {\n",
       "        if (event.which === this._key)\n",
       "            return;\n",
       "        else\n",
       "            this._key = event.which;\n",
       "    }\n",
       "    if (name == 'key_release')\n",
       "        this._key = null;\n",
       "\n",
       "    var value = '';\n",
       "    if (event.ctrlKey && event.which != 17)\n",
       "        value += \"ctrl+\";\n",
       "    if (event.altKey && event.which != 18)\n",
       "        value += \"alt+\";\n",
       "    if (event.shiftKey && event.which != 16)\n",
       "        value += \"shift+\";\n",
       "\n",
       "    value += 'k';\n",
       "    value += event.which.toString();\n",
       "\n",
       "    this._key_event_extra(event, name);\n",
       "\n",
       "    this.send_message(name, {key: value,\n",
       "                             guiEvent: simpleKeys(event)});\n",
       "    return false;\n",
       "}\n",
       "\n",
       "mpl.figure.prototype.toolbar_button_onclick = function(name) {\n",
       "    if (name == 'download') {\n",
       "        this.handle_save(this, null);\n",
       "    } else {\n",
       "        this.send_message(\"toolbar_button\", {name: name});\n",
       "    }\n",
       "};\n",
       "\n",
       "mpl.figure.prototype.toolbar_button_onmouseover = function(tooltip) {\n",
       "    this.message.textContent = tooltip;\n",
       "};\n",
       "mpl.toolbar_items = [[\"Home\", \"Reset original view\", \"fa fa-home icon-home\", \"home\"], [\"Back\", \"Back to previous view\", \"fa fa-arrow-left icon-arrow-left\", \"back\"], [\"Forward\", \"Forward to next view\", \"fa fa-arrow-right icon-arrow-right\", \"forward\"], [\"\", \"\", \"\", \"\"], [\"Pan\", \"Pan axes with left mouse, zoom with right\", \"fa fa-arrows icon-move\", \"pan\"], [\"Zoom\", \"Zoom to rectangle\", \"fa fa-square-o icon-check-empty\", \"zoom\"], [\"\", \"\", \"\", \"\"], [\"Download\", \"Download plot\", \"fa fa-floppy-o icon-save\", \"download\"]];\n",
       "\n",
       "mpl.extensions = [\"eps\", \"pdf\", \"png\", \"ps\", \"raw\", \"svg\"];\n",
       "\n",
       "mpl.default_extension = \"png\";var comm_websocket_adapter = function(comm) {\n",
       "    // Create a \"websocket\"-like object which calls the given IPython comm\n",
       "    // object with the appropriate methods. Currently this is a non binary\n",
       "    // socket, so there is still some room for performance tuning.\n",
       "    var ws = {};\n",
       "\n",
       "    ws.close = function() {\n",
       "        comm.close()\n",
       "    };\n",
       "    ws.send = function(m) {\n",
       "        //console.log('sending', m);\n",
       "        comm.send(m);\n",
       "    };\n",
       "    // Register the callback with on_msg.\n",
       "    comm.on_msg(function(msg) {\n",
       "        //console.log('receiving', msg['content']['data'], msg);\n",
       "        // Pass the mpl event to the overridden (by mpl) onmessage function.\n",
       "        ws.onmessage(msg['content']['data'])\n",
       "    });\n",
       "    return ws;\n",
       "}\n",
       "\n",
       "mpl.mpl_figure_comm = function(comm, msg) {\n",
       "    // This is the function which gets called when the mpl process\n",
       "    // starts-up an IPython Comm through the \"matplotlib\" channel.\n",
       "\n",
       "    var id = msg.content.data.id;\n",
       "    // Get hold of the div created by the display call when the Comm\n",
       "    // socket was opened in Python.\n",
       "    var element = $(\"#\" + id);\n",
       "    var ws_proxy = comm_websocket_adapter(comm)\n",
       "\n",
       "    function ondownload(figure, format) {\n",
       "        window.open(figure.imageObj.src);\n",
       "    }\n",
       "\n",
       "    var fig = new mpl.figure(id, ws_proxy,\n",
       "                           ondownload,\n",
       "                           element.get(0));\n",
       "\n",
       "    // Call onopen now - mpl needs it, as it is assuming we've passed it a real\n",
       "    // web socket which is closed, not our websocket->open comm proxy.\n",
       "    ws_proxy.onopen();\n",
       "\n",
       "    fig.parent_element = element.get(0);\n",
       "    fig.cell_info = mpl.find_output_cell(\"<div id='\" + id + \"'></div>\");\n",
       "    if (!fig.cell_info) {\n",
       "        console.error(\"Failed to find cell for figure\", id, fig);\n",
       "        return;\n",
       "    }\n",
       "\n",
       "    var output_index = fig.cell_info[2]\n",
       "    var cell = fig.cell_info[0];\n",
       "\n",
       "};\n",
       "\n",
       "mpl.figure.prototype.handle_close = function(fig, msg) {\n",
       "    var width = fig.canvas.width/mpl.ratio\n",
       "    fig.root.unbind('remove')\n",
       "\n",
       "    // Update the output cell to use the data from the current canvas.\n",
       "    fig.push_to_output();\n",
       "    var dataURL = fig.canvas.toDataURL();\n",
       "    // Re-enable the keyboard manager in IPython - without this line, in FF,\n",
       "    // the notebook keyboard shortcuts fail.\n",
       "    IPython.keyboard_manager.enable()\n",
       "    $(fig.parent_element).html('<img src=\"' + dataURL + '\" width=\"' + width + '\">');\n",
       "    fig.close_ws(fig, msg);\n",
       "}\n",
       "\n",
       "mpl.figure.prototype.close_ws = function(fig, msg){\n",
       "    fig.send_message('closing', msg);\n",
       "    // fig.ws.close()\n",
       "}\n",
       "\n",
       "mpl.figure.prototype.push_to_output = function(remove_interactive) {\n",
       "    // Turn the data on the canvas into data in the output cell.\n",
       "    var width = this.canvas.width/mpl.ratio\n",
       "    var dataURL = this.canvas.toDataURL();\n",
       "    this.cell_info[1]['text/html'] = '<img src=\"' + dataURL + '\" width=\"' + width + '\">';\n",
       "}\n",
       "\n",
       "mpl.figure.prototype.updated_canvas_event = function() {\n",
       "    // Tell IPython that the notebook contents must change.\n",
       "    IPython.notebook.set_dirty(true);\n",
       "    this.send_message(\"ack\", {});\n",
       "    var fig = this;\n",
       "    // Wait a second, then push the new image to the DOM so\n",
       "    // that it is saved nicely (might be nice to debounce this).\n",
       "    setTimeout(function () { fig.push_to_output() }, 1000);\n",
       "}\n",
       "\n",
       "mpl.figure.prototype._init_toolbar = function() {\n",
       "    var fig = this;\n",
       "\n",
       "    var nav_element = $('<div/>');\n",
       "    nav_element.attr('style', 'width: 100%');\n",
       "    this.root.append(nav_element);\n",
       "\n",
       "    // Define a callback function for later on.\n",
       "    function toolbar_event(event) {\n",
       "        return fig.toolbar_button_onclick(event['data']);\n",
       "    }\n",
       "    function toolbar_mouse_event(event) {\n",
       "        return fig.toolbar_button_onmouseover(event['data']);\n",
       "    }\n",
       "\n",
       "    for(var toolbar_ind in mpl.toolbar_items){\n",
       "        var name = mpl.toolbar_items[toolbar_ind][0];\n",
       "        var tooltip = mpl.toolbar_items[toolbar_ind][1];\n",
       "        var image = mpl.toolbar_items[toolbar_ind][2];\n",
       "        var method_name = mpl.toolbar_items[toolbar_ind][3];\n",
       "\n",
       "        if (!name) { continue; };\n",
       "\n",
       "        var button = $('<button class=\"btn btn-default\" href=\"#\" title=\"' + name + '\"><i class=\"fa ' + image + ' fa-lg\"></i></button>');\n",
       "        button.click(method_name, toolbar_event);\n",
       "        button.mouseover(tooltip, toolbar_mouse_event);\n",
       "        nav_element.append(button);\n",
       "    }\n",
       "\n",
       "    // Add the status bar.\n",
       "    var status_bar = $('<span class=\"mpl-message\" style=\"text-align:right; float: right;\"/>');\n",
       "    nav_element.append(status_bar);\n",
       "    this.message = status_bar[0];\n",
       "\n",
       "    // Add the close button to the window.\n",
       "    var buttongrp = $('<div class=\"btn-group inline pull-right\"></div>');\n",
       "    var button = $('<button class=\"btn btn-mini btn-primary\" href=\"#\" title=\"Stop Interaction\"><i class=\"fa fa-power-off icon-remove icon-large\"></i></button>');\n",
       "    button.click(function (evt) { fig.handle_close(fig, {}); } );\n",
       "    button.mouseover('Stop Interaction', toolbar_mouse_event);\n",
       "    buttongrp.append(button);\n",
       "    var titlebar = this.root.find($('.ui-dialog-titlebar'));\n",
       "    titlebar.prepend(buttongrp);\n",
       "}\n",
       "\n",
       "mpl.figure.prototype._root_extra_style = function(el){\n",
       "    var fig = this\n",
       "    el.on(\"remove\", function(){\n",
       "\tfig.close_ws(fig, {});\n",
       "    });\n",
       "}\n",
       "\n",
       "mpl.figure.prototype._canvas_extra_style = function(el){\n",
       "    // this is important to make the div 'focusable\n",
       "    el.attr('tabindex', 0)\n",
       "    // reach out to IPython and tell the keyboard manager to turn it's self\n",
       "    // off when our div gets focus\n",
       "\n",
       "    // location in version 3\n",
       "    if (IPython.notebook.keyboard_manager) {\n",
       "        IPython.notebook.keyboard_manager.register_events(el);\n",
       "    }\n",
       "    else {\n",
       "        // location in version 2\n",
       "        IPython.keyboard_manager.register_events(el);\n",
       "    }\n",
       "\n",
       "}\n",
       "\n",
       "mpl.figure.prototype._key_event_extra = function(event, name) {\n",
       "    var manager = IPython.notebook.keyboard_manager;\n",
       "    if (!manager)\n",
       "        manager = IPython.keyboard_manager;\n",
       "\n",
       "    // Check for shift+enter\n",
       "    if (event.shiftKey && event.which == 13) {\n",
       "        this.canvas_div.blur();\n",
       "        // select the cell after this one\n",
       "        var index = IPython.notebook.find_cell_index(this.cell_info[0]);\n",
       "        IPython.notebook.select(index + 1);\n",
       "    }\n",
       "}\n",
       "\n",
       "mpl.figure.prototype.handle_save = function(fig, msg) {\n",
       "    fig.ondownload(fig, null);\n",
       "}\n",
       "\n",
       "\n",
       "mpl.find_output_cell = function(html_output) {\n",
       "    // Return the cell and output element which can be found *uniquely* in the notebook.\n",
       "    // Note - this is a bit hacky, but it is done because the \"notebook_saving.Notebook\"\n",
       "    // IPython event is triggered only after the cells have been serialised, which for\n",
       "    // our purposes (turning an active figure into a static one), is too late.\n",
       "    var cells = IPython.notebook.get_cells();\n",
       "    var ncells = cells.length;\n",
       "    for (var i=0; i<ncells; i++) {\n",
       "        var cell = cells[i];\n",
       "        if (cell.cell_type === 'code'){\n",
       "            for (var j=0; j<cell.output_area.outputs.length; j++) {\n",
       "                var data = cell.output_area.outputs[j];\n",
       "                if (data.data) {\n",
       "                    // IPython >= 3 moved mimebundle to data attribute of output\n",
       "                    data = data.data;\n",
       "                }\n",
       "                if (data['text/html'] == html_output) {\n",
       "                    return [cell, data, j];\n",
       "                }\n",
       "            }\n",
       "        }\n",
       "    }\n",
       "}\n",
       "\n",
       "// Register the function which deals with the matplotlib target/channel.\n",
       "// The kernel may be null if the page has been refreshed.\n",
       "if (IPython.notebook.kernel != null) {\n",
       "    IPython.notebook.kernel.comm_manager.register_target('matplotlib', mpl.mpl_figure_comm);\n",
       "}\n"
      ],
      "text/plain": [
       "<IPython.core.display.Javascript object>"
      ]
     },
     "metadata": {},
     "output_type": "display_data"
    },
    {
     "data": {
      "text/html": [
       "<img src=\"data:image/png;base64,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\" width=\"432\">"
      ],
      "text/plain": [
       "<IPython.core.display.HTML object>"
      ]
     },
     "metadata": {},
     "output_type": "display_data"
    }
   ],
   "source": [
    "%matplotlib notebook\n",
    "import matplotlib.pyplot as plt\n",
    "import scikitplot as skplt\n",
    "skplt.metrics.plot_confusion_matrix(y_test, y_pred, normalize=False)\n",
    "plt.show()\n"
   ]
  },
  {
   "cell_type": "code",
   "execution_count": 186,
   "metadata": {},
   "outputs": [
    {
     "name": "stdout",
     "output_type": "stream",
     "text": [
      "              precision    recall  f1-score   support\n",
      "\n",
      "           0       0.00      0.00      0.00         8\n",
      "           1       0.00      0.00      0.00         7\n",
      "           2       0.08      1.00      0.16         7\n",
      "           3       0.00      0.00      0.00         8\n",
      "           4       0.00      0.00      0.00         4\n",
      "           5       0.00      0.00      0.00         9\n",
      "           6       0.00      0.00      0.00         7\n",
      "           7       0.00      0.00      0.00         9\n",
      "           8       0.00      0.00      0.00         7\n",
      "           9       0.00      0.00      0.00         4\n",
      "          10       0.00      0.00      0.00         5\n",
      "          11       0.00      0.00      0.00         2\n",
      "          12       0.00      0.00      0.00         6\n",
      "\n",
      "    accuracy                           0.08        83\n",
      "   macro avg       0.01      0.08      0.01        83\n",
      "weighted avg       0.01      0.08      0.01        83\n",
      "\n"
     ]
    },
    {
     "name": "stderr",
     "output_type": "stream",
     "text": [
      "/Users/nguyenthang/anaconda3/envs/thang/lib/python3.7/site-packages/sklearn/metrics/classification.py:1437: UndefinedMetricWarning: Precision and F-score are ill-defined and being set to 0.0 in labels with no predicted samples.\n",
      "  'precision', 'predicted', average, warn_for)\n"
     ]
    }
   ],
   "source": [
    "print(sklearn.metrics.classification_report(y_test, y_pred,digits=2))"
   ]
  },
  {
   "cell_type": "code",
   "execution_count": 150,
   "metadata": {},
   "outputs": [],
   "source": [
    "train_score = classifier.score(X_train_std, y_train)\n",
    "test_score = classifier.score(X_test_std, y_test)"
   ]
  },
  {
   "cell_type": "code",
   "execution_count": 151,
   "metadata": {},
   "outputs": [
    {
     "name": "stdout",
     "output_type": "stream",
     "text": [
      "0.9068825910931174 0.27710843373493976\n"
     ]
    }
   ],
   "source": [
    "print(train_score,test_score)"
   ]
  },
  {
   "cell_type": "code",
   "execution_count": 621,
   "metadata": {},
   "outputs": [
    {
     "data": {
      "text/html": [
       "\n",
       "                <audio  controls=\"controls\" >\n",
       "                    <source src=\"data:audio/wav;base64,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\" type=\"audio/wav\" />\n",
       "                    Your browser does not support the audio element.\n",
       "                </audio>\n",
       "              "
      ],
      "text/plain": [
       "<IPython.lib.display.Audio object>"
      ]
     },
     "execution_count": 621,
     "metadata": {},
     "output_type": "execute_result"
    }
   ],
   "source": [
    "yr, sr,mfcc = readAudio2mfcc(\"data/tournegauche/M11_tournegauche.wav\",30)\n",
    "ipd.Audio(yr,rate=sr)"
   ]
  },
  {
   "cell_type": "code",
   "execution_count": 630,
   "metadata": {},
   "outputs": [
    {
     "data": {
      "text/plain": [
       "<matplotlib.axes._subplots.AxesSubplot at 0x14a6fb990>"
      ]
     },
     "execution_count": 630,
     "metadata": {},
     "output_type": "execute_result"
    },
    {
     "data": {
      "image/png": "[encoded data removed]",
      "text/plain": [
       "<Figure size 432x288 with 1 Axes>"
      ]
     },
     "metadata": {
      "needs_background": "light"
     },
     "output_type": "display_data"
    }
   ],
   "source": [
    "librosa.display.specshow(mfcc, sr=sr, x_axis='time')"
   ]
  },
  {
   "cell_type": "code",
   "execution_count": 622,
   "metadata": {},
   "outputs": [
    {
     "data": {
      "text/plain": [
       "'decollage'"
      ]
     },
     "execution_count": 622,
     "metadata": {},
     "output_type": "execute_result"
    }
   ],
   "source": [
    "labels[9]"
   ]
  },
  {
   "cell_type": "code",
   "execution_count": 647,
   "metadata": {},
   "outputs": [
    {
     "data": {
      "text/html": [
       "\n",
       "                <audio  controls=\"controls\" >\n",
       "                    <source src=\"data:audio/wav;base64,UklGRiQ4AABXQVZFZm10IBAAAAABAAEAIlYAAESsAAACABAAZGF0YQA4AAB3/uX+kf5J/wkA9wC8ANL/pP6G/+//k/9l/en7Bv3M/6AByAG2AOAADwNcBMYCWgGQAHoA5gBRARwAwv/EAAACMQK4AYYB0AK3A6QCQQA8/pz9Wv5P/jz9A/zD+878gf4r/7L/xQBVAR4BeADm///+tf4+/rz9M/xC+/r7Fv69/6oAPALYAs4CVwE1ACL/2f18/Ob7EvsJ+9n7s/yw/b7+l/9bAUcBxv8q//v/If/P/dT8b/u3+6n7CfyC/GD9sf4RAYoCpAGa/zH/TgA7ABr+M/sr+jH60/tk/Pr7WPxf/dL+j/8//zX/lf/ZAC4Aef+Z/nP+xP7P/qf+r/8XAcYCRAQLBd8FDwfSB98GkgRnAn4B4gFnAWQA9QGsAwMG2wb/BuAGLgftBqAFwAT7A6cD8wTvBOcECgVgBhEHAQZYBC4EZARABd8E3gMwA6YEKAWUBHUD/QLUAqwCfQFeAK0ASwEXA6YDvAI+AbgA9QB+AFL/Cv6v/VH+vf5J/sn94v0E/ur8BftP+Uz5+fll+jn7oPtn/AL8xfqM+Yn5f/kd+QX4hfe79zf5f/qG+nj50fgK+bD5Yvkw+Az4t/n9+pf78vpI+gb6cPoN+gT5SPio+Mf64vsO/Tf+PAC6AaIBzP9o/oz92vwl/BD8lvt4/RMA0wH/AjcDKwOjAzQEOQKEAJsA2AAxAYUBfgFtAaYBagIGA0MD9wOwBDQFXwUWBWMEOgPwAYkAIQD8/17/gf5v/hj/4v/IANIBjAG/ACMA2v9u/5P+kP0B/Vn9sPz6+9/71Pw5/mT/W/9d/47/YgDv/x7/F/4p/Uj8rvtf++76Nftk/O/9t/50/pL+fv+5ABEADv/o/Zz98P0A/rj98f0I/58AhgHqAf0CjgTpBdQGrQa+Bd8E8QNeBOgDsQPFA+gE/wVbBlcGLQbIBo8GhwXmA3ADRgONApsBdQIhA90COALpAaABpwKlAhAChAF1AUcBPwG7AAIATP9C/jH+Ev4W/Z/8jf17/lr/y/7Z/cD9rf14+/r4JPjH9273oPYL9qj1Y/Xw9B/0U/Ia8C/u0+yf6znq0Om+6gHrh+vk6j7q9Oma6vvr3+zl7eLuP/AV8nDzovTn9U/2TvX380L0KPXQ9ZP2p/cv+R/6RPtQ/Ob8kf2K/1j/K//W/+IAiwL1BAgH3AhICssL/g1qD2YQlBGdEpsTixKZETkQ/hAhEvcRoxFBEc4SiRN7FKMULhTlE0YTGhLzEN4QMRDzDuoNww1IDXYNaQ61DiwOHw2oDDsM2At3CscJUQlQCSgJ5wfpB7AI2Qg8CaMJcQqMC/4LKAuxCbUIugawBGkDzQJaAnwCuQM1A8UCZgLOATsAZ/+i/Yz8r/wl/uz+//75/Tr+zf1n/Kv6lfoB+tL5zvn++cz5Zvr/+nX6pvkN+Tj4fPf19nr2m/bI9+n4svlj+hP6W/rR+k36dvnb94T3A/eV9pP1APUs9Zb1K/UL9EXzOvJo8iLyffF08EbvF+6o7Gnr1+kb6gDqjeoR6unqz+uC7F3tSuzz61vr2OzO7mTw4vHY8yv3PPqu/Er/sAIzBYoGEAcUCCQKMQvyDGUNHA7bDskPqRASEWYQyw+mD2MPxw5MDtQOzRCPEh8UahUmFxAZhhp9G34b1htqG+8ZaxmGGF8ZvxgoGHwXoBWEEuYP/Q1mC5oHLQTAAWT/of2T/FD8fvwa/Cr8dPxj/Cj8b/wt/AD8rvvM+hv5Dvhd+Kj5W/sH/Mr8Yv2o/br9bfzu+ub4YfaJ9OH0VfW59fD2C/k1+hj6afkW+Z/3LPZR9D/y5PBr8anx5/Jh9Gj12fWZ9ff11PTK85Lym/IO89zzEfWR9j74ofpP/AT9//2H/qv/6/+P/yUAWQERAlMD6gR8BnAHUgn5Cx8Omg6VDTYMfgvWCpkKsgrrCisMmA13DlUOPA4pDu8NYA3iCzIKbAe/BXIFjAUHBcgENgVWBpoGcwXvA2sDxwJPASD/6vtb+cv3RPcU97b2g/ap9sv2yfZs9nv1GvTy8cvvpO0H7MfrHu0Q8Hbyw/TO9on3yfc1+B73gvZi9YfzuPQD+O/7Df/sAQwEdgVlBc4EqwR/BYsGgQidCiMNuQ8LE+0VyhajFvEVrxXkFZ4WDhcaFzkYQRtIHrAfQR/lHgwfwh00Gy8ZXhiDGFEZZBq+G9Mc/xyBHawdTx1YG+UZRRigFqsUlRL/D58O2g71DosOew6qDqAOng2oCzkIEwRG//f7zPrq+ZT4Yfhz+Qr7sfv1+oD5Wvdw9L3wHe1c6S3ogOht6WDqYev36ufrIe2c7Mjp6+an5Ajk3+Kg4pXhO+Lm4pPjZ+Qw5NXlGed35yTmyeQW47/hZ+BA4S7hCeJx40DnwOva7z7yEPOe8pnxfe8l7RbssewB7/7zHPvFASYHcQsiDYQNpgtUCOwDCAJwAvQD5gY9C7MQWxa2Gf8aDhmbFR4RfQ2qCuwHwQbmB8ALhw9xEm8T0hIhEy4S5w4BCwEIvAYHBxAHxgfECeUL6A2HDgkOKA3rCw8LhgqdCMAGaAa5Bk8H6we+B4cHnweHB/AHHQivBzsH2QVYBD4D4gLaAhADnQJdA6YElQS4AwcD3wLxAVMA/v7C/Sv9bf3V/J37Rvm/9wz4Dfk7+Mf24PQS86DyIfKi8HzvBu8076jug+5l7trtre3p7O/sW+2Y7q7xNfSa9pD3pPZa9Q/0B/IO8ezwQPKi9Rz6fP6AAyAI2wqKCxwKcAakAq3/cP31/KH+kQE2Bk4LoRDtFL4XCRe2ExMNCgUW/9D6Qfk/+nb9BwJnB+ULbw4oD+ANagqXBPP8IvYa85zy9/M+9m/5tvx/AL4DAAZTBmUFbANo/+L6EPh39jr3XfnZ+xr+zP8QAmAEzQWQBcMEtwNTAor/2/ws+8750fhN+MX3ufhO+oD71/wP/l7+cf3N+of3pvQk8uzvGO/E7v/uju/i8FXzJvQ781jysPFM8L7ufewM7J/sdOwW7J3rUutP62nrievz6yXtXe+M83b45fs0/Yb8OPsQ+dP1WPMW8u/yM/Yt/E0DuQvxE3gZCBurGNQTLQ7zCL8ENQPmBJoIqA8XGeQi4Cg1Kw0p0iVxHpoYmRKxDsULWQxEEEcWDxwCIkokKyYTJdEhnx69Gd0WZhNcEZgPoA9aEvIVThpRHQMe5B0wHvAdahxtGYwUIRDNDRMMcwo2CrkKEw2qD6UQeRA/EHoPnwynB60BxfwM+a72VfXa9N3zRvNb9L719fUu9e3yU+8M7ODoWeUf4vneid2X3FLcM91J3xrjdOUI5kjl2+Fh3c7ZTNik2NfYkNm523rfu+LD42fk5OQe5Ovi1eFR4TXjTedJ7UjzbfXO9PTyMPFn8Fzv2O0T7lPxNfbu+6YC+whWDTMNyAmEAq37+ve39rz4K/23AroHpAwwEUkUPRLKDXoHpAKi/jj81/zj/9ACkQViCIoJDwmEB3kFrwM3Ao8A0/9YABECzwLSAjoBogAKARsBuADBAYoEJgdECVQKegnRBn8DaADm/lb9T/2e/uwBewUTCfgK2QuiCuUH4QM3/3f73/ks+hD87P5CAdID8AVbB+MIWwg1BZoB5v65/Mj6zvr5+z/+mQEPBYcHnAhzCaQIOQUiAbf9SfrC+ID6lP2cAXYFPAmSCwUMbQmyBX8B4P2I+ir5/vnX/AQCGQjdDQoSnRKqD9IJdwMB/i76JPhm+f38cwFPBo8LnhCZEioRiA05CBQEqwGNAdcAXAGEAh0ELQdECnUMlw1kDH4LsAtIC5UJZgf7A+7/Rvsn+RX6ovxy/1QDPQdaCvILDg1aDCQIoAGg+nX11/P/9QL7sADpBq4LlQ5UDw8OKQt2BUj+xvfC8xfz5vTf+fb/lAUPCOoICwi6BEwApvvm9wX1/fPl9GD3n/qh/hoCFAM8AswA4P04+k/3m/VS9ST1D/W/9gH5r/kV+0v8JfyE+yH5DPaM85fxDvAc7+bvKvGw81/2X/pb/cT9AftX9gbyce266ZXngegV7ADxrvix/+QE5QYOBm0Bwfng8V3sn+kW6urte/SC/L4F4w/oFaoWpBLFDGMERP1i9371uPbx+vIB3wovFNUagh8eH2YaChVYD98JkwQFAlQAjgLQBu4M5BI2GD4bTxxCG9YXLhRvEEkL2wSN/2P9l/4kArAH5gyCEZ0U+hYhFjMR9An9AXz6wPRG8rrztPhf/9wEwwmlDO8MiAsFCEIB9/n683HwCPDH8uj2I/zzAA8FtwZqBogFLAPE/gv5zPNk8OPv6/E69uH7WwD4AqEEGwT3AGb9efm39GHvA+zk62LvwPRm+00AgwI1AX39kPaL7+HqJegc583nLOy58pj6fQPqCfEKgAXH/Jrzfuxt6ZnraPEl+fEByAq5EeoWjRivFZYOPQbl/pX8KP7kA1kMahSCGZEcbx0CHe4a8BYdFDYR4w+MEIQRnRIGEtgRJxB8DuIMTQzdDE8O/A9TEJQOWgoaBNP9cvef8jPxKfQ/+PL84gAoAj8BVP6O+UjyJOp25KLgI+G/5TXtnPT/+Yf8Rvxq+N7xU+z55t3iduHO40fo2O609Z77Vv8O/8L7Fvfb8pnvgu4K7wPx4PPI94H7iv3U/SH+Xf1I+7j3CPSo8Z3wqPBE8YLx+fAU8231evbT9C/y3e+i7tbrXOim5Qnn3Op58KH2IPyC/7j/ZPyu9x/zIe+175rzEvly/gUGhg7GFZkZJxquFx4ShAznCK8Jfw4SFvAd3COEJsInrSf6JkAjSiC8HQ8cyRrVG3Mf2yJOJCkkRSBTGrsV8xOSE3cSsxEzEV8QNQ4eCSkExgHRAI7/dP68+5b51/qp/FL9/vtg+ArzLu3i6OHmnehJ7uP08vhf+C/2bPW69lb2hfWT8uHvMO9y8bL3qf1IAhMFPgRrAQv+b/0R/44BdQOLA60CBgPyA+oEAQX1A4UBw/7W/NX87f1Q/pz9Q/wI+i73f/TK8anvM+3f64jrv+oL6k/p+OmV6/HsLPB68ojy6fAO7TToD+Un5fXokO4T9Nn4W/+eBkkN7hHuEWwNnAbuARYBEgOaCRsS0htXI1kmZCg6K6IssSsLJqAehRefFDwVgBgVHYsgeCEaIYYfah23GXEWMBNZDkwHAAGK/an7A/tf+5b7PPp591L0MvIi8TTwve4Q7DPowuMk4HneHt/p4XrlNufO5d3kX+QS5uLnvehs6CbnhecI6qrtSvHQ9Ir35Pg7+Gb3N/gc+93/YAO8BDMEkwQlBbwFeQbwBVYEZgKlAaQB7gBcAEkAcACc/9z9nfpK9y71BfNs8d3u8uvF6KHmS+bs58nqqvA89sf4BviZ82nt+uiZ56Hoe+v17jD00vtaBQ8RtxmGHP0ZcRRLDWsHvgZuC/ESyxpsImwnuSumMHM20jjWNUMuQyYEIYwglyIUJYQnTScLJ0clniO0IkYi+SAFHSUV4gukBJwBUwBH/1782/h59U7zg/Kq8snxQ+8B7LPnZ+GF3Dfaotts3U/fu+DD3zvfzOB445Hl2uZk5pvlweWO5+zqX++V8rP0r/WV9ZX1UfaZ+c7+RgRSBgMHTwiFCEoJtgmjCAYG2wMWAzkEOwTpA94EOQVtBO0BG/2o9930A/ML8oTvA+2n6jrorOdQ6ELqWe0K8Sjzz/HU7AHnrOQH5hDo8OjN6YjtGPU7ACMLPxM2FhMUog6BCWEHoAiuDRcVbRvRHnki9ScnMLU3Ujo0N9QuHykeJtMmKynAKp0pCCfnJV8mFShPKcMpRCcuIc4ZWRIrDBAJbAeLBNgAVP2d+h/5Dfkm+V72Q/Ho6trlo+HE3WzaCNoq3IreVOAq4YLgX+CI4UXiYOF44DDgWeEz5krrA++M8xH4XvtC++T4QPdG+W/9CwKNBRwHmwekCfkMzg2gCwcJ0AfhBmYGzQTdAzwFBwefByUGsgL5/iH8b/ml9UDwweuD6JLmDeXy4yjmYOqe7yTztPIK7dzm6+L44OPgaePf5cPo8u0l9ngACwoID5sPxwoBBt4DTgU3CigQ+hY7Gwse+SEGJi8t6zElM5cuwygzJbAnUiupLaEs3CnOJ/0mOSYyJVwl6ySCIkQd7RU/D48KmwfiBDwAvfqr9+X4qfnC+OX1cPLf7ujp6+Ks3HbXFdaB2DrdQ+HW40DkcOR45GbjoeHH4Yji1OJm5KTo7+0m9Nr6eP+6/uT7jfn/+ED7EAA2BcQIygreC9AOWxGYEY0P9gt1B14DRgGxAOsBBwSsBU8GAwUEAZr8+Pjc9b/xsuxf52vjmeH34XjjYubK6pnufvAj7hjoY+JA36fe+d+S4ZTjEehE8dT8cAeSDoER4w/vChMFeQK9BGAL1RMRG8kfeSOCKB0u2DPtM+IvACnTJXAluyfIK+4u+S7ZLUssJipgKMImYCW3It8cJxerEhEPtAt3CFgFLAGY/Kv58/jy91r2//Pa8MHsqOcg4nndE9gF1nTYVd/35Vfrru7h72Lvp+0m6+PmSeOZ4l/lHew89c//uwnTDxURpA1YB5AC7AG+A0IFmgaeCaEO5RTpGNgYZhWBELALEwYcAAv7uPk6/C3/NgBr/hP7wfiL9TXwfunA43reCtqH1rTVUtir3jvm9umR51Hintwi2QTZ+toU3WPf9eE+5rHtD/kxBH0Lcwx3BzADEAMnB6ENXxMSGF4cKCE7Jk8sWzN5ORU5zjMALP0mDCd2KtQtxywcKUsnGSjZKJko0CWkIqUeABnQEToKqAUCA+f/Jvto9Zrxj/H088L0b/Kv7jTrbejR4jnattNJ0NjRENcI3bLic+mt74TzsvOs8Rfvcuty6LvnMepF8bn8+whXEjIXJRliGY0XbxN+D5sMAAw6DTYP6BKsGNEdWB9iHFEWABGdCzUFBf/n+Fz1A/ZO+M/3v/Pm7vzqGee84rLduNjZ1GLTu9LT0sbW99se4HXfqdmm0gzQMtPy2PvbM92w3+jl4e/h+q8ERQogDA0LAwhlBrQKHRNwG9og2iMgJ3crCjQqPXRAzT4iOic2PjO2MkYzojMaMtktqimxJ+0njyjEJ7wj5xxiFgYQKAmzAbj68fRY8GTsTOkg5pXlsuc76GjmZuN7383avdRHziTKfsof0MLW4tyA4CLl9euq8qT13PNT72/sM+3+8fD4mAG/Ch4UmBpcGz8afhv6HcweixyWGUkZ/RtPIBMjfSIAHzscHRmPFDoO3AgCBZYCHAAg/Zv5sPXO8Y7s9OWv3v3YctVY0SnMwsk4y3PQHNdw2yLbh9dg0yvQk84/z77Re9Ud2VDd8+Pn7+79PwrbD5EO1gvQCw4PqRJrFvEaux/UJHgrDDQ/PA9FR0vYSp1E/TyhOdI5dTnrNY8xty6hLNQr2ixPK4Ypqya9IYQYmw2YBHz+i/iW8AXo+uBk3cLcFd3p3Ubeg9773T/ZHtGLyvnHjsbNxfbF88fczGPTvNsP45Xooewq8PnwzfBo8r33r/6eBA8JnAxvEEEWIhxdHoodSx6kIGkiTSKOIj4kLyZLJpsiPR1WGJkVzBKVDa0GfAEJAEYBp/8p+3/zIezI5VDfftdo0LrLQMhexs/Hs8zI1Lrcv9+m3MfUkM4RzSfPEc/8znLRjNhd4+Ly4gLUEI4YrRm+FasQxw8IE5YYzRxyHuEhYio8N4RCiEpRTstMQ0iWRE5ByD6FPUo8ODiNMDAqTSmfKYcosSUvInwdXxlYFBwMPAIe+pnyDemJ3ljVcM8iz6bSNdZb1+7XFNgL1rDQwsrxxqHHtcdjx6bHtMtR1NHe8uh07YXuje7D71HzEPmp/soDXQl3DXcQ1BNoGdMdJCCcH0AfPx+gIdglICiGJ00lHSLVHYYYQhN8DgIKUQaYApj/Gf9X/239QPh98aLpQ+Ei2rXT9szBxn3FKckMz9bUjdsJ4QnjruEd3uzaltie2PXY4dmG2/fjLPOqAqsOzRbQHLEfkCEUIe0fMiCHIpIlLii+K3syhjsLRUxJlEdiQydAij9IPmQ8MTnQNRwyIi15JqwgbhwJGKASkg0TCToGgwVzA8D/M/h07ljkddty053N88vmzDPPnc5Zz5TQOtI+007Rls1RyzbLu8zrzxHVn9tB4xrpKO1D70/yhvex/Ir/eQHrBE8Jyw6CFOsXkRjAGZwbsxs4Gb4WcBhdHO0cUBqDF2QWrhRIEWULNwUA/936X/i19fTxLO+Q7v/twerg5NLf0dwQ2RXU7s6kzNzLWs7c0mjYWt064zToM+qE6UvoMOmj667uVfN9+kIEjA9FGqQiSyjlKxMuuC1PLDEuqjLrOPs9fEG/Qy5H9ElWSHZDzT3lOH415zPEMV0vGi8RLvkrTCSaGXUQbwmmAuP6a/PA7tvtlO1266bmiOEm3v3Zr9NFze/JzMkmzArOos2PzPHNr9BD0x3TbdRm2drfueXn6Rnv5/Xi+xP/SP/h/loADAMVCFoNqxGEFRIb2x/YIWciziKhIoofKxoTFdgR2RCdEM0OsQuMCc8HpgUoAT/8t/ay8eXqg+Jo2s/UEdND033SNc+1zNLL+8v/zFfMdMqCyTjKe8sNztTUL9+w6LzubPD77yLyY/diAEQHJQxZEYYZmCPbLtA4PEBCRJJEcEFNP/BC+0rlUuZUrlO+UVNPmk4cTGVHVD58NT0vwCqPKC4osSd4JEccrA+4Anj55fIH66PhjdmY1O3RJ88PzRjLx8j9xjLFXMGTvS6+F8LNxdfHhsnkyifN8NC+0z7YVOBq6gn03vpw/zsG4w8ZGC0bGhl1FQoVKBprIcAo9C5pM0w2Vzi5N700xjJkMX4rDh+bE64OMA/hD3sMvgW3/Qz3iPLh7uPpk+Jn2sbRZMiUv0i6TLpMu3250LM4rqGuk7Iotae1X7WCtlW4F77GxUXOmtr25vbvbfQz+RIAxgmSE4sanx4wIwUrDzXYPahGPlB9WepbDVu3W+hfkWbibMBtJWjjYXBeiFsUV8BPwUWqPJw1cC5/Jl8hViBNHfQTfQR39APqkuMy3IDS7cYAvp65prfstOyzhrIis0Gyna9drbCvqrYkv3XBNMBmwJDG4c6+1ojdZeVQ8Ub92AWaDQcX5CGtKVgsVyxGLCEwgDepP7pDBEQHRhVKS0quRHk/BjxXOCQy1ynpIWIeLR3WGJYP3wM5+mHyeelz3lXSbciCwy/Bgbt8sS+qwKeJpkWjBZ9inWKeGKHKoLieF6AipwWvAbQttNS0A71JzkfhRu5A9/MAOg3fGUUkZyweNW0+EkS1RJ5G3k+/Xx1tA3ITcOZt3m6zdJd4/3dgcBppNmO5XPJV3E8YTB1GnTnYKVAcchYgFosRUgV69i3qQOHA2KzPKMdmvn22fa+QqTSljqNqpx+qY6iQpOyjPqktsS+2jbhjvjLIk9JK2uHg6Ol29a8BYQruDjYTNBtsJ3EynDhQPCJClEq4Uc9TvVIEVSFaUlnlT3lFn0FmQts/tzfpK7khmxw/GsAUawqq/l30k+qS33PTA8kgw0O+G7XEp+SdWZxYnkubGpM5jJuJPY09kzKYTJtrnvujk6htrJewX7gQwtnLA9Ia2c3mEPzHEKAelCX+K6k1i0G/SXBPm1TtW91im2hZbYVzPXv/f59/m3fdblxsfXCBcUdpBV0kVL1OCEjEPDwvvCJhGDoNTQBC9G3tXOrS5OrZIszQwCW7T7mmtTetW6RXosukXqVNoxGj7KZiq3Gt866Zsya+y8t613/fG+bb7UP48gPIDLMSAhkSIkwsRzNwOdpCck66VsFYzlWOU0FW7FlaWt9W+VPgUBtLMkQDPJ40gi4LJ5UZ2Aho/P33NvdF8r3kTdRUyDfBqbwltlus1qWnoMaYG5DciyiPvpIUk/yNn4fUhxaT9aGUqmer8Ksssnq8csZ8zvnWfeGZ7In1l/6oDVIi3DTPPwhEWEZYTN9YbWTDaCFoHWkYbWNzMHZHdrl03HIrcEhqgmPYYHxhTV/UViVKaj50NSAtKyIkFFUESfia8Czp5d8H1lfPvslzwu64D7HwrSCvNa3PpriiG6QLqJuqCa32rQyxyLdawD3HVsy/1Qrjqu769QT85QQQEWQdKie6KoYuQDdNQ/pK1k5pUQVUslaVWNBXhlcmWb1Z11VoTUlDXDy3OHk01irSG7YOlge5AnT8z/Po6izhhNRPyBS/ULgxtIWwSam9nX6Uq5KSlBiWbZMHjwOMQo2rkgaY4p/wp3mu+rG2tAK79MS8z0PZEd+54ofpb/dUBgEURCGbLYA3fT6rRbZLlFNlXllnmGnbZqpnGmyVcH5x7m77aKhiEF58W4JYXlbuVAVRQEmfPbYxKCkaJkogCxSWBBH4KfDW6GPhJNqK0QPI7r/luACzj7Ghs/i0IbIxrlCsaK4OtEa5zbrXuuW+cseQzwPW5t2L58PwuffY/bYDrwtOF8ci8yl/L8c24T3GQxtJ+0sbTsJQj1N2U35Q8U7DTodNWEceP8s27C/JKqol7B0UFWANawbF/Lzx6+jE4DbbvNXOzW3De7zGuf+1x67Yp0GhwZxFm2KalpkSnFOgjaPNo8+kLqc5rBqzrrmwvfPBPMmp01Pe5+V07cz06fqBACAIQRJ1Hvcq3TSQOpk/vkfKUEFYv1ylXCVcQVz0XgJhxmMxY4JgJVuPU0BMR0mKST9HjkKNO3gzBi4HK20lfRwBEmkGJ/tC8+/tp+jY4sbcw9McyEG/kLv/ub+3R7Q1sfuwJLR0uGy8bb5bwIXC1sWVylTQt9hH4SLoru2f8VX3n/9UCGsPAxbrHOQjIy1pNu07B0GsRbpItUlKSmlLj05ATjBKNka4Qqk+SjkvM6UpdB+ZGEsUrQ4ABwb/2PeB8drq/uE82ffSQ87Hx/PCnb5auvO4gbebsqyrm6a3pWGnHKjuqHiqSK5VsaS19bnTvPfApMd0zurTm9nO4Q/rLvOK+LL6GQDUCIwTNh2/Je8swjNzPGRDEkfmSrtP0lJCVDpUXVakWd1cw1zzWCVS/0oZR0BGZ0SEQPc6QDUwMBYriSdLIg0b6BAkBVr8tPdu9H3wfuqm4O7VaM8NyrjE6L9nvC63MLOjsv+0erpyvjO/Zr4MvxLBjse10DXZ8N6B473qWfKf+dsASQdiDB8RKxY+HK8kri3wNH86KDwqPME+40K7RohHP0YUReRDaUFfPLk2TDBRKcEhNhkxELEJQQaHAer4Bu/U5dPebtuR2O3T5s7ayp/GhsOUwP29nLovt6+yv612rD6vIbShtga4IbfMuMG9xMX4zArSltbp25XiJOq68vX6xADIBCAICAwNEpwbzSVTLTox/TIAOAlAN0fFS+lMqkuHSylNTlFZU8dSAlCKSkZEAT/nOu844TbOMjorJyTeIOoepBo/FdkMXgI3+jT21fKX7i3qOORW3DTVptAlzW/K3cZDwzLAGL/9v4PCrsRKxtfHA8q1za/SLtmK3/Hk7ena7in1+ftSAREHlw12ExgYAh6SJEsp1yvMLjIyCTXMNn03xzdLN7c3qDf9NQEyPy55KlwlTB9CGFoR5Ar3BYkA5PiM7zLpHOV433TZcNPNzsXMEczryBjFg8RIxb3D9sDWvY+6Prr6vTrCC8MIxAbGNMrZzr7TN9p34X7nV+zi8Rj3Gv5RB1cOqRE6EpgS4hZ1IBYq/i4JMNkvxjE6NXw5Pj4vQLI/rT1ZOrU54TvwP+A/2Dj/L3Up4Sd4J2kozyU7HTUTVw3sCuUIbQhIB+oA+fbK74Ltwe+i8I/skuTy3HHYI9jD2YvbOdpo2KnVkNQs1azYDt7q4kDjX98w35nlb+8r96f7K/ww/BQBYwf2C8cPQxWiGTcbmRx/HgAihCatKYgotyOvHwwheiVZKOkkrh54GW8XChbEEQoMmQiJBbj/y/ha8sntxOu96V3jltmE01rUb9eD1wLU1M8bzhfO881fzsnQ7tLb02jTqNLn1DLbBOFZ47TilOGc45brIfWK+vD8l/8TAokEmwhuDNEQ+BUFGHgV1xMaGq0kCSvhK+koWiXNJJQoKS2NLVErYSl5JtIi9SCfIXUjByL4G08TZQ1BDlUUORZqEU8JwAIrAIQAq/8U/RD6yPgN9+Dyf+9o8Hr0/fRZ75HnmOTd6KHv1/Fm70Pt3exS7oLuK/Cz8k71HvjD+b/4bvmC/3QG5whnB3AFRgajCoAPbhFPEM8Q3xIAFDkSNxA7ERsU3xTZEWkOJgx1DmoRfQ9GCgAGhAMJAZX+GvpW9H/x2fBn7jnoR+QN5DrlNONH37/cpN1e4F3jsuOr4YLg0uNR5hzmwePH5Svq6u2C7gftFu3f8WD2kPd39ur3Avx5AUIERQTIA3wHpQoyCwUKJgvMDsgSqhMEEnYQDxIPFhUZ4BZGE9oRJRSPFWkWhBUbFXkUZxMxEZoOQw+XEm0TLg+eCF4GughHDOgMKQioAV3/8gCsAPT++P6zAPMAJ/9s/AH7m/xDAFcAOfu79QX2qfnf/Jn9pPtw+Wf4n/n6+G74/Poq/5kCJwET/iH+hQP5CEcKFgf9BMYFzwgPC/AKZwqHCpsKlQmNBn4EegctDKAMtAc8A8UBUgI/A7cCkf+q+wv6uviQ9kH0evJK8cbuGOsV51zkw+V76ZLqQOf140Xle+iL6pDrkevk7OjvXPIj8uLyEvd2+1P8HPqd+If5Rvw7/x8A4P7T/l0BowOgBA4FdQbZB+oHnwYHBSYFYggVCzoJvwRuAskDcQYeCAMHGgWjBOkFIQeqBnAHyggICSsH1gS1BbgIsA3gDgYLmwb8BfsIewyxDXENSwrPB10I5wqODJgMbAyfCYgFVQO+BBcIvwmjB+EBm/x1/JMATQM3Ab/8ZPmk+Jr4gvmq+sD78PpB+fH2q/ZE+oz/2QENAa/+Xf+7A8IISwueC1cLIgtuCgcKuQpODL8OEw1ACZ0EGQRXBjwIlQfUA/n/H/5i/qT+Mv2b+vX3iPWz8gvv4e2z7hfvpe0X6nTmIOaz6FbrB+y/6p3olunU7AvxifPN8zD16faj+D/5Gvu3/a//zv+t/uT9F//yASQEzQOuAKX+tgAvBIcFRQRKApoBEQFQAU0BbQB4/+f9GP0Q/gYANwHmAXgAR/6Q/k4AcAILBOkFIQZJBrEFwwjWDPsNyQuKCZsJEgv9Do4R1xDDDR8MagyUDkYQ2A+3DTkKvgenBxYIfQfGBYICJf8//On7VfzT+1X6K/cv8yfxPfNV9kf2hfQo823xufNc90T7nfyi/Pr92f9tAmEGwQkyC5gMHQ6GDsQPgBKtFaoWZxRQEvsRjxOUFJwTthFJD88MLwuiCiIJuQZSAxYBgv+//Qn6APa/8uTvve5R7R/qiucr5gbn6+Zb5mvlteX85SzmNuih6qvuOvIc88PxqPBZ8lT1X/hy+j/6DvpL+7X9AABYAQ0B/f4E/4IAegE2AmcDMQSdAmH/I/xM+wn9h/4k/hf+g/4ZAA4C2wKbAkACYwK3BCkIeAqIClgLHA1ODxkRGhBhDvAMkAsSDEENDg4UDhcNUAqrCD4JvQrRCqgHMgTHAQkBYgJeA/oBUv94/Jr4IPVv88nzE/MS8Xzuv+xA7cHvAPH17xzvT+5p79jxz/UW+kT+kQGWA5EE5QbhCS0OCxKJFOoViBd4GnYddh46HWAbeRvHHDUdwhvVGVkZjxm0GIcVXhACDcIMSwwsCioEmP6l+xn5RPUs8C/sMOqh6KrmEeT94Fbgl+Fb4pDg098X4vzlSum16h7q1+rc7EnwdvFr8R/yIPXb9/r4OPic+Nj5Qvyy/VT9pP3T/3gBfgEUAfL/dv+OAEoCNwIgAJ/+XP+YAdkCyQIxA/kDpAT8Bm4JnApuDPkNYw7VDP8McA8yEl0TAhJlD7UM4gt9C9sKMgv+Cs4J7QY4BE0CgQPIBCUDQQDV/Kz6KPw3/rr9zvsu+MzyE++z7mrwI/Je8qjvRes66V3qx+3577HvYO828DjzzPau+7v/5gLlBDsGewiGDNcSiRnIG/Ea/Bn6GhwdFR96ICkfmR3eHBMdKBy0Gk8ZMhdGFfwS+w/ADCMLjAqtB3cC2fzJ+cX3qfUS8kXtyOoy6u7oU+QI4Z7hteV06HXn9+Qo5OHnwuw378ju+e2u7z708Paa9hj3HvnS+Yb6ZPiz9p35Pv7cAEH+8viG94v70gB2AlX/Lfuk+Xb7LP7a/hb9avvw+hX8CP0N/3wDqgYPBtYBVv+UAaAJPhGCEjMNWAnVCm0RoBcyFyYSAA2nDlYSixXBFQ8VwxGlDDkI6AQ+BUIIGAkSBbX9ufhk+k7+Kv+p+6703O5V7qTxtPTB8y/wYOzd6YHpFeu860PsGe0B7oPtju4k81D4Nv2n/zn/4v/QA5IK9w+/EQwT6RR9FzUaGxz5G2Ebaxt8GyYakBf+FXcW8xXfE6gPVQlcBVMF5AaBBW4Bt/2y+8b6JPnF9orzXvBk70Hv++1T7Kvs5+107nPto+qa6BXrNPBZ9Fn1p/RY9ef4nvyv/sD96/wk/7UBtwFJAVMBYQOyA9QBOf6M+9/71f22/oH88/hr91j4GvrD+Bb10/I/89j0vvUC9ejzjPWR+Rz8GfsW+QX61P6CA5sF4gUuB78KpA+CEz4UDRRiFs0YIRoGGaEZ9BtqHsAf1BsbFukS0hNiFFcR8wsHBy4FzQZWB8kDcP5Q+k/4EPbM84Lyf/FD8bbwKO4G6x/prOr86ibog+WE5V7oGOwa7xXvzu0c8OL0k/oD/T79m/7bAnEJmA4tEO4OKQ/TEBESuxGSEcMQYRCMEDoQCw7yDWEP0g5uC/YHOwYEBt4FggUfAvb9dPvn+tv6Wfls9XHxS/Bf8Z3yhfLT8UXxRfJE877zsPQo9vz3ufpJ/H391v0DAYAD2gNAA2wCigJCBLgGbQaPAxMBXwGxAX8A8v0n+ov4Bfqc+ub4ifVD863yw/J58U/viO217LrtqO8u8XryO/VY+Kb5pfl9+j3/agYpDf8NIw3jDAgTxRtIIXgguBtXGcYbWCF4JOcj+iDEHekZHRe2FY8WXRdYFIoNOwbNBCgJ4w1ZDKwDlfgV9OH3T/1s/LX14Owi6C/oqum86CXmOOO14GTfz98J4gTnnuz87IrpaufL6kTyaPkg/B351PeJ+3YCeAd5CEMGLAYNCUUMNQ2EDX8OvhBREmARcg73C7gMiw6EDd4JJQZhBeMFeQU/AnL9lvpX+hv5s/Y68xHzq/SZ9yX4vfZB9Oj0xviG/KH+O/2b/QEAUwOWBTMFOQQCA8UC5ALVAiwCogFmAgQCgv9E/R38UPy1/Qr97fjj9dv1Zvgg+kb5TPQ076juffHG8kzxxO2l6zrsEe/K8ZnzN/Wp+F/7s/wh/z0Fqg0oFMkV3RSaFZIaJiOHJqIj9R3sG6QfoyTfJZ0hZRykGhEb0RprGLsV0xTfFC8TiQ9+DMQLOAyjCcEBhfnc9Zj26PfG81nrZuS84srj0uL63EXY9tfL2zzeFt4i3h3gUOW86Zrqqen06yLyJPk3/An8ePwhAM4EDwe9BbAEQAcpDGAOyw2uDM8N5BGCFZ4UghAHDpgPtxISEpQOPAoaCBoIHQcBA4z9dfq3+TL4avaE8xbz2/WZ+Pr3b/W287/1MfnK+/z7cftN/LD/nQGOALf9UPzo+wj80vvd+2X7ofz1/u/+1Pyu+pX6Sf1jABgBYf9Y/jD/XAGYAcj+2vnT9o727/aJ9Xry2/CS8WXydPF077PurvKW+fv+CQA+AMcD/wrJEQQVZhWMFXcXCR1vHzkecR2gHmkgPR4ZGoIWNBdwGt8bihenEHoOxBNLGDcXqxDzCSMInApNCxkHj/8z+2r67vag8C3qVuZ/5bfked9w2cfXt91T46TkZOAq3aHgjOgg7qftz+uo7nX1R/uy+2T4c/hz/ZsC5wJbAUABxwWgDP0OvA3nC+QNUhMiFgMVeBJtEywXexj+FJAPYwy/DOYMjgjvAYv8bfvP/A/8gPaa8anwq/NQ9v30VfN68431Gvcc+KD2jPbK+Eb7mfoz97H1Dve0+aP5HPh49ZT1L/iP+4H8Lfxr/VL/uACQAocDmwRvBmgISwdTBBMD1QNlA2wBFv+p+8D4C/j3+IT5yfda9u32oPkB/bcAvQOeBUMHAQlVCrkMmg9VEd8QmA/YDbANhg7YDwAQkQyXCQgJrwpuDVUOhg5SDdQMNA4yEOkQPhCiD+MNowt4CGwFsAN8AS//Dvs+9hnykfBQ8GbvBu2c6mvq3uv27bHueO547qvwtfJ98tDxvPLu9DH3JPcb9Xr0/vYv+kv8lfvh+vX8XQJzBkkIBAgXCe8LAA90ENgPvA4gELsQFg91Cy0IBQc6CEQHoALy/Qr9jv6a/xT+PPuB+Sj6p/vi+8z52fdz99b4+vdA9fLy7vJm9Ej1ePNq8Xnx6PSg97v3uve3+FD8q/8AAtwBlAEPA2IFagYYBasEcAZQB4cGEAUZBFkE2gUjB1kG+gR0BJoFyAf8BxMHQwY5BXUDzAFnABj/Uv5s/TH7nvgl+Cn5CPs4+3L7Sfyl/Yf/DwKmA5AFAwe1BwsHFAf8B/AJFQrRCDUHIQboBiAJAQpxCIkGTQbKB54JIwqcCosLgwvcCdQHRwYHBtQFzQMUAMH79fiH+Bb5hPYz8lbv4O4v8KjwyfEU8zD1NPdY9+T2RvcD+3z+Wf+N/DT6q/uh/S3/hf45/C77+vve/Yj+9f7rANwDvQVWBVkFhgb9CGULYgs7CZoGOgYxB74GTQO7/iv81fr7+Y332/RP87rzf/Rm8wLylPJ89Sz3iPcl92X3ifm0/I/+WP7p/BH+jP/iAGgAgwB3AacDkAWKBj4GIAanCJML7AxjDP8LmgxQDoEP7g94DqYLgAkICKUHhQbpAxMBmv5y/Bj6z/iF9+T1+/R29MTze/KV8yn28fe/93/26/WQ99P6of1d/i78u/tb/VwAKwK/AWoB+QKXBacG0AaiBykLjQ87ETkPRw25DjIUaReYFQwQ8gyFDa0QlA+aCtgELgNwA4YBHv25+dH5QvsS+6T3FvNg81D4MfsE+Y3zafGM9GP5Ifot9iDyqvLh9cr3+PQV8kDzWPdH+vj41PbW97v9VAM0A3L/1v84BTMKSArXBtcDBgWHCAsJrQN2/pr+rQGxArz8D/ey9bv5NP1F/JH3gvU8+E/85PzL+u/4Z/pw/qv/2/w5+8P8YQFgAqr/aPyT/ZgBEgZ5BlAEMgIWBawJTAsBCucIIwoYDIIM6woPCTAJ2QsbDCAHGgLFAX8DQgTYASL9Evou+uH78vu0+XH3AffU95r37PUI9aP1sfYy+Gj3QPXt9GH3WPoa/DD7w/lL+vr9YAIuBKIDewR2Bj8IegqIC8ILCA6tEPgQ0Q5hDMYNABD9EI4OQgoQCCYI8wkYC5AHpAI0AeACuQKtAJj+sv1i/oH+zfvd96D2ffkK/Jn5qPSD8YvzUPgh+qr2V/Gp8OT1Dvqp+C/1GfWw+Nf8Vv2E+uP5X/6GA8oD4f9k/YgAWAbhB/oD6v5//owDxAYWA6L8fPsWAFgDrwEK/Sz6gfzGAeMCbP7Y+e77EQKwAzUA7/zH/BUAEgMgAXb8nfqk/4cEJQPL/fT7xwAMBq8HKwM+/nQAEwdbCh4HogK9AdkE4waSBQMB5/67AHUDhQG7/Mr63v2YAOT/rPyW+Tj5V/2+AAf+XPmw+GP7fv3f/K36u/ih+ZT8Kf6o+9z56/vi/ycBGQCi/8EAOQRYB6MIrwXSA+kGuQq1CkoIGQfhBsYIjAkkCN8EzgPTBQ4H6gS4AbgAYQJ4BCMFyAIr/3z+8AA0AiEAN/2y/An9FP4o/bD5P/fU+Bz8g/vo9ir06/YC+5T9Yvw2+Sb5IP1TATMAb/3Y/esBRgTEAoX/TP4qASwFRQUSAFT8Dv6tArAE2wFl/r/9mgDcA1IDx/5A/cIALQTZAVr95Psi/5ICTgLM/V75WPtMAb0DFgCp+7L7jQCcA40CqP6B/S8BxgQtA4r+f/1iAQcFUARR/zT8+f1RAo0ECAED/Ev8HgDqAer/B/28/Az/sQDC//b7FPpS/QIBYwBb/Dz6D/wQ/9gAff/3+z37kP5ZAQMAEP5b/ggA1QECAtsAkwAcAvYEcwUhA+kBcQTeBs8GZQVxA6ACQwPDBeMFWgN7AXUBKgFaAMwAEADh/oH+D/8G/j/9mP2x/mX+Rf3U/KH75fqb/Fv+6/1F+6D6//to/G38t/xx/Dr8n/0W/0j/kv7r/wsC/gLPAgIC2QFJBJgG8wYLBRAEegQyBmwGHQVoA8kCjAPkA9YC5QBoAEYCEAPcAH7+Yf6N/1wBFQHl/mf8TP27/3j/Yvwp+3H8Df4A/qD8zvsH/e//nQCw/kr7kfwJAe8CvQAk//b+cQBgAr0CRQAi/60AzgK2ASD/e/5RAagCSwJv//X8D/7hAW4Cd/9g/PP9HAAKAZb+XPsQ+1v9KP8+/ZL6GfrU/L3/wf7K+zH7j/00AZoBSf9a/dH/2wNxBOoBi/8eAcoDqATYASj/fQDUA6kF8wNfAJ7/UAI4BCYDZQAy/7sAfALlAWP/iv0w/mkA8P9y/M/5W/pi/cD+L/2E+en4hfug/Uj8Qvs9+7/85P2d/SH8j/xt/6YBIAG3/o39aQDXA1wFgwOSAYoC1wRnB/sG1QVDBakFRgarBSoG3wWeBhQGBQUbA9sCAQSlBNIDZgGe//n/FgEPAqQBg//M/AH8XP30/lb/vv0//N/7Pfzn/U3+Ff05/af9hv3y/Z3+Bv84AMkB6QAH/8X+SADjArwDHAKu/zEAQgImBOMDeAElAEkBcQNgA5MBHwCaAGICSwKP//n8C/4OAUwBPf5/+uj5zf35AAv/Hfqh+EP7vf9r/yf8CvqU/JgAswA3/fL6IP1ZAQEDtf/F+6/8FQHaA/QBTv1i/F8AVwSlAwAA9P30AO8EYQXwAVX+jv8YBOoFQwHG/HX8VgDbAsr/hvqw+Rj9aQDr/rn6hPjj+97/LgDg/OL5BvyAAI4CQ/97+0n8QADIAxwCp/4C/UoBGgVXBN4A1f/rApsGOAYtA5sBJAMzBjYHVgRdAVQB4wMBBm8EBQFN/wAB2gJEArD/MP7//qIAXwD4/WL8L/0U/77/I/8V/fz7Hf6EADEAHP7t/DX+3v8kAWMAvv+8/w==\" type=\"audio/wav\" />\n",
       "                    Your browser does not support the audio element.\n",
       "                </audio>\n",
       "              "
      ],
      "text/plain": [
       "<IPython.lib.display.Audio object>"
      ]
     },
     "execution_count": 647,
     "metadata": {},
     "output_type": "execute_result"
    }
   ],
   "source": [
    "yr, sr,mfcc2 = readAudio2mfcc(\"data/plushaut/NM04_plushaut.wav\",20)\n",
    "ipd.Audio(yr,rate=sr)"
   ]
  },
  {
   "cell_type": "code",
   "execution_count": 631,
   "metadata": {},
   "outputs": [
    {
     "data": {
      "text/plain": [
       "<matplotlib.axes._subplots.AxesSubplot at 0x14aa26110>"
      ]
     },
     "execution_count": 631,
     "metadata": {},
     "output_type": "execute_result"
    },
    {
     "data": {
      "image/png": "[encoded data removed]",
      "text/plain": [
       "<Figure size 432x288 with 1 Axes>"
      ]
     },
     "metadata": {
      "needs_background": "light"
     },
     "output_type": "display_data"
    }
   ],
   "source": [
    "librosa.display.specshow(mfcc2, sr=sr, x_axis='time')"
   ]
  },
  {
   "cell_type": "code",
   "execution_count": 632,
   "metadata": {},
   "outputs": [
    {
     "name": "stdout",
     "output_type": "stream",
     "text": [
      "0.5367698877695651\n"
     ]
    },
    {
     "data": {
      "image/png": "[encoded data removed]",
      "text/plain": [
       "<Figure size 432x288 with 1 Axes>"
      ]
     },
     "metadata": {
      "needs_background": "light"
     },
     "output_type": "display_data"
    },
    {
     "data": {
      "text/plain": [
       "0.5367698877695651"
      ]
     },
     "execution_count": 632,
     "metadata": {},
     "output_type": "execute_result"
    }
   ],
   "source": [
    "dtw(mfcc.T, mfcc2.T,plot=True)"
   ]
  },
  {
   "cell_type": "code",
   "execution_count": 468,
   "metadata": {},
   "outputs": [
    {
     "data": {
      "text/plain": [
       "'avance'"
      ]
     },
     "execution_count": 468,
     "metadata": {},
     "output_type": "execute_result"
    }
   ],
   "source": [
    "labels[10]"
   ]
  },
  {
   "cell_type": "code",
   "execution_count": 469,
   "metadata": {},
   "outputs": [
    {
     "data": {
      "text/plain": [
       "'recule'"
      ]
     },
     "execution_count": 469,
     "metadata": {},
     "output_type": "execute_result"
    }
   ],
   "source": [
    "labels[2]"
   ]
  },
  {
   "cell_type": "code",
   "execution_count": null,
   "metadata": {},
   "outputs": [],
   "source": [
    "os.listdir"
   ]
  }
 ],
 "metadata": {
  "kernelspec": {
   "display_name": "Python 3",
   "language": "python",
   "name": "python3"
  },
  "language_info": {
   "codemirror_mode": {
    "name": "ipython",
    "version": 3
   },
   "file_extension": ".py",
   "mimetype": "text/x-python",
   "name": "python",
   "nbconvert_exporter": "python",
   "pygments_lexer": "ipython3",
   "version": "3.7.4"
  }
 },
 "nbformat": 4,
 "nbformat_minor": 2
}
